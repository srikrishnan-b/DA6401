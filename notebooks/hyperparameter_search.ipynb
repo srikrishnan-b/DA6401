{
 "cells": [
  {
   "cell_type": "code",
   "execution_count": null,
   "metadata": {},
   "outputs": [],
   "source": [
    "# Importing libraries\n",
    "import os\n",
    "import sys\n",
    "sys.path.append(os.path.join(\"..\", \"src\"))\n",
    "import wandb\n",
    "from model import train_wandb\n",
    "import wandb\n",
    "import pprint"
   ]
  },
  {
   "cell_type": "code",
   "execution_count": null,
   "metadata": {},
   "outputs": [
    {
     "name": "stdout",
     "output_type": "stream",
     "text": [
      "{'method': 'bayes',\n",
      " 'metric': {'goal': 'maximize', 'name': 'val_accuracy'},\n",
      " 'name': 'bayesian_sweep_fashion_mnist',\n",
      " 'parameters': {'activation': {'values': ['sigmoid', 'tanh', 'ReLU']},\n",
      "                'batch_size': {'values': [16, 32, 64]},\n",
      "                'beta': {'values': [0.9]},\n",
      "                'beta1': {'values': [0.9]},\n",
      "                'beta2': {'values': [0.999]},\n",
      "                'epochs': {'values': [5, 10]},\n",
      "                'epsilon': {'values': [1e-08]},\n",
      "                'hidden_size': {'values': [32, 64, 128]},\n",
      "                'learning_rate': {'distribution': 'uniform',\n",
      "                                  'max': 0.01,\n",
      "                                  'min': 1e-05},\n",
      "                'loss': {'values': ['cross_entropy']},\n",
      "                'momentum': {'values': [0.9]},\n",
      "                'num_layers': {'values': [3, 4, 5]},\n",
      "                'optimizer': {'values': ['nag']},\n",
      "                'weight_decay': {'values': [0, 0.0005, 0.5]},\n",
      "                'weight_init': {'values': ['random', 'xavier']}}}\n"
     ]
    }
   ],
   "source": [
    "# Defining the sweep configuration\n",
    "sweep_config = {\n",
    "    \"method\": \"bayes\",\n",
    "    \"name\": \"bayesian_sweep_fashion_mnist\",\n",
    "\n",
    "    \"metric\": {\n",
    "        \"name\": \"val_accuracy\",\n",
    "        \"goal\": \"maximize\"\n",
    "    },\n",
    "\n",
    "    \"parameters\": {\n",
    "        \"epochs\": {\"values\": [5, 10]},\n",
    "        \"num_layers\": {\"values\": [3, 4, 5]},\n",
    "        \"hidden_size\": {\"values\": [32, 64, 128]},\n",
    "        \"weight_decay\": {\"values\": [0, 0.0005, 0.5]},    \n",
    "        \"learning_rate\": {\"distribution\": \"uniform\", \"min\": 1e-5, \"max\": 1e-2},\n",
    "        \"optimizer\": {\"values\": [\"sgd\", \"momentum\", \"nag\", \"rmsprop\", \"adam\", \"nadam\"]},    \n",
    "        \"batch_size\": {\"values\": [16, 32, 64]},\n",
    "        \"weight_init\": {\"values\": [\"random\", \"xavier\"]},\n",
    "        \"activation\": {\"values\": [\"sigmoid\", \"tanh\", \"ReLU\"]},\n",
    "        \"loss\": {\"values\": [\"cross_entropy\"]},\n",
    "        \"momentum\": {\"values\": [0.9]},\n",
    "        \"beta\": {\"values\": [0.9]},\n",
    "        \"beta1\": {\"values\": [0.9]},\n",
    "        \"beta2\": {\"values\": [0.999]},\n",
    "        \"epsilon\": {\"values\": [1e-8]}\n",
    "    }\n",
    "}\n",
    "\n",
    "project_name = \"test\"\n",
    "runs = 10\n",
    "\n",
    "pprint.pprint(sweep_config)"
   ]
  },
  {
   "cell_type": "code",
   "execution_count": null,
   "metadata": {},
   "outputs": [
    {
     "name": "stderr",
     "output_type": "stream",
     "text": [
      "\u001b[34m\u001b[1mwandb\u001b[0m: Using wandb-core as the SDK backend.  Please refer to https://wandb.me/wandb-core for more information.\n"
     ]
    },
    {
     "name": "stdout",
     "output_type": "stream",
     "text": [
      "Create sweep with ID: zsq6nu0n\n",
      "Sweep URL: https://wandb.ai/deeplearn24/test-sweep/sweeps/zsq6nu0n\n"
     ]
    },
    {
     "name": "stderr",
     "output_type": "stream",
     "text": [
      "\u001b[34m\u001b[1mwandb\u001b[0m: Agent Starting Run: rugv0czq with config:\n",
      "\u001b[34m\u001b[1mwandb\u001b[0m: \tactivation: ReLU\n",
      "\u001b[34m\u001b[1mwandb\u001b[0m: \tbatch_size: 32\n",
      "\u001b[34m\u001b[1mwandb\u001b[0m: \tbeta: 0.9\n",
      "\u001b[34m\u001b[1mwandb\u001b[0m: \tbeta1: 0.9\n",
      "\u001b[34m\u001b[1mwandb\u001b[0m: \tbeta2: 0.999\n",
      "\u001b[34m\u001b[1mwandb\u001b[0m: \tepochs: 5\n",
      "\u001b[34m\u001b[1mwandb\u001b[0m: \tepsilon: 1e-08\n",
      "\u001b[34m\u001b[1mwandb\u001b[0m: \thidden_size: 64\n",
      "\u001b[34m\u001b[1mwandb\u001b[0m: \tlearning_rate: 0.003106840779275703\n",
      "\u001b[34m\u001b[1mwandb\u001b[0m: \tloss: cross_entropy\n",
      "\u001b[34m\u001b[1mwandb\u001b[0m: \tmomentum: 0.9\n",
      "\u001b[34m\u001b[1mwandb\u001b[0m: \tnum_layers: 4\n",
      "\u001b[34m\u001b[1mwandb\u001b[0m: \toptimizer: nag\n",
      "\u001b[34m\u001b[1mwandb\u001b[0m: \tweight_decay: 0.5\n",
      "\u001b[34m\u001b[1mwandb\u001b[0m: \tweight_init: random\n",
      "\u001b[34m\u001b[1mwandb\u001b[0m: Currently logged in as: \u001b[33mbt23s013\u001b[0m (\u001b[33mdeeplearn24\u001b[0m) to \u001b[32mhttps://api.wandb.ai\u001b[0m. Use \u001b[1m`wandb login --relogin`\u001b[0m to force relogin\n"
     ]
    },
    {
     "data": {
      "text/html": [
       "Tracking run with wandb version 0.19.8"
      ],
      "text/plain": [
       "<IPython.core.display.HTML object>"
      ]
     },
     "metadata": {},
     "output_type": "display_data"
    },
    {
     "data": {
      "text/html": [
       "Run data is saved locally in <code>d:\\IITM\\DA6401\\notebooks\\wandb\\run-20250315_165527-rugv0czq</code>"
      ],
      "text/plain": [
       "<IPython.core.display.HTML object>"
      ]
     },
     "metadata": {},
     "output_type": "display_data"
    },
    {
     "data": {
      "text/html": [
       "Syncing run <strong><a href='https://wandb.ai/deeplearn24/test-sweep/runs/rugv0czq' target=\"_blank\">hardy-sweep-1</a></strong> to <a href='https://wandb.ai/deeplearn24/test-sweep' target=\"_blank\">Weights & Biases</a> (<a href='https://wandb.me/developer-guide' target=\"_blank\">docs</a>)<br>Sweep page: <a href='https://wandb.ai/deeplearn24/test-sweep/sweeps/zsq6nu0n' target=\"_blank\">https://wandb.ai/deeplearn24/test-sweep/sweeps/zsq6nu0n</a>"
      ],
      "text/plain": [
       "<IPython.core.display.HTML object>"
      ]
     },
     "metadata": {},
     "output_type": "display_data"
    },
    {
     "data": {
      "text/html": [
       " View project at <a href='https://wandb.ai/deeplearn24/test-sweep' target=\"_blank\">https://wandb.ai/deeplearn24/test-sweep</a>"
      ],
      "text/plain": [
       "<IPython.core.display.HTML object>"
      ]
     },
     "metadata": {},
     "output_type": "display_data"
    },
    {
     "data": {
      "text/html": [
       " View sweep at <a href='https://wandb.ai/deeplearn24/test-sweep/sweeps/zsq6nu0n' target=\"_blank\">https://wandb.ai/deeplearn24/test-sweep/sweeps/zsq6nu0n</a>"
      ],
      "text/plain": [
       "<IPython.core.display.HTML object>"
      ]
     },
     "metadata": {},
     "output_type": "display_data"
    },
    {
     "data": {
      "text/html": [
       " View run at <a href='https://wandb.ai/deeplearn24/test-sweep/runs/rugv0czq' target=\"_blank\">https://wandb.ai/deeplearn24/test-sweep/runs/rugv0czq</a>"
      ],
      "text/plain": [
       "<IPython.core.display.HTML object>"
      ]
     },
     "metadata": {},
     "output_type": "display_data"
    },
    {
     "name": "stderr",
     "output_type": "stream",
     "text": [
      "\u001b[34m\u001b[1mwandb\u001b[0m: \u001b[33mWARNING\u001b[0m Calling wandb.run.save without any arguments is deprecated.Changes to attributes are automatically persisted.\n"
     ]
    },
    {
     "name": "stdout",
     "output_type": "stream",
     "text": [
      "Epoch: 1, Train Loss: 300.9969115830401, Valid Loss: (3.464885644159162,), Valid Accuracy: 0.0999002659574468\n",
      "Epoch: 2, Train Loss: 2.4835700857656917, Valid Loss: (2.3029562375795933,), Valid Accuracy: 0.09940159574468085\n"
     ]
    }
   ],
   "source": [
    "# Initiating sweep\n",
    "sweep_id = wandb.sweep(sweep_config, project=\"test-sweep\")\n",
    "wandb.agent(sweep_id, train_wandb, count=50)"
   ]
  }
 ],
 "metadata": {
  "kernelspec": {
   "display_name": "dl_assign",
   "language": "python",
   "name": "python3"
  },
  "language_info": {
   "codemirror_mode": {
    "name": "ipython",
    "version": 3
   },
   "file_extension": ".py",
   "mimetype": "text/x-python",
   "name": "python",
   "nbconvert_exporter": "python",
   "pygments_lexer": "ipython3",
   "version": "3.10.16"
  }
 },
 "nbformat": 4,
 "nbformat_minor": 2
}
