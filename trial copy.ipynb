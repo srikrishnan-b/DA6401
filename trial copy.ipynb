{
 "cells": [
  {
   "cell_type": "code",
   "execution_count": 4,
   "metadata": {},
   "outputs": [
    {
     "name": "stderr",
     "output_type": "stream",
     "text": [
      "2025-03-10 13:58:46.127836: I tensorflow/core/util/port.cc:113] oneDNN custom operations are on. You may see slightly different numerical results due to floating-point round-off errors from different computation orders. To turn them off, set the environment variable `TF_ENABLE_ONEDNN_OPTS=0`.\n",
      "2025-03-10 13:58:46.158336: I tensorflow/core/platform/cpu_feature_guard.cc:210] This TensorFlow binary is optimized to use available CPU instructions in performance-critical operations.\n",
      "To enable the following instructions: AVX2 AVX_VNNI FMA, in other operations, rebuild TensorFlow with the appropriate compiler flags.\n",
      "2025-03-10 13:58:46.622742: W tensorflow/compiler/tf2tensorrt/utils/py_utils.cc:38] TF-TRT Warning: Could not find TensorRT\n"
     ]
    }
   ],
   "source": [
    "import os\n",
    "import sys\n",
    "sys.path.append(os.path.join(os.getcwd(), \"src\"))\n",
    "import numpy as np\n",
    "import math\n",
    "import wandb\n",
    "from utils import Loss\n",
    "from dataloader import load_fashion_mnist, load_mnist\n",
    "from MLP import NeuralNet\n",
    "from optimizer import GradientDescent\n",
    "import wandb\n"
   ]
  },
  {
   "cell_type": "code",
   "execution_count": 63,
   "metadata": {},
   "outputs": [],
   "source": [
    "sweep_config = {\n",
    "    'method': 'bayes',\n",
    "    'name': 'bayesian_sweep_mse',\n",
    "}\n",
    "metric = {\n",
    "    'name': 'val_accuracy',\n",
    "    'goal': 'maximize'   \n",
    "}\n",
    "sweep_config['metric'] = metric\n",
    "\n",
    "parameters_dict = {\n",
    "    \"epochs\": {'values': [5,10]},\n",
    "    \"num_layers\": {'values': [3,4,5]},\n",
    "    \"hidden_size\": {'values': [32,64, 128]},\n",
    "    \"weight_decay\": {'values': [0, 0.0005, 0.5]},     # [0, 0.0005, 0.5]\n",
    "    \"learning_rate\": {'distribution': 'uniform', 'min': 1e-5, 'max': 1e-2},\n",
    "    \"optimizer\": {'values':  ['sgd', 'momentum', 'nag', 'rmsprop', 'adam', 'nadam']},    \n",
    "    \"batch_size\": {'values': [16, 32, 64]},\n",
    "    \"weight_init\" : {'values': ['random', 'xavier']},\n",
    "    \"activation\" : {'values': ['ReLU','sigmoid', 'tanh', 'ReLU']},\n",
    "    \"loss\" : {'values': ['mse']},\n",
    "    \"momentum\" : {'values': [0.9]},\n",
    "    \"beta\": {'values': [0.9]},\n",
    "    \"beta1\": {'values': [0.9]},\n",
    "    \"beta2\": {'values': [0.999]},\n",
    "    \"epsilon\": {'values': [1e-8]},\n",
    "    }\n",
    "\n",
    "sweep_config['parameters'] = parameters_dict"
   ]
  },
  {
   "cell_type": "code",
   "execution_count": 64,
   "metadata": {},
   "outputs": [
    {
     "name": "stdout",
     "output_type": "stream",
     "text": [
      "{'method': 'bayes',\n",
      " 'metric': {'goal': 'maximize', 'name': 'val_accuracy'},\n",
      " 'name': 'bayesian_sweep_mse',\n",
      " 'parameters': {'activation': {'values': ['ReLU', 'sigmoid', 'tanh', 'ReLU']},\n",
      "                'batch_size': {'values': [16, 32, 64]},\n",
      "                'beta': {'values': [0.9]},\n",
      "                'beta1': {'values': [0.9]},\n",
      "                'beta2': {'values': [0.999]},\n",
      "                'epochs': {'values': [5, 10]},\n",
      "                'epsilon': {'values': [1e-08]},\n",
      "                'hidden_size': {'values': [32, 64, 128]},\n",
      "                'learning_rate': {'distribution': 'uniform',\n",
      "                                  'max': 0.01,\n",
      "                                  'min': 1e-05},\n",
      "                'loss': {'values': ['mse']},\n",
      "                'momentum': {'values': [0.9]},\n",
      "                'num_layers': {'values': [3, 4, 5]},\n",
      "                'optimizer': {'values': ['sgd',\n",
      "                                         'momentum',\n",
      "                                         'nag',\n",
      "                                         'rmsprop',\n",
      "                                         'adam',\n",
      "                                         'nadam']},\n",
      "                'weight_decay': {'values': [0, 0.0005, 0.5]},\n",
      "                'weight_init': {'values': ['random', 'xavier']}}}\n"
     ]
    }
   ],
   "source": [
    "import pprint\n",
    "pprint.pprint(sweep_config)"
   ]
  },
  {
   "cell_type": "code",
   "execution_count": 65,
   "metadata": {},
   "outputs": [
    {
     "name": "stdout",
     "output_type": "stream",
     "text": [
      "Create sweep with ID: 9crckhqe\n",
      "Sweep URL: https://wandb.ai/deeplearn24/DL_A1_mse_sweeps/sweeps/9crckhqe\n"
     ]
    }
   ],
   "source": [
    "sweep_id = wandb.sweep(sweep_config, project=\"DL_A1_mse_sweeps\")"
   ]
  },
  {
   "cell_type": "code",
   "execution_count": 66,
   "metadata": {},
   "outputs": [],
   "source": [
    "def train_wandb(config=None):\n",
    "    with wandb.init(config=config):\n",
    "        config = wandb.config\n",
    "        run_name = f\"n{config.num_layers}_h{config.hidden_size}_lr{config.learning_rate}_bs{config.batch_size}_act{config.activation}\"    \n",
    "                                                                                                                                 \n",
    "        wandb.run.name = run_name\n",
    "        wandb.run.save()\n",
    "        train, valid, test = load_fashion_mnist(config.batch_size)\n",
    "        threshold = 1  # Clipping threshold for gradient clipping\n",
    "        loss = Loss(loss_fn='cross_entropy')\n",
    "        optimizer = GradientDescent(\n",
    "            optimizer=config.optimizer,\n",
    "            lr=config.learning_rate,\n",
    "            clipping_threshold=threshold,\n",
    "            momentum=config.momentum,\n",
    "            beta=config.beta,\n",
    "            beta1=config.beta1,\n",
    "            beta2=config.beta2,\n",
    "            epsilon=config.epsilon,\n",
    "        )\n",
    "        model = NeuralNet(\n",
    "            input_size=784,\n",
    "            hidden_size=config.hidden_size,\n",
    "            output_size=10,\n",
    "            n_hidden=config.num_layers,\n",
    "            loss=loss,\n",
    "            activation=[config.activation, \"softmax\"],\n",
    "            weight_init=config.weight_init,\n",
    "            weight_decay=config.weight_decay,\n",
    "        )\n",
    "\n",
    "        for epoch in range(config.epochs):\n",
    "            i = 0\n",
    "            batch_train_loss = []\n",
    "            batch_valid_loss = []\n",
    "            batch_train_accuracy = []\n",
    "            batch_valid_accuracy = []\n",
    "\n",
    "            for (x, y) in train:\n",
    "                loss, accuracy = optimizer.optimize(model, x, y, i)\n",
    "                batch_train_loss.append(loss)\n",
    "                batch_train_accuracy.append(accuracy)\n",
    "\n",
    "                i += 1\n",
    "                wandb.log({\"train/batch_loss\": loss})\n",
    "\n",
    "            for x_val, y_val in valid:\n",
    "                valid_output, valid_loss, valid_accuracy = model(x_val, y_val)\n",
    "                batch_valid_loss.append(valid_loss)\n",
    "                batch_valid_accuracy.append(valid_accuracy)\n",
    "\n",
    "\n",
    "            wandb.log({\"epoch\": epoch + 1, \"train/loss\": np.mean(batch_train_loss), \"train/accuracy\": np.mean(batch_train_accuracy), \"val/loss\": np.mean(batch_valid_loss), \"val/accuracy\": np.mean(batch_valid_accuracy)})\n",
    "            print(\n",
    "                f\"Epoch: {epoch + 1}, Train Loss: {np.mean(batch_train_loss)}, Valid Loss: {np.mean(batch_valid_loss)}\"\n",
    "            )\n",
    "\n",
    "\n"
   ]
  },
  {
   "cell_type": "code",
   "execution_count": 67,
   "metadata": {},
   "outputs": [
    {
     "name": "stderr",
     "output_type": "stream",
     "text": [
      "\u001b[34m\u001b[1mwandb\u001b[0m: Agent Starting Run: bfpdton7 with config:\n",
      "\u001b[34m\u001b[1mwandb\u001b[0m: \tactivation: tanh\n",
      "\u001b[34m\u001b[1mwandb\u001b[0m: \tbatch_size: 32\n",
      "\u001b[34m\u001b[1mwandb\u001b[0m: \tbeta: 0.9\n",
      "\u001b[34m\u001b[1mwandb\u001b[0m: \tbeta1: 0.9\n",
      "\u001b[34m\u001b[1mwandb\u001b[0m: \tbeta2: 0.999\n",
      "\u001b[34m\u001b[1mwandb\u001b[0m: \tepochs: 5\n",
      "\u001b[34m\u001b[1mwandb\u001b[0m: \tepsilon: 1e-08\n",
      "\u001b[34m\u001b[1mwandb\u001b[0m: \thidden_size: 32\n",
      "\u001b[34m\u001b[1mwandb\u001b[0m: \tlearning_rate: 0.00314658979007667\n",
      "\u001b[34m\u001b[1mwandb\u001b[0m: \tloss: mse\n",
      "\u001b[34m\u001b[1mwandb\u001b[0m: \tmomentum: 0.9\n",
      "\u001b[34m\u001b[1mwandb\u001b[0m: \tnum_layers: 3\n",
      "\u001b[34m\u001b[1mwandb\u001b[0m: \toptimizer: sgd\n",
      "\u001b[34m\u001b[1mwandb\u001b[0m: \tweight_decay: 0.5\n",
      "\u001b[34m\u001b[1mwandb\u001b[0m: \tweight_init: random\n"
     ]
    },
    {
     "data": {
      "text/html": [
       "Tracking run with wandb version 0.19.8"
      ],
      "text/plain": [
       "<IPython.core.display.HTML object>"
      ]
     },
     "metadata": {},
     "output_type": "display_data"
    },
    {
     "data": {
      "text/html": [
       "Run data is saved locally in <code>/home/user/Documents/Courses/DA6401/wandb/run-20250311_150400-bfpdton7</code>"
      ],
      "text/plain": [
       "<IPython.core.display.HTML object>"
      ]
     },
     "metadata": {},
     "output_type": "display_data"
    },
    {
     "data": {
      "text/html": [
       "Syncing run <strong><a href='https://wandb.ai/deeplearn24/DL_A1_mse_sweeps/runs/bfpdton7' target=\"_blank\">solar-sweep-1</a></strong> to <a href='https://wandb.ai/deeplearn24/DL_A1_mse_sweeps' target=\"_blank\">Weights & Biases</a> (<a href='https://wandb.me/developer-guide' target=\"_blank\">docs</a>)<br>Sweep page: <a href='https://wandb.ai/deeplearn24/DL_A1_mse_sweeps/sweeps/9crckhqe' target=\"_blank\">https://wandb.ai/deeplearn24/DL_A1_mse_sweeps/sweeps/9crckhqe</a>"
      ],
      "text/plain": [
       "<IPython.core.display.HTML object>"
      ]
     },
     "metadata": {},
     "output_type": "display_data"
    },
    {
     "data": {
      "text/html": [
       " View project at <a href='https://wandb.ai/deeplearn24/DL_A1_mse_sweeps' target=\"_blank\">https://wandb.ai/deeplearn24/DL_A1_mse_sweeps</a>"
      ],
      "text/plain": [
       "<IPython.core.display.HTML object>"
      ]
     },
     "metadata": {},
     "output_type": "display_data"
    },
    {
     "data": {
      "text/html": [
       " View sweep at <a href='https://wandb.ai/deeplearn24/DL_A1_mse_sweeps/sweeps/9crckhqe' target=\"_blank\">https://wandb.ai/deeplearn24/DL_A1_mse_sweeps/sweeps/9crckhqe</a>"
      ],
      "text/plain": [
       "<IPython.core.display.HTML object>"
      ]
     },
     "metadata": {},
     "output_type": "display_data"
    },
    {
     "data": {
      "text/html": [
       " View run at <a href='https://wandb.ai/deeplearn24/DL_A1_mse_sweeps/runs/bfpdton7' target=\"_blank\">https://wandb.ai/deeplearn24/DL_A1_mse_sweeps/runs/bfpdton7</a>"
      ],
      "text/plain": [
       "<IPython.core.display.HTML object>"
      ]
     },
     "metadata": {},
     "output_type": "display_data"
    },
    {
     "name": "stdout",
     "output_type": "stream",
     "text": [
      "Epoch: 1, Train Loss: 11826.411636714614, Valid Loss: 17474.486045135403\n",
      "Epoch: 2, Train Loss: 32671.00808201544, Valid Loss: 57287.078957314625\n",
      "Epoch: 3, Train Loss: 90023.00201489984, Valid Loss: 124280.71033178583\n",
      "Epoch: 4, Train Loss: 140777.66215510093, Valid Loss: 160886.54820912878\n",
      "Epoch: 5, Train Loss: 202287.0864318666, Valid Loss: 242246.37870819384\n"
     ]
    },
    {
     "data": {
      "text/html": [],
      "text/plain": [
       "<IPython.core.display.HTML object>"
      ]
     },
     "metadata": {},
     "output_type": "display_data"
    },
    {
     "data": {
      "text/html": [
       "<br>    <style><br>        .wandb-row {<br>            display: flex;<br>            flex-direction: row;<br>            flex-wrap: wrap;<br>            justify-content: flex-start;<br>            width: 100%;<br>        }<br>        .wandb-col {<br>            display: flex;<br>            flex-direction: column;<br>            flex-basis: 100%;<br>            flex: 1;<br>            padding: 10px;<br>        }<br>    </style><br><div class=\"wandb-row\"><div class=\"wandb-col\"><h3>Run history:</h3><br/><table class=\"wandb\"><tr><td>epoch</td><td>▁▃▅▆█</td></tr><tr><td>train/accuracy</td><td>▂█▄▄▁</td></tr><tr><td>train/batch_loss</td><td>▁▁▁▁▁▁▁▁▁▁▁▁▂▂▂▂▂▂▃▃▃▃▃▃▄▄▅▅▅▅▅▅▆▆▆▆▇▇▇█</td></tr><tr><td>train/loss</td><td>▁▂▄▆█</td></tr><tr><td>val/accuracy</td><td>█▁▄▂▂</td></tr><tr><td>val/loss</td><td>▁▂▄▅█</td></tr></table><br/></div><div class=\"wandb-col\"><h3>Run summary:</h3><br/><table class=\"wandb\"><tr><td>epoch</td><td>5</td></tr><tr><td>train/accuracy</td><td>0.10602</td></tr><tr><td>train/batch_loss</td><td>242176.57186</td></tr><tr><td>train/loss</td><td>202287.08643</td></tr><tr><td>val/accuracy</td><td>0.09807</td></tr><tr><td>val/loss</td><td>242246.37871</td></tr></table><br/></div></div>"
      ],
      "text/plain": [
       "<IPython.core.display.HTML object>"
      ]
     },
     "metadata": {},
     "output_type": "display_data"
    },
    {
     "data": {
      "text/html": [
       " View run <strong style=\"color:#cdcd00\">n3_h32_lr0.00314658979007667_bs32_acttanh</strong> at: <a href='https://wandb.ai/deeplearn24/DL_A1_mse_sweeps/runs/bfpdton7' target=\"_blank\">https://wandb.ai/deeplearn24/DL_A1_mse_sweeps/runs/bfpdton7</a><br> View project at: <a href='https://wandb.ai/deeplearn24/DL_A1_mse_sweeps' target=\"_blank\">https://wandb.ai/deeplearn24/DL_A1_mse_sweeps</a><br>Synced 5 W&B file(s), 1 media file(s), 0 artifact file(s) and 0 other file(s)"
      ],
      "text/plain": [
       "<IPython.core.display.HTML object>"
      ]
     },
     "metadata": {},
     "output_type": "display_data"
    },
    {
     "data": {
      "text/html": [
       "Find logs at: <code>./wandb/run-20250311_150400-bfpdton7/logs</code>"
      ],
      "text/plain": [
       "<IPython.core.display.HTML object>"
      ]
     },
     "metadata": {},
     "output_type": "display_data"
    },
    {
     "name": "stderr",
     "output_type": "stream",
     "text": [
      "\u001b[34m\u001b[1mwandb\u001b[0m: Sweep Agent: Waiting for job.\n",
      "\u001b[34m\u001b[1mwandb\u001b[0m: Job received.\n",
      "\u001b[34m\u001b[1mwandb\u001b[0m: Agent Starting Run: yuwnzkyu with config:\n",
      "\u001b[34m\u001b[1mwandb\u001b[0m: \tactivation: tanh\n",
      "\u001b[34m\u001b[1mwandb\u001b[0m: \tbatch_size: 32\n",
      "\u001b[34m\u001b[1mwandb\u001b[0m: \tbeta: 0.9\n",
      "\u001b[34m\u001b[1mwandb\u001b[0m: \tbeta1: 0.9\n",
      "\u001b[34m\u001b[1mwandb\u001b[0m: \tbeta2: 0.999\n",
      "\u001b[34m\u001b[1mwandb\u001b[0m: \tepochs: 5\n",
      "\u001b[34m\u001b[1mwandb\u001b[0m: \tepsilon: 1e-08\n",
      "\u001b[34m\u001b[1mwandb\u001b[0m: \thidden_size: 32\n",
      "\u001b[34m\u001b[1mwandb\u001b[0m: \tlearning_rate: 0.006995826985358419\n",
      "\u001b[34m\u001b[1mwandb\u001b[0m: \tloss: mse\n",
      "\u001b[34m\u001b[1mwandb\u001b[0m: \tmomentum: 0.9\n",
      "\u001b[34m\u001b[1mwandb\u001b[0m: \tnum_layers: 3\n",
      "\u001b[34m\u001b[1mwandb\u001b[0m: \toptimizer: nadam\n",
      "\u001b[34m\u001b[1mwandb\u001b[0m: \tweight_decay: 0\n",
      "\u001b[34m\u001b[1mwandb\u001b[0m: \tweight_init: random\n"
     ]
    },
    {
     "data": {
      "text/html": [
       "Tracking run with wandb version 0.19.8"
      ],
      "text/plain": [
       "<IPython.core.display.HTML object>"
      ]
     },
     "metadata": {},
     "output_type": "display_data"
    },
    {
     "data": {
      "text/html": [
       "Run data is saved locally in <code>/home/user/Documents/Courses/DA6401/wandb/run-20250311_150426-yuwnzkyu</code>"
      ],
      "text/plain": [
       "<IPython.core.display.HTML object>"
      ]
     },
     "metadata": {},
     "output_type": "display_data"
    },
    {
     "data": {
      "text/html": [
       "Syncing run <strong><a href='https://wandb.ai/deeplearn24/DL_A1_mse_sweeps/runs/yuwnzkyu' target=\"_blank\">dandy-sweep-2</a></strong> to <a href='https://wandb.ai/deeplearn24/DL_A1_mse_sweeps' target=\"_blank\">Weights & Biases</a> (<a href='https://wandb.me/developer-guide' target=\"_blank\">docs</a>)<br>Sweep page: <a href='https://wandb.ai/deeplearn24/DL_A1_mse_sweeps/sweeps/9crckhqe' target=\"_blank\">https://wandb.ai/deeplearn24/DL_A1_mse_sweeps/sweeps/9crckhqe</a>"
      ],
      "text/plain": [
       "<IPython.core.display.HTML object>"
      ]
     },
     "metadata": {},
     "output_type": "display_data"
    },
    {
     "data": {
      "text/html": [
       " View project at <a href='https://wandb.ai/deeplearn24/DL_A1_mse_sweeps' target=\"_blank\">https://wandb.ai/deeplearn24/DL_A1_mse_sweeps</a>"
      ],
      "text/plain": [
       "<IPython.core.display.HTML object>"
      ]
     },
     "metadata": {},
     "output_type": "display_data"
    },
    {
     "data": {
      "text/html": [
       " View sweep at <a href='https://wandb.ai/deeplearn24/DL_A1_mse_sweeps/sweeps/9crckhqe' target=\"_blank\">https://wandb.ai/deeplearn24/DL_A1_mse_sweeps/sweeps/9crckhqe</a>"
      ],
      "text/plain": [
       "<IPython.core.display.HTML object>"
      ]
     },
     "metadata": {},
     "output_type": "display_data"
    },
    {
     "data": {
      "text/html": [
       " View run at <a href='https://wandb.ai/deeplearn24/DL_A1_mse_sweeps/runs/yuwnzkyu' target=\"_blank\">https://wandb.ai/deeplearn24/DL_A1_mse_sweeps/runs/yuwnzkyu</a>"
      ],
      "text/plain": [
       "<IPython.core.display.HTML object>"
      ]
     },
     "metadata": {},
     "output_type": "display_data"
    },
    {
     "name": "stdout",
     "output_type": "stream",
     "text": [
      "Epoch: 1, Train Loss: 3.188670155031018, Valid Loss: 2.5946180633118554\n",
      "Epoch: 2, Train Loss: 2.5780319660525293, Valid Loss: 2.7003257979445\n",
      "Epoch: 3, Train Loss: 2.576034555925822, Valid Loss: 2.67512958346311\n",
      "Epoch: 4, Train Loss: 2.581680844655219, Valid Loss: 2.6041509396041405\n",
      "Epoch: 5, Train Loss: 2.5793140015074414, Valid Loss: 2.4338606809494223\n"
     ]
    },
    {
     "data": {
      "text/html": [],
      "text/plain": [
       "<IPython.core.display.HTML object>"
      ]
     },
     "metadata": {},
     "output_type": "display_data"
    },
    {
     "data": {
      "text/html": [
       "<br>    <style><br>        .wandb-row {<br>            display: flex;<br>            flex-direction: row;<br>            flex-wrap: wrap;<br>            justify-content: flex-start;<br>            width: 100%;<br>        }<br>        .wandb-col {<br>            display: flex;<br>            flex-direction: column;<br>            flex-basis: 100%;<br>            flex: 1;<br>            padding: 10px;<br>        }<br>    </style><br><div class=\"wandb-row\"><div class=\"wandb-col\"><h3>Run history:</h3><br/><table class=\"wandb\"><tr><td>epoch</td><td>▁▃▅▆█</td></tr><tr><td>train/accuracy</td><td>█▃▂▁▁</td></tr><tr><td>train/batch_loss</td><td>█▆▄█▁▁▆▃▃▁▂▅▃▃▂▃▃▂▃▄▅▅▃▃▄▃▁▅▁▁▄▃▅▄▂▂▂▃▂▇</td></tr><tr><td>train/loss</td><td>█▁▁▁▁</td></tr><tr><td>val/accuracy</td><td>█▁▂▂▁</td></tr><tr><td>val/loss</td><td>▅█▇▅▁</td></tr></table><br/></div><div class=\"wandb-col\"><h3>Run summary:</h3><br/><table class=\"wandb\"><tr><td>epoch</td><td>5</td></tr><tr><td>train/accuracy</td><td>0.10001</td></tr><tr><td>train/batch_loss</td><td>2.83353</td></tr><tr><td>train/loss</td><td>2.57931</td></tr><tr><td>val/accuracy</td><td>0.0989</td></tr><tr><td>val/loss</td><td>2.43386</td></tr></table><br/></div></div>"
      ],
      "text/plain": [
       "<IPython.core.display.HTML object>"
      ]
     },
     "metadata": {},
     "output_type": "display_data"
    },
    {
     "data": {
      "text/html": [
       " View run <strong style=\"color:#cdcd00\">n3_h32_lr0.006995826985358419_bs32_acttanh</strong> at: <a href='https://wandb.ai/deeplearn24/DL_A1_mse_sweeps/runs/yuwnzkyu' target=\"_blank\">https://wandb.ai/deeplearn24/DL_A1_mse_sweeps/runs/yuwnzkyu</a><br> View project at: <a href='https://wandb.ai/deeplearn24/DL_A1_mse_sweeps' target=\"_blank\">https://wandb.ai/deeplearn24/DL_A1_mse_sweeps</a><br>Synced 5 W&B file(s), 1 media file(s), 0 artifact file(s) and 0 other file(s)"
      ],
      "text/plain": [
       "<IPython.core.display.HTML object>"
      ]
     },
     "metadata": {},
     "output_type": "display_data"
    },
    {
     "data": {
      "text/html": [
       "Find logs at: <code>./wandb/run-20250311_150426-yuwnzkyu/logs</code>"
      ],
      "text/plain": [
       "<IPython.core.display.HTML object>"
      ]
     },
     "metadata": {},
     "output_type": "display_data"
    },
    {
     "name": "stderr",
     "output_type": "stream",
     "text": [
      "\u001b[34m\u001b[1mwandb\u001b[0m: Agent Starting Run: wcx59q03 with config:\n",
      "\u001b[34m\u001b[1mwandb\u001b[0m: \tactivation: tanh\n",
      "\u001b[34m\u001b[1mwandb\u001b[0m: \tbatch_size: 32\n",
      "\u001b[34m\u001b[1mwandb\u001b[0m: \tbeta: 0.9\n",
      "\u001b[34m\u001b[1mwandb\u001b[0m: \tbeta1: 0.9\n",
      "\u001b[34m\u001b[1mwandb\u001b[0m: \tbeta2: 0.999\n",
      "\u001b[34m\u001b[1mwandb\u001b[0m: \tepochs: 10\n",
      "\u001b[34m\u001b[1mwandb\u001b[0m: \tepsilon: 1e-08\n",
      "\u001b[34m\u001b[1mwandb\u001b[0m: \thidden_size: 128\n",
      "\u001b[34m\u001b[1mwandb\u001b[0m: \tlearning_rate: 0.005702912666994084\n",
      "\u001b[34m\u001b[1mwandb\u001b[0m: \tloss: mse\n",
      "\u001b[34m\u001b[1mwandb\u001b[0m: \tmomentum: 0.9\n",
      "\u001b[34m\u001b[1mwandb\u001b[0m: \tnum_layers: 5\n",
      "\u001b[34m\u001b[1mwandb\u001b[0m: \toptimizer: adam\n",
      "\u001b[34m\u001b[1mwandb\u001b[0m: \tweight_decay: 0\n",
      "\u001b[34m\u001b[1mwandb\u001b[0m: \tweight_init: xavier\n"
     ]
    },
    {
     "data": {
      "text/html": [
       "Tracking run with wandb version 0.19.8"
      ],
      "text/plain": [
       "<IPython.core.display.HTML object>"
      ]
     },
     "metadata": {},
     "output_type": "display_data"
    },
    {
     "data": {
      "text/html": [
       "Run data is saved locally in <code>/home/user/Documents/Courses/DA6401/wandb/run-20250311_150448-wcx59q03</code>"
      ],
      "text/plain": [
       "<IPython.core.display.HTML object>"
      ]
     },
     "metadata": {},
     "output_type": "display_data"
    },
    {
     "data": {
      "text/html": [
       "Syncing run <strong><a href='https://wandb.ai/deeplearn24/DL_A1_mse_sweeps/runs/wcx59q03' target=\"_blank\">confused-sweep-3</a></strong> to <a href='https://wandb.ai/deeplearn24/DL_A1_mse_sweeps' target=\"_blank\">Weights & Biases</a> (<a href='https://wandb.me/developer-guide' target=\"_blank\">docs</a>)<br>Sweep page: <a href='https://wandb.ai/deeplearn24/DL_A1_mse_sweeps/sweeps/9crckhqe' target=\"_blank\">https://wandb.ai/deeplearn24/DL_A1_mse_sweeps/sweeps/9crckhqe</a>"
      ],
      "text/plain": [
       "<IPython.core.display.HTML object>"
      ]
     },
     "metadata": {},
     "output_type": "display_data"
    },
    {
     "data": {
      "text/html": [
       " View project at <a href='https://wandb.ai/deeplearn24/DL_A1_mse_sweeps' target=\"_blank\">https://wandb.ai/deeplearn24/DL_A1_mse_sweeps</a>"
      ],
      "text/plain": [
       "<IPython.core.display.HTML object>"
      ]
     },
     "metadata": {},
     "output_type": "display_data"
    },
    {
     "data": {
      "text/html": [
       " View sweep at <a href='https://wandb.ai/deeplearn24/DL_A1_mse_sweeps/sweeps/9crckhqe' target=\"_blank\">https://wandb.ai/deeplearn24/DL_A1_mse_sweeps/sweeps/9crckhqe</a>"
      ],
      "text/plain": [
       "<IPython.core.display.HTML object>"
      ]
     },
     "metadata": {},
     "output_type": "display_data"
    },
    {
     "data": {
      "text/html": [
       " View run at <a href='https://wandb.ai/deeplearn24/DL_A1_mse_sweeps/runs/wcx59q03' target=\"_blank\">https://wandb.ai/deeplearn24/DL_A1_mse_sweeps/runs/wcx59q03</a>"
      ],
      "text/plain": [
       "<IPython.core.display.HTML object>"
      ]
     },
     "metadata": {},
     "output_type": "display_data"
    },
    {
     "name": "stdout",
     "output_type": "stream",
     "text": [
      "Epoch: 1, Train Loss: 2.7553606041873553, Valid Loss: 2.4361809168309128\n",
      "Epoch: 2, Train Loss: 2.801139147742899, Valid Loss: 3.887336501369273\n",
      "Epoch: 3, Train Loss: 2.7823155562063344, Valid Loss: 2.8004985056485467\n",
      "Epoch: 4, Train Loss: 2.8627959121977247, Valid Loss: 2.6831353154726445\n",
      "Epoch: 5, Train Loss: 2.872720442279817, Valid Loss: 3.497171030155964\n",
      "Epoch: 6, Train Loss: 2.841336223892523, Valid Loss: 3.4032239977247665\n",
      "Epoch: 7, Train Loss: 2.907299281921382, Valid Loss: 2.8881779290915732\n",
      "Epoch: 8, Train Loss: 2.8574051655099924, Valid Loss: 2.924831951052975\n",
      "Epoch: 9, Train Loss: 2.9371114482640004, Valid Loss: 3.5089256518032776\n",
      "Epoch: 10, Train Loss: 2.913508130429122, Valid Loss: 3.0333852496124813\n"
     ]
    },
    {
     "data": {
      "text/html": [],
      "text/plain": [
       "<IPython.core.display.HTML object>"
      ]
     },
     "metadata": {},
     "output_type": "display_data"
    },
    {
     "data": {
      "text/html": [
       "<br>    <style><br>        .wandb-row {<br>            display: flex;<br>            flex-direction: row;<br>            flex-wrap: wrap;<br>            justify-content: flex-start;<br>            width: 100%;<br>        }<br>        .wandb-col {<br>            display: flex;<br>            flex-direction: column;<br>            flex-basis: 100%;<br>            flex: 1;<br>            padding: 10px;<br>        }<br>    </style><br><div class=\"wandb-row\"><div class=\"wandb-col\"><h3>Run history:</h3><br/><table class=\"wandb\"><tr><td>epoch</td><td>▁▂▃▃▄▅▆▆▇█</td></tr><tr><td>train/accuracy</td><td>▇▅█▄▄▆▃▅▁▁</td></tr><tr><td>train/batch_loss</td><td>▃▅▃▁▆▂▃▁▅▂▅▅▂▃▂▄▃█▂▃▁▅▂▂▁▃▂▇▄▄▂▅▃▄▃▂▂▃▃▄</td></tr><tr><td>train/loss</td><td>▁▃▂▅▆▄▇▅█▇</td></tr><tr><td>val/accuracy</td><td>█▁▃▂▂▂▂▂▂▂</td></tr><tr><td>val/loss</td><td>▁█▃▂▆▆▃▃▆▄</td></tr></table><br/></div><div class=\"wandb-col\"><h3>Run summary:</h3><br/><table class=\"wandb\"><tr><td>epoch</td><td>10</td></tr><tr><td>train/accuracy</td><td>0.09854</td></tr><tr><td>train/batch_loss</td><td>4.58969</td></tr><tr><td>train/loss</td><td>2.91351</td></tr><tr><td>val/accuracy</td><td>0.10239</td></tr><tr><td>val/loss</td><td>3.03339</td></tr></table><br/></div></div>"
      ],
      "text/plain": [
       "<IPython.core.display.HTML object>"
      ]
     },
     "metadata": {},
     "output_type": "display_data"
    },
    {
     "data": {
      "text/html": [
       " View run <strong style=\"color:#cdcd00\">n5_h128_lr0.005702912666994084_bs32_acttanh</strong> at: <a href='https://wandb.ai/deeplearn24/DL_A1_mse_sweeps/runs/wcx59q03' target=\"_blank\">https://wandb.ai/deeplearn24/DL_A1_mse_sweeps/runs/wcx59q03</a><br> View project at: <a href='https://wandb.ai/deeplearn24/DL_A1_mse_sweeps' target=\"_blank\">https://wandb.ai/deeplearn24/DL_A1_mse_sweeps</a><br>Synced 5 W&B file(s), 1 media file(s), 0 artifact file(s) and 0 other file(s)"
      ],
      "text/plain": [
       "<IPython.core.display.HTML object>"
      ]
     },
     "metadata": {},
     "output_type": "display_data"
    },
    {
     "data": {
      "text/html": [
       "Find logs at: <code>./wandb/run-20250311_150448-wcx59q03/logs</code>"
      ],
      "text/plain": [
       "<IPython.core.display.HTML object>"
      ]
     },
     "metadata": {},
     "output_type": "display_data"
    },
    {
     "name": "stderr",
     "output_type": "stream",
     "text": [
      "\u001b[34m\u001b[1mwandb\u001b[0m: Sweep Agent: Waiting for job.\n",
      "\u001b[34m\u001b[1mwandb\u001b[0m: Job received.\n",
      "\u001b[34m\u001b[1mwandb\u001b[0m: Agent Starting Run: a3qj3385 with config:\n",
      "\u001b[34m\u001b[1mwandb\u001b[0m: \tactivation: tanh\n",
      "\u001b[34m\u001b[1mwandb\u001b[0m: \tbatch_size: 16\n",
      "\u001b[34m\u001b[1mwandb\u001b[0m: \tbeta: 0.9\n",
      "\u001b[34m\u001b[1mwandb\u001b[0m: \tbeta1: 0.9\n",
      "\u001b[34m\u001b[1mwandb\u001b[0m: \tbeta2: 0.999\n",
      "\u001b[34m\u001b[1mwandb\u001b[0m: \tepochs: 5\n",
      "\u001b[34m\u001b[1mwandb\u001b[0m: \tepsilon: 1e-08\n",
      "\u001b[34m\u001b[1mwandb\u001b[0m: \thidden_size: 64\n",
      "\u001b[34m\u001b[1mwandb\u001b[0m: \tlearning_rate: 0.0069900012335503536\n",
      "\u001b[34m\u001b[1mwandb\u001b[0m: \tloss: mse\n",
      "\u001b[34m\u001b[1mwandb\u001b[0m: \tmomentum: 0.9\n",
      "\u001b[34m\u001b[1mwandb\u001b[0m: \tnum_layers: 3\n",
      "\u001b[34m\u001b[1mwandb\u001b[0m: \toptimizer: nadam\n",
      "\u001b[34m\u001b[1mwandb\u001b[0m: \tweight_decay: 0\n",
      "\u001b[34m\u001b[1mwandb\u001b[0m: \tweight_init: xavier\n"
     ]
    },
    {
     "data": {
      "text/html": [
       "Tracking run with wandb version 0.19.8"
      ],
      "text/plain": [
       "<IPython.core.display.HTML object>"
      ]
     },
     "metadata": {},
     "output_type": "display_data"
    },
    {
     "data": {
      "text/html": [
       "Run data is saved locally in <code>/home/user/Documents/Courses/DA6401/wandb/run-20250311_150753-a3qj3385</code>"
      ],
      "text/plain": [
       "<IPython.core.display.HTML object>"
      ]
     },
     "metadata": {},
     "output_type": "display_data"
    },
    {
     "data": {
      "text/html": [
       "Syncing run <strong><a href='https://wandb.ai/deeplearn24/DL_A1_mse_sweeps/runs/a3qj3385' target=\"_blank\">icy-sweep-4</a></strong> to <a href='https://wandb.ai/deeplearn24/DL_A1_mse_sweeps' target=\"_blank\">Weights & Biases</a> (<a href='https://wandb.me/developer-guide' target=\"_blank\">docs</a>)<br>Sweep page: <a href='https://wandb.ai/deeplearn24/DL_A1_mse_sweeps/sweeps/9crckhqe' target=\"_blank\">https://wandb.ai/deeplearn24/DL_A1_mse_sweeps/sweeps/9crckhqe</a>"
      ],
      "text/plain": [
       "<IPython.core.display.HTML object>"
      ]
     },
     "metadata": {},
     "output_type": "display_data"
    },
    {
     "data": {
      "text/html": [
       " View project at <a href='https://wandb.ai/deeplearn24/DL_A1_mse_sweeps' target=\"_blank\">https://wandb.ai/deeplearn24/DL_A1_mse_sweeps</a>"
      ],
      "text/plain": [
       "<IPython.core.display.HTML object>"
      ]
     },
     "metadata": {},
     "output_type": "display_data"
    },
    {
     "data": {
      "text/html": [
       " View sweep at <a href='https://wandb.ai/deeplearn24/DL_A1_mse_sweeps/sweeps/9crckhqe' target=\"_blank\">https://wandb.ai/deeplearn24/DL_A1_mse_sweeps/sweeps/9crckhqe</a>"
      ],
      "text/plain": [
       "<IPython.core.display.HTML object>"
      ]
     },
     "metadata": {},
     "output_type": "display_data"
    },
    {
     "data": {
      "text/html": [
       " View run at <a href='https://wandb.ai/deeplearn24/DL_A1_mse_sweeps/runs/a3qj3385' target=\"_blank\">https://wandb.ai/deeplearn24/DL_A1_mse_sweeps/runs/a3qj3385</a>"
      ],
      "text/plain": [
       "<IPython.core.display.HTML object>"
      ]
     },
     "metadata": {},
     "output_type": "display_data"
    },
    {
     "name": "stdout",
     "output_type": "stream",
     "text": [
      "Epoch: 1, Train Loss: 3.934933581726189, Valid Loss: 5.899992369776335\n",
      "Epoch: 2, Train Loss: 4.103737525786566, Valid Loss: 4.10909876313543\n",
      "Epoch: 3, Train Loss: 4.081804033067545, Valid Loss: 4.4880660860176125\n",
      "Epoch: 4, Train Loss: 4.114350376632188, Valid Loss: 4.204123988941827\n",
      "Epoch: 5, Train Loss: 4.164231295843255, Valid Loss: 3.7160386967492145\n"
     ]
    },
    {
     "data": {
      "text/html": [],
      "text/plain": [
       "<IPython.core.display.HTML object>"
      ]
     },
     "metadata": {},
     "output_type": "display_data"
    },
    {
     "data": {
      "text/html": [
       "<br>    <style><br>        .wandb-row {<br>            display: flex;<br>            flex-direction: row;<br>            flex-wrap: wrap;<br>            justify-content: flex-start;<br>            width: 100%;<br>        }<br>        .wandb-col {<br>            display: flex;<br>            flex-direction: column;<br>            flex-basis: 100%;<br>            flex: 1;<br>            padding: 10px;<br>        }<br>    </style><br><div class=\"wandb-row\"><div class=\"wandb-col\"><h3>Run history:</h3><br/><table class=\"wandb\"><tr><td>epoch</td><td>▁▃▅▆█</td></tr><tr><td>train/accuracy</td><td>█▂▁▂▂</td></tr><tr><td>train/batch_loss</td><td>▂▁▁▆▆▄▆▅▁▃▃▄▂▅▂▇▂▃▄▄▅▃▂▅▆▃▄▄▃▅▂▅▄▄▂█▃▃▄▅</td></tr><tr><td>train/loss</td><td>▁▆▅▆█</td></tr><tr><td>val/accuracy</td><td>▁█▁█▁</td></tr><tr><td>val/loss</td><td>█▂▃▃▁</td></tr></table><br/></div><div class=\"wandb-col\"><h3>Run summary:</h3><br/><table class=\"wandb\"><tr><td>epoch</td><td>5</td></tr><tr><td>train/accuracy</td><td>0.1</td></tr><tr><td>train/batch_loss</td><td>3.82454</td></tr><tr><td>train/loss</td><td>4.16423</td></tr><tr><td>val/accuracy</td><td>0.09917</td></tr><tr><td>val/loss</td><td>3.71604</td></tr></table><br/></div></div>"
      ],
      "text/plain": [
       "<IPython.core.display.HTML object>"
      ]
     },
     "metadata": {},
     "output_type": "display_data"
    },
    {
     "data": {
      "text/html": [
       " View run <strong style=\"color:#cdcd00\">n3_h64_lr0.0069900012335503536_bs16_acttanh</strong> at: <a href='https://wandb.ai/deeplearn24/DL_A1_mse_sweeps/runs/a3qj3385' target=\"_blank\">https://wandb.ai/deeplearn24/DL_A1_mse_sweeps/runs/a3qj3385</a><br> View project at: <a href='https://wandb.ai/deeplearn24/DL_A1_mse_sweeps' target=\"_blank\">https://wandb.ai/deeplearn24/DL_A1_mse_sweeps</a><br>Synced 5 W&B file(s), 1 media file(s), 0 artifact file(s) and 0 other file(s)"
      ],
      "text/plain": [
       "<IPython.core.display.HTML object>"
      ]
     },
     "metadata": {},
     "output_type": "display_data"
    },
    {
     "data": {
      "text/html": [
       "Find logs at: <code>./wandb/run-20250311_150753-a3qj3385/logs</code>"
      ],
      "text/plain": [
       "<IPython.core.display.HTML object>"
      ]
     },
     "metadata": {},
     "output_type": "display_data"
    },
    {
     "name": "stderr",
     "output_type": "stream",
     "text": [
      "\u001b[34m\u001b[1mwandb\u001b[0m: Agent Starting Run: cxecyi39 with config:\n",
      "\u001b[34m\u001b[1mwandb\u001b[0m: \tactivation: ReLU\n",
      "\u001b[34m\u001b[1mwandb\u001b[0m: \tbatch_size: 64\n",
      "\u001b[34m\u001b[1mwandb\u001b[0m: \tbeta: 0.9\n",
      "\u001b[34m\u001b[1mwandb\u001b[0m: \tbeta1: 0.9\n",
      "\u001b[34m\u001b[1mwandb\u001b[0m: \tbeta2: 0.999\n",
      "\u001b[34m\u001b[1mwandb\u001b[0m: \tepochs: 10\n",
      "\u001b[34m\u001b[1mwandb\u001b[0m: \tepsilon: 1e-08\n",
      "\u001b[34m\u001b[1mwandb\u001b[0m: \thidden_size: 32\n",
      "\u001b[34m\u001b[1mwandb\u001b[0m: \tlearning_rate: 0.006456248650165961\n",
      "\u001b[34m\u001b[1mwandb\u001b[0m: \tloss: mse\n",
      "\u001b[34m\u001b[1mwandb\u001b[0m: \tmomentum: 0.9\n",
      "\u001b[34m\u001b[1mwandb\u001b[0m: \tnum_layers: 3\n",
      "\u001b[34m\u001b[1mwandb\u001b[0m: \toptimizer: nag\n",
      "\u001b[34m\u001b[1mwandb\u001b[0m: \tweight_decay: 0.5\n",
      "\u001b[34m\u001b[1mwandb\u001b[0m: \tweight_init: random\n"
     ]
    },
    {
     "data": {
      "text/html": [
       "Tracking run with wandb version 0.19.8"
      ],
      "text/plain": [
       "<IPython.core.display.HTML object>"
      ]
     },
     "metadata": {},
     "output_type": "display_data"
    },
    {
     "data": {
      "text/html": [
       "Run data is saved locally in <code>/home/user/Documents/Courses/DA6401/wandb/run-20250311_150841-cxecyi39</code>"
      ],
      "text/plain": [
       "<IPython.core.display.HTML object>"
      ]
     },
     "metadata": {},
     "output_type": "display_data"
    },
    {
     "data": {
      "text/html": [
       "Syncing run <strong><a href='https://wandb.ai/deeplearn24/DL_A1_mse_sweeps/runs/cxecyi39' target=\"_blank\">ethereal-sweep-5</a></strong> to <a href='https://wandb.ai/deeplearn24/DL_A1_mse_sweeps' target=\"_blank\">Weights & Biases</a> (<a href='https://wandb.me/developer-guide' target=\"_blank\">docs</a>)<br>Sweep page: <a href='https://wandb.ai/deeplearn24/DL_A1_mse_sweeps/sweeps/9crckhqe' target=\"_blank\">https://wandb.ai/deeplearn24/DL_A1_mse_sweeps/sweeps/9crckhqe</a>"
      ],
      "text/plain": [
       "<IPython.core.display.HTML object>"
      ]
     },
     "metadata": {},
     "output_type": "display_data"
    },
    {
     "data": {
      "text/html": [
       " View project at <a href='https://wandb.ai/deeplearn24/DL_A1_mse_sweeps' target=\"_blank\">https://wandb.ai/deeplearn24/DL_A1_mse_sweeps</a>"
      ],
      "text/plain": [
       "<IPython.core.display.HTML object>"
      ]
     },
     "metadata": {},
     "output_type": "display_data"
    },
    {
     "data": {
      "text/html": [
       " View sweep at <a href='https://wandb.ai/deeplearn24/DL_A1_mse_sweeps/sweeps/9crckhqe' target=\"_blank\">https://wandb.ai/deeplearn24/DL_A1_mse_sweeps/sweeps/9crckhqe</a>"
      ],
      "text/plain": [
       "<IPython.core.display.HTML object>"
      ]
     },
     "metadata": {},
     "output_type": "display_data"
    },
    {
     "data": {
      "text/html": [
       " View run at <a href='https://wandb.ai/deeplearn24/DL_A1_mse_sweeps/runs/cxecyi39' target=\"_blank\">https://wandb.ai/deeplearn24/DL_A1_mse_sweeps/runs/cxecyi39</a>"
      ],
      "text/plain": [
       "<IPython.core.display.HTML object>"
      ]
     },
     "metadata": {},
     "output_type": "display_data"
    },
    {
     "name": "stdout",
     "output_type": "stream",
     "text": [
      "Epoch: 1, Train Loss: 2414.55025539096, Valid Loss: 204.24365621085437\n",
      "Epoch: 2, Train Loss: 65.46960202093891, Valid Loss: 27.947115500923324\n",
      "Epoch: 3, Train Loss: 24.87954687077157, Valid Loss: 22.231161888767947\n",
      "Epoch: 4, Train Loss: 22.072095826448884, Valid Loss: 21.65186173641178\n",
      "Epoch: 5, Train Loss: 24.20781830708868, Valid Loss: 25.113302010733943\n",
      "Epoch: 6, Train Loss: 27.77778378227431, Valid Loss: 29.814991568839435\n",
      "Epoch: 7, Train Loss: 32.80548486688731, Valid Loss: 41.39867365135067\n",
      "Epoch: 8, Train Loss: 41.32853533339961, Valid Loss: 40.47975682095439\n",
      "Epoch: 9, Train Loss: 40.40141135837083, Valid Loss: 48.4223517743618\n",
      "Epoch: 10, Train Loss: 52.762342649888794, Valid Loss: 49.71723176023723\n"
     ]
    },
    {
     "data": {
      "text/html": [],
      "text/plain": [
       "<IPython.core.display.HTML object>"
      ]
     },
     "metadata": {},
     "output_type": "display_data"
    },
    {
     "data": {
      "text/html": [
       "<br>    <style><br>        .wandb-row {<br>            display: flex;<br>            flex-direction: row;<br>            flex-wrap: wrap;<br>            justify-content: flex-start;<br>            width: 100%;<br>        }<br>        .wandb-col {<br>            display: flex;<br>            flex-direction: column;<br>            flex-basis: 100%;<br>            flex: 1;<br>            padding: 10px;<br>        }<br>    </style><br><div class=\"wandb-row\"><div class=\"wandb-col\"><h3>Run history:</h3><br/><table class=\"wandb\"><tr><td>epoch</td><td>▁▂▃▃▄▅▆▆▇█</td></tr><tr><td>train/accuracy</td><td>▁███▇▇▇▆▆▆</td></tr><tr><td>train/batch_loss</td><td>█▆▃▂▂▁▁▁▁▁▁▁▁▁▁▁▂▂▂▂▂▂▂▃▃▃▃▂▂▂▃▃▄▄▄▄▄▄▄▄</td></tr><tr><td>train/loss</td><td>█▁▁▁▁▁▁▁▁▁</td></tr><tr><td>val/accuracy</td><td>▆██▇▇▇▁▆▄█</td></tr><tr><td>val/loss</td><td>█▁▁▁▁▁▂▂▂▂</td></tr></table><br/></div><div class=\"wandb-col\"><h3>Run summary:</h3><br/><table class=\"wandb\"><tr><td>epoch</td><td>10</td></tr><tr><td>train/accuracy</td><td>0.73133</td></tr><tr><td>train/batch_loss</td><td>50.38468</td></tr><tr><td>train/loss</td><td>52.76234</td></tr><tr><td>val/accuracy</td><td>0.81322</td></tr><tr><td>val/loss</td><td>49.71723</td></tr></table><br/></div></div>"
      ],
      "text/plain": [
       "<IPython.core.display.HTML object>"
      ]
     },
     "metadata": {},
     "output_type": "display_data"
    },
    {
     "data": {
      "text/html": [
       " View run <strong style=\"color:#cdcd00\">n3_h32_lr0.006456248650165961_bs64_actReLU</strong> at: <a href='https://wandb.ai/deeplearn24/DL_A1_mse_sweeps/runs/cxecyi39' target=\"_blank\">https://wandb.ai/deeplearn24/DL_A1_mse_sweeps/runs/cxecyi39</a><br> View project at: <a href='https://wandb.ai/deeplearn24/DL_A1_mse_sweeps' target=\"_blank\">https://wandb.ai/deeplearn24/DL_A1_mse_sweeps</a><br>Synced 5 W&B file(s), 1 media file(s), 0 artifact file(s) and 0 other file(s)"
      ],
      "text/plain": [
       "<IPython.core.display.HTML object>"
      ]
     },
     "metadata": {},
     "output_type": "display_data"
    },
    {
     "data": {
      "text/html": [
       "Find logs at: <code>./wandb/run-20250311_150841-cxecyi39/logs</code>"
      ],
      "text/plain": [
       "<IPython.core.display.HTML object>"
      ]
     },
     "metadata": {},
     "output_type": "display_data"
    },
    {
     "name": "stderr",
     "output_type": "stream",
     "text": [
      "\u001b[34m\u001b[1mwandb\u001b[0m: Agent Starting Run: bmtmz2kh with config:\n",
      "\u001b[34m\u001b[1mwandb\u001b[0m: \tactivation: tanh\n",
      "\u001b[34m\u001b[1mwandb\u001b[0m: \tbatch_size: 16\n",
      "\u001b[34m\u001b[1mwandb\u001b[0m: \tbeta: 0.9\n",
      "\u001b[34m\u001b[1mwandb\u001b[0m: \tbeta1: 0.9\n",
      "\u001b[34m\u001b[1mwandb\u001b[0m: \tbeta2: 0.999\n",
      "\u001b[34m\u001b[1mwandb\u001b[0m: \tepochs: 10\n",
      "\u001b[34m\u001b[1mwandb\u001b[0m: \tepsilon: 1e-08\n",
      "\u001b[34m\u001b[1mwandb\u001b[0m: \thidden_size: 128\n",
      "\u001b[34m\u001b[1mwandb\u001b[0m: \tlearning_rate: 0.005003207372509215\n",
      "\u001b[34m\u001b[1mwandb\u001b[0m: \tloss: mse\n",
      "\u001b[34m\u001b[1mwandb\u001b[0m: \tmomentum: 0.9\n",
      "\u001b[34m\u001b[1mwandb\u001b[0m: \tnum_layers: 5\n",
      "\u001b[34m\u001b[1mwandb\u001b[0m: \toptimizer: rmsprop\n",
      "\u001b[34m\u001b[1mwandb\u001b[0m: \tweight_decay: 0\n",
      "\u001b[34m\u001b[1mwandb\u001b[0m: \tweight_init: random\n"
     ]
    },
    {
     "data": {
      "text/html": [
       "Tracking run with wandb version 0.19.8"
      ],
      "text/plain": [
       "<IPython.core.display.HTML object>"
      ]
     },
     "metadata": {},
     "output_type": "display_data"
    },
    {
     "data": {
      "text/html": [
       "Run data is saved locally in <code>/home/user/Documents/Courses/DA6401/wandb/run-20250311_150913-bmtmz2kh</code>"
      ],
      "text/plain": [
       "<IPython.core.display.HTML object>"
      ]
     },
     "metadata": {},
     "output_type": "display_data"
    },
    {
     "data": {
      "text/html": [
       "Syncing run <strong><a href='https://wandb.ai/deeplearn24/DL_A1_mse_sweeps/runs/bmtmz2kh' target=\"_blank\">charmed-sweep-6</a></strong> to <a href='https://wandb.ai/deeplearn24/DL_A1_mse_sweeps' target=\"_blank\">Weights & Biases</a> (<a href='https://wandb.me/developer-guide' target=\"_blank\">docs</a>)<br>Sweep page: <a href='https://wandb.ai/deeplearn24/DL_A1_mse_sweeps/sweeps/9crckhqe' target=\"_blank\">https://wandb.ai/deeplearn24/DL_A1_mse_sweeps/sweeps/9crckhqe</a>"
      ],
      "text/plain": [
       "<IPython.core.display.HTML object>"
      ]
     },
     "metadata": {},
     "output_type": "display_data"
    },
    {
     "data": {
      "text/html": [
       " View project at <a href='https://wandb.ai/deeplearn24/DL_A1_mse_sweeps' target=\"_blank\">https://wandb.ai/deeplearn24/DL_A1_mse_sweeps</a>"
      ],
      "text/plain": [
       "<IPython.core.display.HTML object>"
      ]
     },
     "metadata": {},
     "output_type": "display_data"
    },
    {
     "data": {
      "text/html": [
       " View sweep at <a href='https://wandb.ai/deeplearn24/DL_A1_mse_sweeps/sweeps/9crckhqe' target=\"_blank\">https://wandb.ai/deeplearn24/DL_A1_mse_sweeps/sweeps/9crckhqe</a>"
      ],
      "text/plain": [
       "<IPython.core.display.HTML object>"
      ]
     },
     "metadata": {},
     "output_type": "display_data"
    },
    {
     "data": {
      "text/html": [
       " View run at <a href='https://wandb.ai/deeplearn24/DL_A1_mse_sweeps/runs/bmtmz2kh' target=\"_blank\">https://wandb.ai/deeplearn24/DL_A1_mse_sweeps/runs/bmtmz2kh</a>"
      ],
      "text/plain": [
       "<IPython.core.display.HTML object>"
      ]
     },
     "metadata": {},
     "output_type": "display_data"
    },
    {
     "name": "stdout",
     "output_type": "stream",
     "text": [
      "Epoch: 1, Train Loss: 5.314461170298566, Valid Loss: 3.4751393823226904\n",
      "Epoch: 2, Train Loss: 3.767298555521666, Valid Loss: 3.4354175601527714\n",
      "Epoch: 3, Train Loss: 3.7598234873968726, Valid Loss: 3.4946177369129927\n",
      "Epoch: 4, Train Loss: 3.730616190915859, Valid Loss: 4.5358236953023106\n",
      "Epoch: 5, Train Loss: 3.794385309527284, Valid Loss: 4.805418806134447\n",
      "Epoch: 6, Train Loss: 3.77701667459468, Valid Loss: 3.202701527693744\n",
      "Epoch: 7, Train Loss: 3.756099464800059, Valid Loss: 4.134819771221052\n",
      "Epoch: 8, Train Loss: 3.7854230964300615, Valid Loss: 4.67103818264858\n",
      "Epoch: 9, Train Loss: 3.7865862667253185, Valid Loss: 3.5903255109296865\n",
      "Epoch: 10, Train Loss: 3.788771314072052, Valid Loss: 2.719790689400583\n"
     ]
    },
    {
     "data": {
      "text/html": [],
      "text/plain": [
       "<IPython.core.display.HTML object>"
      ]
     },
     "metadata": {},
     "output_type": "display_data"
    },
    {
     "data": {
      "text/html": [
       "<br>    <style><br>        .wandb-row {<br>            display: flex;<br>            flex-direction: row;<br>            flex-wrap: wrap;<br>            justify-content: flex-start;<br>            width: 100%;<br>        }<br>        .wandb-col {<br>            display: flex;<br>            flex-direction: column;<br>            flex-basis: 100%;<br>            flex: 1;<br>            padding: 10px;<br>        }<br>    </style><br><div class=\"wandb-row\"><div class=\"wandb-col\"><h3>Run history:</h3><br/><table class=\"wandb\"><tr><td>epoch</td><td>▁▂▃▃▄▅▆▆▇█</td></tr><tr><td>train/accuracy</td><td>█▄▇▁▃▄▁▄▁▅</td></tr><tr><td>train/batch_loss</td><td>█▅▂▄▃▁▂▁▂▂▃▄▄▂▃▃▁▂▃▁▁▂▃▃▁▃▂▂▂▂▃▁▄▁▂▃▄▂▂▃</td></tr><tr><td>train/loss</td><td>█▁▁▁▁▁▁▁▁▁</td></tr><tr><td>val/accuracy</td><td>▁▅▇█▄█▇▃▅▅</td></tr><tr><td>val/loss</td><td>▄▃▄▇█▃▆█▄▁</td></tr></table><br/></div><div class=\"wandb-col\"><h3>Run summary:</h3><br/><table class=\"wandb\"><tr><td>epoch</td><td>10</td></tr><tr><td>train/accuracy</td><td>0.10063</td></tr><tr><td>train/batch_loss</td><td>4.26615</td></tr><tr><td>train/loss</td><td>3.78877</td></tr><tr><td>val/accuracy</td><td>0.10183</td></tr><tr><td>val/loss</td><td>2.71979</td></tr></table><br/></div></div>"
      ],
      "text/plain": [
       "<IPython.core.display.HTML object>"
      ]
     },
     "metadata": {},
     "output_type": "display_data"
    },
    {
     "data": {
      "text/html": [
       " View run <strong style=\"color:#cdcd00\">n5_h128_lr0.005003207372509215_bs16_acttanh</strong> at: <a href='https://wandb.ai/deeplearn24/DL_A1_mse_sweeps/runs/bmtmz2kh' target=\"_blank\">https://wandb.ai/deeplearn24/DL_A1_mse_sweeps/runs/bmtmz2kh</a><br> View project at: <a href='https://wandb.ai/deeplearn24/DL_A1_mse_sweeps' target=\"_blank\">https://wandb.ai/deeplearn24/DL_A1_mse_sweeps</a><br>Synced 5 W&B file(s), 1 media file(s), 0 artifact file(s) and 0 other file(s)"
      ],
      "text/plain": [
       "<IPython.core.display.HTML object>"
      ]
     },
     "metadata": {},
     "output_type": "display_data"
    },
    {
     "data": {
      "text/html": [
       "Find logs at: <code>./wandb/run-20250311_150913-bmtmz2kh/logs</code>"
      ],
      "text/plain": [
       "<IPython.core.display.HTML object>"
      ]
     },
     "metadata": {},
     "output_type": "display_data"
    },
    {
     "name": "stderr",
     "output_type": "stream",
     "text": [
      "\u001b[34m\u001b[1mwandb\u001b[0m: Agent Starting Run: vq8xpa15 with config:\n",
      "\u001b[34m\u001b[1mwandb\u001b[0m: \tactivation: tanh\n",
      "\u001b[34m\u001b[1mwandb\u001b[0m: \tbatch_size: 64\n",
      "\u001b[34m\u001b[1mwandb\u001b[0m: \tbeta: 0.9\n",
      "\u001b[34m\u001b[1mwandb\u001b[0m: \tbeta1: 0.9\n",
      "\u001b[34m\u001b[1mwandb\u001b[0m: \tbeta2: 0.999\n",
      "\u001b[34m\u001b[1mwandb\u001b[0m: \tepochs: 5\n",
      "\u001b[34m\u001b[1mwandb\u001b[0m: \tepsilon: 1e-08\n",
      "\u001b[34m\u001b[1mwandb\u001b[0m: \thidden_size: 64\n",
      "\u001b[34m\u001b[1mwandb\u001b[0m: \tlearning_rate: 0.0061078964689314655\n",
      "\u001b[34m\u001b[1mwandb\u001b[0m: \tloss: mse\n",
      "\u001b[34m\u001b[1mwandb\u001b[0m: \tmomentum: 0.9\n",
      "\u001b[34m\u001b[1mwandb\u001b[0m: \tnum_layers: 4\n",
      "\u001b[34m\u001b[1mwandb\u001b[0m: \toptimizer: nag\n",
      "\u001b[34m\u001b[1mwandb\u001b[0m: \tweight_decay: 0\n",
      "\u001b[34m\u001b[1mwandb\u001b[0m: \tweight_init: random\n"
     ]
    },
    {
     "data": {
      "text/html": [
       "Tracking run with wandb version 0.19.8"
      ],
      "text/plain": [
       "<IPython.core.display.HTML object>"
      ]
     },
     "metadata": {},
     "output_type": "display_data"
    },
    {
     "data": {
      "text/html": [
       "Run data is saved locally in <code>/home/user/Documents/Courses/DA6401/wandb/run-20250311_151218-vq8xpa15</code>"
      ],
      "text/plain": [
       "<IPython.core.display.HTML object>"
      ]
     },
     "metadata": {},
     "output_type": "display_data"
    },
    {
     "data": {
      "text/html": [
       "Syncing run <strong><a href='https://wandb.ai/deeplearn24/DL_A1_mse_sweeps/runs/vq8xpa15' target=\"_blank\">solar-sweep-7</a></strong> to <a href='https://wandb.ai/deeplearn24/DL_A1_mse_sweeps' target=\"_blank\">Weights & Biases</a> (<a href='https://wandb.me/developer-guide' target=\"_blank\">docs</a>)<br>Sweep page: <a href='https://wandb.ai/deeplearn24/DL_A1_mse_sweeps/sweeps/9crckhqe' target=\"_blank\">https://wandb.ai/deeplearn24/DL_A1_mse_sweeps/sweeps/9crckhqe</a>"
      ],
      "text/plain": [
       "<IPython.core.display.HTML object>"
      ]
     },
     "metadata": {},
     "output_type": "display_data"
    },
    {
     "data": {
      "text/html": [
       " View project at <a href='https://wandb.ai/deeplearn24/DL_A1_mse_sweeps' target=\"_blank\">https://wandb.ai/deeplearn24/DL_A1_mse_sweeps</a>"
      ],
      "text/plain": [
       "<IPython.core.display.HTML object>"
      ]
     },
     "metadata": {},
     "output_type": "display_data"
    },
    {
     "data": {
      "text/html": [
       " View sweep at <a href='https://wandb.ai/deeplearn24/DL_A1_mse_sweeps/sweeps/9crckhqe' target=\"_blank\">https://wandb.ai/deeplearn24/DL_A1_mse_sweeps/sweeps/9crckhqe</a>"
      ],
      "text/plain": [
       "<IPython.core.display.HTML object>"
      ]
     },
     "metadata": {},
     "output_type": "display_data"
    },
    {
     "data": {
      "text/html": [
       " View run at <a href='https://wandb.ai/deeplearn24/DL_A1_mse_sweeps/runs/vq8xpa15' target=\"_blank\">https://wandb.ai/deeplearn24/DL_A1_mse_sweeps/runs/vq8xpa15</a>"
      ],
      "text/plain": [
       "<IPython.core.display.HTML object>"
      ]
     },
     "metadata": {},
     "output_type": "display_data"
    },
    {
     "name": "stdout",
     "output_type": "stream",
     "text": [
      "Epoch: 1, Train Loss: 5.031913407665722, Valid Loss: 2.3073333298068843\n",
      "Epoch: 2, Train Loss: 2.1652840777939897, Valid Loss: 2.07199234182151\n",
      "Epoch: 3, Train Loss: 1.6398799048229085, Valid Loss: 1.590759597293915\n",
      "Epoch: 4, Train Loss: 1.6095371754380334, Valid Loss: 1.9347235786499797\n",
      "Epoch: 5, Train Loss: 1.8415936448317476, Valid Loss: 2.571434845499222\n"
     ]
    },
    {
     "data": {
      "text/html": [],
      "text/plain": [
       "<IPython.core.display.HTML object>"
      ]
     },
     "metadata": {},
     "output_type": "display_data"
    },
    {
     "data": {
      "text/html": [
       "<br>    <style><br>        .wandb-row {<br>            display: flex;<br>            flex-direction: row;<br>            flex-wrap: wrap;<br>            justify-content: flex-start;<br>            width: 100%;<br>        }<br>        .wandb-col {<br>            display: flex;<br>            flex-direction: column;<br>            flex-basis: 100%;<br>            flex: 1;<br>            padding: 10px;<br>        }<br>    </style><br><div class=\"wandb-row\"><div class=\"wandb-col\"><h3>Run history:</h3><br/><table class=\"wandb\"><tr><td>epoch</td><td>▁▃▅▆█</td></tr><tr><td>train/accuracy</td><td>▁▁██▅</td></tr><tr><td>train/batch_loss</td><td>█▇▆▆▆▆▃▃▂▂▂▂▂▂▂▂▂▂▁▁▂▁▁▁▁▁▁▁▁▂▂▂▂▂▁▁▃▂▂▁</td></tr><tr><td>train/loss</td><td>█▂▁▁▁</td></tr><tr><td>val/accuracy</td><td>▁▃█▅▄</td></tr><tr><td>val/loss</td><td>▆▄▁▃█</td></tr></table><br/></div><div class=\"wandb-col\"><h3>Run summary:</h3><br/><table class=\"wandb\"><tr><td>epoch</td><td>5</td></tr><tr><td>train/accuracy</td><td>0.31788</td></tr><tr><td>train/batch_loss</td><td>2.30229</td></tr><tr><td>train/loss</td><td>1.84159</td></tr><tr><td>val/accuracy</td><td>0.28075</td></tr><tr><td>val/loss</td><td>2.57143</td></tr></table><br/></div></div>"
      ],
      "text/plain": [
       "<IPython.core.display.HTML object>"
      ]
     },
     "metadata": {},
     "output_type": "display_data"
    },
    {
     "data": {
      "text/html": [
       " View run <strong style=\"color:#cdcd00\">n4_h64_lr0.0061078964689314655_bs64_acttanh</strong> at: <a href='https://wandb.ai/deeplearn24/DL_A1_mse_sweeps/runs/vq8xpa15' target=\"_blank\">https://wandb.ai/deeplearn24/DL_A1_mse_sweeps/runs/vq8xpa15</a><br> View project at: <a href='https://wandb.ai/deeplearn24/DL_A1_mse_sweeps' target=\"_blank\">https://wandb.ai/deeplearn24/DL_A1_mse_sweeps</a><br>Synced 5 W&B file(s), 1 media file(s), 0 artifact file(s) and 0 other file(s)"
      ],
      "text/plain": [
       "<IPython.core.display.HTML object>"
      ]
     },
     "metadata": {},
     "output_type": "display_data"
    },
    {
     "data": {
      "text/html": [
       "Find logs at: <code>./wandb/run-20250311_151218-vq8xpa15/logs</code>"
      ],
      "text/plain": [
       "<IPython.core.display.HTML object>"
      ]
     },
     "metadata": {},
     "output_type": "display_data"
    },
    {
     "name": "stderr",
     "output_type": "stream",
     "text": [
      "\u001b[34m\u001b[1mwandb\u001b[0m: Agent Starting Run: a5idjiwg with config:\n",
      "\u001b[34m\u001b[1mwandb\u001b[0m: \tactivation: ReLU\n",
      "\u001b[34m\u001b[1mwandb\u001b[0m: \tbatch_size: 32\n",
      "\u001b[34m\u001b[1mwandb\u001b[0m: \tbeta: 0.9\n",
      "\u001b[34m\u001b[1mwandb\u001b[0m: \tbeta1: 0.9\n",
      "\u001b[34m\u001b[1mwandb\u001b[0m: \tbeta2: 0.999\n",
      "\u001b[34m\u001b[1mwandb\u001b[0m: \tepochs: 10\n",
      "\u001b[34m\u001b[1mwandb\u001b[0m: \tepsilon: 1e-08\n",
      "\u001b[34m\u001b[1mwandb\u001b[0m: \thidden_size: 32\n",
      "\u001b[34m\u001b[1mwandb\u001b[0m: \tlearning_rate: 0.0022010664718288605\n",
      "\u001b[34m\u001b[1mwandb\u001b[0m: \tloss: mse\n",
      "\u001b[34m\u001b[1mwandb\u001b[0m: \tmomentum: 0.9\n",
      "\u001b[34m\u001b[1mwandb\u001b[0m: \tnum_layers: 5\n",
      "\u001b[34m\u001b[1mwandb\u001b[0m: \toptimizer: momentum\n",
      "\u001b[34m\u001b[1mwandb\u001b[0m: \tweight_decay: 0.0005\n",
      "\u001b[34m\u001b[1mwandb\u001b[0m: \tweight_init: random\n"
     ]
    },
    {
     "data": {
      "text/html": [
       "Tracking run with wandb version 0.19.8"
      ],
      "text/plain": [
       "<IPython.core.display.HTML object>"
      ]
     },
     "metadata": {},
     "output_type": "display_data"
    },
    {
     "data": {
      "text/html": [
       "Run data is saved locally in <code>/home/user/Documents/Courses/DA6401/wandb/run-20250311_151250-a5idjiwg</code>"
      ],
      "text/plain": [
       "<IPython.core.display.HTML object>"
      ]
     },
     "metadata": {},
     "output_type": "display_data"
    },
    {
     "data": {
      "text/html": [
       "Syncing run <strong><a href='https://wandb.ai/deeplearn24/DL_A1_mse_sweeps/runs/a5idjiwg' target=\"_blank\">playful-sweep-8</a></strong> to <a href='https://wandb.ai/deeplearn24/DL_A1_mse_sweeps' target=\"_blank\">Weights & Biases</a> (<a href='https://wandb.me/developer-guide' target=\"_blank\">docs</a>)<br>Sweep page: <a href='https://wandb.ai/deeplearn24/DL_A1_mse_sweeps/sweeps/9crckhqe' target=\"_blank\">https://wandb.ai/deeplearn24/DL_A1_mse_sweeps/sweeps/9crckhqe</a>"
      ],
      "text/plain": [
       "<IPython.core.display.HTML object>"
      ]
     },
     "metadata": {},
     "output_type": "display_data"
    },
    {
     "data": {
      "text/html": [
       " View project at <a href='https://wandb.ai/deeplearn24/DL_A1_mse_sweeps' target=\"_blank\">https://wandb.ai/deeplearn24/DL_A1_mse_sweeps</a>"
      ],
      "text/plain": [
       "<IPython.core.display.HTML object>"
      ]
     },
     "metadata": {},
     "output_type": "display_data"
    },
    {
     "data": {
      "text/html": [
       " View sweep at <a href='https://wandb.ai/deeplearn24/DL_A1_mse_sweeps/sweeps/9crckhqe' target=\"_blank\">https://wandb.ai/deeplearn24/DL_A1_mse_sweeps/sweeps/9crckhqe</a>"
      ],
      "text/plain": [
       "<IPython.core.display.HTML object>"
      ]
     },
     "metadata": {},
     "output_type": "display_data"
    },
    {
     "data": {
      "text/html": [
       " View run at <a href='https://wandb.ai/deeplearn24/DL_A1_mse_sweeps/runs/a5idjiwg' target=\"_blank\">https://wandb.ai/deeplearn24/DL_A1_mse_sweeps/runs/a5idjiwg</a>"
      ],
      "text/plain": [
       "<IPython.core.display.HTML object>"
      ]
     },
     "metadata": {},
     "output_type": "display_data"
    },
    {
     "name": "stdout",
     "output_type": "stream",
     "text": [
      "Epoch: 1, Train Loss: 13.913497787570348, Valid Loss: 9.609140471895417\n",
      "Epoch: 2, Train Loss: 9.546919576676478, Valid Loss: 9.52230988090477\n",
      "Epoch: 3, Train Loss: 9.449822174867325, Valid Loss: 9.38526024415609\n",
      "Epoch: 4, Train Loss: 9.443234915493425, Valid Loss: 9.34999387680024\n",
      "Epoch: 5, Train Loss: 9.411927290518713, Valid Loss: 9.32077678991111\n",
      "Epoch: 6, Train Loss: 9.514445768025347, Valid Loss: 9.33793052181737\n",
      "Epoch: 7, Train Loss: 9.79815174334692, Valid Loss: 11.01903025090496\n",
      "Epoch: 8, Train Loss: 9.588360773405032, Valid Loss: 9.30956580760004\n",
      "Epoch: 9, Train Loss: 9.696764257281222, Valid Loss: 9.259325292814571\n",
      "Epoch: 10, Train Loss: 9.43359355464278, Valid Loss: 9.234614244849977\n"
     ]
    },
    {
     "data": {
      "text/html": [],
      "text/plain": [
       "<IPython.core.display.HTML object>"
      ]
     },
     "metadata": {},
     "output_type": "display_data"
    },
    {
     "data": {
      "text/html": [
       "<br>    <style><br>        .wandb-row {<br>            display: flex;<br>            flex-direction: row;<br>            flex-wrap: wrap;<br>            justify-content: flex-start;<br>            width: 100%;<br>        }<br>        .wandb-col {<br>            display: flex;<br>            flex-direction: column;<br>            flex-basis: 100%;<br>            flex: 1;<br>            padding: 10px;<br>        }<br>    </style><br><div class=\"wandb-row\"><div class=\"wandb-col\"><h3>Run history:</h3><br/><table class=\"wandb\"><tr><td>epoch</td><td>▁▂▃▃▄▅▆▆▇█</td></tr><tr><td>train/accuracy</td><td>█▁▂▁▂▂▂▃▃▃</td></tr><tr><td>train/batch_loss</td><td>█▇▅▁▁▁▁▂▂▁▁▁▁▁▁▁▁▁▂▁▂▁▁▁▁▂▁▁▁▁▂▁▁▁▃▁▁▁▁▁</td></tr><tr><td>train/loss</td><td>█▁▁▁▁▁▂▁▁▁</td></tr><tr><td>val/accuracy</td><td>▁▄▆▄▅▇▆▅█▆</td></tr><tr><td>val/loss</td><td>▂▂▂▁▁▁█▁▁▁</td></tr></table><br/></div><div class=\"wandb-col\"><h3>Run summary:</h3><br/><table class=\"wandb\"><tr><td>epoch</td><td>10</td></tr><tr><td>train/accuracy</td><td>0.24134</td></tr><tr><td>train/batch_loss</td><td>9.69675</td></tr><tr><td>train/loss</td><td>9.43359</td></tr><tr><td>val/accuracy</td><td>0.24219</td></tr><tr><td>val/loss</td><td>9.23461</td></tr></table><br/></div></div>"
      ],
      "text/plain": [
       "<IPython.core.display.HTML object>"
      ]
     },
     "metadata": {},
     "output_type": "display_data"
    },
    {
     "data": {
      "text/html": [
       " View run <strong style=\"color:#cdcd00\">n5_h32_lr0.0022010664718288605_bs32_actReLU</strong> at: <a href='https://wandb.ai/deeplearn24/DL_A1_mse_sweeps/runs/a5idjiwg' target=\"_blank\">https://wandb.ai/deeplearn24/DL_A1_mse_sweeps/runs/a5idjiwg</a><br> View project at: <a href='https://wandb.ai/deeplearn24/DL_A1_mse_sweeps' target=\"_blank\">https://wandb.ai/deeplearn24/DL_A1_mse_sweeps</a><br>Synced 5 W&B file(s), 1 media file(s), 0 artifact file(s) and 0 other file(s)"
      ],
      "text/plain": [
       "<IPython.core.display.HTML object>"
      ]
     },
     "metadata": {},
     "output_type": "display_data"
    },
    {
     "data": {
      "text/html": [
       "Find logs at: <code>./wandb/run-20250311_151250-a5idjiwg/logs</code>"
      ],
      "text/plain": [
       "<IPython.core.display.HTML object>"
      ]
     },
     "metadata": {},
     "output_type": "display_data"
    },
    {
     "name": "stderr",
     "output_type": "stream",
     "text": [
      "\u001b[34m\u001b[1mwandb\u001b[0m: Agent Starting Run: 5680nyh9 with config:\n",
      "\u001b[34m\u001b[1mwandb\u001b[0m: \tactivation: tanh\n",
      "\u001b[34m\u001b[1mwandb\u001b[0m: \tbatch_size: 64\n",
      "\u001b[34m\u001b[1mwandb\u001b[0m: \tbeta: 0.9\n",
      "\u001b[34m\u001b[1mwandb\u001b[0m: \tbeta1: 0.9\n",
      "\u001b[34m\u001b[1mwandb\u001b[0m: \tbeta2: 0.999\n",
      "\u001b[34m\u001b[1mwandb\u001b[0m: \tepochs: 10\n",
      "\u001b[34m\u001b[1mwandb\u001b[0m: \tepsilon: 1e-08\n",
      "\u001b[34m\u001b[1mwandb\u001b[0m: \thidden_size: 128\n",
      "\u001b[34m\u001b[1mwandb\u001b[0m: \tlearning_rate: 0.00898774403290618\n",
      "\u001b[34m\u001b[1mwandb\u001b[0m: \tloss: mse\n",
      "\u001b[34m\u001b[1mwandb\u001b[0m: \tmomentum: 0.9\n",
      "\u001b[34m\u001b[1mwandb\u001b[0m: \tnum_layers: 4\n",
      "\u001b[34m\u001b[1mwandb\u001b[0m: \toptimizer: sgd\n",
      "\u001b[34m\u001b[1mwandb\u001b[0m: \tweight_decay: 0.5\n",
      "\u001b[34m\u001b[1mwandb\u001b[0m: \tweight_init: random\n"
     ]
    },
    {
     "data": {
      "text/html": [
       "Tracking run with wandb version 0.19.8"
      ],
      "text/plain": [
       "<IPython.core.display.HTML object>"
      ]
     },
     "metadata": {},
     "output_type": "display_data"
    },
    {
     "data": {
      "text/html": [
       "Run data is saved locally in <code>/home/user/Documents/Courses/DA6401/wandb/run-20250311_151322-5680nyh9</code>"
      ],
      "text/plain": [
       "<IPython.core.display.HTML object>"
      ]
     },
     "metadata": {},
     "output_type": "display_data"
    },
    {
     "data": {
      "text/html": [
       "Syncing run <strong><a href='https://wandb.ai/deeplearn24/DL_A1_mse_sweeps/runs/5680nyh9' target=\"_blank\">vocal-sweep-9</a></strong> to <a href='https://wandb.ai/deeplearn24/DL_A1_mse_sweeps' target=\"_blank\">Weights & Biases</a> (<a href='https://wandb.me/developer-guide' target=\"_blank\">docs</a>)<br>Sweep page: <a href='https://wandb.ai/deeplearn24/DL_A1_mse_sweeps/sweeps/9crckhqe' target=\"_blank\">https://wandb.ai/deeplearn24/DL_A1_mse_sweeps/sweeps/9crckhqe</a>"
      ],
      "text/plain": [
       "<IPython.core.display.HTML object>"
      ]
     },
     "metadata": {},
     "output_type": "display_data"
    },
    {
     "data": {
      "text/html": [
       " View project at <a href='https://wandb.ai/deeplearn24/DL_A1_mse_sweeps' target=\"_blank\">https://wandb.ai/deeplearn24/DL_A1_mse_sweeps</a>"
      ],
      "text/plain": [
       "<IPython.core.display.HTML object>"
      ]
     },
     "metadata": {},
     "output_type": "display_data"
    },
    {
     "data": {
      "text/html": [
       " View sweep at <a href='https://wandb.ai/deeplearn24/DL_A1_mse_sweeps/sweeps/9crckhqe' target=\"_blank\">https://wandb.ai/deeplearn24/DL_A1_mse_sweeps/sweeps/9crckhqe</a>"
      ],
      "text/plain": [
       "<IPython.core.display.HTML object>"
      ]
     },
     "metadata": {},
     "output_type": "display_data"
    },
    {
     "data": {
      "text/html": [
       " View run at <a href='https://wandb.ai/deeplearn24/DL_A1_mse_sweeps/runs/5680nyh9' target=\"_blank\">https://wandb.ai/deeplearn24/DL_A1_mse_sweeps/runs/5680nyh9</a>"
      ],
      "text/plain": [
       "<IPython.core.display.HTML object>"
      ]
     },
     "metadata": {},
     "output_type": "display_data"
    },
    {
     "name": "stdout",
     "output_type": "stream",
     "text": [
      "Epoch: 1, Train Loss: 43013.84773940166, Valid Loss: 53174.16811764164\n",
      "Epoch: 2, Train Loss: 63775.519488955346, Valid Loss: 81135.57177636246\n",
      "Epoch: 3, Train Loss: 90725.5131629823, Valid Loss: 93995.27049249531\n",
      "Epoch: 4, Train Loss: 117218.45163255207, Valid Loss: 157411.16956253455\n",
      "Epoch: 5, Train Loss: 226947.93290319017, Valid Loss: 275621.0386726028\n",
      "Epoch: 6, Train Loss: 344605.7372615195, Valid Loss: 416474.01583296846\n",
      "Epoch: 7, Train Loss: 484601.1177325409, Valid Loss: 636651.4039868931\n",
      "Epoch: 8, Train Loss: 923910.3911924036, Valid Loss: 1214660.7338028385\n",
      "Epoch: 9, Train Loss: 1386335.6040462703, Valid Loss: 1371157.303840976\n",
      "Epoch: 10, Train Loss: 1277441.7711385489, Valid Loss: 1369612.9240885186\n"
     ]
    },
    {
     "data": {
      "text/html": [],
      "text/plain": [
       "<IPython.core.display.HTML object>"
      ]
     },
     "metadata": {},
     "output_type": "display_data"
    },
    {
     "data": {
      "text/html": [
       "<br>    <style><br>        .wandb-row {<br>            display: flex;<br>            flex-direction: row;<br>            flex-wrap: wrap;<br>            justify-content: flex-start;<br>            width: 100%;<br>        }<br>        .wandb-col {<br>            display: flex;<br>            flex-direction: column;<br>            flex-basis: 100%;<br>            flex: 1;<br>            padding: 10px;<br>        }<br>    </style><br><div class=\"wandb-row\"><div class=\"wandb-col\"><h3>Run history:</h3><br/><table class=\"wandb\"><tr><td>epoch</td><td>▁▂▃▃▄▅▆▆▇█</td></tr><tr><td>train/accuracy</td><td>▁▅▇█▅▆▅▄▃▄</td></tr><tr><td>train/batch_loss</td><td>▁▁▁▁▁▁▁▁▁▁▁▁▂▂▂▂▂▂▂▃▃▃▃▃▃▃▃▃▄▄▇▇███▇▇▇▇█</td></tr><tr><td>train/loss</td><td>▁▁▁▁▂▃▃▆█▇</td></tr><tr><td>val/accuracy</td><td>▃▄█▅▄▂▃▁▁▁</td></tr><tr><td>val/loss</td><td>▁▁▁▂▂▃▄▇██</td></tr></table><br/></div><div class=\"wandb-col\"><h3>Run summary:</h3><br/><table class=\"wandb\"><tr><td>epoch</td><td>10</td></tr><tr><td>train/accuracy</td><td>0.34372</td></tr><tr><td>train/batch_loss</td><td>1368768.60506</td></tr><tr><td>train/loss</td><td>1277441.77114</td></tr><tr><td>val/accuracy</td><td>0.33477</td></tr><tr><td>val/loss</td><td>1369612.92409</td></tr></table><br/></div></div>"
      ],
      "text/plain": [
       "<IPython.core.display.HTML object>"
      ]
     },
     "metadata": {},
     "output_type": "display_data"
    },
    {
     "data": {
      "text/html": [
       " View run <strong style=\"color:#cdcd00\">n4_h128_lr0.00898774403290618_bs64_acttanh</strong> at: <a href='https://wandb.ai/deeplearn24/DL_A1_mse_sweeps/runs/5680nyh9' target=\"_blank\">https://wandb.ai/deeplearn24/DL_A1_mse_sweeps/runs/5680nyh9</a><br> View project at: <a href='https://wandb.ai/deeplearn24/DL_A1_mse_sweeps' target=\"_blank\">https://wandb.ai/deeplearn24/DL_A1_mse_sweeps</a><br>Synced 5 W&B file(s), 1 media file(s), 0 artifact file(s) and 0 other file(s)"
      ],
      "text/plain": [
       "<IPython.core.display.HTML object>"
      ]
     },
     "metadata": {},
     "output_type": "display_data"
    },
    {
     "data": {
      "text/html": [
       "Find logs at: <code>./wandb/run-20250311_151322-5680nyh9/logs</code>"
      ],
      "text/plain": [
       "<IPython.core.display.HTML object>"
      ]
     },
     "metadata": {},
     "output_type": "display_data"
    },
    {
     "name": "stderr",
     "output_type": "stream",
     "text": [
      "\u001b[34m\u001b[1mwandb\u001b[0m: Agent Starting Run: p5wm90gx with config:\n",
      "\u001b[34m\u001b[1mwandb\u001b[0m: \tactivation: sigmoid\n",
      "\u001b[34m\u001b[1mwandb\u001b[0m: \tbatch_size: 64\n",
      "\u001b[34m\u001b[1mwandb\u001b[0m: \tbeta: 0.9\n",
      "\u001b[34m\u001b[1mwandb\u001b[0m: \tbeta1: 0.9\n",
      "\u001b[34m\u001b[1mwandb\u001b[0m: \tbeta2: 0.999\n",
      "\u001b[34m\u001b[1mwandb\u001b[0m: \tepochs: 5\n",
      "\u001b[34m\u001b[1mwandb\u001b[0m: \tepsilon: 1e-08\n",
      "\u001b[34m\u001b[1mwandb\u001b[0m: \thidden_size: 32\n",
      "\u001b[34m\u001b[1mwandb\u001b[0m: \tlearning_rate: 0.00793978098368686\n",
      "\u001b[34m\u001b[1mwandb\u001b[0m: \tloss: mse\n",
      "\u001b[34m\u001b[1mwandb\u001b[0m: \tmomentum: 0.9\n",
      "\u001b[34m\u001b[1mwandb\u001b[0m: \tnum_layers: 5\n",
      "\u001b[34m\u001b[1mwandb\u001b[0m: \toptimizer: nadam\n",
      "\u001b[34m\u001b[1mwandb\u001b[0m: \tweight_decay: 0.0005\n",
      "\u001b[34m\u001b[1mwandb\u001b[0m: \tweight_init: xavier\n"
     ]
    },
    {
     "data": {
      "text/html": [
       "Tracking run with wandb version 0.19.8"
      ],
      "text/plain": [
       "<IPython.core.display.HTML object>"
      ]
     },
     "metadata": {},
     "output_type": "display_data"
    },
    {
     "data": {
      "text/html": [
       "Run data is saved locally in <code>/home/user/Documents/Courses/DA6401/wandb/run-20250311_151621-p5wm90gx</code>"
      ],
      "text/plain": [
       "<IPython.core.display.HTML object>"
      ]
     },
     "metadata": {},
     "output_type": "display_data"
    },
    {
     "data": {
      "text/html": [
       "Syncing run <strong><a href='https://wandb.ai/deeplearn24/DL_A1_mse_sweeps/runs/p5wm90gx' target=\"_blank\">decent-sweep-10</a></strong> to <a href='https://wandb.ai/deeplearn24/DL_A1_mse_sweeps' target=\"_blank\">Weights & Biases</a> (<a href='https://wandb.me/developer-guide' target=\"_blank\">docs</a>)<br>Sweep page: <a href='https://wandb.ai/deeplearn24/DL_A1_mse_sweeps/sweeps/9crckhqe' target=\"_blank\">https://wandb.ai/deeplearn24/DL_A1_mse_sweeps/sweeps/9crckhqe</a>"
      ],
      "text/plain": [
       "<IPython.core.display.HTML object>"
      ]
     },
     "metadata": {},
     "output_type": "display_data"
    },
    {
     "data": {
      "text/html": [
       " View project at <a href='https://wandb.ai/deeplearn24/DL_A1_mse_sweeps' target=\"_blank\">https://wandb.ai/deeplearn24/DL_A1_mse_sweeps</a>"
      ],
      "text/plain": [
       "<IPython.core.display.HTML object>"
      ]
     },
     "metadata": {},
     "output_type": "display_data"
    },
    {
     "data": {
      "text/html": [
       " View sweep at <a href='https://wandb.ai/deeplearn24/DL_A1_mse_sweeps/sweeps/9crckhqe' target=\"_blank\">https://wandb.ai/deeplearn24/DL_A1_mse_sweeps/sweeps/9crckhqe</a>"
      ],
      "text/plain": [
       "<IPython.core.display.HTML object>"
      ]
     },
     "metadata": {},
     "output_type": "display_data"
    },
    {
     "data": {
      "text/html": [
       " View run at <a href='https://wandb.ai/deeplearn24/DL_A1_mse_sweeps/runs/p5wm90gx' target=\"_blank\">https://wandb.ai/deeplearn24/DL_A1_mse_sweeps/runs/p5wm90gx</a>"
      ],
      "text/plain": [
       "<IPython.core.display.HTML object>"
      ]
     },
     "metadata": {},
     "output_type": "display_data"
    },
    {
     "name": "stdout",
     "output_type": "stream",
     "text": [
      "Epoch: 1, Train Loss: 19.792446362739, Valid Loss: 69.23325556061427\n",
      "Epoch: 2, Train Loss: 179.70930196998506, Valid Loss: 271.34283374023937\n",
      "Epoch: 3, Train Loss: 308.12415333139916, Valid Loss: 368.739502744685\n",
      "Epoch: 4, Train Loss: 433.0805497552274, Valid Loss: 513.0016447881054\n",
      "Epoch: 5, Train Loss: 606.0446513417944, Valid Loss: 770.4565420811842\n"
     ]
    },
    {
     "data": {
      "text/html": [],
      "text/plain": [
       "<IPython.core.display.HTML object>"
      ]
     },
     "metadata": {},
     "output_type": "display_data"
    },
    {
     "data": {
      "text/html": [
       "<br>    <style><br>        .wandb-row {<br>            display: flex;<br>            flex-direction: row;<br>            flex-wrap: wrap;<br>            justify-content: flex-start;<br>            width: 100%;<br>        }<br>        .wandb-col {<br>            display: flex;<br>            flex-direction: column;<br>            flex-basis: 100%;<br>            flex: 1;<br>            padding: 10px;<br>        }<br>    </style><br><div class=\"wandb-row\"><div class=\"wandb-col\"><h3>Run history:</h3><br/><table class=\"wandb\"><tr><td>epoch</td><td>▁▃▅▆█</td></tr><tr><td>train/accuracy</td><td>▇▅▁▅█</td></tr><tr><td>train/batch_loss</td><td>▁▁▁▁▁▁▁▁▁▂▂▂▂▂▂▂▃▃▃▃▃▃▄▅▅▅▅▅▅▅▅▅▆▆▆▆▆▆▇█</td></tr><tr><td>train/loss</td><td>▁▃▄▆█</td></tr><tr><td>val/accuracy</td><td>█▁▅▅▅</td></tr><tr><td>val/loss</td><td>▁▃▄▅█</td></tr></table><br/></div><div class=\"wandb-col\"><h3>Run summary:</h3><br/><table class=\"wandb\"><tr><td>epoch</td><td>5</td></tr><tr><td>train/accuracy</td><td>0.10228</td></tr><tr><td>train/batch_loss</td><td>770.56808</td></tr><tr><td>train/loss</td><td>606.04465</td></tr><tr><td>val/accuracy</td><td>0.09879</td></tr><tr><td>val/loss</td><td>770.45654</td></tr></table><br/></div></div>"
      ],
      "text/plain": [
       "<IPython.core.display.HTML object>"
      ]
     },
     "metadata": {},
     "output_type": "display_data"
    },
    {
     "data": {
      "text/html": [
       " View run <strong style=\"color:#cdcd00\">n5_h32_lr0.00793978098368686_bs64_actsigmoid</strong> at: <a href='https://wandb.ai/deeplearn24/DL_A1_mse_sweeps/runs/p5wm90gx' target=\"_blank\">https://wandb.ai/deeplearn24/DL_A1_mse_sweeps/runs/p5wm90gx</a><br> View project at: <a href='https://wandb.ai/deeplearn24/DL_A1_mse_sweeps' target=\"_blank\">https://wandb.ai/deeplearn24/DL_A1_mse_sweeps</a><br>Synced 5 W&B file(s), 1 media file(s), 0 artifact file(s) and 0 other file(s)"
      ],
      "text/plain": [
       "<IPython.core.display.HTML object>"
      ]
     },
     "metadata": {},
     "output_type": "display_data"
    },
    {
     "data": {
      "text/html": [
       "Find logs at: <code>./wandb/run-20250311_151621-p5wm90gx/logs</code>"
      ],
      "text/plain": [
       "<IPython.core.display.HTML object>"
      ]
     },
     "metadata": {},
     "output_type": "display_data"
    },
    {
     "name": "stderr",
     "output_type": "stream",
     "text": [
      "\u001b[34m\u001b[1mwandb\u001b[0m: Agent Starting Run: nd0v31wl with config:\n",
      "\u001b[34m\u001b[1mwandb\u001b[0m: \tactivation: tanh\n",
      "\u001b[34m\u001b[1mwandb\u001b[0m: \tbatch_size: 64\n",
      "\u001b[34m\u001b[1mwandb\u001b[0m: \tbeta: 0.9\n",
      "\u001b[34m\u001b[1mwandb\u001b[0m: \tbeta1: 0.9\n",
      "\u001b[34m\u001b[1mwandb\u001b[0m: \tbeta2: 0.999\n",
      "\u001b[34m\u001b[1mwandb\u001b[0m: \tepochs: 10\n",
      "\u001b[34m\u001b[1mwandb\u001b[0m: \tepsilon: 1e-08\n",
      "\u001b[34m\u001b[1mwandb\u001b[0m: \thidden_size: 64\n",
      "\u001b[34m\u001b[1mwandb\u001b[0m: \tlearning_rate: 0.008359715114031043\n",
      "\u001b[34m\u001b[1mwandb\u001b[0m: \tloss: mse\n",
      "\u001b[34m\u001b[1mwandb\u001b[0m: \tmomentum: 0.9\n",
      "\u001b[34m\u001b[1mwandb\u001b[0m: \tnum_layers: 3\n",
      "\u001b[34m\u001b[1mwandb\u001b[0m: \toptimizer: sgd\n",
      "\u001b[34m\u001b[1mwandb\u001b[0m: \tweight_decay: 0.5\n",
      "\u001b[34m\u001b[1mwandb\u001b[0m: \tweight_init: xavier\n"
     ]
    },
    {
     "data": {
      "text/html": [
       "Tracking run with wandb version 0.19.8"
      ],
      "text/plain": [
       "<IPython.core.display.HTML object>"
      ]
     },
     "metadata": {},
     "output_type": "display_data"
    },
    {
     "data": {
      "text/html": [
       "Run data is saved locally in <code>/home/user/Documents/Courses/DA6401/wandb/run-20250311_151643-nd0v31wl</code>"
      ],
      "text/plain": [
       "<IPython.core.display.HTML object>"
      ]
     },
     "metadata": {},
     "output_type": "display_data"
    },
    {
     "data": {
      "text/html": [
       "Syncing run <strong><a href='https://wandb.ai/deeplearn24/DL_A1_mse_sweeps/runs/nd0v31wl' target=\"_blank\">crisp-sweep-11</a></strong> to <a href='https://wandb.ai/deeplearn24/DL_A1_mse_sweeps' target=\"_blank\">Weights & Biases</a> (<a href='https://wandb.me/developer-guide' target=\"_blank\">docs</a>)<br>Sweep page: <a href='https://wandb.ai/deeplearn24/DL_A1_mse_sweeps/sweeps/9crckhqe' target=\"_blank\">https://wandb.ai/deeplearn24/DL_A1_mse_sweeps/sweeps/9crckhqe</a>"
      ],
      "text/plain": [
       "<IPython.core.display.HTML object>"
      ]
     },
     "metadata": {},
     "output_type": "display_data"
    },
    {
     "data": {
      "text/html": [
       " View project at <a href='https://wandb.ai/deeplearn24/DL_A1_mse_sweeps' target=\"_blank\">https://wandb.ai/deeplearn24/DL_A1_mse_sweeps</a>"
      ],
      "text/plain": [
       "<IPython.core.display.HTML object>"
      ]
     },
     "metadata": {},
     "output_type": "display_data"
    },
    {
     "data": {
      "text/html": [
       " View sweep at <a href='https://wandb.ai/deeplearn24/DL_A1_mse_sweeps/sweeps/9crckhqe' target=\"_blank\">https://wandb.ai/deeplearn24/DL_A1_mse_sweeps/sweeps/9crckhqe</a>"
      ],
      "text/plain": [
       "<IPython.core.display.HTML object>"
      ]
     },
     "metadata": {},
     "output_type": "display_data"
    },
    {
     "data": {
      "text/html": [
       " View run at <a href='https://wandb.ai/deeplearn24/DL_A1_mse_sweeps/runs/nd0v31wl' target=\"_blank\">https://wandb.ai/deeplearn24/DL_A1_mse_sweeps/runs/nd0v31wl</a>"
      ],
      "text/plain": [
       "<IPython.core.display.HTML object>"
      ]
     },
     "metadata": {},
     "output_type": "display_data"
    },
    {
     "name": "stdout",
     "output_type": "stream",
     "text": [
      "Epoch: 1, Train Loss: 17187.436486689694, Valid Loss: 27973.771138702246\n",
      "Epoch: 2, Train Loss: 37009.46570148068, Valid Loss: 74268.02847351071\n",
      "Epoch: 3, Train Loss: 91128.52767315294, Valid Loss: 113030.84383629535\n",
      "Epoch: 4, Train Loss: 224674.21730768733, Valid Loss: 328562.18785061745\n",
      "Epoch: 5, Train Loss: 211921.04148440127, Valid Loss: 146159.18770037233\n",
      "Epoch: 6, Train Loss: 154878.3516538347, Valid Loss: 238696.74496421788\n",
      "Epoch: 7, Train Loss: 220952.63671948452, Valid Loss: 140915.0175804898\n",
      "Epoch: 8, Train Loss: 169362.26376730629, Valid Loss: 225147.21447427289\n",
      "Epoch: 9, Train Loss: 257108.46198189905, Valid Loss: 207892.22189888902\n",
      "Epoch: 10, Train Loss: 262410.4557130318, Valid Loss: 319597.1315643241\n"
     ]
    },
    {
     "data": {
      "text/html": [],
      "text/plain": [
       "<IPython.core.display.HTML object>"
      ]
     },
     "metadata": {},
     "output_type": "display_data"
    },
    {
     "data": {
      "text/html": [
       "<br>    <style><br>        .wandb-row {<br>            display: flex;<br>            flex-direction: row;<br>            flex-wrap: wrap;<br>            justify-content: flex-start;<br>            width: 100%;<br>        }<br>        .wandb-col {<br>            display: flex;<br>            flex-direction: column;<br>            flex-basis: 100%;<br>            flex: 1;<br>            padding: 10px;<br>        }<br>    </style><br><div class=\"wandb-row\"><div class=\"wandb-col\"><h3>Run history:</h3><br/><table class=\"wandb\"><tr><td>epoch</td><td>▁▂▃▃▄▅▆▆▇█</td></tr><tr><td>train/accuracy</td><td>▄█▆▄▃▂▂▇▃▁</td></tr><tr><td>train/batch_loss</td><td>▁▁▁▂▂▂▂▂▂▂▃▄▆█▇▅▅▄▄▄▅▇▅▄▄▄▄▅▅▅▇▇▆▆▅▇▇▇██</td></tr><tr><td>train/loss</td><td>▁▂▃▇▇▅▇▅██</td></tr><tr><td>val/accuracy</td><td>▄▆█▁▆▂▆▅▄▁</td></tr><tr><td>val/loss</td><td>▁▂▃█▄▆▄▆▅█</td></tr></table><br/></div><div class=\"wandb-col\"><h3>Run summary:</h3><br/><table class=\"wandb\"><tr><td>epoch</td><td>10</td></tr><tr><td>train/accuracy</td><td>0.19756</td></tr><tr><td>train/batch_loss</td><td>319484.0049</td></tr><tr><td>train/loss</td><td>262410.45571</td></tr><tr><td>val/accuracy</td><td>0.16861</td></tr><tr><td>val/loss</td><td>319597.13156</td></tr></table><br/></div></div>"
      ],
      "text/plain": [
       "<IPython.core.display.HTML object>"
      ]
     },
     "metadata": {},
     "output_type": "display_data"
    },
    {
     "data": {
      "text/html": [
       " View run <strong style=\"color:#cdcd00\">n3_h64_lr0.008359715114031043_bs64_acttanh</strong> at: <a href='https://wandb.ai/deeplearn24/DL_A1_mse_sweeps/runs/nd0v31wl' target=\"_blank\">https://wandb.ai/deeplearn24/DL_A1_mse_sweeps/runs/nd0v31wl</a><br> View project at: <a href='https://wandb.ai/deeplearn24/DL_A1_mse_sweeps' target=\"_blank\">https://wandb.ai/deeplearn24/DL_A1_mse_sweeps</a><br>Synced 5 W&B file(s), 1 media file(s), 0 artifact file(s) and 0 other file(s)"
      ],
      "text/plain": [
       "<IPython.core.display.HTML object>"
      ]
     },
     "metadata": {},
     "output_type": "display_data"
    },
    {
     "data": {
      "text/html": [
       "Find logs at: <code>./wandb/run-20250311_151643-nd0v31wl/logs</code>"
      ],
      "text/plain": [
       "<IPython.core.display.HTML object>"
      ]
     },
     "metadata": {},
     "output_type": "display_data"
    },
    {
     "name": "stderr",
     "output_type": "stream",
     "text": [
      "\u001b[34m\u001b[1mwandb\u001b[0m: Agent Starting Run: v9a7y1vf with config:\n",
      "\u001b[34m\u001b[1mwandb\u001b[0m: \tactivation: ReLU\n",
      "\u001b[34m\u001b[1mwandb\u001b[0m: \tbatch_size: 64\n",
      "\u001b[34m\u001b[1mwandb\u001b[0m: \tbeta: 0.9\n",
      "\u001b[34m\u001b[1mwandb\u001b[0m: \tbeta1: 0.9\n",
      "\u001b[34m\u001b[1mwandb\u001b[0m: \tbeta2: 0.999\n",
      "\u001b[34m\u001b[1mwandb\u001b[0m: \tepochs: 5\n",
      "\u001b[34m\u001b[1mwandb\u001b[0m: \tepsilon: 1e-08\n",
      "\u001b[34m\u001b[1mwandb\u001b[0m: \thidden_size: 32\n",
      "\u001b[34m\u001b[1mwandb\u001b[0m: \tlearning_rate: 0.0013282752161001513\n",
      "\u001b[34m\u001b[1mwandb\u001b[0m: \tloss: mse\n",
      "\u001b[34m\u001b[1mwandb\u001b[0m: \tmomentum: 0.9\n",
      "\u001b[34m\u001b[1mwandb\u001b[0m: \tnum_layers: 4\n",
      "\u001b[34m\u001b[1mwandb\u001b[0m: \toptimizer: rmsprop\n",
      "\u001b[34m\u001b[1mwandb\u001b[0m: \tweight_decay: 0.0005\n",
      "\u001b[34m\u001b[1mwandb\u001b[0m: \tweight_init: xavier\n"
     ]
    },
    {
     "data": {
      "text/html": [
       "Tracking run with wandb version 0.19.8"
      ],
      "text/plain": [
       "<IPython.core.display.HTML object>"
      ]
     },
     "metadata": {},
     "output_type": "display_data"
    },
    {
     "data": {
      "text/html": [
       "Run data is saved locally in <code>/home/user/Documents/Courses/DA6401/wandb/run-20250311_151735-v9a7y1vf</code>"
      ],
      "text/plain": [
       "<IPython.core.display.HTML object>"
      ]
     },
     "metadata": {},
     "output_type": "display_data"
    },
    {
     "data": {
      "text/html": [
       "Syncing run <strong><a href='https://wandb.ai/deeplearn24/DL_A1_mse_sweeps/runs/v9a7y1vf' target=\"_blank\">tough-sweep-12</a></strong> to <a href='https://wandb.ai/deeplearn24/DL_A1_mse_sweeps' target=\"_blank\">Weights & Biases</a> (<a href='https://wandb.me/developer-guide' target=\"_blank\">docs</a>)<br>Sweep page: <a href='https://wandb.ai/deeplearn24/DL_A1_mse_sweeps/sweeps/9crckhqe' target=\"_blank\">https://wandb.ai/deeplearn24/DL_A1_mse_sweeps/sweeps/9crckhqe</a>"
      ],
      "text/plain": [
       "<IPython.core.display.HTML object>"
      ]
     },
     "metadata": {},
     "output_type": "display_data"
    },
    {
     "data": {
      "text/html": [
       " View project at <a href='https://wandb.ai/deeplearn24/DL_A1_mse_sweeps' target=\"_blank\">https://wandb.ai/deeplearn24/DL_A1_mse_sweeps</a>"
      ],
      "text/plain": [
       "<IPython.core.display.HTML object>"
      ]
     },
     "metadata": {},
     "output_type": "display_data"
    },
    {
     "data": {
      "text/html": [
       " View sweep at <a href='https://wandb.ai/deeplearn24/DL_A1_mse_sweeps/sweeps/9crckhqe' target=\"_blank\">https://wandb.ai/deeplearn24/DL_A1_mse_sweeps/sweeps/9crckhqe</a>"
      ],
      "text/plain": [
       "<IPython.core.display.HTML object>"
      ]
     },
     "metadata": {},
     "output_type": "display_data"
    },
    {
     "data": {
      "text/html": [
       " View run at <a href='https://wandb.ai/deeplearn24/DL_A1_mse_sweeps/runs/v9a7y1vf' target=\"_blank\">https://wandb.ai/deeplearn24/DL_A1_mse_sweeps/runs/v9a7y1vf</a>"
      ],
      "text/plain": [
       "<IPython.core.display.HTML object>"
      ]
     },
     "metadata": {},
     "output_type": "display_data"
    },
    {
     "name": "stdout",
     "output_type": "stream",
     "text": [
      "Epoch: 1, Train Loss: 0.9736296971714961, Valid Loss: 1.3291007397455343\n",
      "Epoch: 2, Train Loss: 1.2401011408572369, Valid Loss: 1.648040038339852\n",
      "Epoch: 3, Train Loss: 1.3310752525944467, Valid Loss: 1.3908237741048595\n",
      "Epoch: 4, Train Loss: 1.3324886943423422, Valid Loss: 1.8559774963989422\n",
      "Epoch: 5, Train Loss: 1.3403361131244567, Valid Loss: 1.350749775564842\n"
     ]
    },
    {
     "data": {
      "text/html": [],
      "text/plain": [
       "<IPython.core.display.HTML object>"
      ]
     },
     "metadata": {},
     "output_type": "display_data"
    },
    {
     "data": {
      "text/html": [
       "<br>    <style><br>        .wandb-row {<br>            display: flex;<br>            flex-direction: row;<br>            flex-wrap: wrap;<br>            justify-content: flex-start;<br>            width: 100%;<br>        }<br>        .wandb-col {<br>            display: flex;<br>            flex-direction: column;<br>            flex-basis: 100%;<br>            flex: 1;<br>            padding: 10px;<br>        }<br>    </style><br><div class=\"wandb-row\"><div class=\"wandb-col\"><h3>Run history:</h3><br/><table class=\"wandb\"><tr><td>epoch</td><td>▁▃▅▆█</td></tr><tr><td>train/accuracy</td><td>▁▄▆▇█</td></tr><tr><td>train/batch_loss</td><td>▅▂▁▃▂▂▅▄▄▄▄▃▆▆▃▂▆▅▃▅▃▄▅▂▅▅▂▂▃▅▄▅▃▇▃█▆▃▇▅</td></tr><tr><td>train/loss</td><td>▁▆███</td></tr><tr><td>val/accuracy</td><td>▅▁▂▃█</td></tr><tr><td>val/loss</td><td>▁▅▂█▁</td></tr></table><br/></div><div class=\"wandb-col\"><h3>Run summary:</h3><br/><table class=\"wandb\"><tr><td>epoch</td><td>5</td></tr><tr><td>train/accuracy</td><td>0.76862</td></tr><tr><td>train/batch_loss</td><td>0.39894</td></tr><tr><td>train/loss</td><td>1.34034</td></tr><tr><td>val/accuracy</td><td>0.7756</td></tr><tr><td>val/loss</td><td>1.35075</td></tr></table><br/></div></div>"
      ],
      "text/plain": [
       "<IPython.core.display.HTML object>"
      ]
     },
     "metadata": {},
     "output_type": "display_data"
    },
    {
     "data": {
      "text/html": [
       " View run <strong style=\"color:#cdcd00\">n4_h32_lr0.0013282752161001513_bs64_actReLU</strong> at: <a href='https://wandb.ai/deeplearn24/DL_A1_mse_sweeps/runs/v9a7y1vf' target=\"_blank\">https://wandb.ai/deeplearn24/DL_A1_mse_sweeps/runs/v9a7y1vf</a><br> View project at: <a href='https://wandb.ai/deeplearn24/DL_A1_mse_sweeps' target=\"_blank\">https://wandb.ai/deeplearn24/DL_A1_mse_sweeps</a><br>Synced 5 W&B file(s), 1 media file(s), 0 artifact file(s) and 0 other file(s)"
      ],
      "text/plain": [
       "<IPython.core.display.HTML object>"
      ]
     },
     "metadata": {},
     "output_type": "display_data"
    },
    {
     "data": {
      "text/html": [
       "Find logs at: <code>./wandb/run-20250311_151735-v9a7y1vf/logs</code>"
      ],
      "text/plain": [
       "<IPython.core.display.HTML object>"
      ]
     },
     "metadata": {},
     "output_type": "display_data"
    },
    {
     "name": "stderr",
     "output_type": "stream",
     "text": [
      "\u001b[34m\u001b[1mwandb\u001b[0m: Agent Starting Run: 3m3vid0s with config:\n",
      "\u001b[34m\u001b[1mwandb\u001b[0m: \tactivation: ReLU\n",
      "\u001b[34m\u001b[1mwandb\u001b[0m: \tbatch_size: 64\n",
      "\u001b[34m\u001b[1mwandb\u001b[0m: \tbeta: 0.9\n",
      "\u001b[34m\u001b[1mwandb\u001b[0m: \tbeta1: 0.9\n",
      "\u001b[34m\u001b[1mwandb\u001b[0m: \tbeta2: 0.999\n",
      "\u001b[34m\u001b[1mwandb\u001b[0m: \tepochs: 10\n",
      "\u001b[34m\u001b[1mwandb\u001b[0m: \tepsilon: 1e-08\n",
      "\u001b[34m\u001b[1mwandb\u001b[0m: \thidden_size: 64\n",
      "\u001b[34m\u001b[1mwandb\u001b[0m: \tlearning_rate: 0.008095328464194878\n",
      "\u001b[34m\u001b[1mwandb\u001b[0m: \tloss: mse\n",
      "\u001b[34m\u001b[1mwandb\u001b[0m: \tmomentum: 0.9\n",
      "\u001b[34m\u001b[1mwandb\u001b[0m: \tnum_layers: 5\n",
      "\u001b[34m\u001b[1mwandb\u001b[0m: \toptimizer: momentum\n",
      "\u001b[34m\u001b[1mwandb\u001b[0m: \tweight_decay: 0.0005\n",
      "\u001b[34m\u001b[1mwandb\u001b[0m: \tweight_init: xavier\n"
     ]
    },
    {
     "data": {
      "text/html": [
       "Tracking run with wandb version 0.19.8"
      ],
      "text/plain": [
       "<IPython.core.display.HTML object>"
      ]
     },
     "metadata": {},
     "output_type": "display_data"
    },
    {
     "data": {
      "text/html": [
       "Run data is saved locally in <code>/home/user/Documents/Courses/DA6401/wandb/run-20250311_151752-3m3vid0s</code>"
      ],
      "text/plain": [
       "<IPython.core.display.HTML object>"
      ]
     },
     "metadata": {},
     "output_type": "display_data"
    },
    {
     "data": {
      "text/html": [
       "Syncing run <strong><a href='https://wandb.ai/deeplearn24/DL_A1_mse_sweeps/runs/3m3vid0s' target=\"_blank\">smooth-sweep-13</a></strong> to <a href='https://wandb.ai/deeplearn24/DL_A1_mse_sweeps' target=\"_blank\">Weights & Biases</a> (<a href='https://wandb.me/developer-guide' target=\"_blank\">docs</a>)<br>Sweep page: <a href='https://wandb.ai/deeplearn24/DL_A1_mse_sweeps/sweeps/9crckhqe' target=\"_blank\">https://wandb.ai/deeplearn24/DL_A1_mse_sweeps/sweeps/9crckhqe</a>"
      ],
      "text/plain": [
       "<IPython.core.display.HTML object>"
      ]
     },
     "metadata": {},
     "output_type": "display_data"
    },
    {
     "data": {
      "text/html": [
       " View project at <a href='https://wandb.ai/deeplearn24/DL_A1_mse_sweeps' target=\"_blank\">https://wandb.ai/deeplearn24/DL_A1_mse_sweeps</a>"
      ],
      "text/plain": [
       "<IPython.core.display.HTML object>"
      ]
     },
     "metadata": {},
     "output_type": "display_data"
    },
    {
     "data": {
      "text/html": [
       " View sweep at <a href='https://wandb.ai/deeplearn24/DL_A1_mse_sweeps/sweeps/9crckhqe' target=\"_blank\">https://wandb.ai/deeplearn24/DL_A1_mse_sweeps/sweeps/9crckhqe</a>"
      ],
      "text/plain": [
       "<IPython.core.display.HTML object>"
      ]
     },
     "metadata": {},
     "output_type": "display_data"
    },
    {
     "data": {
      "text/html": [
       " View run at <a href='https://wandb.ai/deeplearn24/DL_A1_mse_sweeps/runs/3m3vid0s' target=\"_blank\">https://wandb.ai/deeplearn24/DL_A1_mse_sweeps/runs/3m3vid0s</a>"
      ],
      "text/plain": [
       "<IPython.core.display.HTML object>"
      ]
     },
     "metadata": {},
     "output_type": "display_data"
    },
    {
     "name": "stdout",
     "output_type": "stream",
     "text": [
      "Epoch: 1, Train Loss: 0.9027687122640443, Valid Loss: 0.7547852113319511\n",
      "Epoch: 2, Train Loss: 1.165782605203626, Valid Loss: 0.9750891638434332\n",
      "Epoch: 3, Train Loss: 2.2763152660924364, Valid Loss: 7.270240827027357\n",
      "Epoch: 4, Train Loss: 2.45968497114705, Valid Loss: 1.2309820641019846\n",
      "Epoch: 5, Train Loss: 1.1376261717592873, Valid Loss: 1.2041587945737213\n",
      "Epoch: 6, Train Loss: 1.1360090160158864, Valid Loss: 1.232909551805071\n",
      "Epoch: 7, Train Loss: 1.1652028583002254, Valid Loss: 1.1814876043793252\n",
      "Epoch: 8, Train Loss: 1.22063804496879, Valid Loss: 1.2263324416679708\n",
      "Epoch: 9, Train Loss: 1.3148930334257496, Valid Loss: 1.474396334308699\n",
      "Epoch: 10, Train Loss: 1.3744257394712904, Valid Loss: 1.6324485731530949\n"
     ]
    },
    {
     "data": {
      "text/html": [],
      "text/plain": [
       "<IPython.core.display.HTML object>"
      ]
     },
     "metadata": {},
     "output_type": "display_data"
    },
    {
     "data": {
      "text/html": [
       "<br>    <style><br>        .wandb-row {<br>            display: flex;<br>            flex-direction: row;<br>            flex-wrap: wrap;<br>            justify-content: flex-start;<br>            width: 100%;<br>        }<br>        .wandb-col {<br>            display: flex;<br>            flex-direction: column;<br>            flex-basis: 100%;<br>            flex: 1;<br>            padding: 10px;<br>        }<br>    </style><br><div class=\"wandb-row\"><div class=\"wandb-col\"><h3>Run history:</h3><br/><table class=\"wandb\"><tr><td>epoch</td><td>▁▂▃▃▄▅▆▆▇█</td></tr><tr><td>train/accuracy</td><td>▃▅▁▂████▇▇</td></tr><tr><td>train/batch_loss</td><td>▂▁▁▂▁▃▃▂▄▅▃▆█▃▄▃▂▁▂▂▂▂▂▂▂▂▂▂▂▂▂▂▂▃▃▄▃▂▂▃</td></tr><tr><td>train/loss</td><td>▁▂▇█▂▂▂▂▃▃</td></tr><tr><td>val/accuracy</td><td>█▇▁▇▇███▆▇</td></tr><tr><td>val/loss</td><td>▁▁█▂▁▂▁▂▂▂</td></tr></table><br/></div><div class=\"wandb-col\"><h3>Run summary:</h3><br/><table class=\"wandb\"><tr><td>epoch</td><td>10</td></tr><tr><td>train/accuracy</td><td>0.79904</td></tr><tr><td>train/batch_loss</td><td>1.31804</td></tr><tr><td>train/loss</td><td>1.37443</td></tr><tr><td>val/accuracy</td><td>0.77554</td></tr><tr><td>val/loss</td><td>1.63245</td></tr></table><br/></div></div>"
      ],
      "text/plain": [
       "<IPython.core.display.HTML object>"
      ]
     },
     "metadata": {},
     "output_type": "display_data"
    },
    {
     "data": {
      "text/html": [
       " View run <strong style=\"color:#cdcd00\">n5_h64_lr0.008095328464194878_bs64_actReLU</strong> at: <a href='https://wandb.ai/deeplearn24/DL_A1_mse_sweeps/runs/3m3vid0s' target=\"_blank\">https://wandb.ai/deeplearn24/DL_A1_mse_sweeps/runs/3m3vid0s</a><br> View project at: <a href='https://wandb.ai/deeplearn24/DL_A1_mse_sweeps' target=\"_blank\">https://wandb.ai/deeplearn24/DL_A1_mse_sweeps</a><br>Synced 5 W&B file(s), 1 media file(s), 0 artifact file(s) and 0 other file(s)"
      ],
      "text/plain": [
       "<IPython.core.display.HTML object>"
      ]
     },
     "metadata": {},
     "output_type": "display_data"
    },
    {
     "data": {
      "text/html": [
       "Find logs at: <code>./wandb/run-20250311_151752-3m3vid0s/logs</code>"
      ],
      "text/plain": [
       "<IPython.core.display.HTML object>"
      ]
     },
     "metadata": {},
     "output_type": "display_data"
    },
    {
     "name": "stderr",
     "output_type": "stream",
     "text": [
      "\u001b[34m\u001b[1mwandb\u001b[0m: Agent Starting Run: skz4iuqr with config:\n",
      "\u001b[34m\u001b[1mwandb\u001b[0m: \tactivation: ReLU\n",
      "\u001b[34m\u001b[1mwandb\u001b[0m: \tbatch_size: 16\n",
      "\u001b[34m\u001b[1mwandb\u001b[0m: \tbeta: 0.9\n",
      "\u001b[34m\u001b[1mwandb\u001b[0m: \tbeta1: 0.9\n",
      "\u001b[34m\u001b[1mwandb\u001b[0m: \tbeta2: 0.999\n",
      "\u001b[34m\u001b[1mwandb\u001b[0m: \tepochs: 10\n",
      "\u001b[34m\u001b[1mwandb\u001b[0m: \tepsilon: 1e-08\n",
      "\u001b[34m\u001b[1mwandb\u001b[0m: \thidden_size: 32\n",
      "\u001b[34m\u001b[1mwandb\u001b[0m: \tlearning_rate: 0.003028065495480228\n",
      "\u001b[34m\u001b[1mwandb\u001b[0m: \tloss: mse\n",
      "\u001b[34m\u001b[1mwandb\u001b[0m: \tmomentum: 0.9\n",
      "\u001b[34m\u001b[1mwandb\u001b[0m: \tnum_layers: 4\n",
      "\u001b[34m\u001b[1mwandb\u001b[0m: \toptimizer: sgd\n",
      "\u001b[34m\u001b[1mwandb\u001b[0m: \tweight_decay: 0\n",
      "\u001b[34m\u001b[1mwandb\u001b[0m: \tweight_init: xavier\n"
     ]
    },
    {
     "data": {
      "text/html": [
       "Tracking run with wandb version 0.19.8"
      ],
      "text/plain": [
       "<IPython.core.display.HTML object>"
      ]
     },
     "metadata": {},
     "output_type": "display_data"
    },
    {
     "data": {
      "text/html": [
       "Run data is saved locally in <code>/home/user/Documents/Courses/DA6401/wandb/run-20250311_151850-skz4iuqr</code>"
      ],
      "text/plain": [
       "<IPython.core.display.HTML object>"
      ]
     },
     "metadata": {},
     "output_type": "display_data"
    },
    {
     "data": {
      "text/html": [
       "Syncing run <strong><a href='https://wandb.ai/deeplearn24/DL_A1_mse_sweeps/runs/skz4iuqr' target=\"_blank\">autumn-sweep-14</a></strong> to <a href='https://wandb.ai/deeplearn24/DL_A1_mse_sweeps' target=\"_blank\">Weights & Biases</a> (<a href='https://wandb.me/developer-guide' target=\"_blank\">docs</a>)<br>Sweep page: <a href='https://wandb.ai/deeplearn24/DL_A1_mse_sweeps/sweeps/9crckhqe' target=\"_blank\">https://wandb.ai/deeplearn24/DL_A1_mse_sweeps/sweeps/9crckhqe</a>"
      ],
      "text/plain": [
       "<IPython.core.display.HTML object>"
      ]
     },
     "metadata": {},
     "output_type": "display_data"
    },
    {
     "data": {
      "text/html": [
       " View project at <a href='https://wandb.ai/deeplearn24/DL_A1_mse_sweeps' target=\"_blank\">https://wandb.ai/deeplearn24/DL_A1_mse_sweeps</a>"
      ],
      "text/plain": [
       "<IPython.core.display.HTML object>"
      ]
     },
     "metadata": {},
     "output_type": "display_data"
    },
    {
     "data": {
      "text/html": [
       " View sweep at <a href='https://wandb.ai/deeplearn24/DL_A1_mse_sweeps/sweeps/9crckhqe' target=\"_blank\">https://wandb.ai/deeplearn24/DL_A1_mse_sweeps/sweeps/9crckhqe</a>"
      ],
      "text/plain": [
       "<IPython.core.display.HTML object>"
      ]
     },
     "metadata": {},
     "output_type": "display_data"
    },
    {
     "data": {
      "text/html": [
       " View run at <a href='https://wandb.ai/deeplearn24/DL_A1_mse_sweeps/runs/skz4iuqr' target=\"_blank\">https://wandb.ai/deeplearn24/DL_A1_mse_sweeps/runs/skz4iuqr</a>"
      ],
      "text/plain": [
       "<IPython.core.display.HTML object>"
      ]
     },
     "metadata": {},
     "output_type": "display_data"
    },
    {
     "name": "stdout",
     "output_type": "stream",
     "text": [
      "Epoch: 1, Train Loss: 0.6283829778843776, Valid Loss: 0.5239977527589682\n",
      "Epoch: 2, Train Loss: 0.491118194263402, Valid Loss: 0.5140774150985056\n",
      "Epoch: 3, Train Loss: 0.49980321634452846, Valid Loss: 0.4685739012696836\n",
      "Epoch: 4, Train Loss: 0.5287064135026457, Valid Loss: 0.5215719080157769\n",
      "Epoch: 5, Train Loss: 0.5750516905293173, Valid Loss: 0.5859148895017702\n",
      "Epoch: 6, Train Loss: 0.6072635430996145, Valid Loss: 0.6606953917174774\n",
      "Epoch: 7, Train Loss: 0.6257070675784616, Valid Loss: 0.6680533858521268\n",
      "Epoch: 8, Train Loss: 0.6098447966877877, Valid Loss: 0.6288794675741489\n",
      "Epoch: 9, Train Loss: 0.5758211361916149, Valid Loss: 0.6112039452127078\n",
      "Epoch: 10, Train Loss: 0.5714432764852702, Valid Loss: 0.7138653985724904\n"
     ]
    },
    {
     "data": {
      "text/html": [],
      "text/plain": [
       "<IPython.core.display.HTML object>"
      ]
     },
     "metadata": {},
     "output_type": "display_data"
    },
    {
     "data": {
      "text/html": [
       "<br>    <style><br>        .wandb-row {<br>            display: flex;<br>            flex-direction: row;<br>            flex-wrap: wrap;<br>            justify-content: flex-start;<br>            width: 100%;<br>        }<br>        .wandb-col {<br>            display: flex;<br>            flex-direction: column;<br>            flex-basis: 100%;<br>            flex: 1;<br>            padding: 10px;<br>        }<br>    </style><br><div class=\"wandb-row\"><div class=\"wandb-col\"><h3>Run history:</h3><br/><table class=\"wandb\"><tr><td>epoch</td><td>▁▂▃▃▄▅▆▆▇█</td></tr><tr><td>train/accuracy</td><td>▁███▇▆▆▇██</td></tr><tr><td>train/batch_loss</td><td>▅▃▃▂▂▄▃▁▄▃▁▂▁▂▃▁▂█▂▄▃▄▃▂▄▃▄▄▃▄▁▃▂▂▇▃▅▃▃▄</td></tr><tr><td>train/loss</td><td>█▁▁▃▅▇█▇▅▅</td></tr><tr><td>val/accuracy</td><td>▅▇█▇▄▁▃▄▅▄</td></tr><tr><td>val/loss</td><td>▃▂▁▃▄▆▇▆▅█</td></tr></table><br/></div><div class=\"wandb-col\"><h3>Run summary:</h3><br/><table class=\"wandb\"><tr><td>epoch</td><td>10</td></tr><tr><td>train/accuracy</td><td>0.83415</td></tr><tr><td>train/batch_loss</td><td>0.44537</td></tr><tr><td>train/loss</td><td>0.57144</td></tr><tr><td>val/accuracy</td><td>0.808</td></tr><tr><td>val/loss</td><td>0.71387</td></tr></table><br/></div></div>"
      ],
      "text/plain": [
       "<IPython.core.display.HTML object>"
      ]
     },
     "metadata": {},
     "output_type": "display_data"
    },
    {
     "data": {
      "text/html": [
       " View run <strong style=\"color:#cdcd00\">n4_h32_lr0.003028065495480228_bs16_actReLU</strong> at: <a href='https://wandb.ai/deeplearn24/DL_A1_mse_sweeps/runs/skz4iuqr' target=\"_blank\">https://wandb.ai/deeplearn24/DL_A1_mse_sweeps/runs/skz4iuqr</a><br> View project at: <a href='https://wandb.ai/deeplearn24/DL_A1_mse_sweeps' target=\"_blank\">https://wandb.ai/deeplearn24/DL_A1_mse_sweeps</a><br>Synced 5 W&B file(s), 1 media file(s), 0 artifact file(s) and 0 other file(s)"
      ],
      "text/plain": [
       "<IPython.core.display.HTML object>"
      ]
     },
     "metadata": {},
     "output_type": "display_data"
    },
    {
     "data": {
      "text/html": [
       "Find logs at: <code>./wandb/run-20250311_151850-skz4iuqr/logs</code>"
      ],
      "text/plain": [
       "<IPython.core.display.HTML object>"
      ]
     },
     "metadata": {},
     "output_type": "display_data"
    },
    {
     "name": "stderr",
     "output_type": "stream",
     "text": [
      "\u001b[34m\u001b[1mwandb\u001b[0m: Agent Starting Run: y3tqjrvw with config:\n",
      "\u001b[34m\u001b[1mwandb\u001b[0m: \tactivation: ReLU\n",
      "\u001b[34m\u001b[1mwandb\u001b[0m: \tbatch_size: 64\n",
      "\u001b[34m\u001b[1mwandb\u001b[0m: \tbeta: 0.9\n",
      "\u001b[34m\u001b[1mwandb\u001b[0m: \tbeta1: 0.9\n",
      "\u001b[34m\u001b[1mwandb\u001b[0m: \tbeta2: 0.999\n",
      "\u001b[34m\u001b[1mwandb\u001b[0m: \tepochs: 5\n",
      "\u001b[34m\u001b[1mwandb\u001b[0m: \tepsilon: 1e-08\n",
      "\u001b[34m\u001b[1mwandb\u001b[0m: \thidden_size: 128\n",
      "\u001b[34m\u001b[1mwandb\u001b[0m: \tlearning_rate: 0.0039262543946893035\n",
      "\u001b[34m\u001b[1mwandb\u001b[0m: \tloss: mse\n",
      "\u001b[34m\u001b[1mwandb\u001b[0m: \tmomentum: 0.9\n",
      "\u001b[34m\u001b[1mwandb\u001b[0m: \tnum_layers: 3\n",
      "\u001b[34m\u001b[1mwandb\u001b[0m: \toptimizer: sgd\n",
      "\u001b[34m\u001b[1mwandb\u001b[0m: \tweight_decay: 0\n",
      "\u001b[34m\u001b[1mwandb\u001b[0m: \tweight_init: xavier\n"
     ]
    },
    {
     "data": {
      "text/html": [
       "Tracking run with wandb version 0.19.8"
      ],
      "text/plain": [
       "<IPython.core.display.HTML object>"
      ]
     },
     "metadata": {},
     "output_type": "display_data"
    },
    {
     "data": {
      "text/html": [
       "Run data is saved locally in <code>/home/user/Documents/Courses/DA6401/wandb/run-20250311_151928-y3tqjrvw</code>"
      ],
      "text/plain": [
       "<IPython.core.display.HTML object>"
      ]
     },
     "metadata": {},
     "output_type": "display_data"
    },
    {
     "data": {
      "text/html": [
       "Syncing run <strong><a href='https://wandb.ai/deeplearn24/DL_A1_mse_sweeps/runs/y3tqjrvw' target=\"_blank\">floral-sweep-15</a></strong> to <a href='https://wandb.ai/deeplearn24/DL_A1_mse_sweeps' target=\"_blank\">Weights & Biases</a> (<a href='https://wandb.me/developer-guide' target=\"_blank\">docs</a>)<br>Sweep page: <a href='https://wandb.ai/deeplearn24/DL_A1_mse_sweeps/sweeps/9crckhqe' target=\"_blank\">https://wandb.ai/deeplearn24/DL_A1_mse_sweeps/sweeps/9crckhqe</a>"
      ],
      "text/plain": [
       "<IPython.core.display.HTML object>"
      ]
     },
     "metadata": {},
     "output_type": "display_data"
    },
    {
     "data": {
      "text/html": [
       " View project at <a href='https://wandb.ai/deeplearn24/DL_A1_mse_sweeps' target=\"_blank\">https://wandb.ai/deeplearn24/DL_A1_mse_sweeps</a>"
      ],
      "text/plain": [
       "<IPython.core.display.HTML object>"
      ]
     },
     "metadata": {},
     "output_type": "display_data"
    },
    {
     "data": {
      "text/html": [
       " View sweep at <a href='https://wandb.ai/deeplearn24/DL_A1_mse_sweeps/sweeps/9crckhqe' target=\"_blank\">https://wandb.ai/deeplearn24/DL_A1_mse_sweeps/sweeps/9crckhqe</a>"
      ],
      "text/plain": [
       "<IPython.core.display.HTML object>"
      ]
     },
     "metadata": {},
     "output_type": "display_data"
    },
    {
     "data": {
      "text/html": [
       " View run at <a href='https://wandb.ai/deeplearn24/DL_A1_mse_sweeps/runs/y3tqjrvw' target=\"_blank\">https://wandb.ai/deeplearn24/DL_A1_mse_sweeps/runs/y3tqjrvw</a>"
      ],
      "text/plain": [
       "<IPython.core.display.HTML object>"
      ]
     },
     "metadata": {},
     "output_type": "display_data"
    },
    {
     "name": "stdout",
     "output_type": "stream",
     "text": [
      "Epoch: 1, Train Loss: 0.6041701590427355, Valid Loss: 0.45354002331781956\n",
      "Epoch: 2, Train Loss: 0.4363931521503173, Valid Loss: 0.4242683145908207\n",
      "Epoch: 3, Train Loss: 0.4050904761979648, Valid Loss: 0.387461416448873\n",
      "Epoch: 4, Train Loss: 0.39731693106691013, Valid Loss: 0.467607680937676\n",
      "Epoch: 5, Train Loss: 0.3943400525775897, Valid Loss: 0.4125152280796859\n"
     ]
    },
    {
     "data": {
      "text/html": [],
      "text/plain": [
       "<IPython.core.display.HTML object>"
      ]
     },
     "metadata": {},
     "output_type": "display_data"
    },
    {
     "data": {
      "text/html": [
       "<br>    <style><br>        .wandb-row {<br>            display: flex;<br>            flex-direction: row;<br>            flex-wrap: wrap;<br>            justify-content: flex-start;<br>            width: 100%;<br>        }<br>        .wandb-col {<br>            display: flex;<br>            flex-direction: column;<br>            flex-basis: 100%;<br>            flex: 1;<br>            padding: 10px;<br>        }<br>    </style><br><div class=\"wandb-row\"><div class=\"wandb-col\"><h3>Run history:</h3><br/><table class=\"wandb\"><tr><td>epoch</td><td>▁▃▅▆█</td></tr><tr><td>train/accuracy</td><td>▁▆▇██</td></tr><tr><td>train/batch_loss</td><td>▇▇▆▆▅▅▇▅▄▆▃▅▁▃▆▂▁▃▃▄▂▃▁▂▆▃▄▂▃▅▁▄█▁▃▃▁▅▂▂</td></tr><tr><td>train/loss</td><td>█▂▁▁▁</td></tr><tr><td>val/accuracy</td><td>▁▅█▁█</td></tr><tr><td>val/loss</td><td>▇▄▁█▃</td></tr></table><br/></div><div class=\"wandb-col\"><h3>Run summary:</h3><br/><table class=\"wandb\"><tr><td>epoch</td><td>5</td></tr><tr><td>train/accuracy</td><td>0.86124</td></tr><tr><td>train/batch_loss</td><td>0.27516</td></tr><tr><td>train/loss</td><td>0.39434</td></tr><tr><td>val/accuracy</td><td>0.86508</td></tr><tr><td>val/loss</td><td>0.41252</td></tr></table><br/></div></div>"
      ],
      "text/plain": [
       "<IPython.core.display.HTML object>"
      ]
     },
     "metadata": {},
     "output_type": "display_data"
    },
    {
     "data": {
      "text/html": [
       " View run <strong style=\"color:#cdcd00\">n3_h128_lr0.0039262543946893035_bs64_actReLU</strong> at: <a href='https://wandb.ai/deeplearn24/DL_A1_mse_sweeps/runs/y3tqjrvw' target=\"_blank\">https://wandb.ai/deeplearn24/DL_A1_mse_sweeps/runs/y3tqjrvw</a><br> View project at: <a href='https://wandb.ai/deeplearn24/DL_A1_mse_sweeps' target=\"_blank\">https://wandb.ai/deeplearn24/DL_A1_mse_sweeps</a><br>Synced 5 W&B file(s), 1 media file(s), 0 artifact file(s) and 0 other file(s)"
      ],
      "text/plain": [
       "<IPython.core.display.HTML object>"
      ]
     },
     "metadata": {},
     "output_type": "display_data"
    },
    {
     "data": {
      "text/html": [
       "Find logs at: <code>./wandb/run-20250311_151928-y3tqjrvw/logs</code>"
      ],
      "text/plain": [
       "<IPython.core.display.HTML object>"
      ]
     },
     "metadata": {},
     "output_type": "display_data"
    },
    {
     "name": "stderr",
     "output_type": "stream",
     "text": [
      "\u001b[34m\u001b[1mwandb\u001b[0m: Agent Starting Run: cls0bb8c with config:\n",
      "\u001b[34m\u001b[1mwandb\u001b[0m: \tactivation: tanh\n",
      "\u001b[34m\u001b[1mwandb\u001b[0m: \tbatch_size: 16\n",
      "\u001b[34m\u001b[1mwandb\u001b[0m: \tbeta: 0.9\n",
      "\u001b[34m\u001b[1mwandb\u001b[0m: \tbeta1: 0.9\n",
      "\u001b[34m\u001b[1mwandb\u001b[0m: \tbeta2: 0.999\n",
      "\u001b[34m\u001b[1mwandb\u001b[0m: \tepochs: 10\n",
      "\u001b[34m\u001b[1mwandb\u001b[0m: \tepsilon: 1e-08\n",
      "\u001b[34m\u001b[1mwandb\u001b[0m: \thidden_size: 32\n",
      "\u001b[34m\u001b[1mwandb\u001b[0m: \tlearning_rate: 0.005593209490577327\n",
      "\u001b[34m\u001b[1mwandb\u001b[0m: \tloss: mse\n",
      "\u001b[34m\u001b[1mwandb\u001b[0m: \tmomentum: 0.9\n",
      "\u001b[34m\u001b[1mwandb\u001b[0m: \tnum_layers: 4\n",
      "\u001b[34m\u001b[1mwandb\u001b[0m: \toptimizer: rmsprop\n",
      "\u001b[34m\u001b[1mwandb\u001b[0m: \tweight_decay: 0.5\n",
      "\u001b[34m\u001b[1mwandb\u001b[0m: \tweight_init: xavier\n"
     ]
    },
    {
     "data": {
      "text/html": [
       "Tracking run with wandb version 0.19.8"
      ],
      "text/plain": [
       "<IPython.core.display.HTML object>"
      ]
     },
     "metadata": {},
     "output_type": "display_data"
    },
    {
     "data": {
      "text/html": [
       "Run data is saved locally in <code>/home/user/Documents/Courses/DA6401/wandb/run-20250311_152058-cls0bb8c</code>"
      ],
      "text/plain": [
       "<IPython.core.display.HTML object>"
      ]
     },
     "metadata": {},
     "output_type": "display_data"
    },
    {
     "data": {
      "text/html": [
       "Syncing run <strong><a href='https://wandb.ai/deeplearn24/DL_A1_mse_sweeps/runs/cls0bb8c' target=\"_blank\">dainty-sweep-16</a></strong> to <a href='https://wandb.ai/deeplearn24/DL_A1_mse_sweeps' target=\"_blank\">Weights & Biases</a> (<a href='https://wandb.me/developer-guide' target=\"_blank\">docs</a>)<br>Sweep page: <a href='https://wandb.ai/deeplearn24/DL_A1_mse_sweeps/sweeps/9crckhqe' target=\"_blank\">https://wandb.ai/deeplearn24/DL_A1_mse_sweeps/sweeps/9crckhqe</a>"
      ],
      "text/plain": [
       "<IPython.core.display.HTML object>"
      ]
     },
     "metadata": {},
     "output_type": "display_data"
    },
    {
     "data": {
      "text/html": [
       " View project at <a href='https://wandb.ai/deeplearn24/DL_A1_mse_sweeps' target=\"_blank\">https://wandb.ai/deeplearn24/DL_A1_mse_sweeps</a>"
      ],
      "text/plain": [
       "<IPython.core.display.HTML object>"
      ]
     },
     "metadata": {},
     "output_type": "display_data"
    },
    {
     "data": {
      "text/html": [
       " View sweep at <a href='https://wandb.ai/deeplearn24/DL_A1_mse_sweeps/sweeps/9crckhqe' target=\"_blank\">https://wandb.ai/deeplearn24/DL_A1_mse_sweeps/sweeps/9crckhqe</a>"
      ],
      "text/plain": [
       "<IPython.core.display.HTML object>"
      ]
     },
     "metadata": {},
     "output_type": "display_data"
    },
    {
     "data": {
      "text/html": [
       " View run at <a href='https://wandb.ai/deeplearn24/DL_A1_mse_sweeps/runs/cls0bb8c' target=\"_blank\">https://wandb.ai/deeplearn24/DL_A1_mse_sweeps/runs/cls0bb8c</a>"
      ],
      "text/plain": [
       "<IPython.core.display.HTML object>"
      ]
     },
     "metadata": {},
     "output_type": "display_data"
    },
    {
     "name": "stdout",
     "output_type": "stream",
     "text": [
      "Epoch: 1, Train Loss: 98015.55325290236, Valid Loss: 360500.8319937757\n",
      "Epoch: 2, Train Loss: 992906.0883807932, Valid Loss: 1784122.0291598963\n",
      "Epoch: 3, Train Loss: 2971002.9232203844, Valid Loss: 4353854.061549508\n",
      "Epoch: 4, Train Loss: 6059283.723002118, Valid Loss: 7921538.862624391\n",
      "Epoch: 5, Train Loss: 10230137.527208153, Valid Loss: 12723319.23640339\n",
      "Epoch: 6, Train Loss: 15623142.089911217, Valid Loss: 18688552.28908677\n",
      "Epoch: 7, Train Loss: 22174204.261277832, Valid Loss: 25746999.208249543\n",
      "Epoch: 8, Train Loss: 29547221.073254444, Valid Loss: 33461182.010666393\n",
      "Epoch: 9, Train Loss: 35474036.910344064, Valid Loss: 36324954.94383903\n",
      "Epoch: 10, Train Loss: 37201817.66810792, Valid Loss: 38229521.10645821\n"
     ]
    },
    {
     "data": {
      "text/html": [],
      "text/plain": [
       "<IPython.core.display.HTML object>"
      ]
     },
     "metadata": {},
     "output_type": "display_data"
    },
    {
     "data": {
      "text/html": [
       "<br>    <style><br>        .wandb-row {<br>            display: flex;<br>            flex-direction: row;<br>            flex-wrap: wrap;<br>            justify-content: flex-start;<br>            width: 100%;<br>        }<br>        .wandb-col {<br>            display: flex;<br>            flex-direction: column;<br>            flex-basis: 100%;<br>            flex: 1;<br>            padding: 10px;<br>        }<br>    </style><br><div class=\"wandb-row\"><div class=\"wandb-col\"><h3>Run history:</h3><br/><table class=\"wandb\"><tr><td>epoch</td><td>▁▂▃▃▄▅▆▆▇█</td></tr><tr><td>train/accuracy</td><td>▃▁▁▁▁▁▁▁▆█</td></tr><tr><td>train/batch_loss</td><td>▁▁▁▁▁▁▁▁▁▂▂▂▂▂▂▂▃▃▃▃▄▄▄▄▅▆▆▆▆▆▆▆▇▇▇█████</td></tr><tr><td>train/loss</td><td>▁▁▂▂▃▄▅▇██</td></tr><tr><td>val/accuracy</td><td>▁▁▂▁▂▁▁▁█▆</td></tr><tr><td>val/loss</td><td>▁▁▂▂▃▄▆▇██</td></tr></table><br/></div><div class=\"wandb-col\"><h3>Run summary:</h3><br/><table class=\"wandb\"><tr><td>epoch</td><td>10</td></tr><tr><td>train/accuracy</td><td>0.14731</td></tr><tr><td>train/batch_loss</td><td>38227718.41247</td></tr><tr><td>train/loss</td><td>37201817.66811</td></tr><tr><td>val/accuracy</td><td>0.17683</td></tr><tr><td>val/loss</td><td>38229521.10646</td></tr></table><br/></div></div>"
      ],
      "text/plain": [
       "<IPython.core.display.HTML object>"
      ]
     },
     "metadata": {},
     "output_type": "display_data"
    },
    {
     "data": {
      "text/html": [
       " View run <strong style=\"color:#cdcd00\">n4_h32_lr0.005593209490577327_bs16_acttanh</strong> at: <a href='https://wandb.ai/deeplearn24/DL_A1_mse_sweeps/runs/cls0bb8c' target=\"_blank\">https://wandb.ai/deeplearn24/DL_A1_mse_sweeps/runs/cls0bb8c</a><br> View project at: <a href='https://wandb.ai/deeplearn24/DL_A1_mse_sweeps' target=\"_blank\">https://wandb.ai/deeplearn24/DL_A1_mse_sweeps</a><br>Synced 5 W&B file(s), 1 media file(s), 0 artifact file(s) and 0 other file(s)"
      ],
      "text/plain": [
       "<IPython.core.display.HTML object>"
      ]
     },
     "metadata": {},
     "output_type": "display_data"
    },
    {
     "data": {
      "text/html": [
       "Find logs at: <code>./wandb/run-20250311_152058-cls0bb8c/logs</code>"
      ],
      "text/plain": [
       "<IPython.core.display.HTML object>"
      ]
     },
     "metadata": {},
     "output_type": "display_data"
    },
    {
     "name": "stderr",
     "output_type": "stream",
     "text": [
      "\u001b[34m\u001b[1mwandb\u001b[0m: Agent Starting Run: xlxndwfr with config:\n",
      "\u001b[34m\u001b[1mwandb\u001b[0m: \tactivation: tanh\n",
      "\u001b[34m\u001b[1mwandb\u001b[0m: \tbatch_size: 64\n",
      "\u001b[34m\u001b[1mwandb\u001b[0m: \tbeta: 0.9\n",
      "\u001b[34m\u001b[1mwandb\u001b[0m: \tbeta1: 0.9\n",
      "\u001b[34m\u001b[1mwandb\u001b[0m: \tbeta2: 0.999\n",
      "\u001b[34m\u001b[1mwandb\u001b[0m: \tepochs: 10\n",
      "\u001b[34m\u001b[1mwandb\u001b[0m: \tepsilon: 1e-08\n",
      "\u001b[34m\u001b[1mwandb\u001b[0m: \thidden_size: 64\n",
      "\u001b[34m\u001b[1mwandb\u001b[0m: \tlearning_rate: 0.00728750879246052\n",
      "\u001b[34m\u001b[1mwandb\u001b[0m: \tloss: mse\n",
      "\u001b[34m\u001b[1mwandb\u001b[0m: \tmomentum: 0.9\n",
      "\u001b[34m\u001b[1mwandb\u001b[0m: \tnum_layers: 4\n",
      "\u001b[34m\u001b[1mwandb\u001b[0m: \toptimizer: nadam\n",
      "\u001b[34m\u001b[1mwandb\u001b[0m: \tweight_decay: 0.5\n",
      "\u001b[34m\u001b[1mwandb\u001b[0m: \tweight_init: random\n"
     ]
    },
    {
     "data": {
      "text/html": [
       "Tracking run with wandb version 0.19.8"
      ],
      "text/plain": [
       "<IPython.core.display.HTML object>"
      ]
     },
     "metadata": {},
     "output_type": "display_data"
    },
    {
     "data": {
      "text/html": [
       "Run data is saved locally in <code>/home/user/Documents/Courses/DA6401/wandb/run-20250311_152141-xlxndwfr</code>"
      ],
      "text/plain": [
       "<IPython.core.display.HTML object>"
      ]
     },
     "metadata": {},
     "output_type": "display_data"
    },
    {
     "data": {
      "text/html": [
       "Syncing run <strong><a href='https://wandb.ai/deeplearn24/DL_A1_mse_sweeps/runs/xlxndwfr' target=\"_blank\">woven-sweep-17</a></strong> to <a href='https://wandb.ai/deeplearn24/DL_A1_mse_sweeps' target=\"_blank\">Weights & Biases</a> (<a href='https://wandb.me/developer-guide' target=\"_blank\">docs</a>)<br>Sweep page: <a href='https://wandb.ai/deeplearn24/DL_A1_mse_sweeps/sweeps/9crckhqe' target=\"_blank\">https://wandb.ai/deeplearn24/DL_A1_mse_sweeps/sweeps/9crckhqe</a>"
      ],
      "text/plain": [
       "<IPython.core.display.HTML object>"
      ]
     },
     "metadata": {},
     "output_type": "display_data"
    },
    {
     "data": {
      "text/html": [
       " View project at <a href='https://wandb.ai/deeplearn24/DL_A1_mse_sweeps' target=\"_blank\">https://wandb.ai/deeplearn24/DL_A1_mse_sweeps</a>"
      ],
      "text/plain": [
       "<IPython.core.display.HTML object>"
      ]
     },
     "metadata": {},
     "output_type": "display_data"
    },
    {
     "data": {
      "text/html": [
       " View sweep at <a href='https://wandb.ai/deeplearn24/DL_A1_mse_sweeps/sweeps/9crckhqe' target=\"_blank\">https://wandb.ai/deeplearn24/DL_A1_mse_sweeps/sweeps/9crckhqe</a>"
      ],
      "text/plain": [
       "<IPython.core.display.HTML object>"
      ]
     },
     "metadata": {},
     "output_type": "display_data"
    },
    {
     "data": {
      "text/html": [
       " View run at <a href='https://wandb.ai/deeplearn24/DL_A1_mse_sweeps/runs/xlxndwfr' target=\"_blank\">https://wandb.ai/deeplearn24/DL_A1_mse_sweeps/runs/xlxndwfr</a>"
      ],
      "text/plain": [
       "<IPython.core.display.HTML object>"
      ]
     },
     "metadata": {},
     "output_type": "display_data"
    },
    {
     "name": "stdout",
     "output_type": "stream",
     "text": [
      "Epoch: 1, Train Loss: 28634.93089771183, Valid Loss: 49775.89800840439\n",
      "Epoch: 2, Train Loss: 68717.52727051836, Valid Loss: 81820.62208177155\n",
      "Epoch: 3, Train Loss: 114031.03894495698, Valid Loss: 179677.01542853107\n",
      "Epoch: 4, Train Loss: 207873.54940695866, Valid Loss: 252188.65675322304\n",
      "Epoch: 5, Train Loss: 352965.88952817884, Valid Loss: 437643.3289426021\n",
      "Epoch: 6, Train Loss: 674878.8815539067, Valid Loss: 986875.2990007265\n",
      "Epoch: 7, Train Loss: 1506141.6079102124, Valid Loss: 2041056.748527974\n",
      "Epoch: 8, Train Loss: 2570299.475356915, Valid Loss: 2831137.6935639153\n",
      "Epoch: 9, Train Loss: 2997403.2028966798, Valid Loss: 3135906.66949381\n",
      "Epoch: 10, Train Loss: 3708630.102014775, Valid Loss: 3660600.164217728\n"
     ]
    },
    {
     "data": {
      "text/html": [],
      "text/plain": [
       "<IPython.core.display.HTML object>"
      ]
     },
     "metadata": {},
     "output_type": "display_data"
    },
    {
     "data": {
      "text/html": [
       "<br>    <style><br>        .wandb-row {<br>            display: flex;<br>            flex-direction: row;<br>            flex-wrap: wrap;<br>            justify-content: flex-start;<br>            width: 100%;<br>        }<br>        .wandb-col {<br>            display: flex;<br>            flex-direction: column;<br>            flex-basis: 100%;<br>            flex: 1;<br>            padding: 10px;<br>        }<br>    </style><br><div class=\"wandb-row\"><div class=\"wandb-col\"><h3>Run history:</h3><br/><table class=\"wandb\"><tr><td>epoch</td><td>▁▂▃▃▄▅▆▆▇█</td></tr><tr><td>train/accuracy</td><td>▃▆▇▆▂█▂▁▁▂</td></tr><tr><td>train/batch_loss</td><td>▁▁▁▁▁▁▁▁▁▁▁▁▁▁▁▁▁▁▁▁▂▂▂▂▂▂▂▂▂▃▆▆▆▇▇▇▆▆▇█</td></tr><tr><td>train/loss</td><td>▁▁▁▁▂▂▄▆▇█</td></tr><tr><td>val/accuracy</td><td>▄▇▅▁█▆▂▁▁▆</td></tr><tr><td>val/loss</td><td>▁▁▁▁▂▃▅▆▇█</td></tr></table><br/></div><div class=\"wandb-col\"><h3>Run summary:</h3><br/><table class=\"wandb\"><tr><td>epoch</td><td>10</td></tr><tr><td>train/accuracy</td><td>0.13274</td></tr><tr><td>train/batch_loss</td><td>3662062.77862</td></tr><tr><td>train/loss</td><td>3708630.10201</td></tr><tr><td>val/accuracy</td><td>0.25366</td></tr><tr><td>val/loss</td><td>3660600.16422</td></tr></table><br/></div></div>"
      ],
      "text/plain": [
       "<IPython.core.display.HTML object>"
      ]
     },
     "metadata": {},
     "output_type": "display_data"
    },
    {
     "data": {
      "text/html": [
       " View run <strong style=\"color:#cdcd00\">n4_h64_lr0.00728750879246052_bs64_acttanh</strong> at: <a href='https://wandb.ai/deeplearn24/DL_A1_mse_sweeps/runs/xlxndwfr' target=\"_blank\">https://wandb.ai/deeplearn24/DL_A1_mse_sweeps/runs/xlxndwfr</a><br> View project at: <a href='https://wandb.ai/deeplearn24/DL_A1_mse_sweeps' target=\"_blank\">https://wandb.ai/deeplearn24/DL_A1_mse_sweeps</a><br>Synced 5 W&B file(s), 1 media file(s), 0 artifact file(s) and 0 other file(s)"
      ],
      "text/plain": [
       "<IPython.core.display.HTML object>"
      ]
     },
     "metadata": {},
     "output_type": "display_data"
    },
    {
     "data": {
      "text/html": [
       "Find logs at: <code>./wandb/run-20250311_152141-xlxndwfr/logs</code>"
      ],
      "text/plain": [
       "<IPython.core.display.HTML object>"
      ]
     },
     "metadata": {},
     "output_type": "display_data"
    },
    {
     "name": "stderr",
     "output_type": "stream",
     "text": [
      "\u001b[34m\u001b[1mwandb\u001b[0m: Agent Starting Run: oacdhlg6 with config:\n",
      "\u001b[34m\u001b[1mwandb\u001b[0m: \tactivation: sigmoid\n",
      "\u001b[34m\u001b[1mwandb\u001b[0m: \tbatch_size: 32\n",
      "\u001b[34m\u001b[1mwandb\u001b[0m: \tbeta: 0.9\n",
      "\u001b[34m\u001b[1mwandb\u001b[0m: \tbeta1: 0.9\n",
      "\u001b[34m\u001b[1mwandb\u001b[0m: \tbeta2: 0.999\n",
      "\u001b[34m\u001b[1mwandb\u001b[0m: \tepochs: 10\n",
      "\u001b[34m\u001b[1mwandb\u001b[0m: \tepsilon: 1e-08\n",
      "\u001b[34m\u001b[1mwandb\u001b[0m: \thidden_size: 128\n",
      "\u001b[34m\u001b[1mwandb\u001b[0m: \tlearning_rate: 0.0003799536088199404\n",
      "\u001b[34m\u001b[1mwandb\u001b[0m: \tloss: mse\n",
      "\u001b[34m\u001b[1mwandb\u001b[0m: \tmomentum: 0.9\n",
      "\u001b[34m\u001b[1mwandb\u001b[0m: \tnum_layers: 5\n",
      "\u001b[34m\u001b[1mwandb\u001b[0m: \toptimizer: adam\n",
      "\u001b[34m\u001b[1mwandb\u001b[0m: \tweight_decay: 0\n",
      "\u001b[34m\u001b[1mwandb\u001b[0m: \tweight_init: xavier\n"
     ]
    },
    {
     "data": {
      "text/html": [
       "Tracking run with wandb version 0.19.8"
      ],
      "text/plain": [
       "<IPython.core.display.HTML object>"
      ]
     },
     "metadata": {},
     "output_type": "display_data"
    },
    {
     "data": {
      "text/html": [
       "Run data is saved locally in <code>/home/user/Documents/Courses/DA6401/wandb/run-20250311_152244-oacdhlg6</code>"
      ],
      "text/plain": [
       "<IPython.core.display.HTML object>"
      ]
     },
     "metadata": {},
     "output_type": "display_data"
    },
    {
     "data": {
      "text/html": [
       "Syncing run <strong><a href='https://wandb.ai/deeplearn24/DL_A1_mse_sweeps/runs/oacdhlg6' target=\"_blank\">rural-sweep-18</a></strong> to <a href='https://wandb.ai/deeplearn24/DL_A1_mse_sweeps' target=\"_blank\">Weights & Biases</a> (<a href='https://wandb.me/developer-guide' target=\"_blank\">docs</a>)<br>Sweep page: <a href='https://wandb.ai/deeplearn24/DL_A1_mse_sweeps/sweeps/9crckhqe' target=\"_blank\">https://wandb.ai/deeplearn24/DL_A1_mse_sweeps/sweeps/9crckhqe</a>"
      ],
      "text/plain": [
       "<IPython.core.display.HTML object>"
      ]
     },
     "metadata": {},
     "output_type": "display_data"
    },
    {
     "data": {
      "text/html": [
       " View project at <a href='https://wandb.ai/deeplearn24/DL_A1_mse_sweeps' target=\"_blank\">https://wandb.ai/deeplearn24/DL_A1_mse_sweeps</a>"
      ],
      "text/plain": [
       "<IPython.core.display.HTML object>"
      ]
     },
     "metadata": {},
     "output_type": "display_data"
    },
    {
     "data": {
      "text/html": [
       " View sweep at <a href='https://wandb.ai/deeplearn24/DL_A1_mse_sweeps/sweeps/9crckhqe' target=\"_blank\">https://wandb.ai/deeplearn24/DL_A1_mse_sweeps/sweeps/9crckhqe</a>"
      ],
      "text/plain": [
       "<IPython.core.display.HTML object>"
      ]
     },
     "metadata": {},
     "output_type": "display_data"
    },
    {
     "data": {
      "text/html": [
       " View run at <a href='https://wandb.ai/deeplearn24/DL_A1_mse_sweeps/runs/oacdhlg6' target=\"_blank\">https://wandb.ai/deeplearn24/DL_A1_mse_sweeps/runs/oacdhlg6</a>"
      ],
      "text/plain": [
       "<IPython.core.display.HTML object>"
      ]
     },
     "metadata": {},
     "output_type": "display_data"
    },
    {
     "name": "stdout",
     "output_type": "stream",
     "text": [
      "Epoch: 1, Train Loss: 2.3128400619276044, Valid Loss: 2.317686044173648\n",
      "Epoch: 2, Train Loss: 2.3096212863172285, Valid Loss: 2.3145078759584123\n",
      "Epoch: 3, Train Loss: 2.3094643770430237, Valid Loss: 2.3147191311739985\n",
      "Epoch: 4, Train Loss: 2.3101251386708084, Valid Loss: 2.3204223788624025\n",
      "Epoch: 5, Train Loss: 2.3102949900807546, Valid Loss: 2.3176501189238192\n",
      "Epoch: 6, Train Loss: 2.3108776164404348, Valid Loss: 2.3211497541894537\n",
      "Epoch: 7, Train Loss: 2.290813613245438, Valid Loss: 2.205514163000132\n",
      "Epoch: 8, Train Loss: 2.27826481342027, Valid Loss: 2.305966626222066\n",
      "Epoch: 9, Train Loss: 2.311402632473509, Valid Loss: 2.3141111431312837\n",
      "Epoch: 10, Train Loss: 2.3134841608299705, Valid Loss: 2.3199865039921534\n"
     ]
    },
    {
     "data": {
      "text/html": [],
      "text/plain": [
       "<IPython.core.display.HTML object>"
      ]
     },
     "metadata": {},
     "output_type": "display_data"
    },
    {
     "data": {
      "text/html": [
       "<br>    <style><br>        .wandb-row {<br>            display: flex;<br>            flex-direction: row;<br>            flex-wrap: wrap;<br>            justify-content: flex-start;<br>            width: 100%;<br>        }<br>        .wandb-col {<br>            display: flex;<br>            flex-direction: column;<br>            flex-basis: 100%;<br>            flex: 1;<br>            padding: 10px;<br>        }<br>    </style><br><div class=\"wandb-row\"><div class=\"wandb-col\"><h3>Run history:</h3><br/><table class=\"wandb\"><tr><td>epoch</td><td>▁▂▃▃▄▅▆▆▇█</td></tr><tr><td>train/accuracy</td><td>▁▁▁▁▁▁▄█▂▁</td></tr><tr><td>train/batch_loss</td><td>▇▆▂▄▆▃▅▇▆▇▅▆▇▅▆▅▄▆▆▅█▆█▆▅▂▁▇▃▆▇▅▆▅▃▅▆▄▅▃</td></tr><tr><td>train/loss</td><td>█▇▇▇▇▇▃▁██</td></tr><tr><td>val/accuracy</td><td>▁▁▁▁▁▁█▂▁▁</td></tr><tr><td>val/loss</td><td>██████▁▇██</td></tr></table><br/></div><div class=\"wandb-col\"><h3>Run summary:</h3><br/><table class=\"wandb\"><tr><td>epoch</td><td>10</td></tr><tr><td>train/accuracy</td><td>0.09916</td></tr><tr><td>train/batch_loss</td><td>2.29642</td></tr><tr><td>train/loss</td><td>2.31348</td></tr><tr><td>val/accuracy</td><td>0.1004</td></tr><tr><td>val/loss</td><td>2.31999</td></tr></table><br/></div></div>"
      ],
      "text/plain": [
       "<IPython.core.display.HTML object>"
      ]
     },
     "metadata": {},
     "output_type": "display_data"
    },
    {
     "data": {
      "text/html": [
       " View run <strong style=\"color:#cdcd00\">n5_h128_lr0.0003799536088199404_bs32_actsigmoid</strong> at: <a href='https://wandb.ai/deeplearn24/DL_A1_mse_sweeps/runs/oacdhlg6' target=\"_blank\">https://wandb.ai/deeplearn24/DL_A1_mse_sweeps/runs/oacdhlg6</a><br> View project at: <a href='https://wandb.ai/deeplearn24/DL_A1_mse_sweeps' target=\"_blank\">https://wandb.ai/deeplearn24/DL_A1_mse_sweeps</a><br>Synced 5 W&B file(s), 1 media file(s), 0 artifact file(s) and 0 other file(s)"
      ],
      "text/plain": [
       "<IPython.core.display.HTML object>"
      ]
     },
     "metadata": {},
     "output_type": "display_data"
    },
    {
     "data": {
      "text/html": [
       "Find logs at: <code>./wandb/run-20250311_152244-oacdhlg6/logs</code>"
      ],
      "text/plain": [
       "<IPython.core.display.HTML object>"
      ]
     },
     "metadata": {},
     "output_type": "display_data"
    },
    {
     "name": "stderr",
     "output_type": "stream",
     "text": [
      "\u001b[34m\u001b[1mwandb\u001b[0m: Sweep Agent: Waiting for job.\n",
      "\u001b[34m\u001b[1mwandb\u001b[0m: Job received.\n",
      "\u001b[34m\u001b[1mwandb\u001b[0m: Agent Starting Run: vg0cs30h with config:\n",
      "\u001b[34m\u001b[1mwandb\u001b[0m: \tactivation: tanh\n",
      "\u001b[34m\u001b[1mwandb\u001b[0m: \tbatch_size: 16\n",
      "\u001b[34m\u001b[1mwandb\u001b[0m: \tbeta: 0.9\n",
      "\u001b[34m\u001b[1mwandb\u001b[0m: \tbeta1: 0.9\n",
      "\u001b[34m\u001b[1mwandb\u001b[0m: \tbeta2: 0.999\n",
      "\u001b[34m\u001b[1mwandb\u001b[0m: \tepochs: 5\n",
      "\u001b[34m\u001b[1mwandb\u001b[0m: \tepsilon: 1e-08\n",
      "\u001b[34m\u001b[1mwandb\u001b[0m: \thidden_size: 128\n",
      "\u001b[34m\u001b[1mwandb\u001b[0m: \tlearning_rate: 0.0026714913604500568\n",
      "\u001b[34m\u001b[1mwandb\u001b[0m: \tloss: mse\n",
      "\u001b[34m\u001b[1mwandb\u001b[0m: \tmomentum: 0.9\n",
      "\u001b[34m\u001b[1mwandb\u001b[0m: \tnum_layers: 5\n",
      "\u001b[34m\u001b[1mwandb\u001b[0m: \toptimizer: nadam\n",
      "\u001b[34m\u001b[1mwandb\u001b[0m: \tweight_decay: 0.0005\n",
      "\u001b[34m\u001b[1mwandb\u001b[0m: \tweight_init: random\n"
     ]
    },
    {
     "data": {
      "text/html": [
       "Tracking run with wandb version 0.19.8"
      ],
      "text/plain": [
       "<IPython.core.display.HTML object>"
      ]
     },
     "metadata": {},
     "output_type": "display_data"
    },
    {
     "data": {
      "text/html": [
       "Run data is saved locally in <code>/home/user/Documents/Courses/DA6401/wandb/run-20250311_152543-vg0cs30h</code>"
      ],
      "text/plain": [
       "<IPython.core.display.HTML object>"
      ]
     },
     "metadata": {},
     "output_type": "display_data"
    },
    {
     "data": {
      "text/html": [
       "Syncing run <strong><a href='https://wandb.ai/deeplearn24/DL_A1_mse_sweeps/runs/vg0cs30h' target=\"_blank\">comic-sweep-19</a></strong> to <a href='https://wandb.ai/deeplearn24/DL_A1_mse_sweeps' target=\"_blank\">Weights & Biases</a> (<a href='https://wandb.me/developer-guide' target=\"_blank\">docs</a>)<br>Sweep page: <a href='https://wandb.ai/deeplearn24/DL_A1_mse_sweeps/sweeps/9crckhqe' target=\"_blank\">https://wandb.ai/deeplearn24/DL_A1_mse_sweeps/sweeps/9crckhqe</a>"
      ],
      "text/plain": [
       "<IPython.core.display.HTML object>"
      ]
     },
     "metadata": {},
     "output_type": "display_data"
    },
    {
     "data": {
      "text/html": [
       " View project at <a href='https://wandb.ai/deeplearn24/DL_A1_mse_sweeps' target=\"_blank\">https://wandb.ai/deeplearn24/DL_A1_mse_sweeps</a>"
      ],
      "text/plain": [
       "<IPython.core.display.HTML object>"
      ]
     },
     "metadata": {},
     "output_type": "display_data"
    },
    {
     "data": {
      "text/html": [
       " View sweep at <a href='https://wandb.ai/deeplearn24/DL_A1_mse_sweeps/sweeps/9crckhqe' target=\"_blank\">https://wandb.ai/deeplearn24/DL_A1_mse_sweeps/sweeps/9crckhqe</a>"
      ],
      "text/plain": [
       "<IPython.core.display.HTML object>"
      ]
     },
     "metadata": {},
     "output_type": "display_data"
    },
    {
     "data": {
      "text/html": [
       " View run at <a href='https://wandb.ai/deeplearn24/DL_A1_mse_sweeps/runs/vg0cs30h' target=\"_blank\">https://wandb.ai/deeplearn24/DL_A1_mse_sweeps/runs/vg0cs30h</a>"
      ],
      "text/plain": [
       "<IPython.core.display.HTML object>"
      ]
     },
     "metadata": {},
     "output_type": "display_data"
    },
    {
     "name": "stdout",
     "output_type": "stream",
     "text": [
      "Epoch: 1, Train Loss: 101.3318702390537, Valid Loss: 195.45319986105042\n",
      "Epoch: 2, Train Loss: 263.8783753426319, Valid Loss: 503.14815572162144\n",
      "Epoch: 3, Train Loss: 946.557269114385, Valid Loss: 1397.9759342611867\n",
      "Epoch: 4, Train Loss: 2972.667553858181, Valid Loss: 4647.225958134361\n",
      "Epoch: 5, Train Loss: 5544.474801925471, Valid Loss: 6941.771278586872\n"
     ]
    },
    {
     "data": {
      "text/html": [],
      "text/plain": [
       "<IPython.core.display.HTML object>"
      ]
     },
     "metadata": {},
     "output_type": "display_data"
    },
    {
     "data": {
      "text/html": [
       "<br>    <style><br>        .wandb-row {<br>            display: flex;<br>            flex-direction: row;<br>            flex-wrap: wrap;<br>            justify-content: flex-start;<br>            width: 100%;<br>        }<br>        .wandb-col {<br>            display: flex;<br>            flex-direction: column;<br>            flex-basis: 100%;<br>            flex: 1;<br>            padding: 10px;<br>        }<br>    </style><br><div class=\"wandb-row\"><div class=\"wandb-col\"><h3>Run history:</h3><br/><table class=\"wandb\"><tr><td>epoch</td><td>▁▃▅▆█</td></tr><tr><td>train/accuracy</td><td>▁▆█▄▃</td></tr><tr><td>train/batch_loss</td><td>▁▁▁▁▁▁▁▁▁▁▁▁▁▁▁▂▂▂▂▂▂▂▂▂▃▃▃▄▄▅▄▅▆▆▆▇▇▇▇█</td></tr><tr><td>train/loss</td><td>▁▁▂▅█</td></tr><tr><td>val/accuracy</td><td>▆▇▁▅█</td></tr><tr><td>val/loss</td><td>▁▁▂▆█</td></tr></table><br/></div><div class=\"wandb-col\"><h3>Run summary:</h3><br/><table class=\"wandb\"><tr><td>epoch</td><td>5</td></tr><tr><td>train/accuracy</td><td>0.1283</td></tr><tr><td>train/batch_loss</td><td>6951.17655</td></tr><tr><td>train/loss</td><td>5544.4748</td></tr><tr><td>val/accuracy</td><td>0.158</td></tr><tr><td>val/loss</td><td>6941.77128</td></tr></table><br/></div></div>"
      ],
      "text/plain": [
       "<IPython.core.display.HTML object>"
      ]
     },
     "metadata": {},
     "output_type": "display_data"
    },
    {
     "data": {
      "text/html": [
       " View run <strong style=\"color:#cdcd00\">n5_h128_lr0.0026714913604500568_bs16_acttanh</strong> at: <a href='https://wandb.ai/deeplearn24/DL_A1_mse_sweeps/runs/vg0cs30h' target=\"_blank\">https://wandb.ai/deeplearn24/DL_A1_mse_sweeps/runs/vg0cs30h</a><br> View project at: <a href='https://wandb.ai/deeplearn24/DL_A1_mse_sweeps' target=\"_blank\">https://wandb.ai/deeplearn24/DL_A1_mse_sweeps</a><br>Synced 5 W&B file(s), 1 media file(s), 0 artifact file(s) and 0 other file(s)"
      ],
      "text/plain": [
       "<IPython.core.display.HTML object>"
      ]
     },
     "metadata": {},
     "output_type": "display_data"
    },
    {
     "data": {
      "text/html": [
       "Find logs at: <code>./wandb/run-20250311_152543-vg0cs30h/logs</code>"
      ],
      "text/plain": [
       "<IPython.core.display.HTML object>"
      ]
     },
     "metadata": {},
     "output_type": "display_data"
    },
    {
     "name": "stderr",
     "output_type": "stream",
     "text": [
      "\u001b[34m\u001b[1mwandb\u001b[0m: Agent Starting Run: gmbzqinx with config:\n",
      "\u001b[34m\u001b[1mwandb\u001b[0m: \tactivation: sigmoid\n",
      "\u001b[34m\u001b[1mwandb\u001b[0m: \tbatch_size: 32\n",
      "\u001b[34m\u001b[1mwandb\u001b[0m: \tbeta: 0.9\n",
      "\u001b[34m\u001b[1mwandb\u001b[0m: \tbeta1: 0.9\n",
      "\u001b[34m\u001b[1mwandb\u001b[0m: \tbeta2: 0.999\n",
      "\u001b[34m\u001b[1mwandb\u001b[0m: \tepochs: 5\n",
      "\u001b[34m\u001b[1mwandb\u001b[0m: \tepsilon: 1e-08\n",
      "\u001b[34m\u001b[1mwandb\u001b[0m: \thidden_size: 128\n",
      "\u001b[34m\u001b[1mwandb\u001b[0m: \tlearning_rate: 0.0015682779487896476\n",
      "\u001b[34m\u001b[1mwandb\u001b[0m: \tloss: mse\n",
      "\u001b[34m\u001b[1mwandb\u001b[0m: \tmomentum: 0.9\n",
      "\u001b[34m\u001b[1mwandb\u001b[0m: \tnum_layers: 3\n",
      "\u001b[34m\u001b[1mwandb\u001b[0m: \toptimizer: rmsprop\n",
      "\u001b[34m\u001b[1mwandb\u001b[0m: \tweight_decay: 0\n",
      "\u001b[34m\u001b[1mwandb\u001b[0m: \tweight_init: random\n"
     ]
    },
    {
     "data": {
      "text/html": [
       "Tracking run with wandb version 0.19.8"
      ],
      "text/plain": [
       "<IPython.core.display.HTML object>"
      ]
     },
     "metadata": {},
     "output_type": "display_data"
    },
    {
     "data": {
      "text/html": [
       "Run data is saved locally in <code>/home/user/Documents/Courses/DA6401/wandb/run-20250311_152730-gmbzqinx</code>"
      ],
      "text/plain": [
       "<IPython.core.display.HTML object>"
      ]
     },
     "metadata": {},
     "output_type": "display_data"
    },
    {
     "data": {
      "text/html": [
       "Syncing run <strong><a href='https://wandb.ai/deeplearn24/DL_A1_mse_sweeps/runs/gmbzqinx' target=\"_blank\">rosy-sweep-20</a></strong> to <a href='https://wandb.ai/deeplearn24/DL_A1_mse_sweeps' target=\"_blank\">Weights & Biases</a> (<a href='https://wandb.me/developer-guide' target=\"_blank\">docs</a>)<br>Sweep page: <a href='https://wandb.ai/deeplearn24/DL_A1_mse_sweeps/sweeps/9crckhqe' target=\"_blank\">https://wandb.ai/deeplearn24/DL_A1_mse_sweeps/sweeps/9crckhqe</a>"
      ],
      "text/plain": [
       "<IPython.core.display.HTML object>"
      ]
     },
     "metadata": {},
     "output_type": "display_data"
    },
    {
     "data": {
      "text/html": [
       " View project at <a href='https://wandb.ai/deeplearn24/DL_A1_mse_sweeps' target=\"_blank\">https://wandb.ai/deeplearn24/DL_A1_mse_sweeps</a>"
      ],
      "text/plain": [
       "<IPython.core.display.HTML object>"
      ]
     },
     "metadata": {},
     "output_type": "display_data"
    },
    {
     "data": {
      "text/html": [
       " View sweep at <a href='https://wandb.ai/deeplearn24/DL_A1_mse_sweeps/sweeps/9crckhqe' target=\"_blank\">https://wandb.ai/deeplearn24/DL_A1_mse_sweeps/sweeps/9crckhqe</a>"
      ],
      "text/plain": [
       "<IPython.core.display.HTML object>"
      ]
     },
     "metadata": {},
     "output_type": "display_data"
    },
    {
     "data": {
      "text/html": [
       " View run at <a href='https://wandb.ai/deeplearn24/DL_A1_mse_sweeps/runs/gmbzqinx' target=\"_blank\">https://wandb.ai/deeplearn24/DL_A1_mse_sweeps/runs/gmbzqinx</a>"
      ],
      "text/plain": [
       "<IPython.core.display.HTML object>"
      ]
     },
     "metadata": {},
     "output_type": "display_data"
    },
    {
     "name": "stdout",
     "output_type": "stream",
     "text": [
      "Epoch: 1, Train Loss: 3.0308360462432837, Valid Loss: 2.360123340701539\n",
      "Epoch: 2, Train Loss: 2.3751305857879954, Valid Loss: 2.6028100060846797\n",
      "Epoch: 3, Train Loss: 2.3650204951027156, Valid Loss: 2.353250179693169\n",
      "Epoch: 4, Train Loss: 2.3030662526426364, Valid Loss: 2.202322772913595\n",
      "Epoch: 5, Train Loss: 2.2167373782773594, Valid Loss: 2.1941011160806707\n"
     ]
    },
    {
     "data": {
      "text/html": [],
      "text/plain": [
       "<IPython.core.display.HTML object>"
      ]
     },
     "metadata": {},
     "output_type": "display_data"
    },
    {
     "data": {
      "text/html": [
       "<br>    <style><br>        .wandb-row {<br>            display: flex;<br>            flex-direction: row;<br>            flex-wrap: wrap;<br>            justify-content: flex-start;<br>            width: 100%;<br>        }<br>        .wandb-col {<br>            display: flex;<br>            flex-direction: column;<br>            flex-basis: 100%;<br>            flex: 1;<br>            padding: 10px;<br>        }<br>    </style><br><div class=\"wandb-row\"><div class=\"wandb-col\"><h3>Run history:</h3><br/><table class=\"wandb\"><tr><td>epoch</td><td>▁▃▅▆█</td></tr><tr><td>train/accuracy</td><td>▃▁▁▆█</td></tr><tr><td>train/batch_loss</td><td>█▄▁▁▁▁▁▁▁▁▁▁▁▁▁▁▁▁▁▁▁▁▁▁▁▁▁▁▁▂▁▁▁▁▁▁▁▁▁▁</td></tr><tr><td>train/loss</td><td>█▂▂▂▁</td></tr><tr><td>val/accuracy</td><td>▁▁▁▅█</td></tr><tr><td>val/loss</td><td>▄█▄▁▁</td></tr></table><br/></div><div class=\"wandb-col\"><h3>Run summary:</h3><br/><table class=\"wandb\"><tr><td>epoch</td><td>5</td></tr><tr><td>train/accuracy</td><td>0.15325</td></tr><tr><td>train/batch_loss</td><td>2.03706</td></tr><tr><td>train/loss</td><td>2.21674</td></tr><tr><td>val/accuracy</td><td>0.1506</td></tr><tr><td>val/loss</td><td>2.1941</td></tr></table><br/></div></div>"
      ],
      "text/plain": [
       "<IPython.core.display.HTML object>"
      ]
     },
     "metadata": {},
     "output_type": "display_data"
    },
    {
     "data": {
      "text/html": [
       " View run <strong style=\"color:#cdcd00\">n3_h128_lr0.0015682779487896476_bs32_actsigmoid</strong> at: <a href='https://wandb.ai/deeplearn24/DL_A1_mse_sweeps/runs/gmbzqinx' target=\"_blank\">https://wandb.ai/deeplearn24/DL_A1_mse_sweeps/runs/gmbzqinx</a><br> View project at: <a href='https://wandb.ai/deeplearn24/DL_A1_mse_sweeps' target=\"_blank\">https://wandb.ai/deeplearn24/DL_A1_mse_sweeps</a><br>Synced 5 W&B file(s), 1 media file(s), 0 artifact file(s) and 0 other file(s)"
      ],
      "text/plain": [
       "<IPython.core.display.HTML object>"
      ]
     },
     "metadata": {},
     "output_type": "display_data"
    },
    {
     "data": {
      "text/html": [
       "Find logs at: <code>./wandb/run-20250311_152730-gmbzqinx/logs</code>"
      ],
      "text/plain": [
       "<IPython.core.display.HTML object>"
      ]
     },
     "metadata": {},
     "output_type": "display_data"
    },
    {
     "name": "stderr",
     "output_type": "stream",
     "text": [
      "\u001b[34m\u001b[1mwandb\u001b[0m: Agent Starting Run: qtrb60y9 with config:\n",
      "\u001b[34m\u001b[1mwandb\u001b[0m: \tactivation: sigmoid\n",
      "\u001b[34m\u001b[1mwandb\u001b[0m: \tbatch_size: 16\n",
      "\u001b[34m\u001b[1mwandb\u001b[0m: \tbeta: 0.9\n",
      "\u001b[34m\u001b[1mwandb\u001b[0m: \tbeta1: 0.9\n",
      "\u001b[34m\u001b[1mwandb\u001b[0m: \tbeta2: 0.999\n",
      "\u001b[34m\u001b[1mwandb\u001b[0m: \tepochs: 10\n",
      "\u001b[34m\u001b[1mwandb\u001b[0m: \tepsilon: 1e-08\n",
      "\u001b[34m\u001b[1mwandb\u001b[0m: \thidden_size: 32\n",
      "\u001b[34m\u001b[1mwandb\u001b[0m: \tlearning_rate: 0.00433938743706306\n",
      "\u001b[34m\u001b[1mwandb\u001b[0m: \tloss: mse\n",
      "\u001b[34m\u001b[1mwandb\u001b[0m: \tmomentum: 0.9\n",
      "\u001b[34m\u001b[1mwandb\u001b[0m: \tnum_layers: 3\n",
      "\u001b[34m\u001b[1mwandb\u001b[0m: \toptimizer: momentum\n",
      "\u001b[34m\u001b[1mwandb\u001b[0m: \tweight_decay: 0\n",
      "\u001b[34m\u001b[1mwandb\u001b[0m: \tweight_init: xavier\n"
     ]
    },
    {
     "data": {
      "text/html": [
       "Tracking run with wandb version 0.19.8"
      ],
      "text/plain": [
       "<IPython.core.display.HTML object>"
      ]
     },
     "metadata": {},
     "output_type": "display_data"
    },
    {
     "data": {
      "text/html": [
       "Run data is saved locally in <code>/home/user/Documents/Courses/DA6401/wandb/run-20250311_152838-qtrb60y9</code>"
      ],
      "text/plain": [
       "<IPython.core.display.HTML object>"
      ]
     },
     "metadata": {},
     "output_type": "display_data"
    },
    {
     "data": {
      "text/html": [
       "Syncing run <strong><a href='https://wandb.ai/deeplearn24/DL_A1_mse_sweeps/runs/qtrb60y9' target=\"_blank\">stoic-sweep-21</a></strong> to <a href='https://wandb.ai/deeplearn24/DL_A1_mse_sweeps' target=\"_blank\">Weights & Biases</a> (<a href='https://wandb.me/developer-guide' target=\"_blank\">docs</a>)<br>Sweep page: <a href='https://wandb.ai/deeplearn24/DL_A1_mse_sweeps/sweeps/9crckhqe' target=\"_blank\">https://wandb.ai/deeplearn24/DL_A1_mse_sweeps/sweeps/9crckhqe</a>"
      ],
      "text/plain": [
       "<IPython.core.display.HTML object>"
      ]
     },
     "metadata": {},
     "output_type": "display_data"
    },
    {
     "data": {
      "text/html": [
       " View project at <a href='https://wandb.ai/deeplearn24/DL_A1_mse_sweeps' target=\"_blank\">https://wandb.ai/deeplearn24/DL_A1_mse_sweeps</a>"
      ],
      "text/plain": [
       "<IPython.core.display.HTML object>"
      ]
     },
     "metadata": {},
     "output_type": "display_data"
    },
    {
     "data": {
      "text/html": [
       " View sweep at <a href='https://wandb.ai/deeplearn24/DL_A1_mse_sweeps/sweeps/9crckhqe' target=\"_blank\">https://wandb.ai/deeplearn24/DL_A1_mse_sweeps/sweeps/9crckhqe</a>"
      ],
      "text/plain": [
       "<IPython.core.display.HTML object>"
      ]
     },
     "metadata": {},
     "output_type": "display_data"
    },
    {
     "data": {
      "text/html": [
       " View run at <a href='https://wandb.ai/deeplearn24/DL_A1_mse_sweeps/runs/qtrb60y9' target=\"_blank\">https://wandb.ai/deeplearn24/DL_A1_mse_sweeps/runs/qtrb60y9</a>"
      ],
      "text/plain": [
       "<IPython.core.display.HTML object>"
      ]
     },
     "metadata": {},
     "output_type": "display_data"
    },
    {
     "name": "stdout",
     "output_type": "stream",
     "text": [
      "Epoch: 1, Train Loss: 2.3079462173724443, Valid Loss: 2.311576096359366\n",
      "Epoch: 2, Train Loss: 2.309726633036176, Valid Loss: 2.3122130316964054\n",
      "Epoch: 3, Train Loss: 2.31006335036398, Valid Loss: 2.3116682109167255\n",
      "Epoch: 4, Train Loss: 2.3075036717266544, Valid Loss: 2.3089964805621177\n",
      "Epoch: 5, Train Loss: 2.305882920558314, Valid Loss: 2.3088976641376022\n",
      "Epoch: 6, Train Loss: 2.302645521845696, Valid Loss: 2.288349781900861\n",
      "Epoch: 7, Train Loss: 2.301481635948591, Valid Loss: 2.307881531069273\n",
      "Epoch: 8, Train Loss: 2.304520104104014, Valid Loss: 2.3101754269511154\n",
      "Epoch: 9, Train Loss: 2.304305482386242, Valid Loss: 2.3037144837169397\n",
      "Epoch: 10, Train Loss: 2.3021995446380883, Valid Loss: 2.305355061662518\n"
     ]
    },
    {
     "data": {
      "text/html": [],
      "text/plain": [
       "<IPython.core.display.HTML object>"
      ]
     },
     "metadata": {},
     "output_type": "display_data"
    },
    {
     "data": {
      "text/html": [
       "<br>    <style><br>        .wandb-row {<br>            display: flex;<br>            flex-direction: row;<br>            flex-wrap: wrap;<br>            justify-content: flex-start;<br>            width: 100%;<br>        }<br>        .wandb-col {<br>            display: flex;<br>            flex-direction: column;<br>            flex-basis: 100%;<br>            flex: 1;<br>            padding: 10px;<br>        }<br>    </style><br><div class=\"wandb-row\"><div class=\"wandb-col\"><h3>Run history:</h3><br/><table class=\"wandb\"><tr><td>epoch</td><td>▁▂▃▃▄▅▆▆▇█</td></tr><tr><td>train/accuracy</td><td>▄▁▁▄▅█▇▅▄▇</td></tr><tr><td>train/batch_loss</td><td>▅▄▅▃▄▃▅▃▅▆▃▃▄▃▂▃▃▅▂▄▂▅▃▆▅▅▄▅▆█▁▃▁▄▂▃▂▆▆▂</td></tr><tr><td>train/loss</td><td>▆██▆▅▂▁▃▃▂</td></tr><tr><td>val/accuracy</td><td>▂▂▁▅▆█▃▃▅▄</td></tr><tr><td>val/loss</td><td>███▇▇▁▇▇▆▆</td></tr></table><br/></div><div class=\"wandb-col\"><h3>Run summary:</h3><br/><table class=\"wandb\"><tr><td>epoch</td><td>10</td></tr><tr><td>train/accuracy</td><td>0.10906</td></tr><tr><td>train/batch_loss</td><td>2.24627</td></tr><tr><td>train/loss</td><td>2.3022</td></tr><tr><td>val/accuracy</td><td>0.111</td></tr><tr><td>val/loss</td><td>2.30536</td></tr></table><br/></div></div>"
      ],
      "text/plain": [
       "<IPython.core.display.HTML object>"
      ]
     },
     "metadata": {},
     "output_type": "display_data"
    },
    {
     "data": {
      "text/html": [
       " View run <strong style=\"color:#cdcd00\">n3_h32_lr0.00433938743706306_bs16_actsigmoid</strong> at: <a href='https://wandb.ai/deeplearn24/DL_A1_mse_sweeps/runs/qtrb60y9' target=\"_blank\">https://wandb.ai/deeplearn24/DL_A1_mse_sweeps/runs/qtrb60y9</a><br> View project at: <a href='https://wandb.ai/deeplearn24/DL_A1_mse_sweeps' target=\"_blank\">https://wandb.ai/deeplearn24/DL_A1_mse_sweeps</a><br>Synced 5 W&B file(s), 1 media file(s), 0 artifact file(s) and 0 other file(s)"
      ],
      "text/plain": [
       "<IPython.core.display.HTML object>"
      ]
     },
     "metadata": {},
     "output_type": "display_data"
    },
    {
     "data": {
      "text/html": [
       "Find logs at: <code>./wandb/run-20250311_152838-qtrb60y9/logs</code>"
      ],
      "text/plain": [
       "<IPython.core.display.HTML object>"
      ]
     },
     "metadata": {},
     "output_type": "display_data"
    },
    {
     "name": "stderr",
     "output_type": "stream",
     "text": [
      "\u001b[34m\u001b[1mwandb\u001b[0m: Agent Starting Run: is0aqqth with config:\n",
      "\u001b[34m\u001b[1mwandb\u001b[0m: \tactivation: ReLU\n",
      "\u001b[34m\u001b[1mwandb\u001b[0m: \tbatch_size: 16\n",
      "\u001b[34m\u001b[1mwandb\u001b[0m: \tbeta: 0.9\n",
      "\u001b[34m\u001b[1mwandb\u001b[0m: \tbeta1: 0.9\n",
      "\u001b[34m\u001b[1mwandb\u001b[0m: \tbeta2: 0.999\n",
      "\u001b[34m\u001b[1mwandb\u001b[0m: \tepochs: 10\n",
      "\u001b[34m\u001b[1mwandb\u001b[0m: \tepsilon: 1e-08\n",
      "\u001b[34m\u001b[1mwandb\u001b[0m: \thidden_size: 32\n",
      "\u001b[34m\u001b[1mwandb\u001b[0m: \tlearning_rate: 0.008504114565812682\n",
      "\u001b[34m\u001b[1mwandb\u001b[0m: \tloss: mse\n",
      "\u001b[34m\u001b[1mwandb\u001b[0m: \tmomentum: 0.9\n",
      "\u001b[34m\u001b[1mwandb\u001b[0m: \tnum_layers: 4\n",
      "\u001b[34m\u001b[1mwandb\u001b[0m: \toptimizer: momentum\n",
      "\u001b[34m\u001b[1mwandb\u001b[0m: \tweight_decay: 0.5\n",
      "\u001b[34m\u001b[1mwandb\u001b[0m: \tweight_init: random\n"
     ]
    },
    {
     "data": {
      "text/html": [
       "Tracking run with wandb version 0.19.8"
      ],
      "text/plain": [
       "<IPython.core.display.HTML object>"
      ]
     },
     "metadata": {},
     "output_type": "display_data"
    },
    {
     "data": {
      "text/html": [
       "Run data is saved locally in <code>/home/user/Documents/Courses/DA6401/wandb/run-20250311_152916-is0aqqth</code>"
      ],
      "text/plain": [
       "<IPython.core.display.HTML object>"
      ]
     },
     "metadata": {},
     "output_type": "display_data"
    },
    {
     "data": {
      "text/html": [
       "Syncing run <strong><a href='https://wandb.ai/deeplearn24/DL_A1_mse_sweeps/runs/is0aqqth' target=\"_blank\">amber-sweep-22</a></strong> to <a href='https://wandb.ai/deeplearn24/DL_A1_mse_sweeps' target=\"_blank\">Weights & Biases</a> (<a href='https://wandb.me/developer-guide' target=\"_blank\">docs</a>)<br>Sweep page: <a href='https://wandb.ai/deeplearn24/DL_A1_mse_sweeps/sweeps/9crckhqe' target=\"_blank\">https://wandb.ai/deeplearn24/DL_A1_mse_sweeps/sweeps/9crckhqe</a>"
      ],
      "text/plain": [
       "<IPython.core.display.HTML object>"
      ]
     },
     "metadata": {},
     "output_type": "display_data"
    },
    {
     "data": {
      "text/html": [
       " View project at <a href='https://wandb.ai/deeplearn24/DL_A1_mse_sweeps' target=\"_blank\">https://wandb.ai/deeplearn24/DL_A1_mse_sweeps</a>"
      ],
      "text/plain": [
       "<IPython.core.display.HTML object>"
      ]
     },
     "metadata": {},
     "output_type": "display_data"
    },
    {
     "data": {
      "text/html": [
       " View sweep at <a href='https://wandb.ai/deeplearn24/DL_A1_mse_sweeps/sweeps/9crckhqe' target=\"_blank\">https://wandb.ai/deeplearn24/DL_A1_mse_sweeps/sweeps/9crckhqe</a>"
      ],
      "text/plain": [
       "<IPython.core.display.HTML object>"
      ]
     },
     "metadata": {},
     "output_type": "display_data"
    },
    {
     "data": {
      "text/html": [
       " View run at <a href='https://wandb.ai/deeplearn24/DL_A1_mse_sweeps/runs/is0aqqth' target=\"_blank\">https://wandb.ai/deeplearn24/DL_A1_mse_sweeps/runs/is0aqqth</a>"
      ],
      "text/plain": [
       "<IPython.core.display.HTML object>"
      ]
     },
     "metadata": {},
     "output_type": "display_data"
    },
    {
     "name": "stdout",
     "output_type": "stream",
     "text": [
      "Epoch: 1, Train Loss: 372.9306878978902, Valid Loss: 10.542143150515468\n",
      "Epoch: 2, Train Loss: 10.688583167052457, Valid Loss: 10.736256076054183\n",
      "Epoch: 3, Train Loss: 10.622577418851614, Valid Loss: 10.429450760639142\n",
      "Epoch: 4, Train Loss: 10.64985733208274, Valid Loss: 10.61768692819555\n",
      "Epoch: 5, Train Loss: 10.744042942016618, Valid Loss: 10.848479787560438\n",
      "Epoch: 6, Train Loss: 10.767161436518034, Valid Loss: 10.862398697124052\n",
      "Epoch: 7, Train Loss: 10.835685937627009, Valid Loss: 10.868457340689835\n",
      "Epoch: 8, Train Loss: 10.925024504216037, Valid Loss: 10.768251895979404\n",
      "Epoch: 9, Train Loss: 10.924042810439227, Valid Loss: 11.02328244375652\n",
      "Epoch: 10, Train Loss: 10.971092533498062, Valid Loss: 10.817400611025498\n"
     ]
    },
    {
     "data": {
      "text/html": [],
      "text/plain": [
       "<IPython.core.display.HTML object>"
      ]
     },
     "metadata": {},
     "output_type": "display_data"
    },
    {
     "data": {
      "text/html": [
       "<br>    <style><br>        .wandb-row {<br>            display: flex;<br>            flex-direction: row;<br>            flex-wrap: wrap;<br>            justify-content: flex-start;<br>            width: 100%;<br>        }<br>        .wandb-col {<br>            display: flex;<br>            flex-direction: column;<br>            flex-basis: 100%;<br>            flex: 1;<br>            padding: 10px;<br>        }<br>    </style><br><div class=\"wandb-row\"><div class=\"wandb-col\"><h3>Run history:</h3><br/><table class=\"wandb\"><tr><td>epoch</td><td>▁▂▃▃▄▅▆▆▇█</td></tr><tr><td>train/accuracy</td><td>▁▆▆▇▇███▇█</td></tr><tr><td>train/batch_loss</td><td>█▁▁▁▁▁▁▁▁▁▁▁▁▁▁▁▁▁▁▁▁▁▁▁▁▁▁▁▁▁▁▁▁▁▁▁▁▁▁▁</td></tr><tr><td>train/loss</td><td>█▁▁▁▁▁▁▁▁▁</td></tr><tr><td>val/accuracy</td><td>▃▃▃▅▅▁█▇▅█</td></tr><tr><td>val/loss</td><td>▂▅▁▃▆▆▆▅█▆</td></tr></table><br/></div><div class=\"wandb-col\"><h3>Run summary:</h3><br/><table class=\"wandb\"><tr><td>epoch</td><td>10</td></tr><tr><td>train/accuracy</td><td>0.70724</td></tr><tr><td>train/batch_loss</td><td>10.77784</td></tr><tr><td>train/loss</td><td>10.97109</td></tr><tr><td>val/accuracy</td><td>0.74167</td></tr><tr><td>val/loss</td><td>10.8174</td></tr></table><br/></div></div>"
      ],
      "text/plain": [
       "<IPython.core.display.HTML object>"
      ]
     },
     "metadata": {},
     "output_type": "display_data"
    },
    {
     "data": {
      "text/html": [
       " View run <strong style=\"color:#cdcd00\">n4_h32_lr0.008504114565812682_bs16_actReLU</strong> at: <a href='https://wandb.ai/deeplearn24/DL_A1_mse_sweeps/runs/is0aqqth' target=\"_blank\">https://wandb.ai/deeplearn24/DL_A1_mse_sweeps/runs/is0aqqth</a><br> View project at: <a href='https://wandb.ai/deeplearn24/DL_A1_mse_sweeps' target=\"_blank\">https://wandb.ai/deeplearn24/DL_A1_mse_sweeps</a><br>Synced 5 W&B file(s), 1 media file(s), 0 artifact file(s) and 0 other file(s)"
      ],
      "text/plain": [
       "<IPython.core.display.HTML object>"
      ]
     },
     "metadata": {},
     "output_type": "display_data"
    },
    {
     "data": {
      "text/html": [
       "Find logs at: <code>./wandb/run-20250311_152916-is0aqqth/logs</code>"
      ],
      "text/plain": [
       "<IPython.core.display.HTML object>"
      ]
     },
     "metadata": {},
     "output_type": "display_data"
    },
    {
     "name": "stderr",
     "output_type": "stream",
     "text": [
      "\u001b[34m\u001b[1mwandb\u001b[0m: Agent Starting Run: aifu64b5 with config:\n",
      "\u001b[34m\u001b[1mwandb\u001b[0m: \tactivation: tanh\n",
      "\u001b[34m\u001b[1mwandb\u001b[0m: \tbatch_size: 32\n",
      "\u001b[34m\u001b[1mwandb\u001b[0m: \tbeta: 0.9\n",
      "\u001b[34m\u001b[1mwandb\u001b[0m: \tbeta1: 0.9\n",
      "\u001b[34m\u001b[1mwandb\u001b[0m: \tbeta2: 0.999\n",
      "\u001b[34m\u001b[1mwandb\u001b[0m: \tepochs: 5\n",
      "\u001b[34m\u001b[1mwandb\u001b[0m: \tepsilon: 1e-08\n",
      "\u001b[34m\u001b[1mwandb\u001b[0m: \thidden_size: 32\n",
      "\u001b[34m\u001b[1mwandb\u001b[0m: \tlearning_rate: 0.0038961995342533394\n",
      "\u001b[34m\u001b[1mwandb\u001b[0m: \tloss: mse\n",
      "\u001b[34m\u001b[1mwandb\u001b[0m: \tmomentum: 0.9\n",
      "\u001b[34m\u001b[1mwandb\u001b[0m: \tnum_layers: 3\n",
      "\u001b[34m\u001b[1mwandb\u001b[0m: \toptimizer: rmsprop\n",
      "\u001b[34m\u001b[1mwandb\u001b[0m: \tweight_decay: 0.0005\n",
      "\u001b[34m\u001b[1mwandb\u001b[0m: \tweight_init: random\n"
     ]
    },
    {
     "data": {
      "text/html": [
       "Tracking run with wandb version 0.19.8"
      ],
      "text/plain": [
       "<IPython.core.display.HTML object>"
      ]
     },
     "metadata": {},
     "output_type": "display_data"
    },
    {
     "data": {
      "text/html": [
       "Run data is saved locally in <code>/home/user/Documents/Courses/DA6401/wandb/run-20250311_152953-aifu64b5</code>"
      ],
      "text/plain": [
       "<IPython.core.display.HTML object>"
      ]
     },
     "metadata": {},
     "output_type": "display_data"
    },
    {
     "data": {
      "text/html": [
       "Syncing run <strong><a href='https://wandb.ai/deeplearn24/DL_A1_mse_sweeps/runs/aifu64b5' target=\"_blank\">dauntless-sweep-23</a></strong> to <a href='https://wandb.ai/deeplearn24/DL_A1_mse_sweeps' target=\"_blank\">Weights & Biases</a> (<a href='https://wandb.me/developer-guide' target=\"_blank\">docs</a>)<br>Sweep page: <a href='https://wandb.ai/deeplearn24/DL_A1_mse_sweeps/sweeps/9crckhqe' target=\"_blank\">https://wandb.ai/deeplearn24/DL_A1_mse_sweeps/sweeps/9crckhqe</a>"
      ],
      "text/plain": [
       "<IPython.core.display.HTML object>"
      ]
     },
     "metadata": {},
     "output_type": "display_data"
    },
    {
     "data": {
      "text/html": [
       " View project at <a href='https://wandb.ai/deeplearn24/DL_A1_mse_sweeps' target=\"_blank\">https://wandb.ai/deeplearn24/DL_A1_mse_sweeps</a>"
      ],
      "text/plain": [
       "<IPython.core.display.HTML object>"
      ]
     },
     "metadata": {},
     "output_type": "display_data"
    },
    {
     "data": {
      "text/html": [
       " View sweep at <a href='https://wandb.ai/deeplearn24/DL_A1_mse_sweeps/sweeps/9crckhqe' target=\"_blank\">https://wandb.ai/deeplearn24/DL_A1_mse_sweeps/sweeps/9crckhqe</a>"
      ],
      "text/plain": [
       "<IPython.core.display.HTML object>"
      ]
     },
     "metadata": {},
     "output_type": "display_data"
    },
    {
     "data": {
      "text/html": [
       " View run at <a href='https://wandb.ai/deeplearn24/DL_A1_mse_sweeps/runs/aifu64b5' target=\"_blank\">https://wandb.ai/deeplearn24/DL_A1_mse_sweeps/runs/aifu64b5</a>"
      ],
      "text/plain": [
       "<IPython.core.display.HTML object>"
      ]
     },
     "metadata": {},
     "output_type": "display_data"
    },
    {
     "name": "stdout",
     "output_type": "stream",
     "text": [
      "Epoch: 1, Train Loss: 37.617739855658854, Valid Loss: 90.89543858558324\n",
      "Epoch: 2, Train Loss: 195.06579452510442, Valid Loss: 301.37455023155957\n",
      "Epoch: 3, Train Loss: 761.4270687038427, Valid Loss: 1190.0083608297275\n",
      "Epoch: 4, Train Loss: 1140.3292545711583, Valid Loss: 1227.887754024003\n",
      "Epoch: 5, Train Loss: 2582.6675410209536, Valid Loss: 3270.361176968694\n"
     ]
    },
    {
     "data": {
      "text/html": [],
      "text/plain": [
       "<IPython.core.display.HTML object>"
      ]
     },
     "metadata": {},
     "output_type": "display_data"
    },
    {
     "data": {
      "text/html": [
       "<br>    <style><br>        .wandb-row {<br>            display: flex;<br>            flex-direction: row;<br>            flex-wrap: wrap;<br>            justify-content: flex-start;<br>            width: 100%;<br>        }<br>        .wandb-col {<br>            display: flex;<br>            flex-direction: column;<br>            flex-basis: 100%;<br>            flex: 1;<br>            padding: 10px;<br>        }<br>    </style><br><div class=\"wandb-row\"><div class=\"wandb-col\"><h3>Run history:</h3><br/><table class=\"wandb\"><tr><td>epoch</td><td>▁▃▅▆█</td></tr><tr><td>train/accuracy</td><td>▅█▁▁▁</td></tr><tr><td>train/batch_loss</td><td>▁▁▁▁▁▁▁▁▁▁▁▁▁▁▁▁▁▁▂▂▂▂▃▃▃▄▄▄▃▃▄▅▅▅▆▇████</td></tr><tr><td>train/loss</td><td>▁▁▃▄█</td></tr><tr><td>val/accuracy</td><td>█▇▁▁▁</td></tr><tr><td>val/loss</td><td>▁▁▃▄█</td></tr></table><br/></div><div class=\"wandb-col\"><h3>Run summary:</h3><br/><table class=\"wandb\"><tr><td>epoch</td><td>5</td></tr><tr><td>train/accuracy</td><td>0.10062</td></tr><tr><td>train/batch_loss</td><td>3270.45424</td></tr><tr><td>train/loss</td><td>2582.66754</td></tr><tr><td>val/accuracy</td><td>0.09907</td></tr><tr><td>val/loss</td><td>3270.36118</td></tr></table><br/></div></div>"
      ],
      "text/plain": [
       "<IPython.core.display.HTML object>"
      ]
     },
     "metadata": {},
     "output_type": "display_data"
    },
    {
     "data": {
      "text/html": [
       " View run <strong style=\"color:#cdcd00\">n3_h32_lr0.0038961995342533394_bs32_acttanh</strong> at: <a href='https://wandb.ai/deeplearn24/DL_A1_mse_sweeps/runs/aifu64b5' target=\"_blank\">https://wandb.ai/deeplearn24/DL_A1_mse_sweeps/runs/aifu64b5</a><br> View project at: <a href='https://wandb.ai/deeplearn24/DL_A1_mse_sweeps' target=\"_blank\">https://wandb.ai/deeplearn24/DL_A1_mse_sweeps</a><br>Synced 5 W&B file(s), 1 media file(s), 0 artifact file(s) and 0 other file(s)"
      ],
      "text/plain": [
       "<IPython.core.display.HTML object>"
      ]
     },
     "metadata": {},
     "output_type": "display_data"
    },
    {
     "data": {
      "text/html": [
       "Find logs at: <code>./wandb/run-20250311_152953-aifu64b5/logs</code>"
      ],
      "text/plain": [
       "<IPython.core.display.HTML object>"
      ]
     },
     "metadata": {},
     "output_type": "display_data"
    },
    {
     "name": "stderr",
     "output_type": "stream",
     "text": [
      "\u001b[34m\u001b[1mwandb\u001b[0m: Agent Starting Run: t343wgy2 with config:\n",
      "\u001b[34m\u001b[1mwandb\u001b[0m: \tactivation: sigmoid\n",
      "\u001b[34m\u001b[1mwandb\u001b[0m: \tbatch_size: 32\n",
      "\u001b[34m\u001b[1mwandb\u001b[0m: \tbeta: 0.9\n",
      "\u001b[34m\u001b[1mwandb\u001b[0m: \tbeta1: 0.9\n",
      "\u001b[34m\u001b[1mwandb\u001b[0m: \tbeta2: 0.999\n",
      "\u001b[34m\u001b[1mwandb\u001b[0m: \tepochs: 10\n",
      "\u001b[34m\u001b[1mwandb\u001b[0m: \tepsilon: 1e-08\n",
      "\u001b[34m\u001b[1mwandb\u001b[0m: \thidden_size: 32\n",
      "\u001b[34m\u001b[1mwandb\u001b[0m: \tlearning_rate: 0.0018318819260337768\n",
      "\u001b[34m\u001b[1mwandb\u001b[0m: \tloss: mse\n",
      "\u001b[34m\u001b[1mwandb\u001b[0m: \tmomentum: 0.9\n",
      "\u001b[34m\u001b[1mwandb\u001b[0m: \tnum_layers: 3\n",
      "\u001b[34m\u001b[1mwandb\u001b[0m: \toptimizer: nag\n",
      "\u001b[34m\u001b[1mwandb\u001b[0m: \tweight_decay: 0.0005\n",
      "\u001b[34m\u001b[1mwandb\u001b[0m: \tweight_init: xavier\n"
     ]
    },
    {
     "data": {
      "text/html": [
       "Tracking run with wandb version 0.19.8"
      ],
      "text/plain": [
       "<IPython.core.display.HTML object>"
      ]
     },
     "metadata": {},
     "output_type": "display_data"
    },
    {
     "data": {
      "text/html": [
       "Run data is saved locally in <code>/home/user/Documents/Courses/DA6401/wandb/run-20250311_153014-t343wgy2</code>"
      ],
      "text/plain": [
       "<IPython.core.display.HTML object>"
      ]
     },
     "metadata": {},
     "output_type": "display_data"
    },
    {
     "data": {
      "text/html": [
       "Syncing run <strong><a href='https://wandb.ai/deeplearn24/DL_A1_mse_sweeps/runs/t343wgy2' target=\"_blank\">snowy-sweep-24</a></strong> to <a href='https://wandb.ai/deeplearn24/DL_A1_mse_sweeps' target=\"_blank\">Weights & Biases</a> (<a href='https://wandb.me/developer-guide' target=\"_blank\">docs</a>)<br>Sweep page: <a href='https://wandb.ai/deeplearn24/DL_A1_mse_sweeps/sweeps/9crckhqe' target=\"_blank\">https://wandb.ai/deeplearn24/DL_A1_mse_sweeps/sweeps/9crckhqe</a>"
      ],
      "text/plain": [
       "<IPython.core.display.HTML object>"
      ]
     },
     "metadata": {},
     "output_type": "display_data"
    },
    {
     "data": {
      "text/html": [
       " View project at <a href='https://wandb.ai/deeplearn24/DL_A1_mse_sweeps' target=\"_blank\">https://wandb.ai/deeplearn24/DL_A1_mse_sweeps</a>"
      ],
      "text/plain": [
       "<IPython.core.display.HTML object>"
      ]
     },
     "metadata": {},
     "output_type": "display_data"
    },
    {
     "data": {
      "text/html": [
       " View sweep at <a href='https://wandb.ai/deeplearn24/DL_A1_mse_sweeps/sweeps/9crckhqe' target=\"_blank\">https://wandb.ai/deeplearn24/DL_A1_mse_sweeps/sweeps/9crckhqe</a>"
      ],
      "text/plain": [
       "<IPython.core.display.HTML object>"
      ]
     },
     "metadata": {},
     "output_type": "display_data"
    },
    {
     "data": {
      "text/html": [
       " View run at <a href='https://wandb.ai/deeplearn24/DL_A1_mse_sweeps/runs/t343wgy2' target=\"_blank\">https://wandb.ai/deeplearn24/DL_A1_mse_sweeps/runs/t343wgy2</a>"
      ],
      "text/plain": [
       "<IPython.core.display.HTML object>"
      ]
     },
     "metadata": {},
     "output_type": "display_data"
    },
    {
     "name": "stdout",
     "output_type": "stream",
     "text": [
      "Epoch: 1, Train Loss: 5.715575485993111, Valid Loss: 13.58042420730348\n",
      "Epoch: 2, Train Loss: 27.66431469845139, Valid Loss: 47.03597690244306\n",
      "Epoch: 3, Train Loss: 77.99121341115531, Valid Loss: 115.77190514536078\n",
      "Epoch: 4, Train Loss: 164.9613970596526, Valid Loss: 220.89305054889854\n",
      "Epoch: 5, Train Loss: 286.0658224099072, Valid Loss: 349.0072802715502\n",
      "Epoch: 6, Train Loss: 398.02220256113355, Valid Loss: 442.96552296693716\n",
      "Epoch: 7, Train Loss: 468.56630446558216, Valid Loss: 486.6509214959795\n",
      "Epoch: 8, Train Loss: 526.3212762889905, Valid Loss: 586.4366426347285\n",
      "Epoch: 9, Train Loss: 666.9602135576665, Valid Loss: 758.1358611614636\n",
      "Epoch: 10, Train Loss: 848.9315189251105, Valid Loss: 897.0869227963713\n"
     ]
    },
    {
     "data": {
      "text/html": [],
      "text/plain": [
       "<IPython.core.display.HTML object>"
      ]
     },
     "metadata": {},
     "output_type": "display_data"
    },
    {
     "data": {
      "text/html": [
       "<br>    <style><br>        .wandb-row {<br>            display: flex;<br>            flex-direction: row;<br>            flex-wrap: wrap;<br>            justify-content: flex-start;<br>            width: 100%;<br>        }<br>        .wandb-col {<br>            display: flex;<br>            flex-direction: column;<br>            flex-basis: 100%;<br>            flex: 1;<br>            padding: 10px;<br>        }<br>    </style><br><div class=\"wandb-row\"><div class=\"wandb-col\"><h3>Run history:</h3><br/><table class=\"wandb\"><tr><td>epoch</td><td>▁▂▃▃▄▅▆▆▇█</td></tr><tr><td>train/accuracy</td><td>▁▁▁▁▂▇▇█▇▄</td></tr><tr><td>train/batch_loss</td><td>▁▁▁▁▁▁▁▂▂▂▂▂▂▂▂▃▃▃▄▄▄▄▄▄▄▅▅▅▅▅▅▅▆▆▆▆▇▇██</td></tr><tr><td>train/loss</td><td>▁▁▂▂▃▄▅▅▆█</td></tr><tr><td>val/accuracy</td><td>▁▁▁▁▅▅█▆▅▁</td></tr><tr><td>val/loss</td><td>▁▁▂▃▄▄▅▆▇█</td></tr></table><br/></div><div class=\"wandb-col\"><h3>Run summary:</h3><br/><table class=\"wandb\"><tr><td>epoch</td><td>10</td></tr><tr><td>train/accuracy</td><td>0.14062</td></tr><tr><td>train/batch_loss</td><td>897.0542</td></tr><tr><td>train/loss</td><td>848.93152</td></tr><tr><td>val/accuracy</td><td>0.10189</td></tr><tr><td>val/loss</td><td>897.08692</td></tr></table><br/></div></div>"
      ],
      "text/plain": [
       "<IPython.core.display.HTML object>"
      ]
     },
     "metadata": {},
     "output_type": "display_data"
    },
    {
     "data": {
      "text/html": [
       " View run <strong style=\"color:#cdcd00\">n3_h32_lr0.0018318819260337768_bs32_actsigmoid</strong> at: <a href='https://wandb.ai/deeplearn24/DL_A1_mse_sweeps/runs/t343wgy2' target=\"_blank\">https://wandb.ai/deeplearn24/DL_A1_mse_sweeps/runs/t343wgy2</a><br> View project at: <a href='https://wandb.ai/deeplearn24/DL_A1_mse_sweeps' target=\"_blank\">https://wandb.ai/deeplearn24/DL_A1_mse_sweeps</a><br>Synced 5 W&B file(s), 1 media file(s), 0 artifact file(s) and 0 other file(s)"
      ],
      "text/plain": [
       "<IPython.core.display.HTML object>"
      ]
     },
     "metadata": {},
     "output_type": "display_data"
    },
    {
     "data": {
      "text/html": [
       "Find logs at: <code>./wandb/run-20250311_153014-t343wgy2/logs</code>"
      ],
      "text/plain": [
       "<IPython.core.display.HTML object>"
      ]
     },
     "metadata": {},
     "output_type": "display_data"
    },
    {
     "name": "stderr",
     "output_type": "stream",
     "text": [
      "\u001b[34m\u001b[1mwandb\u001b[0m: Sweep Agent: Waiting for job.\n",
      "\u001b[34m\u001b[1mwandb\u001b[0m: Job received.\n",
      "\u001b[34m\u001b[1mwandb\u001b[0m: Agent Starting Run: ud8fcola with config:\n",
      "\u001b[34m\u001b[1mwandb\u001b[0m: \tactivation: sigmoid\n",
      "\u001b[34m\u001b[1mwandb\u001b[0m: \tbatch_size: 64\n",
      "\u001b[34m\u001b[1mwandb\u001b[0m: \tbeta: 0.9\n",
      "\u001b[34m\u001b[1mwandb\u001b[0m: \tbeta1: 0.9\n",
      "\u001b[34m\u001b[1mwandb\u001b[0m: \tbeta2: 0.999\n",
      "\u001b[34m\u001b[1mwandb\u001b[0m: \tepochs: 5\n",
      "\u001b[34m\u001b[1mwandb\u001b[0m: \tepsilon: 1e-08\n",
      "\u001b[34m\u001b[1mwandb\u001b[0m: \thidden_size: 128\n",
      "\u001b[34m\u001b[1mwandb\u001b[0m: \tlearning_rate: 0.0019289551208198257\n",
      "\u001b[34m\u001b[1mwandb\u001b[0m: \tloss: mse\n",
      "\u001b[34m\u001b[1mwandb\u001b[0m: \tmomentum: 0.9\n",
      "\u001b[34m\u001b[1mwandb\u001b[0m: \tnum_layers: 5\n",
      "\u001b[34m\u001b[1mwandb\u001b[0m: \toptimizer: adam\n",
      "\u001b[34m\u001b[1mwandb\u001b[0m: \tweight_decay: 0\n",
      "\u001b[34m\u001b[1mwandb\u001b[0m: \tweight_init: random\n"
     ]
    },
    {
     "data": {
      "text/html": [
       "Tracking run with wandb version 0.19.8"
      ],
      "text/plain": [
       "<IPython.core.display.HTML object>"
      ]
     },
     "metadata": {},
     "output_type": "display_data"
    },
    {
     "data": {
      "text/html": [
       "Run data is saved locally in <code>/home/user/Documents/Courses/DA6401/wandb/run-20250311_153055-ud8fcola</code>"
      ],
      "text/plain": [
       "<IPython.core.display.HTML object>"
      ]
     },
     "metadata": {},
     "output_type": "display_data"
    },
    {
     "data": {
      "text/html": [
       "Syncing run <strong><a href='https://wandb.ai/deeplearn24/DL_A1_mse_sweeps/runs/ud8fcola' target=\"_blank\">wobbly-sweep-25</a></strong> to <a href='https://wandb.ai/deeplearn24/DL_A1_mse_sweeps' target=\"_blank\">Weights & Biases</a> (<a href='https://wandb.me/developer-guide' target=\"_blank\">docs</a>)<br>Sweep page: <a href='https://wandb.ai/deeplearn24/DL_A1_mse_sweeps/sweeps/9crckhqe' target=\"_blank\">https://wandb.ai/deeplearn24/DL_A1_mse_sweeps/sweeps/9crckhqe</a>"
      ],
      "text/plain": [
       "<IPython.core.display.HTML object>"
      ]
     },
     "metadata": {},
     "output_type": "display_data"
    },
    {
     "data": {
      "text/html": [
       " View project at <a href='https://wandb.ai/deeplearn24/DL_A1_mse_sweeps' target=\"_blank\">https://wandb.ai/deeplearn24/DL_A1_mse_sweeps</a>"
      ],
      "text/plain": [
       "<IPython.core.display.HTML object>"
      ]
     },
     "metadata": {},
     "output_type": "display_data"
    },
    {
     "data": {
      "text/html": [
       " View sweep at <a href='https://wandb.ai/deeplearn24/DL_A1_mse_sweeps/sweeps/9crckhqe' target=\"_blank\">https://wandb.ai/deeplearn24/DL_A1_mse_sweeps/sweeps/9crckhqe</a>"
      ],
      "text/plain": [
       "<IPython.core.display.HTML object>"
      ]
     },
     "metadata": {},
     "output_type": "display_data"
    },
    {
     "data": {
      "text/html": [
       " View run at <a href='https://wandb.ai/deeplearn24/DL_A1_mse_sweeps/runs/ud8fcola' target=\"_blank\">https://wandb.ai/deeplearn24/DL_A1_mse_sweeps/runs/ud8fcola</a>"
      ],
      "text/plain": [
       "<IPython.core.display.HTML object>"
      ]
     },
     "metadata": {},
     "output_type": "display_data"
    },
    {
     "name": "stdout",
     "output_type": "stream",
     "text": [
      "Epoch: 1, Train Loss: 5.598939357145272, Valid Loss: 2.350001428910045\n",
      "Epoch: 2, Train Loss: 2.323084266401351, Valid Loss: 2.3555318050180856\n",
      "Epoch: 3, Train Loss: 2.322218999094096, Valid Loss: 2.3759050499005303\n",
      "Epoch: 4, Train Loss: 2.3239035080673367, Valid Loss: 2.3345745131617446\n",
      "Epoch: 5, Train Loss: 2.323799091354148, Valid Loss: 2.3398021583019846\n"
     ]
    },
    {
     "data": {
      "text/html": [],
      "text/plain": [
       "<IPython.core.display.HTML object>"
      ]
     },
     "metadata": {},
     "output_type": "display_data"
    },
    {
     "data": {
      "text/html": [
       "<br>    <style><br>        .wandb-row {<br>            display: flex;<br>            flex-direction: row;<br>            flex-wrap: wrap;<br>            justify-content: flex-start;<br>            width: 100%;<br>        }<br>        .wandb-col {<br>            display: flex;<br>            flex-direction: column;<br>            flex-basis: 100%;<br>            flex: 1;<br>            padding: 10px;<br>        }<br>    </style><br><div class=\"wandb-row\"><div class=\"wandb-col\"><h3>Run history:</h3><br/><table class=\"wandb\"><tr><td>epoch</td><td>▁▃▅▆█</td></tr><tr><td>train/accuracy</td><td>▂█▁█▆</td></tr><tr><td>train/batch_loss</td><td>▆▇█▇█▁▁▁▁▁▁▁▁▁▁▁▁▁▁▁▁▁▁▁▁▁▁▁▁▁▁▁▁▁▁▁▁▁▁▁</td></tr><tr><td>train/loss</td><td>█▁▁▁▁</td></tr><tr><td>val/accuracy</td><td>▁▁▁▁█</td></tr><tr><td>val/loss</td><td>▄▅█▁▂</td></tr></table><br/></div><div class=\"wandb-col\"><h3>Run summary:</h3><br/><table class=\"wandb\"><tr><td>epoch</td><td>5</td></tr><tr><td>train/accuracy</td><td>0.09969</td></tr><tr><td>train/batch_loss</td><td>2.39944</td></tr><tr><td>train/loss</td><td>2.3238</td></tr><tr><td>val/accuracy</td><td>0.10101</td></tr><tr><td>val/loss</td><td>2.3398</td></tr></table><br/></div></div>"
      ],
      "text/plain": [
       "<IPython.core.display.HTML object>"
      ]
     },
     "metadata": {},
     "output_type": "display_data"
    },
    {
     "data": {
      "text/html": [
       " View run <strong style=\"color:#cdcd00\">n5_h128_lr0.0019289551208198257_bs64_actsigmoid</strong> at: <a href='https://wandb.ai/deeplearn24/DL_A1_mse_sweeps/runs/ud8fcola' target=\"_blank\">https://wandb.ai/deeplearn24/DL_A1_mse_sweeps/runs/ud8fcola</a><br> View project at: <a href='https://wandb.ai/deeplearn24/DL_A1_mse_sweeps' target=\"_blank\">https://wandb.ai/deeplearn24/DL_A1_mse_sweeps</a><br>Synced 5 W&B file(s), 1 media file(s), 0 artifact file(s) and 0 other file(s)"
      ],
      "text/plain": [
       "<IPython.core.display.HTML object>"
      ]
     },
     "metadata": {},
     "output_type": "display_data"
    },
    {
     "data": {
      "text/html": [
       "Find logs at: <code>./wandb/run-20250311_153055-ud8fcola/logs</code>"
      ],
      "text/plain": [
       "<IPython.core.display.HTML object>"
      ]
     },
     "metadata": {},
     "output_type": "display_data"
    },
    {
     "name": "stderr",
     "output_type": "stream",
     "text": [
      "\u001b[34m\u001b[1mwandb\u001b[0m: Sweep Agent: Waiting for job.\n",
      "\u001b[34m\u001b[1mwandb\u001b[0m: Job received.\n",
      "\u001b[34m\u001b[1mwandb\u001b[0m: Agent Starting Run: 4n97aprx with config:\n",
      "\u001b[34m\u001b[1mwandb\u001b[0m: \tactivation: sigmoid\n",
      "\u001b[34m\u001b[1mwandb\u001b[0m: \tbatch_size: 32\n",
      "\u001b[34m\u001b[1mwandb\u001b[0m: \tbeta: 0.9\n",
      "\u001b[34m\u001b[1mwandb\u001b[0m: \tbeta1: 0.9\n",
      "\u001b[34m\u001b[1mwandb\u001b[0m: \tbeta2: 0.999\n",
      "\u001b[34m\u001b[1mwandb\u001b[0m: \tepochs: 10\n",
      "\u001b[34m\u001b[1mwandb\u001b[0m: \tepsilon: 1e-08\n",
      "\u001b[34m\u001b[1mwandb\u001b[0m: \thidden_size: 128\n",
      "\u001b[34m\u001b[1mwandb\u001b[0m: \tlearning_rate: 0.00042881598722385847\n",
      "\u001b[34m\u001b[1mwandb\u001b[0m: \tloss: mse\n",
      "\u001b[34m\u001b[1mwandb\u001b[0m: \tmomentum: 0.9\n",
      "\u001b[34m\u001b[1mwandb\u001b[0m: \tnum_layers: 3\n",
      "\u001b[34m\u001b[1mwandb\u001b[0m: \toptimizer: momentum\n",
      "\u001b[34m\u001b[1mwandb\u001b[0m: \tweight_decay: 0.5\n",
      "\u001b[34m\u001b[1mwandb\u001b[0m: \tweight_init: random\n"
     ]
    },
    {
     "data": {
      "text/html": [
       "Tracking run with wandb version 0.19.8"
      ],
      "text/plain": [
       "<IPython.core.display.HTML object>"
      ]
     },
     "metadata": {},
     "output_type": "display_data"
    },
    {
     "data": {
      "text/html": [
       "Run data is saved locally in <code>/home/user/Documents/Courses/DA6401/wandb/run-20250311_153248-4n97aprx</code>"
      ],
      "text/plain": [
       "<IPython.core.display.HTML object>"
      ]
     },
     "metadata": {},
     "output_type": "display_data"
    },
    {
     "data": {
      "text/html": [
       "Syncing run <strong><a href='https://wandb.ai/deeplearn24/DL_A1_mse_sweeps/runs/4n97aprx' target=\"_blank\">atomic-sweep-26</a></strong> to <a href='https://wandb.ai/deeplearn24/DL_A1_mse_sweeps' target=\"_blank\">Weights & Biases</a> (<a href='https://wandb.me/developer-guide' target=\"_blank\">docs</a>)<br>Sweep page: <a href='https://wandb.ai/deeplearn24/DL_A1_mse_sweeps/sweeps/9crckhqe' target=\"_blank\">https://wandb.ai/deeplearn24/DL_A1_mse_sweeps/sweeps/9crckhqe</a>"
      ],
      "text/plain": [
       "<IPython.core.display.HTML object>"
      ]
     },
     "metadata": {},
     "output_type": "display_data"
    },
    {
     "data": {
      "text/html": [
       " View project at <a href='https://wandb.ai/deeplearn24/DL_A1_mse_sweeps' target=\"_blank\">https://wandb.ai/deeplearn24/DL_A1_mse_sweeps</a>"
      ],
      "text/plain": [
       "<IPython.core.display.HTML object>"
      ]
     },
     "metadata": {},
     "output_type": "display_data"
    },
    {
     "data": {
      "text/html": [
       " View sweep at <a href='https://wandb.ai/deeplearn24/DL_A1_mse_sweeps/sweeps/9crckhqe' target=\"_blank\">https://wandb.ai/deeplearn24/DL_A1_mse_sweeps/sweeps/9crckhqe</a>"
      ],
      "text/plain": [
       "<IPython.core.display.HTML object>"
      ]
     },
     "metadata": {},
     "output_type": "display_data"
    },
    {
     "data": {
      "text/html": [
       " View run at <a href='https://wandb.ai/deeplearn24/DL_A1_mse_sweeps/runs/4n97aprx' target=\"_blank\">https://wandb.ai/deeplearn24/DL_A1_mse_sweeps/runs/4n97aprx</a>"
      ],
      "text/plain": [
       "<IPython.core.display.HTML object>"
      ]
     },
     "metadata": {},
     "output_type": "display_data"
    },
    {
     "name": "stdout",
     "output_type": "stream",
     "text": [
      "Epoch: 1, Train Loss: 34215.36497609132, Valid Loss: 34133.06690889564\n",
      "Epoch: 2, Train Loss: 34724.22873198691, Valid Loss: 36490.81953142733\n",
      "Epoch: 3, Train Loss: 41066.85914343927, Valid Loss: 47184.5900617572\n",
      "Epoch: 4, Train Loss: 55817.304091067876, Valid Loss: 65585.12577140519\n",
      "Epoch: 5, Train Loss: 76512.3717611035, Valid Loss: 89189.14443473863\n",
      "Epoch: 6, Train Loss: 104927.29869139774, Valid Loss: 122206.18580063253\n",
      "Epoch: 7, Train Loss: 142395.77202769977, Valid Loss: 164467.62660236884\n",
      "Epoch: 8, Train Loss: 189220.44080710463, Valid Loss: 215491.06203400943\n",
      "Epoch: 9, Train Loss: 242792.4553156873, Valid Loss: 270657.0410738278\n",
      "Epoch: 10, Train Loss: 299681.7407524509, Valid Loss: 330417.52046626713\n"
     ]
    },
    {
     "data": {
      "text/html": [],
      "text/plain": [
       "<IPython.core.display.HTML object>"
      ]
     },
     "metadata": {},
     "output_type": "display_data"
    },
    {
     "data": {
      "text/html": [
       "<br>    <style><br>        .wandb-row {<br>            display: flex;<br>            flex-direction: row;<br>            flex-wrap: wrap;<br>            justify-content: flex-start;<br>            width: 100%;<br>        }<br>        .wandb-col {<br>            display: flex;<br>            flex-direction: column;<br>            flex-basis: 100%;<br>            flex: 1;<br>            padding: 10px;<br>        }<br>    </style><br><div class=\"wandb-row\"><div class=\"wandb-col\"><h3>Run history:</h3><br/><table class=\"wandb\"><tr><td>epoch</td><td>▁▂▃▃▄▅▆▆▇█</td></tr><tr><td>train/accuracy</td><td>▃▄▃▃▁▆█▆█▇</td></tr><tr><td>train/batch_loss</td><td>▁▁▁▁▁▁▁▁▁▁▁▁▁▁▁▂▂▂▂▂▃▃▃▃▄▄▄▅▅▅▆▆▆▆▇▇▇▇██</td></tr><tr><td>train/loss</td><td>▁▁▁▂▂▃▄▅▆█</td></tr><tr><td>val/accuracy</td><td>▂▅▁▄▄█▇▄▄▄</td></tr><tr><td>val/loss</td><td>▁▁▁▂▂▃▄▅▇█</td></tr></table><br/></div><div class=\"wandb-col\"><h3>Run summary:</h3><br/><table class=\"wandb\"><tr><td>epoch</td><td>10</td></tr><tr><td>train/accuracy</td><td>0.14257</td></tr><tr><td>train/batch_loss</td><td>330390.57444</td></tr><tr><td>train/loss</td><td>299681.74075</td></tr><tr><td>val/accuracy</td><td>0.10239</td></tr><tr><td>val/loss</td><td>330417.52047</td></tr></table><br/></div></div>"
      ],
      "text/plain": [
       "<IPython.core.display.HTML object>"
      ]
     },
     "metadata": {},
     "output_type": "display_data"
    },
    {
     "data": {
      "text/html": [
       " View run <strong style=\"color:#cdcd00\">n3_h128_lr0.00042881598722385847_bs32_actsigmoid</strong> at: <a href='https://wandb.ai/deeplearn24/DL_A1_mse_sweeps/runs/4n97aprx' target=\"_blank\">https://wandb.ai/deeplearn24/DL_A1_mse_sweeps/runs/4n97aprx</a><br> View project at: <a href='https://wandb.ai/deeplearn24/DL_A1_mse_sweeps' target=\"_blank\">https://wandb.ai/deeplearn24/DL_A1_mse_sweeps</a><br>Synced 5 W&B file(s), 1 media file(s), 0 artifact file(s) and 0 other file(s)"
      ],
      "text/plain": [
       "<IPython.core.display.HTML object>"
      ]
     },
     "metadata": {},
     "output_type": "display_data"
    },
    {
     "data": {
      "text/html": [
       "Find logs at: <code>./wandb/run-20250311_153248-4n97aprx/logs</code>"
      ],
      "text/plain": [
       "<IPython.core.display.HTML object>"
      ]
     },
     "metadata": {},
     "output_type": "display_data"
    },
    {
     "name": "stderr",
     "output_type": "stream",
     "text": [
      "\u001b[34m\u001b[1mwandb\u001b[0m: Agent Starting Run: r19azjbb with config:\n",
      "\u001b[34m\u001b[1mwandb\u001b[0m: \tactivation: tanh\n",
      "\u001b[34m\u001b[1mwandb\u001b[0m: \tbatch_size: 64\n",
      "\u001b[34m\u001b[1mwandb\u001b[0m: \tbeta: 0.9\n",
      "\u001b[34m\u001b[1mwandb\u001b[0m: \tbeta1: 0.9\n",
      "\u001b[34m\u001b[1mwandb\u001b[0m: \tbeta2: 0.999\n",
      "\u001b[34m\u001b[1mwandb\u001b[0m: \tepochs: 10\n",
      "\u001b[34m\u001b[1mwandb\u001b[0m: \tepsilon: 1e-08\n",
      "\u001b[34m\u001b[1mwandb\u001b[0m: \thidden_size: 64\n",
      "\u001b[34m\u001b[1mwandb\u001b[0m: \tlearning_rate: 0.002223839122219557\n",
      "\u001b[34m\u001b[1mwandb\u001b[0m: \tloss: mse\n",
      "\u001b[34m\u001b[1mwandb\u001b[0m: \tmomentum: 0.9\n",
      "\u001b[34m\u001b[1mwandb\u001b[0m: \tnum_layers: 5\n",
      "\u001b[34m\u001b[1mwandb\u001b[0m: \toptimizer: sgd\n",
      "\u001b[34m\u001b[1mwandb\u001b[0m: \tweight_decay: 0\n",
      "\u001b[34m\u001b[1mwandb\u001b[0m: \tweight_init: random\n"
     ]
    },
    {
     "data": {
      "text/html": [
       "Tracking run with wandb version 0.19.8"
      ],
      "text/plain": [
       "<IPython.core.display.HTML object>"
      ]
     },
     "metadata": {},
     "output_type": "display_data"
    },
    {
     "data": {
      "text/html": [
       "Run data is saved locally in <code>/home/user/Documents/Courses/DA6401/wandb/run-20250311_153454-r19azjbb</code>"
      ],
      "text/plain": [
       "<IPython.core.display.HTML object>"
      ]
     },
     "metadata": {},
     "output_type": "display_data"
    },
    {
     "data": {
      "text/html": [
       "Syncing run <strong><a href='https://wandb.ai/deeplearn24/DL_A1_mse_sweeps/runs/r19azjbb' target=\"_blank\">fragrant-sweep-27</a></strong> to <a href='https://wandb.ai/deeplearn24/DL_A1_mse_sweeps' target=\"_blank\">Weights & Biases</a> (<a href='https://wandb.me/developer-guide' target=\"_blank\">docs</a>)<br>Sweep page: <a href='https://wandb.ai/deeplearn24/DL_A1_mse_sweeps/sweeps/9crckhqe' target=\"_blank\">https://wandb.ai/deeplearn24/DL_A1_mse_sweeps/sweeps/9crckhqe</a>"
      ],
      "text/plain": [
       "<IPython.core.display.HTML object>"
      ]
     },
     "metadata": {},
     "output_type": "display_data"
    },
    {
     "data": {
      "text/html": [
       " View project at <a href='https://wandb.ai/deeplearn24/DL_A1_mse_sweeps' target=\"_blank\">https://wandb.ai/deeplearn24/DL_A1_mse_sweeps</a>"
      ],
      "text/plain": [
       "<IPython.core.display.HTML object>"
      ]
     },
     "metadata": {},
     "output_type": "display_data"
    },
    {
     "data": {
      "text/html": [
       " View sweep at <a href='https://wandb.ai/deeplearn24/DL_A1_mse_sweeps/sweeps/9crckhqe' target=\"_blank\">https://wandb.ai/deeplearn24/DL_A1_mse_sweeps/sweeps/9crckhqe</a>"
      ],
      "text/plain": [
       "<IPython.core.display.HTML object>"
      ]
     },
     "metadata": {},
     "output_type": "display_data"
    },
    {
     "data": {
      "text/html": [
       " View run at <a href='https://wandb.ai/deeplearn24/DL_A1_mse_sweeps/runs/r19azjbb' target=\"_blank\">https://wandb.ai/deeplearn24/DL_A1_mse_sweeps/runs/r19azjbb</a>"
      ],
      "text/plain": [
       "<IPython.core.display.HTML object>"
      ]
     },
     "metadata": {},
     "output_type": "display_data"
    },
    {
     "name": "stdout",
     "output_type": "stream",
     "text": [
      "Epoch: 1, Train Loss: 9.082325987296931, Valid Loss: 6.11899913061006\n",
      "Epoch: 2, Train Loss: 5.163630934196217, Valid Loss: 3.9111300772697515\n",
      "Epoch: 3, Train Loss: 2.93882199504622, Valid Loss: 2.359943507647318\n",
      "Epoch: 4, Train Loss: 2.141835866341512, Valid Loss: 1.9919229538309033\n",
      "Epoch: 5, Train Loss: 2.104013499785666, Valid Loss: 2.4008590604044766\n",
      "Epoch: 6, Train Loss: 2.237235117281461, Valid Loss: 2.3319146775469664\n",
      "Epoch: 7, Train Loss: 2.2621194759366774, Valid Loss: 1.9611703103975804\n",
      "Epoch: 8, Train Loss: 2.2173082510024216, Valid Loss: 2.2907634352906956\n",
      "Epoch: 9, Train Loss: 2.0179728716107554, Valid Loss: 1.7760678423892304\n",
      "Epoch: 10, Train Loss: 2.0355205540056724, Valid Loss: 1.9681081937876284\n"
     ]
    },
    {
     "data": {
      "text/html": [],
      "text/plain": [
       "<IPython.core.display.HTML object>"
      ]
     },
     "metadata": {},
     "output_type": "display_data"
    },
    {
     "data": {
      "text/html": [
       "<br>    <style><br>        .wandb-row {<br>            display: flex;<br>            flex-direction: row;<br>            flex-wrap: wrap;<br>            justify-content: flex-start;<br>            width: 100%;<br>        }<br>        .wandb-col {<br>            display: flex;<br>            flex-direction: column;<br>            flex-basis: 100%;<br>            flex: 1;<br>            padding: 10px;<br>        }<br>    </style><br><div class=\"wandb-row\"><div class=\"wandb-col\"><h3>Run history:</h3><br/><table class=\"wandb\"><tr><td>epoch</td><td>▁▂▃▃▄▅▆▆▇█</td></tr><tr><td>train/accuracy</td><td>▁▂▃█▆▃▃▃██</td></tr><tr><td>train/batch_loss</td><td>██▇▇▆▅▅▄▃▃▂▂▂▁▁▁▁▁▁▂▁▁▁▁▁▂▁▁▁▁▁▁▁▁▁▁▁▁▁▁</td></tr><tr><td>train/loss</td><td>█▄▂▁▁▁▁▁▁▁</td></tr><tr><td>val/accuracy</td><td>▂▂▅█▁▁▅▂▇▇</td></tr><tr><td>val/loss</td><td>█▄▂▁▂▂▁▂▁▁</td></tr></table><br/></div><div class=\"wandb-col\"><h3>Run summary:</h3><br/><table class=\"wandb\"><tr><td>epoch</td><td>10</td></tr><tr><td>train/accuracy</td><td>0.21821</td></tr><tr><td>train/batch_loss</td><td>1.8129</td></tr><tr><td>train/loss</td><td>2.03552</td></tr><tr><td>val/accuracy</td><td>0.24091</td></tr><tr><td>val/loss</td><td>1.96811</td></tr></table><br/></div></div>"
      ],
      "text/plain": [
       "<IPython.core.display.HTML object>"
      ]
     },
     "metadata": {},
     "output_type": "display_data"
    },
    {
     "data": {
      "text/html": [
       " View run <strong style=\"color:#cdcd00\">n5_h64_lr0.002223839122219557_bs64_acttanh</strong> at: <a href='https://wandb.ai/deeplearn24/DL_A1_mse_sweeps/runs/r19azjbb' target=\"_blank\">https://wandb.ai/deeplearn24/DL_A1_mse_sweeps/runs/r19azjbb</a><br> View project at: <a href='https://wandb.ai/deeplearn24/DL_A1_mse_sweeps' target=\"_blank\">https://wandb.ai/deeplearn24/DL_A1_mse_sweeps</a><br>Synced 5 W&B file(s), 1 media file(s), 0 artifact file(s) and 0 other file(s)"
      ],
      "text/plain": [
       "<IPython.core.display.HTML object>"
      ]
     },
     "metadata": {},
     "output_type": "display_data"
    },
    {
     "data": {
      "text/html": [
       "Find logs at: <code>./wandb/run-20250311_153454-r19azjbb/logs</code>"
      ],
      "text/plain": [
       "<IPython.core.display.HTML object>"
      ]
     },
     "metadata": {},
     "output_type": "display_data"
    },
    {
     "name": "stderr",
     "output_type": "stream",
     "text": [
      "\u001b[34m\u001b[1mwandb\u001b[0m: Agent Starting Run: 8gukk2bf with config:\n",
      "\u001b[34m\u001b[1mwandb\u001b[0m: \tactivation: ReLU\n",
      "\u001b[34m\u001b[1mwandb\u001b[0m: \tbatch_size: 16\n",
      "\u001b[34m\u001b[1mwandb\u001b[0m: \tbeta: 0.9\n",
      "\u001b[34m\u001b[1mwandb\u001b[0m: \tbeta1: 0.9\n",
      "\u001b[34m\u001b[1mwandb\u001b[0m: \tbeta2: 0.999\n",
      "\u001b[34m\u001b[1mwandb\u001b[0m: \tepochs: 10\n",
      "\u001b[34m\u001b[1mwandb\u001b[0m: \tepsilon: 1e-08\n",
      "\u001b[34m\u001b[1mwandb\u001b[0m: \thidden_size: 128\n",
      "\u001b[34m\u001b[1mwandb\u001b[0m: \tlearning_rate: 0.007665308017895822\n",
      "\u001b[34m\u001b[1mwandb\u001b[0m: \tloss: mse\n",
      "\u001b[34m\u001b[1mwandb\u001b[0m: \tmomentum: 0.9\n",
      "\u001b[34m\u001b[1mwandb\u001b[0m: \tnum_layers: 4\n",
      "\u001b[34m\u001b[1mwandb\u001b[0m: \toptimizer: adam\n",
      "\u001b[34m\u001b[1mwandb\u001b[0m: \tweight_decay: 0\n",
      "\u001b[34m\u001b[1mwandb\u001b[0m: \tweight_init: random\n"
     ]
    },
    {
     "data": {
      "text/html": [
       "Tracking run with wandb version 0.19.8"
      ],
      "text/plain": [
       "<IPython.core.display.HTML object>"
      ]
     },
     "metadata": {},
     "output_type": "display_data"
    },
    {
     "data": {
      "text/html": [
       "Run data is saved locally in <code>/home/user/Documents/Courses/DA6401/wandb/run-20250311_153553-8gukk2bf</code>"
      ],
      "text/plain": [
       "<IPython.core.display.HTML object>"
      ]
     },
     "metadata": {},
     "output_type": "display_data"
    },
    {
     "data": {
      "text/html": [
       "Syncing run <strong><a href='https://wandb.ai/deeplearn24/DL_A1_mse_sweeps/runs/8gukk2bf' target=\"_blank\">effortless-sweep-28</a></strong> to <a href='https://wandb.ai/deeplearn24/DL_A1_mse_sweeps' target=\"_blank\">Weights & Biases</a> (<a href='https://wandb.me/developer-guide' target=\"_blank\">docs</a>)<br>Sweep page: <a href='https://wandb.ai/deeplearn24/DL_A1_mse_sweeps/sweeps/9crckhqe' target=\"_blank\">https://wandb.ai/deeplearn24/DL_A1_mse_sweeps/sweeps/9crckhqe</a>"
      ],
      "text/plain": [
       "<IPython.core.display.HTML object>"
      ]
     },
     "metadata": {},
     "output_type": "display_data"
    },
    {
     "data": {
      "text/html": [
       " View project at <a href='https://wandb.ai/deeplearn24/DL_A1_mse_sweeps' target=\"_blank\">https://wandb.ai/deeplearn24/DL_A1_mse_sweeps</a>"
      ],
      "text/plain": [
       "<IPython.core.display.HTML object>"
      ]
     },
     "metadata": {},
     "output_type": "display_data"
    },
    {
     "data": {
      "text/html": [
       " View sweep at <a href='https://wandb.ai/deeplearn24/DL_A1_mse_sweeps/sweeps/9crckhqe' target=\"_blank\">https://wandb.ai/deeplearn24/DL_A1_mse_sweeps/sweeps/9crckhqe</a>"
      ],
      "text/plain": [
       "<IPython.core.display.HTML object>"
      ]
     },
     "metadata": {},
     "output_type": "display_data"
    },
    {
     "data": {
      "text/html": [
       " View run at <a href='https://wandb.ai/deeplearn24/DL_A1_mse_sweeps/runs/8gukk2bf' target=\"_blank\">https://wandb.ai/deeplearn24/DL_A1_mse_sweeps/runs/8gukk2bf</a>"
      ],
      "text/plain": [
       "<IPython.core.display.HTML object>"
      ]
     },
     "metadata": {},
     "output_type": "display_data"
    },
    {
     "name": "stdout",
     "output_type": "stream",
     "text": [
      "Epoch: 1, Train Loss: 4.76528543614009, Valid Loss: 2.1862644152665474\n",
      "Epoch: 2, Train Loss: 2.2611701066264667, Valid Loss: 2.258697040554473\n",
      "Epoch: 3, Train Loss: 2.286326831715235, Valid Loss: 2.2725614693271927\n",
      "Epoch: 4, Train Loss: 2.2345717560270146, Valid Loss: 2.243929917154923\n",
      "Epoch: 5, Train Loss: 2.2370342574700213, Valid Loss: 2.2055080174438864\n",
      "Epoch: 6, Train Loss: 2.2015334038602754, Valid Loss: 2.222574972774937\n",
      "Epoch: 7, Train Loss: 2.206393739135671, Valid Loss: 2.159628968103084\n",
      "Epoch: 8, Train Loss: 2.211251859966747, Valid Loss: 2.192415315436593\n",
      "Epoch: 9, Train Loss: 2.202411221769592, Valid Loss: 2.2170494004063253\n",
      "Epoch: 10, Train Loss: 2.222731088753997, Valid Loss: 2.2086858811037975\n"
     ]
    },
    {
     "data": {
      "text/html": [],
      "text/plain": [
       "<IPython.core.display.HTML object>"
      ]
     },
     "metadata": {},
     "output_type": "display_data"
    },
    {
     "data": {
      "text/html": [
       "<br>    <style><br>        .wandb-row {<br>            display: flex;<br>            flex-direction: row;<br>            flex-wrap: wrap;<br>            justify-content: flex-start;<br>            width: 100%;<br>        }<br>        .wandb-col {<br>            display: flex;<br>            flex-direction: column;<br>            flex-basis: 100%;<br>            flex: 1;<br>            padding: 10px;<br>        }<br>    </style><br><div class=\"wandb-row\"><div class=\"wandb-col\"><h3>Run history:</h3><br/><table class=\"wandb\"><tr><td>epoch</td><td>▁▂▃▃▄▅▆▆▇█</td></tr><tr><td>train/accuracy</td><td>█▂▁▁▁▂▂▂▂▂</td></tr><tr><td>train/batch_loss</td><td>█▅▁▁▁▁▁▁▁▁▁▁▁▁▂▁▁▁▁▁▁▁▂▁▁▁▁▁▁▁▁▁▁▁▁▁▁▁▂▁</td></tr><tr><td>train/loss</td><td>█▁▁▁▁▁▁▁▁▁</td></tr><tr><td>val/accuracy</td><td>█▁▃▂▅▄▇▅▄▄</td></tr><tr><td>val/loss</td><td>▃▇█▆▄▅▁▃▅▄</td></tr></table><br/></div><div class=\"wandb-col\"><h3>Run summary:</h3><br/><table class=\"wandb\"><tr><td>epoch</td><td>10</td></tr><tr><td>train/accuracy</td><td>0.14602</td></tr><tr><td>train/batch_loss</td><td>2.33834</td></tr><tr><td>train/loss</td><td>2.22273</td></tr><tr><td>val/accuracy</td><td>0.14517</td></tr><tr><td>val/loss</td><td>2.20869</td></tr></table><br/></div></div>"
      ],
      "text/plain": [
       "<IPython.core.display.HTML object>"
      ]
     },
     "metadata": {},
     "output_type": "display_data"
    },
    {
     "data": {
      "text/html": [
       " View run <strong style=\"color:#cdcd00\">n4_h128_lr0.007665308017895822_bs16_actReLU</strong> at: <a href='https://wandb.ai/deeplearn24/DL_A1_mse_sweeps/runs/8gukk2bf' target=\"_blank\">https://wandb.ai/deeplearn24/DL_A1_mse_sweeps/runs/8gukk2bf</a><br> View project at: <a href='https://wandb.ai/deeplearn24/DL_A1_mse_sweeps' target=\"_blank\">https://wandb.ai/deeplearn24/DL_A1_mse_sweeps</a><br>Synced 5 W&B file(s), 1 media file(s), 0 artifact file(s) and 0 other file(s)"
      ],
      "text/plain": [
       "<IPython.core.display.HTML object>"
      ]
     },
     "metadata": {},
     "output_type": "display_data"
    },
    {
     "data": {
      "text/html": [
       "Find logs at: <code>./wandb/run-20250311_153553-8gukk2bf/logs</code>"
      ],
      "text/plain": [
       "<IPython.core.display.HTML object>"
      ]
     },
     "metadata": {},
     "output_type": "display_data"
    },
    {
     "name": "stderr",
     "output_type": "stream",
     "text": [
      "\u001b[34m\u001b[1mwandb\u001b[0m: Agent Starting Run: uzcjyf00 with config:\n",
      "\u001b[34m\u001b[1mwandb\u001b[0m: \tactivation: ReLU\n",
      "\u001b[34m\u001b[1mwandb\u001b[0m: \tbatch_size: 16\n",
      "\u001b[34m\u001b[1mwandb\u001b[0m: \tbeta: 0.9\n",
      "\u001b[34m\u001b[1mwandb\u001b[0m: \tbeta1: 0.9\n",
      "\u001b[34m\u001b[1mwandb\u001b[0m: \tbeta2: 0.999\n",
      "\u001b[34m\u001b[1mwandb\u001b[0m: \tepochs: 5\n",
      "\u001b[34m\u001b[1mwandb\u001b[0m: \tepsilon: 1e-08\n",
      "\u001b[34m\u001b[1mwandb\u001b[0m: \thidden_size: 64\n",
      "\u001b[34m\u001b[1mwandb\u001b[0m: \tlearning_rate: 0.003771312938274122\n",
      "\u001b[34m\u001b[1mwandb\u001b[0m: \tloss: mse\n",
      "\u001b[34m\u001b[1mwandb\u001b[0m: \tmomentum: 0.9\n",
      "\u001b[34m\u001b[1mwandb\u001b[0m: \tnum_layers: 3\n",
      "\u001b[34m\u001b[1mwandb\u001b[0m: \toptimizer: adam\n",
      "\u001b[34m\u001b[1mwandb\u001b[0m: \tweight_decay: 0.0005\n",
      "\u001b[34m\u001b[1mwandb\u001b[0m: \tweight_init: xavier\n"
     ]
    },
    {
     "data": {
      "text/html": [
       "Tracking run with wandb version 0.19.8"
      ],
      "text/plain": [
       "<IPython.core.display.HTML object>"
      ]
     },
     "metadata": {},
     "output_type": "display_data"
    },
    {
     "data": {
      "text/html": [
       "Run data is saved locally in <code>/home/user/Documents/Courses/DA6401/wandb/run-20250311_153852-uzcjyf00</code>"
      ],
      "text/plain": [
       "<IPython.core.display.HTML object>"
      ]
     },
     "metadata": {},
     "output_type": "display_data"
    },
    {
     "data": {
      "text/html": [
       "Syncing run <strong><a href='https://wandb.ai/deeplearn24/DL_A1_mse_sweeps/runs/uzcjyf00' target=\"_blank\">toasty-sweep-29</a></strong> to <a href='https://wandb.ai/deeplearn24/DL_A1_mse_sweeps' target=\"_blank\">Weights & Biases</a> (<a href='https://wandb.me/developer-guide' target=\"_blank\">docs</a>)<br>Sweep page: <a href='https://wandb.ai/deeplearn24/DL_A1_mse_sweeps/sweeps/9crckhqe' target=\"_blank\">https://wandb.ai/deeplearn24/DL_A1_mse_sweeps/sweeps/9crckhqe</a>"
      ],
      "text/plain": [
       "<IPython.core.display.HTML object>"
      ]
     },
     "metadata": {},
     "output_type": "display_data"
    },
    {
     "data": {
      "text/html": [
       " View project at <a href='https://wandb.ai/deeplearn24/DL_A1_mse_sweeps' target=\"_blank\">https://wandb.ai/deeplearn24/DL_A1_mse_sweeps</a>"
      ],
      "text/plain": [
       "<IPython.core.display.HTML object>"
      ]
     },
     "metadata": {},
     "output_type": "display_data"
    },
    {
     "data": {
      "text/html": [
       " View sweep at <a href='https://wandb.ai/deeplearn24/DL_A1_mse_sweeps/sweeps/9crckhqe' target=\"_blank\">https://wandb.ai/deeplearn24/DL_A1_mse_sweeps/sweeps/9crckhqe</a>"
      ],
      "text/plain": [
       "<IPython.core.display.HTML object>"
      ]
     },
     "metadata": {},
     "output_type": "display_data"
    },
    {
     "data": {
      "text/html": [
       " View run at <a href='https://wandb.ai/deeplearn24/DL_A1_mse_sweeps/runs/uzcjyf00' target=\"_blank\">https://wandb.ai/deeplearn24/DL_A1_mse_sweeps/runs/uzcjyf00</a>"
      ],
      "text/plain": [
       "<IPython.core.display.HTML object>"
      ]
     },
     "metadata": {},
     "output_type": "display_data"
    },
    {
     "name": "stdout",
     "output_type": "stream",
     "text": [
      "Epoch: 1, Train Loss: 1.8724473851009567, Valid Loss: 2.0081524921542018\n",
      "Epoch: 2, Train Loss: 2.046552522008234, Valid Loss: 4.463568649673431\n",
      "Epoch: 3, Train Loss: 2.5316672116865195, Valid Loss: 2.466177526083691\n",
      "Epoch: 4, Train Loss: 3.151961456262464, Valid Loss: 3.1849841569524804\n",
      "Epoch: 5, Train Loss: 3.5303220104944217, Valid Loss: 3.4253289202307173\n"
     ]
    },
    {
     "data": {
      "text/html": [],
      "text/plain": [
       "<IPython.core.display.HTML object>"
      ]
     },
     "metadata": {},
     "output_type": "display_data"
    },
    {
     "data": {
      "text/html": [
       "<br>    <style><br>        .wandb-row {<br>            display: flex;<br>            flex-direction: row;<br>            flex-wrap: wrap;<br>            justify-content: flex-start;<br>            width: 100%;<br>        }<br>        .wandb-col {<br>            display: flex;<br>            flex-direction: column;<br>            flex-basis: 100%;<br>            flex: 1;<br>            padding: 10px;<br>        }<br>    </style><br><div class=\"wandb-row\"><div class=\"wandb-col\"><h3>Run history:</h3><br/><table class=\"wandb\"><tr><td>epoch</td><td>▁▃▅▆█</td></tr><tr><td>train/accuracy</td><td>▅█▄▅▁</td></tr><tr><td>train/batch_loss</td><td>▃▃▁▂▄▄▃▄▇▅▂▄▃▃▄▅▃▃▃█▇▃▃▅▄▃▇▄▅▆▄▅▄▅▅▄▅▆▄▄</td></tr><tr><td>train/loss</td><td>▁▂▄▆█</td></tr><tr><td>val/accuracy</td><td>█▁▇█▃</td></tr><tr><td>val/loss</td><td>▁█▂▄▅</td></tr></table><br/></div><div class=\"wandb-col\"><h3>Run summary:</h3><br/><table class=\"wandb\"><tr><td>epoch</td><td>5</td></tr><tr><td>train/accuracy</td><td>0.61774</td></tr><tr><td>train/batch_loss</td><td>3.01758</td></tr><tr><td>train/loss</td><td>3.53032</td></tr><tr><td>val/accuracy</td><td>0.54967</td></tr><tr><td>val/loss</td><td>3.42533</td></tr></table><br/></div></div>"
      ],
      "text/plain": [
       "<IPython.core.display.HTML object>"
      ]
     },
     "metadata": {},
     "output_type": "display_data"
    },
    {
     "data": {
      "text/html": [
       " View run <strong style=\"color:#cdcd00\">n3_h64_lr0.003771312938274122_bs16_actReLU</strong> at: <a href='https://wandb.ai/deeplearn24/DL_A1_mse_sweeps/runs/uzcjyf00' target=\"_blank\">https://wandb.ai/deeplearn24/DL_A1_mse_sweeps/runs/uzcjyf00</a><br> View project at: <a href='https://wandb.ai/deeplearn24/DL_A1_mse_sweeps' target=\"_blank\">https://wandb.ai/deeplearn24/DL_A1_mse_sweeps</a><br>Synced 5 W&B file(s), 1 media file(s), 0 artifact file(s) and 0 other file(s)"
      ],
      "text/plain": [
       "<IPython.core.display.HTML object>"
      ]
     },
     "metadata": {},
     "output_type": "display_data"
    },
    {
     "data": {
      "text/html": [
       "Find logs at: <code>./wandb/run-20250311_153852-uzcjyf00/logs</code>"
      ],
      "text/plain": [
       "<IPython.core.display.HTML object>"
      ]
     },
     "metadata": {},
     "output_type": "display_data"
    },
    {
     "name": "stderr",
     "output_type": "stream",
     "text": [
      "\u001b[34m\u001b[1mwandb\u001b[0m: Agent Starting Run: n0h4vj45 with config:\n",
      "\u001b[34m\u001b[1mwandb\u001b[0m: \tactivation: tanh\n",
      "\u001b[34m\u001b[1mwandb\u001b[0m: \tbatch_size: 32\n",
      "\u001b[34m\u001b[1mwandb\u001b[0m: \tbeta: 0.9\n",
      "\u001b[34m\u001b[1mwandb\u001b[0m: \tbeta1: 0.9\n",
      "\u001b[34m\u001b[1mwandb\u001b[0m: \tbeta2: 0.999\n",
      "\u001b[34m\u001b[1mwandb\u001b[0m: \tepochs: 5\n",
      "\u001b[34m\u001b[1mwandb\u001b[0m: \tepsilon: 1e-08\n",
      "\u001b[34m\u001b[1mwandb\u001b[0m: \thidden_size: 64\n",
      "\u001b[34m\u001b[1mwandb\u001b[0m: \tlearning_rate: 0.0007503556360109088\n",
      "\u001b[34m\u001b[1mwandb\u001b[0m: \tloss: mse\n",
      "\u001b[34m\u001b[1mwandb\u001b[0m: \tmomentum: 0.9\n",
      "\u001b[34m\u001b[1mwandb\u001b[0m: \tnum_layers: 4\n",
      "\u001b[34m\u001b[1mwandb\u001b[0m: \toptimizer: nadam\n",
      "\u001b[34m\u001b[1mwandb\u001b[0m: \tweight_decay: 0\n",
      "\u001b[34m\u001b[1mwandb\u001b[0m: \tweight_init: random\n"
     ]
    },
    {
     "data": {
      "text/html": [
       "Tracking run with wandb version 0.19.8"
      ],
      "text/plain": [
       "<IPython.core.display.HTML object>"
      ]
     },
     "metadata": {},
     "output_type": "display_data"
    },
    {
     "data": {
      "text/html": [
       "Run data is saved locally in <code>/home/user/Documents/Courses/DA6401/wandb/run-20250311_153935-n0h4vj45</code>"
      ],
      "text/plain": [
       "<IPython.core.display.HTML object>"
      ]
     },
     "metadata": {},
     "output_type": "display_data"
    },
    {
     "data": {
      "text/html": [
       "Syncing run <strong><a href='https://wandb.ai/deeplearn24/DL_A1_mse_sweeps/runs/n0h4vj45' target=\"_blank\">dulcet-sweep-30</a></strong> to <a href='https://wandb.ai/deeplearn24/DL_A1_mse_sweeps' target=\"_blank\">Weights & Biases</a> (<a href='https://wandb.me/developer-guide' target=\"_blank\">docs</a>)<br>Sweep page: <a href='https://wandb.ai/deeplearn24/DL_A1_mse_sweeps/sweeps/9crckhqe' target=\"_blank\">https://wandb.ai/deeplearn24/DL_A1_mse_sweeps/sweeps/9crckhqe</a>"
      ],
      "text/plain": [
       "<IPython.core.display.HTML object>"
      ]
     },
     "metadata": {},
     "output_type": "display_data"
    },
    {
     "data": {
      "text/html": [
       " View project at <a href='https://wandb.ai/deeplearn24/DL_A1_mse_sweeps' target=\"_blank\">https://wandb.ai/deeplearn24/DL_A1_mse_sweeps</a>"
      ],
      "text/plain": [
       "<IPython.core.display.HTML object>"
      ]
     },
     "metadata": {},
     "output_type": "display_data"
    },
    {
     "data": {
      "text/html": [
       " View sweep at <a href='https://wandb.ai/deeplearn24/DL_A1_mse_sweeps/sweeps/9crckhqe' target=\"_blank\">https://wandb.ai/deeplearn24/DL_A1_mse_sweeps/sweeps/9crckhqe</a>"
      ],
      "text/plain": [
       "<IPython.core.display.HTML object>"
      ]
     },
     "metadata": {},
     "output_type": "display_data"
    },
    {
     "data": {
      "text/html": [
       " View run at <a href='https://wandb.ai/deeplearn24/DL_A1_mse_sweeps/runs/n0h4vj45' target=\"_blank\">https://wandb.ai/deeplearn24/DL_A1_mse_sweeps/runs/n0h4vj45</a>"
      ],
      "text/plain": [
       "<IPython.core.display.HTML object>"
      ]
     },
     "metadata": {},
     "output_type": "display_data"
    },
    {
     "name": "stdout",
     "output_type": "stream",
     "text": [
      "Epoch: 1, Train Loss: 6.754211855908489, Valid Loss: 2.830144562640816\n",
      "Epoch: 2, Train Loss: 2.2086729657133075, Valid Loss: 2.233143577965283\n",
      "Epoch: 3, Train Loss: 2.0109081074514124, Valid Loss: 1.987063232685215\n",
      "Epoch: 4, Train Loss: 2.0463326990773845, Valid Loss: 2.1706150294081477\n",
      "Epoch: 5, Train Loss: 2.1383006192923824, Valid Loss: 2.00371867099532\n"
     ]
    },
    {
     "data": {
      "text/html": [],
      "text/plain": [
       "<IPython.core.display.HTML object>"
      ]
     },
     "metadata": {},
     "output_type": "display_data"
    },
    {
     "data": {
      "text/html": [
       "<br>    <style><br>        .wandb-row {<br>            display: flex;<br>            flex-direction: row;<br>            flex-wrap: wrap;<br>            justify-content: flex-start;<br>            width: 100%;<br>        }<br>        .wandb-col {<br>            display: flex;<br>            flex-direction: column;<br>            flex-basis: 100%;<br>            flex: 1;<br>            padding: 10px;<br>        }<br>    </style><br><div class=\"wandb-row\"><div class=\"wandb-col\"><h3>Run history:</h3><br/><table class=\"wandb\"><tr><td>epoch</td><td>▁▃▅▆█</td></tr><tr><td>train/accuracy</td><td>▁██▇▅</td></tr><tr><td>train/batch_loss</td><td>█▇▇▃▄▄▄▂▂▂▂▂▁▂▁▁▁▁▁▁▁▁▁▁▁▁▁▁▁▁▁▁▁▁▁▁▁▁▂▁</td></tr><tr><td>train/loss</td><td>█▁▁▁▁</td></tr><tr><td>val/accuracy</td><td>▃▆▅▁█</td></tr><tr><td>val/loss</td><td>█▃▁▃▁</td></tr></table><br/></div><div class=\"wandb-col\"><h3>Run summary:</h3><br/><table class=\"wandb\"><tr><td>epoch</td><td>5</td></tr><tr><td>train/accuracy</td><td>0.21383</td></tr><tr><td>train/batch_loss</td><td>1.9061</td></tr><tr><td>train/loss</td><td>2.1383</td></tr><tr><td>val/accuracy</td><td>0.26762</td></tr><tr><td>val/loss</td><td>2.00372</td></tr></table><br/></div></div>"
      ],
      "text/plain": [
       "<IPython.core.display.HTML object>"
      ]
     },
     "metadata": {},
     "output_type": "display_data"
    },
    {
     "data": {
      "text/html": [
       " View run <strong style=\"color:#cdcd00\">n4_h64_lr0.0007503556360109088_bs32_acttanh</strong> at: <a href='https://wandb.ai/deeplearn24/DL_A1_mse_sweeps/runs/n0h4vj45' target=\"_blank\">https://wandb.ai/deeplearn24/DL_A1_mse_sweeps/runs/n0h4vj45</a><br> View project at: <a href='https://wandb.ai/deeplearn24/DL_A1_mse_sweeps' target=\"_blank\">https://wandb.ai/deeplearn24/DL_A1_mse_sweeps</a><br>Synced 5 W&B file(s), 1 media file(s), 0 artifact file(s) and 0 other file(s)"
      ],
      "text/plain": [
       "<IPython.core.display.HTML object>"
      ]
     },
     "metadata": {},
     "output_type": "display_data"
    },
    {
     "data": {
      "text/html": [
       "Find logs at: <code>./wandb/run-20250311_153935-n0h4vj45/logs</code>"
      ],
      "text/plain": [
       "<IPython.core.display.HTML object>"
      ]
     },
     "metadata": {},
     "output_type": "display_data"
    },
    {
     "name": "stderr",
     "output_type": "stream",
     "text": [
      "\u001b[34m\u001b[1mwandb\u001b[0m: Agent Starting Run: 58olhnur with config:\n",
      "\u001b[34m\u001b[1mwandb\u001b[0m: \tactivation: ReLU\n",
      "\u001b[34m\u001b[1mwandb\u001b[0m: \tbatch_size: 64\n",
      "\u001b[34m\u001b[1mwandb\u001b[0m: \tbeta: 0.9\n",
      "\u001b[34m\u001b[1mwandb\u001b[0m: \tbeta1: 0.9\n",
      "\u001b[34m\u001b[1mwandb\u001b[0m: \tbeta2: 0.999\n",
      "\u001b[34m\u001b[1mwandb\u001b[0m: \tepochs: 5\n",
      "\u001b[34m\u001b[1mwandb\u001b[0m: \tepsilon: 1e-08\n",
      "\u001b[34m\u001b[1mwandb\u001b[0m: \thidden_size: 128\n",
      "\u001b[34m\u001b[1mwandb\u001b[0m: \tlearning_rate: 0.0058996391186197485\n",
      "\u001b[34m\u001b[1mwandb\u001b[0m: \tloss: mse\n",
      "\u001b[34m\u001b[1mwandb\u001b[0m: \tmomentum: 0.9\n",
      "\u001b[34m\u001b[1mwandb\u001b[0m: \tnum_layers: 4\n",
      "\u001b[34m\u001b[1mwandb\u001b[0m: \toptimizer: nadam\n",
      "\u001b[34m\u001b[1mwandb\u001b[0m: \tweight_decay: 0.5\n",
      "\u001b[34m\u001b[1mwandb\u001b[0m: \tweight_init: random\n"
     ]
    },
    {
     "data": {
      "text/html": [
       "Tracking run with wandb version 0.19.8"
      ],
      "text/plain": [
       "<IPython.core.display.HTML object>"
      ]
     },
     "metadata": {},
     "output_type": "display_data"
    },
    {
     "data": {
      "text/html": [
       "Run data is saved locally in <code>/home/user/Documents/Courses/DA6401/wandb/run-20250311_154012-58olhnur</code>"
      ],
      "text/plain": [
       "<IPython.core.display.HTML object>"
      ]
     },
     "metadata": {},
     "output_type": "display_data"
    },
    {
     "data": {
      "text/html": [
       "Syncing run <strong><a href='https://wandb.ai/deeplearn24/DL_A1_mse_sweeps/runs/58olhnur' target=\"_blank\">eternal-sweep-31</a></strong> to <a href='https://wandb.ai/deeplearn24/DL_A1_mse_sweeps' target=\"_blank\">Weights & Biases</a> (<a href='https://wandb.me/developer-guide' target=\"_blank\">docs</a>)<br>Sweep page: <a href='https://wandb.ai/deeplearn24/DL_A1_mse_sweeps/sweeps/9crckhqe' target=\"_blank\">https://wandb.ai/deeplearn24/DL_A1_mse_sweeps/sweeps/9crckhqe</a>"
      ],
      "text/plain": [
       "<IPython.core.display.HTML object>"
      ]
     },
     "metadata": {},
     "output_type": "display_data"
    },
    {
     "data": {
      "text/html": [
       " View project at <a href='https://wandb.ai/deeplearn24/DL_A1_mse_sweeps' target=\"_blank\">https://wandb.ai/deeplearn24/DL_A1_mse_sweeps</a>"
      ],
      "text/plain": [
       "<IPython.core.display.HTML object>"
      ]
     },
     "metadata": {},
     "output_type": "display_data"
    },
    {
     "data": {
      "text/html": [
       " View sweep at <a href='https://wandb.ai/deeplearn24/DL_A1_mse_sweeps/sweeps/9crckhqe' target=\"_blank\">https://wandb.ai/deeplearn24/DL_A1_mse_sweeps/sweeps/9crckhqe</a>"
      ],
      "text/plain": [
       "<IPython.core.display.HTML object>"
      ]
     },
     "metadata": {},
     "output_type": "display_data"
    },
    {
     "data": {
      "text/html": [
       " View run at <a href='https://wandb.ai/deeplearn24/DL_A1_mse_sweeps/runs/58olhnur' target=\"_blank\">https://wandb.ai/deeplearn24/DL_A1_mse_sweeps/runs/58olhnur</a>"
      ],
      "text/plain": [
       "<IPython.core.display.HTML object>"
      ]
     },
     "metadata": {},
     "output_type": "display_data"
    },
    {
     "name": "stdout",
     "output_type": "stream",
     "text": [
      "Epoch: 1, Train Loss: 8381.674984568373, Valid Loss: 289.45607941318946\n",
      "Epoch: 2, Train Loss: 178.54517364579945, Valid Loss: 166.08690396220635\n",
      "Epoch: 3, Train Loss: 142.59228427600905, Valid Loss: 173.40376106266692\n",
      "Epoch: 4, Train Loss: 119.44026292159054, Valid Loss: 150.02137134446394\n",
      "Epoch: 5, Train Loss: 116.75189983673516, Valid Loss: 115.51218933155101\n"
     ]
    },
    {
     "data": {
      "text/html": [],
      "text/plain": [
       "<IPython.core.display.HTML object>"
      ]
     },
     "metadata": {},
     "output_type": "display_data"
    },
    {
     "data": {
      "text/html": [
       "<br>    <style><br>        .wandb-row {<br>            display: flex;<br>            flex-direction: row;<br>            flex-wrap: wrap;<br>            justify-content: flex-start;<br>            width: 100%;<br>        }<br>        .wandb-col {<br>            display: flex;<br>            flex-direction: column;<br>            flex-basis: 100%;<br>            flex: 1;<br>            padding: 10px;<br>        }<br>    </style><br><div class=\"wandb-row\"><div class=\"wandb-col\"><h3>Run history:</h3><br/><table class=\"wandb\"><tr><td>epoch</td><td>▁▃▅▆█</td></tr><tr><td>train/accuracy</td><td>▂█▆▁▁</td></tr><tr><td>train/batch_loss</td><td>█▇▆▆▁▁▁▁▁▁▁▁▁▁▁▁▁▁▁▁▁▁▁▁▁▁▁▁▁▁▁▁▁▁▁▁▁▁▁▁</td></tr><tr><td>train/loss</td><td>█▁▁▁▁</td></tr><tr><td>val/accuracy</td><td>▁██▅▃</td></tr><tr><td>val/loss</td><td>█▃▃▂▁</td></tr></table><br/></div><div class=\"wandb-col\"><h3>Run summary:</h3><br/><table class=\"wandb\"><tr><td>epoch</td><td>5</td></tr><tr><td>train/accuracy</td><td>0.5127</td></tr><tr><td>train/batch_loss</td><td>109.83794</td></tr><tr><td>train/loss</td><td>116.7519</td></tr><tr><td>val/accuracy</td><td>0.33145</td></tr><tr><td>val/loss</td><td>115.51219</td></tr></table><br/></div></div>"
      ],
      "text/plain": [
       "<IPython.core.display.HTML object>"
      ]
     },
     "metadata": {},
     "output_type": "display_data"
    },
    {
     "data": {
      "text/html": [
       " View run <strong style=\"color:#cdcd00\">n4_h128_lr0.0058996391186197485_bs64_actReLU</strong> at: <a href='https://wandb.ai/deeplearn24/DL_A1_mse_sweeps/runs/58olhnur' target=\"_blank\">https://wandb.ai/deeplearn24/DL_A1_mse_sweeps/runs/58olhnur</a><br> View project at: <a href='https://wandb.ai/deeplearn24/DL_A1_mse_sweeps' target=\"_blank\">https://wandb.ai/deeplearn24/DL_A1_mse_sweeps</a><br>Synced 5 W&B file(s), 1 media file(s), 0 artifact file(s) and 0 other file(s)"
      ],
      "text/plain": [
       "<IPython.core.display.HTML object>"
      ]
     },
     "metadata": {},
     "output_type": "display_data"
    },
    {
     "data": {
      "text/html": [
       "Find logs at: <code>./wandb/run-20250311_154012-58olhnur/logs</code>"
      ],
      "text/plain": [
       "<IPython.core.display.HTML object>"
      ]
     },
     "metadata": {},
     "output_type": "display_data"
    },
    {
     "name": "stderr",
     "output_type": "stream",
     "text": [
      "\u001b[34m\u001b[1mwandb\u001b[0m: Agent Starting Run: 0vf6y02y with config:\n",
      "\u001b[34m\u001b[1mwandb\u001b[0m: \tactivation: ReLU\n",
      "\u001b[34m\u001b[1mwandb\u001b[0m: \tbatch_size: 16\n",
      "\u001b[34m\u001b[1mwandb\u001b[0m: \tbeta: 0.9\n",
      "\u001b[34m\u001b[1mwandb\u001b[0m: \tbeta1: 0.9\n",
      "\u001b[34m\u001b[1mwandb\u001b[0m: \tbeta2: 0.999\n",
      "\u001b[34m\u001b[1mwandb\u001b[0m: \tepochs: 10\n",
      "\u001b[34m\u001b[1mwandb\u001b[0m: \tepsilon: 1e-08\n",
      "\u001b[34m\u001b[1mwandb\u001b[0m: \thidden_size: 64\n",
      "\u001b[34m\u001b[1mwandb\u001b[0m: \tlearning_rate: 0.006124807255058029\n",
      "\u001b[34m\u001b[1mwandb\u001b[0m: \tloss: mse\n",
      "\u001b[34m\u001b[1mwandb\u001b[0m: \tmomentum: 0.9\n",
      "\u001b[34m\u001b[1mwandb\u001b[0m: \tnum_layers: 3\n",
      "\u001b[34m\u001b[1mwandb\u001b[0m: \toptimizer: nag\n",
      "\u001b[34m\u001b[1mwandb\u001b[0m: \tweight_decay: 0.0005\n",
      "\u001b[34m\u001b[1mwandb\u001b[0m: \tweight_init: xavier\n"
     ]
    },
    {
     "data": {
      "text/html": [
       "Tracking run with wandb version 0.19.8"
      ],
      "text/plain": [
       "<IPython.core.display.HTML object>"
      ]
     },
     "metadata": {},
     "output_type": "display_data"
    },
    {
     "data": {
      "text/html": [
       "Run data is saved locally in <code>/home/user/Documents/Courses/DA6401/wandb/run-20250311_154153-0vf6y02y</code>"
      ],
      "text/plain": [
       "<IPython.core.display.HTML object>"
      ]
     },
     "metadata": {},
     "output_type": "display_data"
    },
    {
     "data": {
      "text/html": [
       "Syncing run <strong><a href='https://wandb.ai/deeplearn24/DL_A1_mse_sweeps/runs/0vf6y02y' target=\"_blank\">neat-sweep-32</a></strong> to <a href='https://wandb.ai/deeplearn24/DL_A1_mse_sweeps' target=\"_blank\">Weights & Biases</a> (<a href='https://wandb.me/developer-guide' target=\"_blank\">docs</a>)<br>Sweep page: <a href='https://wandb.ai/deeplearn24/DL_A1_mse_sweeps/sweeps/9crckhqe' target=\"_blank\">https://wandb.ai/deeplearn24/DL_A1_mse_sweeps/sweeps/9crckhqe</a>"
      ],
      "text/plain": [
       "<IPython.core.display.HTML object>"
      ]
     },
     "metadata": {},
     "output_type": "display_data"
    },
    {
     "data": {
      "text/html": [
       " View project at <a href='https://wandb.ai/deeplearn24/DL_A1_mse_sweeps' target=\"_blank\">https://wandb.ai/deeplearn24/DL_A1_mse_sweeps</a>"
      ],
      "text/plain": [
       "<IPython.core.display.HTML object>"
      ]
     },
     "metadata": {},
     "output_type": "display_data"
    },
    {
     "data": {
      "text/html": [
       " View sweep at <a href='https://wandb.ai/deeplearn24/DL_A1_mse_sweeps/sweeps/9crckhqe' target=\"_blank\">https://wandb.ai/deeplearn24/DL_A1_mse_sweeps/sweeps/9crckhqe</a>"
      ],
      "text/plain": [
       "<IPython.core.display.HTML object>"
      ]
     },
     "metadata": {},
     "output_type": "display_data"
    },
    {
     "data": {
      "text/html": [
       " View run at <a href='https://wandb.ai/deeplearn24/DL_A1_mse_sweeps/runs/0vf6y02y' target=\"_blank\">https://wandb.ai/deeplearn24/DL_A1_mse_sweeps/runs/0vf6y02y</a>"
      ],
      "text/plain": [
       "<IPython.core.display.HTML object>"
      ]
     },
     "metadata": {},
     "output_type": "display_data"
    },
    {
     "name": "stdout",
     "output_type": "stream",
     "text": [
      "Epoch: 1, Train Loss: 0.6895778146789114, Valid Loss: 0.5655992764595572\n",
      "Epoch: 2, Train Loss: 0.7254683433976683, Valid Loss: 0.7379470206126229\n",
      "Epoch: 3, Train Loss: 0.9017534479864703, Valid Loss: 1.0160212708037257\n",
      "Epoch: 4, Train Loss: 1.086940549355396, Valid Loss: 1.1983514794725376\n",
      "Epoch: 5, Train Loss: 1.282992282395574, Valid Loss: 1.435127029688132\n",
      "Epoch: 6, Train Loss: 1.4255741977737486, Valid Loss: 1.499584255022368\n",
      "Epoch: 7, Train Loss: 1.5405646064599234, Valid Loss: 1.6012376024149646\n",
      "Epoch: 8, Train Loss: 1.6844869709591412, Valid Loss: 1.8602737123859776\n",
      "Epoch: 9, Train Loss: 1.8671848470549788, Valid Loss: 1.955153370556649\n",
      "Epoch: 10, Train Loss: 1.9902082854462833, Valid Loss: 2.0960527961014006\n"
     ]
    },
    {
     "data": {
      "text/html": [],
      "text/plain": [
       "<IPython.core.display.HTML object>"
      ]
     },
     "metadata": {},
     "output_type": "display_data"
    },
    {
     "data": {
      "text/html": [
       "<br>    <style><br>        .wandb-row {<br>            display: flex;<br>            flex-direction: row;<br>            flex-wrap: wrap;<br>            justify-content: flex-start;<br>            width: 100%;<br>        }<br>        .wandb-col {<br>            display: flex;<br>            flex-direction: column;<br>            flex-basis: 100%;<br>            flex: 1;<br>            padding: 10px;<br>        }<br>    </style><br><div class=\"wandb-row\"><div class=\"wandb-col\"><h3>Run history:</h3><br/><table class=\"wandb\"><tr><td>epoch</td><td>▁▂▃▃▄▅▆▆▇█</td></tr><tr><td>train/accuracy</td><td>▆█▆▄▂▂▃▂▁▁</td></tr><tr><td>train/batch_loss</td><td>▃▂▃▁▃▂▂▁▄▂▂▂▂▄▆▄▄▄▂▂▃▄▄█▃▃▅▅▃▃▅▅▄▄▄▅▇▅▅▇</td></tr><tr><td>train/loss</td><td>▁▁▂▃▄▅▆▆▇█</td></tr><tr><td>val/accuracy</td><td>█▇▅▄▃▁▃▂▅▃</td></tr><tr><td>val/loss</td><td>▁▂▃▄▅▅▆▇▇█</td></tr></table><br/></div><div class=\"wandb-col\"><h3>Run summary:</h3><br/><table class=\"wandb\"><tr><td>epoch</td><td>10</td></tr><tr><td>train/accuracy</td><td>0.73491</td></tr><tr><td>train/batch_loss</td><td>1.704</td></tr><tr><td>train/loss</td><td>1.99021</td></tr><tr><td>val/accuracy</td><td>0.73467</td></tr><tr><td>val/loss</td><td>2.09605</td></tr></table><br/></div></div>"
      ],
      "text/plain": [
       "<IPython.core.display.HTML object>"
      ]
     },
     "metadata": {},
     "output_type": "display_data"
    },
    {
     "data": {
      "text/html": [
       " View run <strong style=\"color:#cdcd00\">n3_h64_lr0.006124807255058029_bs16_actReLU</strong> at: <a href='https://wandb.ai/deeplearn24/DL_A1_mse_sweeps/runs/0vf6y02y' target=\"_blank\">https://wandb.ai/deeplearn24/DL_A1_mse_sweeps/runs/0vf6y02y</a><br> View project at: <a href='https://wandb.ai/deeplearn24/DL_A1_mse_sweeps' target=\"_blank\">https://wandb.ai/deeplearn24/DL_A1_mse_sweeps</a><br>Synced 5 W&B file(s), 1 media file(s), 0 artifact file(s) and 0 other file(s)"
      ],
      "text/plain": [
       "<IPython.core.display.HTML object>"
      ]
     },
     "metadata": {},
     "output_type": "display_data"
    },
    {
     "data": {
      "text/html": [
       "Find logs at: <code>./wandb/run-20250311_154153-0vf6y02y/logs</code>"
      ],
      "text/plain": [
       "<IPython.core.display.HTML object>"
      ]
     },
     "metadata": {},
     "output_type": "display_data"
    },
    {
     "name": "stderr",
     "output_type": "stream",
     "text": [
      "\u001b[34m\u001b[1mwandb\u001b[0m: Agent Starting Run: upeq2zfw with config:\n",
      "\u001b[34m\u001b[1mwandb\u001b[0m: \tactivation: ReLU\n",
      "\u001b[34m\u001b[1mwandb\u001b[0m: \tbatch_size: 32\n",
      "\u001b[34m\u001b[1mwandb\u001b[0m: \tbeta: 0.9\n",
      "\u001b[34m\u001b[1mwandb\u001b[0m: \tbeta1: 0.9\n",
      "\u001b[34m\u001b[1mwandb\u001b[0m: \tbeta2: 0.999\n",
      "\u001b[34m\u001b[1mwandb\u001b[0m: \tepochs: 10\n",
      "\u001b[34m\u001b[1mwandb\u001b[0m: \tepsilon: 1e-08\n",
      "\u001b[34m\u001b[1mwandb\u001b[0m: \thidden_size: 64\n",
      "\u001b[34m\u001b[1mwandb\u001b[0m: \tlearning_rate: 0.00387711540305354\n",
      "\u001b[34m\u001b[1mwandb\u001b[0m: \tloss: mse\n",
      "\u001b[34m\u001b[1mwandb\u001b[0m: \tmomentum: 0.9\n",
      "\u001b[34m\u001b[1mwandb\u001b[0m: \tnum_layers: 4\n",
      "\u001b[34m\u001b[1mwandb\u001b[0m: \toptimizer: sgd\n",
      "\u001b[34m\u001b[1mwandb\u001b[0m: \tweight_decay: 0.0005\n",
      "\u001b[34m\u001b[1mwandb\u001b[0m: \tweight_init: random\n"
     ]
    },
    {
     "data": {
      "text/html": [
       "Tracking run with wandb version 0.19.8"
      ],
      "text/plain": [
       "<IPython.core.display.HTML object>"
      ]
     },
     "metadata": {},
     "output_type": "display_data"
    },
    {
     "data": {
      "text/html": [
       "Run data is saved locally in <code>/home/user/Documents/Courses/DA6401/wandb/run-20250311_154301-upeq2zfw</code>"
      ],
      "text/plain": [
       "<IPython.core.display.HTML object>"
      ]
     },
     "metadata": {},
     "output_type": "display_data"
    },
    {
     "data": {
      "text/html": [
       "Syncing run <strong><a href='https://wandb.ai/deeplearn24/DL_A1_mse_sweeps/runs/upeq2zfw' target=\"_blank\">logical-sweep-33</a></strong> to <a href='https://wandb.ai/deeplearn24/DL_A1_mse_sweeps' target=\"_blank\">Weights & Biases</a> (<a href='https://wandb.me/developer-guide' target=\"_blank\">docs</a>)<br>Sweep page: <a href='https://wandb.ai/deeplearn24/DL_A1_mse_sweeps/sweeps/9crckhqe' target=\"_blank\">https://wandb.ai/deeplearn24/DL_A1_mse_sweeps/sweeps/9crckhqe</a>"
      ],
      "text/plain": [
       "<IPython.core.display.HTML object>"
      ]
     },
     "metadata": {},
     "output_type": "display_data"
    },
    {
     "data": {
      "text/html": [
       " View project at <a href='https://wandb.ai/deeplearn24/DL_A1_mse_sweeps' target=\"_blank\">https://wandb.ai/deeplearn24/DL_A1_mse_sweeps</a>"
      ],
      "text/plain": [
       "<IPython.core.display.HTML object>"
      ]
     },
     "metadata": {},
     "output_type": "display_data"
    },
    {
     "data": {
      "text/html": [
       " View sweep at <a href='https://wandb.ai/deeplearn24/DL_A1_mse_sweeps/sweeps/9crckhqe' target=\"_blank\">https://wandb.ai/deeplearn24/DL_A1_mse_sweeps/sweeps/9crckhqe</a>"
      ],
      "text/plain": [
       "<IPython.core.display.HTML object>"
      ]
     },
     "metadata": {},
     "output_type": "display_data"
    },
    {
     "data": {
      "text/html": [
       " View run at <a href='https://wandb.ai/deeplearn24/DL_A1_mse_sweeps/runs/upeq2zfw' target=\"_blank\">https://wandb.ai/deeplearn24/DL_A1_mse_sweeps/runs/upeq2zfw</a>"
      ],
      "text/plain": [
       "<IPython.core.display.HTML object>"
      ]
     },
     "metadata": {},
     "output_type": "display_data"
    },
    {
     "name": "stdout",
     "output_type": "stream",
     "text": [
      "Epoch: 1, Train Loss: 23.612659162684974, Valid Loss: 22.3348774544547\n",
      "Epoch: 2, Train Loss: 21.11068639133642, Valid Loss: 19.876008880770794\n",
      "Epoch: 3, Train Loss: 19.1190201577078, Valid Loss: 18.68041693129325\n",
      "Epoch: 4, Train Loss: 18.466339130403806, Valid Loss: 18.09759343300382\n",
      "Epoch: 5, Train Loss: 18.334220588835887, Valid Loss: 18.13244904727083\n",
      "Epoch: 6, Train Loss: 18.72397862657526, Valid Loss: 18.953352054019994\n",
      "Epoch: 7, Train Loss: 18.846232119220325, Valid Loss: 18.88017752530819\n",
      "Epoch: 8, Train Loss: 18.810511861314463, Valid Loss: 18.5685870627941\n",
      "Epoch: 9, Train Loss: 18.794655478792585, Valid Loss: 18.819173810921686\n",
      "Epoch: 10, Train Loss: 18.994945935413043, Valid Loss: 19.19911744362022\n"
     ]
    },
    {
     "data": {
      "text/html": [],
      "text/plain": [
       "<IPython.core.display.HTML object>"
      ]
     },
     "metadata": {},
     "output_type": "display_data"
    },
    {
     "data": {
      "text/html": [
       "<br>    <style><br>        .wandb-row {<br>            display: flex;<br>            flex-direction: row;<br>            flex-wrap: wrap;<br>            justify-content: flex-start;<br>            width: 100%;<br>        }<br>        .wandb-col {<br>            display: flex;<br>            flex-direction: column;<br>            flex-basis: 100%;<br>            flex: 1;<br>            padding: 10px;<br>        }<br>    </style><br><div class=\"wandb-row\"><div class=\"wandb-col\"><h3>Run history:</h3><br/><table class=\"wandb\"><tr><td>epoch</td><td>▁▂▃▃▄▅▆▆▇█</td></tr><tr><td>train/accuracy</td><td>█▄▁▁▁▁▁▁▁▁</td></tr><tr><td>train/batch_loss</td><td>▇▃▇█▇▅▄▅▃▃▁▂▂▁▁▁▂▂▁▁▂▁▂▂▁▂▂▂▂▂▂▃▂▂▂▂▂▂▂▂</td></tr><tr><td>train/loss</td><td>█▅▂▁▁▂▂▂▂▂</td></tr><tr><td>val/accuracy</td><td>█▂▂▃▂▃▂▃▁▁</td></tr><tr><td>val/loss</td><td>█▄▂▁▁▂▂▂▂▃</td></tr></table><br/></div><div class=\"wandb-col\"><h3>Run summary:</h3><br/><table class=\"wandb\"><tr><td>epoch</td><td>10</td></tr><tr><td>train/accuracy</td><td>0.32153</td></tr><tr><td>train/batch_loss</td><td>19.48827</td></tr><tr><td>train/loss</td><td>18.99495</td></tr><tr><td>val/accuracy</td><td>0.2884</td></tr><tr><td>val/loss</td><td>19.19912</td></tr></table><br/></div></div>"
      ],
      "text/plain": [
       "<IPython.core.display.HTML object>"
      ]
     },
     "metadata": {},
     "output_type": "display_data"
    },
    {
     "data": {
      "text/html": [
       " View run <strong style=\"color:#cdcd00\">n4_h64_lr0.00387711540305354_bs32_actReLU</strong> at: <a href='https://wandb.ai/deeplearn24/DL_A1_mse_sweeps/runs/upeq2zfw' target=\"_blank\">https://wandb.ai/deeplearn24/DL_A1_mse_sweeps/runs/upeq2zfw</a><br> View project at: <a href='https://wandb.ai/deeplearn24/DL_A1_mse_sweeps' target=\"_blank\">https://wandb.ai/deeplearn24/DL_A1_mse_sweeps</a><br>Synced 5 W&B file(s), 1 media file(s), 0 artifact file(s) and 0 other file(s)"
      ],
      "text/plain": [
       "<IPython.core.display.HTML object>"
      ]
     },
     "metadata": {},
     "output_type": "display_data"
    },
    {
     "data": {
      "text/html": [
       "Find logs at: <code>./wandb/run-20250311_154301-upeq2zfw/logs</code>"
      ],
      "text/plain": [
       "<IPython.core.display.HTML object>"
      ]
     },
     "metadata": {},
     "output_type": "display_data"
    },
    {
     "name": "stderr",
     "output_type": "stream",
     "text": [
      "\u001b[34m\u001b[1mwandb\u001b[0m: Agent Starting Run: 64fcucqa with config:\n",
      "\u001b[34m\u001b[1mwandb\u001b[0m: \tactivation: sigmoid\n",
      "\u001b[34m\u001b[1mwandb\u001b[0m: \tbatch_size: 32\n",
      "\u001b[34m\u001b[1mwandb\u001b[0m: \tbeta: 0.9\n",
      "\u001b[34m\u001b[1mwandb\u001b[0m: \tbeta1: 0.9\n",
      "\u001b[34m\u001b[1mwandb\u001b[0m: \tbeta2: 0.999\n",
      "\u001b[34m\u001b[1mwandb\u001b[0m: \tepochs: 5\n",
      "\u001b[34m\u001b[1mwandb\u001b[0m: \tepsilon: 1e-08\n",
      "\u001b[34m\u001b[1mwandb\u001b[0m: \thidden_size: 32\n",
      "\u001b[34m\u001b[1mwandb\u001b[0m: \tlearning_rate: 0.002311230237110687\n",
      "\u001b[34m\u001b[1mwandb\u001b[0m: \tloss: mse\n",
      "\u001b[34m\u001b[1mwandb\u001b[0m: \tmomentum: 0.9\n",
      "\u001b[34m\u001b[1mwandb\u001b[0m: \tnum_layers: 4\n",
      "\u001b[34m\u001b[1mwandb\u001b[0m: \toptimizer: momentum\n",
      "\u001b[34m\u001b[1mwandb\u001b[0m: \tweight_decay: 0.5\n",
      "\u001b[34m\u001b[1mwandb\u001b[0m: \tweight_init: random\n"
     ]
    },
    {
     "data": {
      "text/html": [
       "Tracking run with wandb version 0.19.8"
      ],
      "text/plain": [
       "<IPython.core.display.HTML object>"
      ]
     },
     "metadata": {},
     "output_type": "display_data"
    },
    {
     "data": {
      "text/html": [
       "Run data is saved locally in <code>/home/user/Documents/Courses/DA6401/wandb/run-20250311_154400-64fcucqa</code>"
      ],
      "text/plain": [
       "<IPython.core.display.HTML object>"
      ]
     },
     "metadata": {},
     "output_type": "display_data"
    },
    {
     "data": {
      "text/html": [
       "Syncing run <strong><a href='https://wandb.ai/deeplearn24/DL_A1_mse_sweeps/runs/64fcucqa' target=\"_blank\">woven-sweep-34</a></strong> to <a href='https://wandb.ai/deeplearn24/DL_A1_mse_sweeps' target=\"_blank\">Weights & Biases</a> (<a href='https://wandb.me/developer-guide' target=\"_blank\">docs</a>)<br>Sweep page: <a href='https://wandb.ai/deeplearn24/DL_A1_mse_sweeps/sweeps/9crckhqe' target=\"_blank\">https://wandb.ai/deeplearn24/DL_A1_mse_sweeps/sweeps/9crckhqe</a>"
      ],
      "text/plain": [
       "<IPython.core.display.HTML object>"
      ]
     },
     "metadata": {},
     "output_type": "display_data"
    },
    {
     "data": {
      "text/html": [
       " View project at <a href='https://wandb.ai/deeplearn24/DL_A1_mse_sweeps' target=\"_blank\">https://wandb.ai/deeplearn24/DL_A1_mse_sweeps</a>"
      ],
      "text/plain": [
       "<IPython.core.display.HTML object>"
      ]
     },
     "metadata": {},
     "output_type": "display_data"
    },
    {
     "data": {
      "text/html": [
       " View sweep at <a href='https://wandb.ai/deeplearn24/DL_A1_mse_sweeps/sweeps/9crckhqe' target=\"_blank\">https://wandb.ai/deeplearn24/DL_A1_mse_sweeps/sweeps/9crckhqe</a>"
      ],
      "text/plain": [
       "<IPython.core.display.HTML object>"
      ]
     },
     "metadata": {},
     "output_type": "display_data"
    },
    {
     "data": {
      "text/html": [
       " View run at <a href='https://wandb.ai/deeplearn24/DL_A1_mse_sweeps/runs/64fcucqa' target=\"_blank\">https://wandb.ai/deeplearn24/DL_A1_mse_sweeps/runs/64fcucqa</a>"
      ],
      "text/plain": [
       "<IPython.core.display.HTML object>"
      ]
     },
     "metadata": {},
     "output_type": "display_data"
    },
    {
     "name": "stdout",
     "output_type": "stream",
     "text": [
      "Epoch: 1, Train Loss: 11480.556810456479, Valid Loss: 19318.577466657567\n",
      "Epoch: 2, Train Loss: 34384.42237368967, Valid Loss: 51529.673333611856\n",
      "Epoch: 3, Train Loss: 55854.53074660339, Valid Loss: 63158.85184080057\n",
      "Epoch: 4, Train Loss: 82844.7628832302, Valid Loss: 106778.59973857825\n",
      "Epoch: 5, Train Loss: 136310.94501035186, Valid Loss: 148654.08567231096\n"
     ]
    },
    {
     "data": {
      "text/html": [],
      "text/plain": [
       "<IPython.core.display.HTML object>"
      ]
     },
     "metadata": {},
     "output_type": "display_data"
    },
    {
     "data": {
      "text/html": [
       "<br>    <style><br>        .wandb-row {<br>            display: flex;<br>            flex-direction: row;<br>            flex-wrap: wrap;<br>            justify-content: flex-start;<br>            width: 100%;<br>        }<br>        .wandb-col {<br>            display: flex;<br>            flex-direction: column;<br>            flex-basis: 100%;<br>            flex: 1;<br>            padding: 10px;<br>        }<br>    </style><br><div class=\"wandb-row\"><div class=\"wandb-col\"><h3>Run history:</h3><br/><table class=\"wandb\"><tr><td>epoch</td><td>▁▃▅▆█</td></tr><tr><td>train/accuracy</td><td>█▁▃▄▄</td></tr><tr><td>train/batch_loss</td><td>▁▁▁▁▁▁▁▁▁▁▂▂▂▂▂▂▂▂▃▃▃▃▃▃▃▃▃▃▃▃▄▄▄▄▅▆▆▇▇█</td></tr><tr><td>train/loss</td><td>▁▂▃▅█</td></tr><tr><td>val/accuracy</td><td>█▁▁▁▁</td></tr><tr><td>val/loss</td><td>▁▃▃▆█</td></tr></table><br/></div><div class=\"wandb-col\"><h3>Run summary:</h3><br/><table class=\"wandb\"><tr><td>epoch</td><td>5</td></tr><tr><td>train/accuracy</td><td>0.1016</td></tr><tr><td>train/batch_loss</td><td>148705.07811</td></tr><tr><td>train/loss</td><td>136310.94501</td></tr><tr><td>val/accuracy</td><td>0.10805</td></tr><tr><td>val/loss</td><td>148654.08567</td></tr></table><br/></div></div>"
      ],
      "text/plain": [
       "<IPython.core.display.HTML object>"
      ]
     },
     "metadata": {},
     "output_type": "display_data"
    },
    {
     "data": {
      "text/html": [
       " View run <strong style=\"color:#cdcd00\">n4_h32_lr0.002311230237110687_bs32_actsigmoid</strong> at: <a href='https://wandb.ai/deeplearn24/DL_A1_mse_sweeps/runs/64fcucqa' target=\"_blank\">https://wandb.ai/deeplearn24/DL_A1_mse_sweeps/runs/64fcucqa</a><br> View project at: <a href='https://wandb.ai/deeplearn24/DL_A1_mse_sweeps' target=\"_blank\">https://wandb.ai/deeplearn24/DL_A1_mse_sweeps</a><br>Synced 5 W&B file(s), 1 media file(s), 0 artifact file(s) and 0 other file(s)"
      ],
      "text/plain": [
       "<IPython.core.display.HTML object>"
      ]
     },
     "metadata": {},
     "output_type": "display_data"
    },
    {
     "data": {
      "text/html": [
       "Find logs at: <code>./wandb/run-20250311_154400-64fcucqa/logs</code>"
      ],
      "text/plain": [
       "<IPython.core.display.HTML object>"
      ]
     },
     "metadata": {},
     "output_type": "display_data"
    },
    {
     "name": "stderr",
     "output_type": "stream",
     "text": [
      "\u001b[34m\u001b[1mwandb\u001b[0m: Agent Starting Run: b3ghtk9n with config:\n",
      "\u001b[34m\u001b[1mwandb\u001b[0m: \tactivation: ReLU\n",
      "\u001b[34m\u001b[1mwandb\u001b[0m: \tbatch_size: 64\n",
      "\u001b[34m\u001b[1mwandb\u001b[0m: \tbeta: 0.9\n",
      "\u001b[34m\u001b[1mwandb\u001b[0m: \tbeta1: 0.9\n",
      "\u001b[34m\u001b[1mwandb\u001b[0m: \tbeta2: 0.999\n",
      "\u001b[34m\u001b[1mwandb\u001b[0m: \tepochs: 10\n",
      "\u001b[34m\u001b[1mwandb\u001b[0m: \tepsilon: 1e-08\n",
      "\u001b[34m\u001b[1mwandb\u001b[0m: \thidden_size: 128\n",
      "\u001b[34m\u001b[1mwandb\u001b[0m: \tlearning_rate: 0.009776984941936457\n",
      "\u001b[34m\u001b[1mwandb\u001b[0m: \tloss: mse\n",
      "\u001b[34m\u001b[1mwandb\u001b[0m: \tmomentum: 0.9\n",
      "\u001b[34m\u001b[1mwandb\u001b[0m: \tnum_layers: 4\n",
      "\u001b[34m\u001b[1mwandb\u001b[0m: \toptimizer: nadam\n",
      "\u001b[34m\u001b[1mwandb\u001b[0m: \tweight_decay: 0.5\n",
      "\u001b[34m\u001b[1mwandb\u001b[0m: \tweight_init: random\n"
     ]
    },
    {
     "data": {
      "text/html": [
       "Tracking run with wandb version 0.19.8"
      ],
      "text/plain": [
       "<IPython.core.display.HTML object>"
      ]
     },
     "metadata": {},
     "output_type": "display_data"
    },
    {
     "data": {
      "text/html": [
       "Run data is saved locally in <code>/home/user/Documents/Courses/DA6401/wandb/run-20250311_154421-b3ghtk9n</code>"
      ],
      "text/plain": [
       "<IPython.core.display.HTML object>"
      ]
     },
     "metadata": {},
     "output_type": "display_data"
    },
    {
     "data": {
      "text/html": [
       "Syncing run <strong><a href='https://wandb.ai/deeplearn24/DL_A1_mse_sweeps/runs/b3ghtk9n' target=\"_blank\">electric-sweep-35</a></strong> to <a href='https://wandb.ai/deeplearn24/DL_A1_mse_sweeps' target=\"_blank\">Weights & Biases</a> (<a href='https://wandb.me/developer-guide' target=\"_blank\">docs</a>)<br>Sweep page: <a href='https://wandb.ai/deeplearn24/DL_A1_mse_sweeps/sweeps/9crckhqe' target=\"_blank\">https://wandb.ai/deeplearn24/DL_A1_mse_sweeps/sweeps/9crckhqe</a>"
      ],
      "text/plain": [
       "<IPython.core.display.HTML object>"
      ]
     },
     "metadata": {},
     "output_type": "display_data"
    },
    {
     "data": {
      "text/html": [
       " View project at <a href='https://wandb.ai/deeplearn24/DL_A1_mse_sweeps' target=\"_blank\">https://wandb.ai/deeplearn24/DL_A1_mse_sweeps</a>"
      ],
      "text/plain": [
       "<IPython.core.display.HTML object>"
      ]
     },
     "metadata": {},
     "output_type": "display_data"
    },
    {
     "data": {
      "text/html": [
       " View sweep at <a href='https://wandb.ai/deeplearn24/DL_A1_mse_sweeps/sweeps/9crckhqe' target=\"_blank\">https://wandb.ai/deeplearn24/DL_A1_mse_sweeps/sweeps/9crckhqe</a>"
      ],
      "text/plain": [
       "<IPython.core.display.HTML object>"
      ]
     },
     "metadata": {},
     "output_type": "display_data"
    },
    {
     "data": {
      "text/html": [
       " View run at <a href='https://wandb.ai/deeplearn24/DL_A1_mse_sweeps/runs/b3ghtk9n' target=\"_blank\">https://wandb.ai/deeplearn24/DL_A1_mse_sweeps/runs/b3ghtk9n</a>"
      ],
      "text/plain": [
       "<IPython.core.display.HTML object>"
      ]
     },
     "metadata": {},
     "output_type": "display_data"
    },
    {
     "name": "stdout",
     "output_type": "stream",
     "text": [
      "Epoch: 1, Train Loss: 6413.526086875554, Valid Loss: 289.7232503586092\n",
      "Epoch: 2, Train Loss: 191.91181586293715, Valid Loss: 159.31850961152114\n",
      "Epoch: 3, Train Loss: 130.5977167286003, Valid Loss: 129.1800400281447\n",
      "Epoch: 4, Train Loss: 101.61840598890761, Valid Loss: 92.35720346860197\n",
      "Epoch: 5, Train Loss: 90.66154033274323, Valid Loss: 151.31997535446723\n",
      "Epoch: 6, Train Loss: 93.06462073293362, Valid Loss: 89.5819165778951\n",
      "Epoch: 7, Train Loss: 71.15634623582325, Valid Loss: 88.7439877737206\n",
      "Epoch: 8, Train Loss: 80.68827799455148, Valid Loss: 87.61972223334956\n",
      "Epoch: 9, Train Loss: 72.9696720907508, Valid Loss: 133.61499519362744\n",
      "Epoch: 10, Train Loss: 102.00912777897831, Valid Loss: 122.51573633128497\n"
     ]
    },
    {
     "data": {
      "text/html": [],
      "text/plain": [
       "<IPython.core.display.HTML object>"
      ]
     },
     "metadata": {},
     "output_type": "display_data"
    },
    {
     "data": {
      "text/html": [
       "<br>    <style><br>        .wandb-row {<br>            display: flex;<br>            flex-direction: row;<br>            flex-wrap: wrap;<br>            justify-content: flex-start;<br>            width: 100%;<br>        }<br>        .wandb-col {<br>            display: flex;<br>            flex-direction: column;<br>            flex-basis: 100%;<br>            flex: 1;<br>            padding: 10px;<br>        }<br>    </style><br><div class=\"wandb-row\"><div class=\"wandb-col\"><h3>Run history:</h3><br/><table class=\"wandb\"><tr><td>epoch</td><td>▁▂▃▃▄▅▆▆▇█</td></tr><tr><td>train/accuracy</td><td>█▅▄▄▁▃▂▅▅▅</td></tr><tr><td>train/batch_loss</td><td>██▁▁▁▁▁▁▁▁▁▁▁▁▁▁▁▁▁▁▁▁▁▁▁▁▁▁▁▁▁▁▁▁▁▁▁▁▁▁</td></tr><tr><td>train/loss</td><td>█▁▁▁▁▁▁▁▁▁</td></tr><tr><td>val/accuracy</td><td>▁█▆▂▅▁▃▂█▅</td></tr><tr><td>val/loss</td><td>█▃▂▁▃▁▁▁▃▂</td></tr></table><br/></div><div class=\"wandb-col\"><h3>Run summary:</h3><br/><table class=\"wandb\"><tr><td>epoch</td><td>10</td></tr><tr><td>train/accuracy</td><td>0.39694</td></tr><tr><td>train/batch_loss</td><td>121.90123</td></tr><tr><td>train/loss</td><td>102.00913</td></tr><tr><td>val/accuracy</td><td>0.35738</td></tr><tr><td>val/loss</td><td>122.51574</td></tr></table><br/></div></div>"
      ],
      "text/plain": [
       "<IPython.core.display.HTML object>"
      ]
     },
     "metadata": {},
     "output_type": "display_data"
    },
    {
     "data": {
      "text/html": [
       " View run <strong style=\"color:#cdcd00\">n4_h128_lr0.009776984941936457_bs64_actReLU</strong> at: <a href='https://wandb.ai/deeplearn24/DL_A1_mse_sweeps/runs/b3ghtk9n' target=\"_blank\">https://wandb.ai/deeplearn24/DL_A1_mse_sweeps/runs/b3ghtk9n</a><br> View project at: <a href='https://wandb.ai/deeplearn24/DL_A1_mse_sweeps' target=\"_blank\">https://wandb.ai/deeplearn24/DL_A1_mse_sweeps</a><br>Synced 5 W&B file(s), 1 media file(s), 0 artifact file(s) and 0 other file(s)"
      ],
      "text/plain": [
       "<IPython.core.display.HTML object>"
      ]
     },
     "metadata": {},
     "output_type": "display_data"
    },
    {
     "data": {
      "text/html": [
       "Find logs at: <code>./wandb/run-20250311_154421-b3ghtk9n/logs</code>"
      ],
      "text/plain": [
       "<IPython.core.display.HTML object>"
      ]
     },
     "metadata": {},
     "output_type": "display_data"
    },
    {
     "name": "stderr",
     "output_type": "stream",
     "text": [
      "\u001b[34m\u001b[1mwandb\u001b[0m: Agent Starting Run: rnvzk2xn with config:\n",
      "\u001b[34m\u001b[1mwandb\u001b[0m: \tactivation: tanh\n",
      "\u001b[34m\u001b[1mwandb\u001b[0m: \tbatch_size: 32\n",
      "\u001b[34m\u001b[1mwandb\u001b[0m: \tbeta: 0.9\n",
      "\u001b[34m\u001b[1mwandb\u001b[0m: \tbeta1: 0.9\n",
      "\u001b[34m\u001b[1mwandb\u001b[0m: \tbeta2: 0.999\n",
      "\u001b[34m\u001b[1mwandb\u001b[0m: \tepochs: 10\n",
      "\u001b[34m\u001b[1mwandb\u001b[0m: \tepsilon: 1e-08\n",
      "\u001b[34m\u001b[1mwandb\u001b[0m: \thidden_size: 64\n",
      "\u001b[34m\u001b[1mwandb\u001b[0m: \tlearning_rate: 0.006366668183737998\n",
      "\u001b[34m\u001b[1mwandb\u001b[0m: \tloss: mse\n",
      "\u001b[34m\u001b[1mwandb\u001b[0m: \tmomentum: 0.9\n",
      "\u001b[34m\u001b[1mwandb\u001b[0m: \tnum_layers: 5\n",
      "\u001b[34m\u001b[1mwandb\u001b[0m: \toptimizer: momentum\n",
      "\u001b[34m\u001b[1mwandb\u001b[0m: \tweight_decay: 0.0005\n",
      "\u001b[34m\u001b[1mwandb\u001b[0m: \tweight_init: random\n"
     ]
    },
    {
     "data": {
      "text/html": [
       "Tracking run with wandb version 0.19.8"
      ],
      "text/plain": [
       "<IPython.core.display.HTML object>"
      ]
     },
     "metadata": {},
     "output_type": "display_data"
    },
    {
     "data": {
      "text/html": [
       "Run data is saved locally in <code>/home/user/Documents/Courses/DA6401/wandb/run-20250311_154731-rnvzk2xn</code>"
      ],
      "text/plain": [
       "<IPython.core.display.HTML object>"
      ]
     },
     "metadata": {},
     "output_type": "display_data"
    },
    {
     "data": {
      "text/html": [
       "Syncing run <strong><a href='https://wandb.ai/deeplearn24/DL_A1_mse_sweeps/runs/rnvzk2xn' target=\"_blank\">amber-sweep-36</a></strong> to <a href='https://wandb.ai/deeplearn24/DL_A1_mse_sweeps' target=\"_blank\">Weights & Biases</a> (<a href='https://wandb.me/developer-guide' target=\"_blank\">docs</a>)<br>Sweep page: <a href='https://wandb.ai/deeplearn24/DL_A1_mse_sweeps/sweeps/9crckhqe' target=\"_blank\">https://wandb.ai/deeplearn24/DL_A1_mse_sweeps/sweeps/9crckhqe</a>"
      ],
      "text/plain": [
       "<IPython.core.display.HTML object>"
      ]
     },
     "metadata": {},
     "output_type": "display_data"
    },
    {
     "data": {
      "text/html": [
       " View project at <a href='https://wandb.ai/deeplearn24/DL_A1_mse_sweeps' target=\"_blank\">https://wandb.ai/deeplearn24/DL_A1_mse_sweeps</a>"
      ],
      "text/plain": [
       "<IPython.core.display.HTML object>"
      ]
     },
     "metadata": {},
     "output_type": "display_data"
    },
    {
     "data": {
      "text/html": [
       " View sweep at <a href='https://wandb.ai/deeplearn24/DL_A1_mse_sweeps/sweeps/9crckhqe' target=\"_blank\">https://wandb.ai/deeplearn24/DL_A1_mse_sweeps/sweeps/9crckhqe</a>"
      ],
      "text/plain": [
       "<IPython.core.display.HTML object>"
      ]
     },
     "metadata": {},
     "output_type": "display_data"
    },
    {
     "data": {
      "text/html": [
       " View run at <a href='https://wandb.ai/deeplearn24/DL_A1_mse_sweeps/runs/rnvzk2xn' target=\"_blank\">https://wandb.ai/deeplearn24/DL_A1_mse_sweeps/runs/rnvzk2xn</a>"
      ],
      "text/plain": [
       "<IPython.core.display.HTML object>"
      ]
     },
     "metadata": {},
     "output_type": "display_data"
    },
    {
     "name": "stdout",
     "output_type": "stream",
     "text": [
      "Epoch: 1, Train Loss: 28.651715208523928, Valid Loss: 49.96606940366535\n",
      "Epoch: 2, Train Loss: 57.66865483264285, Valid Loss: 76.7869287743988\n",
      "Epoch: 3, Train Loss: 78.18633844921656, Valid Loss: 113.90685496062662\n",
      "Epoch: 4, Train Loss: 166.18753912261374, Valid Loss: 279.1024398808397\n",
      "Epoch: 5, Train Loss: 348.0685277370336, Valid Loss: 324.70052679122153\n",
      "Epoch: 6, Train Loss: 438.07771420748924, Valid Loss: 536.4185459666855\n",
      "Epoch: 7, Train Loss: 601.7963409650913, Valid Loss: 684.8821784203217\n",
      "Epoch: 8, Train Loss: 628.1943904262338, Valid Loss: 668.0132200840814\n",
      "Epoch: 9, Train Loss: 653.1811456969659, Valid Loss: 580.9381853944374\n",
      "Epoch: 10, Train Loss: 815.6763195450752, Valid Loss: 1200.3322470303249\n"
     ]
    },
    {
     "data": {
      "text/html": [],
      "text/plain": [
       "<IPython.core.display.HTML object>"
      ]
     },
     "metadata": {},
     "output_type": "display_data"
    },
    {
     "data": {
      "text/html": [
       "<br>    <style><br>        .wandb-row {<br>            display: flex;<br>            flex-direction: row;<br>            flex-wrap: wrap;<br>            justify-content: flex-start;<br>            width: 100%;<br>        }<br>        .wandb-col {<br>            display: flex;<br>            flex-direction: column;<br>            flex-basis: 100%;<br>            flex: 1;<br>            padding: 10px;<br>        }<br>    </style><br><div class=\"wandb-row\"><div class=\"wandb-col\"><h3>Run history:</h3><br/><table class=\"wandb\"><tr><td>epoch</td><td>▁▂▃▃▄▅▆▆▇█</td></tr><tr><td>train/accuracy</td><td>▄▆▆█▇▁██▄▅</td></tr><tr><td>train/batch_loss</td><td>▁▁▁▁▁▁▁▁▁▁▂▂▂▂▃▄▄▃▃▃▃▃▄▄▅▅▅▆▆▆▆▅▆▆▆▅▅▆▆█</td></tr><tr><td>train/loss</td><td>▁▁▁▂▄▅▆▆▇█</td></tr><tr><td>val/accuracy</td><td>█▃▁▁▁▃▅▁▁▁</td></tr><tr><td>val/loss</td><td>▁▁▁▂▃▄▅▅▄█</td></tr></table><br/></div><div class=\"wandb-col\"><h3>Run summary:</h3><br/><table class=\"wandb\"><tr><td>epoch</td><td>10</td></tr><tr><td>train/accuracy</td><td>0.15901</td></tr><tr><td>train/batch_loss</td><td>1199.58519</td></tr><tr><td>train/loss</td><td>815.67632</td></tr><tr><td>val/accuracy</td><td>0.10389</td></tr><tr><td>val/loss</td><td>1200.33225</td></tr></table><br/></div></div>"
      ],
      "text/plain": [
       "<IPython.core.display.HTML object>"
      ]
     },
     "metadata": {},
     "output_type": "display_data"
    },
    {
     "data": {
      "text/html": [
       " View run <strong style=\"color:#cdcd00\">n5_h64_lr0.006366668183737998_bs32_acttanh</strong> at: <a href='https://wandb.ai/deeplearn24/DL_A1_mse_sweeps/runs/rnvzk2xn' target=\"_blank\">https://wandb.ai/deeplearn24/DL_A1_mse_sweeps/runs/rnvzk2xn</a><br> View project at: <a href='https://wandb.ai/deeplearn24/DL_A1_mse_sweeps' target=\"_blank\">https://wandb.ai/deeplearn24/DL_A1_mse_sweeps</a><br>Synced 5 W&B file(s), 1 media file(s), 0 artifact file(s) and 0 other file(s)"
      ],
      "text/plain": [
       "<IPython.core.display.HTML object>"
      ]
     },
     "metadata": {},
     "output_type": "display_data"
    },
    {
     "data": {
      "text/html": [
       "Find logs at: <code>./wandb/run-20250311_154731-rnvzk2xn/logs</code>"
      ],
      "text/plain": [
       "<IPython.core.display.HTML object>"
      ]
     },
     "metadata": {},
     "output_type": "display_data"
    },
    {
     "name": "stderr",
     "output_type": "stream",
     "text": [
      "\u001b[34m\u001b[1mwandb\u001b[0m: Agent Starting Run: 2qevftan with config:\n",
      "\u001b[34m\u001b[1mwandb\u001b[0m: \tactivation: sigmoid\n",
      "\u001b[34m\u001b[1mwandb\u001b[0m: \tbatch_size: 64\n",
      "\u001b[34m\u001b[1mwandb\u001b[0m: \tbeta: 0.9\n",
      "\u001b[34m\u001b[1mwandb\u001b[0m: \tbeta1: 0.9\n",
      "\u001b[34m\u001b[1mwandb\u001b[0m: \tbeta2: 0.999\n",
      "\u001b[34m\u001b[1mwandb\u001b[0m: \tepochs: 10\n",
      "\u001b[34m\u001b[1mwandb\u001b[0m: \tepsilon: 1e-08\n",
      "\u001b[34m\u001b[1mwandb\u001b[0m: \thidden_size: 64\n",
      "\u001b[34m\u001b[1mwandb\u001b[0m: \tlearning_rate: 0.005485248720814948\n",
      "\u001b[34m\u001b[1mwandb\u001b[0m: \tloss: mse\n",
      "\u001b[34m\u001b[1mwandb\u001b[0m: \tmomentum: 0.9\n",
      "\u001b[34m\u001b[1mwandb\u001b[0m: \tnum_layers: 3\n",
      "\u001b[34m\u001b[1mwandb\u001b[0m: \toptimizer: nadam\n",
      "\u001b[34m\u001b[1mwandb\u001b[0m: \tweight_decay: 0.0005\n",
      "\u001b[34m\u001b[1mwandb\u001b[0m: \tweight_init: xavier\n"
     ]
    },
    {
     "data": {
      "text/html": [
       "Tracking run with wandb version 0.19.8"
      ],
      "text/plain": [
       "<IPython.core.display.HTML object>"
      ]
     },
     "metadata": {},
     "output_type": "display_data"
    },
    {
     "data": {
      "text/html": [
       "Run data is saved locally in <code>/home/user/Documents/Courses/DA6401/wandb/run-20250311_154835-2qevftan</code>"
      ],
      "text/plain": [
       "<IPython.core.display.HTML object>"
      ]
     },
     "metadata": {},
     "output_type": "display_data"
    },
    {
     "data": {
      "text/html": [
       "Syncing run <strong><a href='https://wandb.ai/deeplearn24/DL_A1_mse_sweeps/runs/2qevftan' target=\"_blank\">quiet-sweep-37</a></strong> to <a href='https://wandb.ai/deeplearn24/DL_A1_mse_sweeps' target=\"_blank\">Weights & Biases</a> (<a href='https://wandb.me/developer-guide' target=\"_blank\">docs</a>)<br>Sweep page: <a href='https://wandb.ai/deeplearn24/DL_A1_mse_sweeps/sweeps/9crckhqe' target=\"_blank\">https://wandb.ai/deeplearn24/DL_A1_mse_sweeps/sweeps/9crckhqe</a>"
      ],
      "text/plain": [
       "<IPython.core.display.HTML object>"
      ]
     },
     "metadata": {},
     "output_type": "display_data"
    },
    {
     "data": {
      "text/html": [
       " View project at <a href='https://wandb.ai/deeplearn24/DL_A1_mse_sweeps' target=\"_blank\">https://wandb.ai/deeplearn24/DL_A1_mse_sweeps</a>"
      ],
      "text/plain": [
       "<IPython.core.display.HTML object>"
      ]
     },
     "metadata": {},
     "output_type": "display_data"
    },
    {
     "data": {
      "text/html": [
       " View sweep at <a href='https://wandb.ai/deeplearn24/DL_A1_mse_sweeps/sweeps/9crckhqe' target=\"_blank\">https://wandb.ai/deeplearn24/DL_A1_mse_sweeps/sweeps/9crckhqe</a>"
      ],
      "text/plain": [
       "<IPython.core.display.HTML object>"
      ]
     },
     "metadata": {},
     "output_type": "display_data"
    },
    {
     "data": {
      "text/html": [
       " View run at <a href='https://wandb.ai/deeplearn24/DL_A1_mse_sweeps/runs/2qevftan' target=\"_blank\">https://wandb.ai/deeplearn24/DL_A1_mse_sweeps/runs/2qevftan</a>"
      ],
      "text/plain": [
       "<IPython.core.display.HTML object>"
      ]
     },
     "metadata": {},
     "output_type": "display_data"
    },
    {
     "name": "stdout",
     "output_type": "stream",
     "text": [
      "Epoch: 1, Train Loss: 45.9575626476279, Valid Loss: 126.78336489839822\n",
      "Epoch: 2, Train Loss: 156.84225262941047, Valid Loss: 176.05560372085606\n",
      "Epoch: 3, Train Loss: 160.43362003698485, Valid Loss: 193.27590469287165\n",
      "Epoch: 4, Train Loss: 264.02513575965094, Valid Loss: 345.6088072121369\n",
      "Epoch: 5, Train Loss: 375.68280900860736, Valid Loss: 462.92485947225003\n",
      "Epoch: 6, Train Loss: 566.9731339042435, Valid Loss: 730.8995015426879\n",
      "Epoch: 7, Train Loss: 946.8018984722495, Valid Loss: 1171.478341690702\n",
      "Epoch: 8, Train Loss: 1194.4593749482883, Valid Loss: 1223.6697444209906\n",
      "Epoch: 9, Train Loss: 1357.164746806186, Valid Loss: 1763.316016755774\n",
      "Epoch: 10, Train Loss: 2085.1706717710913, Valid Loss: 2518.2577428258596\n"
     ]
    },
    {
     "data": {
      "text/html": [],
      "text/plain": [
       "<IPython.core.display.HTML object>"
      ]
     },
     "metadata": {},
     "output_type": "display_data"
    },
    {
     "data": {
      "text/html": [
       "<br>    <style><br>        .wandb-row {<br>            display: flex;<br>            flex-direction: row;<br>            flex-wrap: wrap;<br>            justify-content: flex-start;<br>            width: 100%;<br>        }<br>        .wandb-col {<br>            display: flex;<br>            flex-direction: column;<br>            flex-basis: 100%;<br>            flex: 1;<br>            padding: 10px;<br>        }<br>    </style><br><div class=\"wandb-row\"><div class=\"wandb-col\"><h3>Run history:</h3><br/><table class=\"wandb\"><tr><td>epoch</td><td>▁▂▃▃▄▅▆▆▇█</td></tr><tr><td>train/accuracy</td><td>▁▁▆█▁▂▅█▂▁</td></tr><tr><td>train/batch_loss</td><td>▁▁▁▁▁▁▂▂▁▁▁▂▂▂▂▂▂▂▂▂▃▃▃▃▃▃▃▃▄▄▅▅▅▅▆▆▆███</td></tr><tr><td>train/loss</td><td>▁▁▁▂▂▃▄▅▆█</td></tr><tr><td>val/accuracy</td><td>▂▁▇▁▁▁█▂▂▁</td></tr><tr><td>val/loss</td><td>▁▁▁▂▂▃▄▄▆█</td></tr></table><br/></div><div class=\"wandb-col\"><h3>Run summary:</h3><br/><table class=\"wandb\"><tr><td>epoch</td><td>10</td></tr><tr><td>train/accuracy</td><td>0.09829</td></tr><tr><td>train/batch_loss</td><td>2516.20041</td></tr><tr><td>train/loss</td><td>2085.17067</td></tr><tr><td>val/accuracy</td><td>0.09802</td></tr><tr><td>val/loss</td><td>2518.25774</td></tr></table><br/></div></div>"
      ],
      "text/plain": [
       "<IPython.core.display.HTML object>"
      ]
     },
     "metadata": {},
     "output_type": "display_data"
    },
    {
     "data": {
      "text/html": [
       " View run <strong style=\"color:#cdcd00\">n3_h64_lr0.005485248720814948_bs64_actsigmoid</strong> at: <a href='https://wandb.ai/deeplearn24/DL_A1_mse_sweeps/runs/2qevftan' target=\"_blank\">https://wandb.ai/deeplearn24/DL_A1_mse_sweeps/runs/2qevftan</a><br> View project at: <a href='https://wandb.ai/deeplearn24/DL_A1_mse_sweeps' target=\"_blank\">https://wandb.ai/deeplearn24/DL_A1_mse_sweeps</a><br>Synced 5 W&B file(s), 1 media file(s), 0 artifact file(s) and 0 other file(s)"
      ],
      "text/plain": [
       "<IPython.core.display.HTML object>"
      ]
     },
     "metadata": {},
     "output_type": "display_data"
    },
    {
     "data": {
      "text/html": [
       "Find logs at: <code>./wandb/run-20250311_154835-2qevftan/logs</code>"
      ],
      "text/plain": [
       "<IPython.core.display.HTML object>"
      ]
     },
     "metadata": {},
     "output_type": "display_data"
    },
    {
     "name": "stderr",
     "output_type": "stream",
     "text": [
      "\u001b[34m\u001b[1mwandb\u001b[0m: Agent Starting Run: bzdi8yjk with config:\n",
      "\u001b[34m\u001b[1mwandb\u001b[0m: \tactivation: tanh\n",
      "\u001b[34m\u001b[1mwandb\u001b[0m: \tbatch_size: 64\n",
      "\u001b[34m\u001b[1mwandb\u001b[0m: \tbeta: 0.9\n",
      "\u001b[34m\u001b[1mwandb\u001b[0m: \tbeta1: 0.9\n",
      "\u001b[34m\u001b[1mwandb\u001b[0m: \tbeta2: 0.999\n",
      "\u001b[34m\u001b[1mwandb\u001b[0m: \tepochs: 5\n",
      "\u001b[34m\u001b[1mwandb\u001b[0m: \tepsilon: 1e-08\n",
      "\u001b[34m\u001b[1mwandb\u001b[0m: \thidden_size: 128\n",
      "\u001b[34m\u001b[1mwandb\u001b[0m: \tlearning_rate: 0.002489491314536489\n",
      "\u001b[34m\u001b[1mwandb\u001b[0m: \tloss: mse\n",
      "\u001b[34m\u001b[1mwandb\u001b[0m: \tmomentum: 0.9\n",
      "\u001b[34m\u001b[1mwandb\u001b[0m: \tnum_layers: 4\n",
      "\u001b[34m\u001b[1mwandb\u001b[0m: \toptimizer: sgd\n",
      "\u001b[34m\u001b[1mwandb\u001b[0m: \tweight_decay: 0\n",
      "\u001b[34m\u001b[1mwandb\u001b[0m: \tweight_init: random\n"
     ]
    },
    {
     "data": {
      "text/html": [
       "Tracking run with wandb version 0.19.8"
      ],
      "text/plain": [
       "<IPython.core.display.HTML object>"
      ]
     },
     "metadata": {},
     "output_type": "display_data"
    },
    {
     "data": {
      "text/html": [
       "Run data is saved locally in <code>/home/user/Documents/Courses/DA6401/wandb/run-20250311_154934-bzdi8yjk</code>"
      ],
      "text/plain": [
       "<IPython.core.display.HTML object>"
      ]
     },
     "metadata": {},
     "output_type": "display_data"
    },
    {
     "data": {
      "text/html": [
       "Syncing run <strong><a href='https://wandb.ai/deeplearn24/DL_A1_mse_sweeps/runs/bzdi8yjk' target=\"_blank\">decent-sweep-38</a></strong> to <a href='https://wandb.ai/deeplearn24/DL_A1_mse_sweeps' target=\"_blank\">Weights & Biases</a> (<a href='https://wandb.me/developer-guide' target=\"_blank\">docs</a>)<br>Sweep page: <a href='https://wandb.ai/deeplearn24/DL_A1_mse_sweeps/sweeps/9crckhqe' target=\"_blank\">https://wandb.ai/deeplearn24/DL_A1_mse_sweeps/sweeps/9crckhqe</a>"
      ],
      "text/plain": [
       "<IPython.core.display.HTML object>"
      ]
     },
     "metadata": {},
     "output_type": "display_data"
    },
    {
     "data": {
      "text/html": [
       " View project at <a href='https://wandb.ai/deeplearn24/DL_A1_mse_sweeps' target=\"_blank\">https://wandb.ai/deeplearn24/DL_A1_mse_sweeps</a>"
      ],
      "text/plain": [
       "<IPython.core.display.HTML object>"
      ]
     },
     "metadata": {},
     "output_type": "display_data"
    },
    {
     "data": {
      "text/html": [
       " View sweep at <a href='https://wandb.ai/deeplearn24/DL_A1_mse_sweeps/sweeps/9crckhqe' target=\"_blank\">https://wandb.ai/deeplearn24/DL_A1_mse_sweeps/sweeps/9crckhqe</a>"
      ],
      "text/plain": [
       "<IPython.core.display.HTML object>"
      ]
     },
     "metadata": {},
     "output_type": "display_data"
    },
    {
     "data": {
      "text/html": [
       " View run at <a href='https://wandb.ai/deeplearn24/DL_A1_mse_sweeps/runs/bzdi8yjk' target=\"_blank\">https://wandb.ai/deeplearn24/DL_A1_mse_sweeps/runs/bzdi8yjk</a>"
      ],
      "text/plain": [
       "<IPython.core.display.HTML object>"
      ]
     },
     "metadata": {},
     "output_type": "display_data"
    },
    {
     "name": "stdout",
     "output_type": "stream",
     "text": [
      "Epoch: 1, Train Loss: 11.78435968696948, Valid Loss: 11.22167123349915\n",
      "Epoch: 2, Train Loss: 9.038150812052832, Valid Loss: 5.892662454634643\n",
      "Epoch: 3, Train Loss: 4.042533400251971, Valid Loss: 3.0722648857574586\n",
      "Epoch: 4, Train Loss: 2.172948766866958, Valid Loss: 2.0305207262766833\n",
      "Epoch: 5, Train Loss: 2.1684096698901847, Valid Loss: 1.877336664139697\n"
     ]
    },
    {
     "data": {
      "text/html": [],
      "text/plain": [
       "<IPython.core.display.HTML object>"
      ]
     },
     "metadata": {},
     "output_type": "display_data"
    },
    {
     "data": {
      "text/html": [
       "<br>    <style><br>        .wandb-row {<br>            display: flex;<br>            flex-direction: row;<br>            flex-wrap: wrap;<br>            justify-content: flex-start;<br>            width: 100%;<br>        }<br>        .wandb-col {<br>            display: flex;<br>            flex-direction: column;<br>            flex-basis: 100%;<br>            flex: 1;<br>            padding: 10px;<br>        }<br>    </style><br><div class=\"wandb-row\"><div class=\"wandb-col\"><h3>Run history:</h3><br/><table class=\"wandb\"><tr><td>epoch</td><td>▁▃▅▆█</td></tr><tr><td>train/accuracy</td><td>▁▁▃█▆</td></tr><tr><td>train/batch_loss</td><td>▇▇▇█▆█▇▆▆▇▆▇▆▆▅▄▆▅▄▅▂▂▂▂▂▁▂▁▂▁▂▂▁▁▁▁▁▁▁▁</td></tr><tr><td>train/loss</td><td>█▆▂▁▁</td></tr><tr><td>val/accuracy</td><td>▁▁▅▆█</td></tr><tr><td>val/loss</td><td>█▄▂▁▁</td></tr></table><br/></div><div class=\"wandb-col\"><h3>Run summary:</h3><br/><table class=\"wandb\"><tr><td>epoch</td><td>5</td></tr><tr><td>train/accuracy</td><td>0.24101</td></tr><tr><td>train/batch_loss</td><td>1.96752</td></tr><tr><td>train/loss</td><td>2.16841</td></tr><tr><td>val/accuracy</td><td>0.36303</td></tr><tr><td>val/loss</td><td>1.87734</td></tr></table><br/></div></div>"
      ],
      "text/plain": [
       "<IPython.core.display.HTML object>"
      ]
     },
     "metadata": {},
     "output_type": "display_data"
    },
    {
     "data": {
      "text/html": [
       " View run <strong style=\"color:#cdcd00\">n4_h128_lr0.002489491314536489_bs64_acttanh</strong> at: <a href='https://wandb.ai/deeplearn24/DL_A1_mse_sweeps/runs/bzdi8yjk' target=\"_blank\">https://wandb.ai/deeplearn24/DL_A1_mse_sweeps/runs/bzdi8yjk</a><br> View project at: <a href='https://wandb.ai/deeplearn24/DL_A1_mse_sweeps' target=\"_blank\">https://wandb.ai/deeplearn24/DL_A1_mse_sweeps</a><br>Synced 5 W&B file(s), 1 media file(s), 0 artifact file(s) and 0 other file(s)"
      ],
      "text/plain": [
       "<IPython.core.display.HTML object>"
      ]
     },
     "metadata": {},
     "output_type": "display_data"
    },
    {
     "data": {
      "text/html": [
       "Find logs at: <code>./wandb/run-20250311_154934-bzdi8yjk/logs</code>"
      ],
      "text/plain": [
       "<IPython.core.display.HTML object>"
      ]
     },
     "metadata": {},
     "output_type": "display_data"
    },
    {
     "name": "stderr",
     "output_type": "stream",
     "text": [
      "\u001b[34m\u001b[1mwandb\u001b[0m: Agent Starting Run: ozvjbdd4 with config:\n",
      "\u001b[34m\u001b[1mwandb\u001b[0m: \tactivation: tanh\n",
      "\u001b[34m\u001b[1mwandb\u001b[0m: \tbatch_size: 32\n",
      "\u001b[34m\u001b[1mwandb\u001b[0m: \tbeta: 0.9\n",
      "\u001b[34m\u001b[1mwandb\u001b[0m: \tbeta1: 0.9\n",
      "\u001b[34m\u001b[1mwandb\u001b[0m: \tbeta2: 0.999\n",
      "\u001b[34m\u001b[1mwandb\u001b[0m: \tepochs: 5\n",
      "\u001b[34m\u001b[1mwandb\u001b[0m: \tepsilon: 1e-08\n",
      "\u001b[34m\u001b[1mwandb\u001b[0m: \thidden_size: 128\n",
      "\u001b[34m\u001b[1mwandb\u001b[0m: \tlearning_rate: 0.0011151865676019854\n",
      "\u001b[34m\u001b[1mwandb\u001b[0m: \tloss: mse\n",
      "\u001b[34m\u001b[1mwandb\u001b[0m: \tmomentum: 0.9\n",
      "\u001b[34m\u001b[1mwandb\u001b[0m: \tnum_layers: 3\n",
      "\u001b[34m\u001b[1mwandb\u001b[0m: \toptimizer: adam\n",
      "\u001b[34m\u001b[1mwandb\u001b[0m: \tweight_decay: 0.0005\n",
      "\u001b[34m\u001b[1mwandb\u001b[0m: \tweight_init: xavier\n"
     ]
    },
    {
     "data": {
      "text/html": [
       "Tracking run with wandb version 0.19.8"
      ],
      "text/plain": [
       "<IPython.core.display.HTML object>"
      ]
     },
     "metadata": {},
     "output_type": "display_data"
    },
    {
     "data": {
      "text/html": [
       "Run data is saved locally in <code>/home/user/Documents/Courses/DA6401/wandb/run-20250311_155109-ozvjbdd4</code>"
      ],
      "text/plain": [
       "<IPython.core.display.HTML object>"
      ]
     },
     "metadata": {},
     "output_type": "display_data"
    },
    {
     "data": {
      "text/html": [
       "Syncing run <strong><a href='https://wandb.ai/deeplearn24/DL_A1_mse_sweeps/runs/ozvjbdd4' target=\"_blank\">stoic-sweep-39</a></strong> to <a href='https://wandb.ai/deeplearn24/DL_A1_mse_sweeps' target=\"_blank\">Weights & Biases</a> (<a href='https://wandb.me/developer-guide' target=\"_blank\">docs</a>)<br>Sweep page: <a href='https://wandb.ai/deeplearn24/DL_A1_mse_sweeps/sweeps/9crckhqe' target=\"_blank\">https://wandb.ai/deeplearn24/DL_A1_mse_sweeps/sweeps/9crckhqe</a>"
      ],
      "text/plain": [
       "<IPython.core.display.HTML object>"
      ]
     },
     "metadata": {},
     "output_type": "display_data"
    },
    {
     "data": {
      "text/html": [
       " View project at <a href='https://wandb.ai/deeplearn24/DL_A1_mse_sweeps' target=\"_blank\">https://wandb.ai/deeplearn24/DL_A1_mse_sweeps</a>"
      ],
      "text/plain": [
       "<IPython.core.display.HTML object>"
      ]
     },
     "metadata": {},
     "output_type": "display_data"
    },
    {
     "data": {
      "text/html": [
       " View sweep at <a href='https://wandb.ai/deeplearn24/DL_A1_mse_sweeps/sweeps/9crckhqe' target=\"_blank\">https://wandb.ai/deeplearn24/DL_A1_mse_sweeps/sweeps/9crckhqe</a>"
      ],
      "text/plain": [
       "<IPython.core.display.HTML object>"
      ]
     },
     "metadata": {},
     "output_type": "display_data"
    },
    {
     "data": {
      "text/html": [
       " View run at <a href='https://wandb.ai/deeplearn24/DL_A1_mse_sweeps/runs/ozvjbdd4' target=\"_blank\">https://wandb.ai/deeplearn24/DL_A1_mse_sweeps/runs/ozvjbdd4</a>"
      ],
      "text/plain": [
       "<IPython.core.display.HTML object>"
      ]
     },
     "metadata": {},
     "output_type": "display_data"
    },
    {
     "name": "stdout",
     "output_type": "stream",
     "text": [
      "Epoch: 1, Train Loss: 3.604226032134877, Valid Loss: 6.893714300560235\n",
      "Epoch: 2, Train Loss: 53.12906460285051, Valid Loss: 199.7931473280882\n",
      "Epoch: 3, Train Loss: 207.72058769298602, Valid Loss: 177.15151836980186\n",
      "Epoch: 4, Train Loss: 134.8245554675413, Valid Loss: 162.53941340414028\n",
      "Epoch: 5, Train Loss: 141.62921728347163, Valid Loss: 202.6020850345367\n"
     ]
    },
    {
     "data": {
      "text/html": [],
      "text/plain": [
       "<IPython.core.display.HTML object>"
      ]
     },
     "metadata": {},
     "output_type": "display_data"
    },
    {
     "data": {
      "text/html": [
       "<br>    <style><br>        .wandb-row {<br>            display: flex;<br>            flex-direction: row;<br>            flex-wrap: wrap;<br>            justify-content: flex-start;<br>            width: 100%;<br>        }<br>        .wandb-col {<br>            display: flex;<br>            flex-direction: column;<br>            flex-basis: 100%;<br>            flex: 1;<br>            padding: 10px;<br>        }<br>    </style><br><div class=\"wandb-row\"><div class=\"wandb-col\"><h3>Run history:</h3><br/><table class=\"wandb\"><tr><td>epoch</td><td>▁▃▅▆█</td></tr><tr><td>train/accuracy</td><td>█▅▂▁▃</td></tr><tr><td>train/batch_loss</td><td>▁▁▁▁▁▁▁▁▁▁▂▄▄▅▅▆▆▇███▇▇▇▇▆▆▅▄▄▄▄▄▅▅▆▆▅▅▆</td></tr><tr><td>train/loss</td><td>▁▃█▆▆</td></tr><tr><td>val/accuracy</td><td>█▁▄▃▇</td></tr><tr><td>val/loss</td><td>▁█▇▇█</td></tr></table><br/></div><div class=\"wandb-col\"><h3>Run summary:</h3><br/><table class=\"wandb\"><tr><td>epoch</td><td>5</td></tr><tr><td>train/accuracy</td><td>0.20346</td></tr><tr><td>train/batch_loss</td><td>202.01382</td></tr><tr><td>train/loss</td><td>141.62922</td></tr><tr><td>val/accuracy</td><td>0.27311</td></tr><tr><td>val/loss</td><td>202.60209</td></tr></table><br/></div></div>"
      ],
      "text/plain": [
       "<IPython.core.display.HTML object>"
      ]
     },
     "metadata": {},
     "output_type": "display_data"
    },
    {
     "data": {
      "text/html": [
       " View run <strong style=\"color:#cdcd00\">n3_h128_lr0.0011151865676019854_bs32_acttanh</strong> at: <a href='https://wandb.ai/deeplearn24/DL_A1_mse_sweeps/runs/ozvjbdd4' target=\"_blank\">https://wandb.ai/deeplearn24/DL_A1_mse_sweeps/runs/ozvjbdd4</a><br> View project at: <a href='https://wandb.ai/deeplearn24/DL_A1_mse_sweeps' target=\"_blank\">https://wandb.ai/deeplearn24/DL_A1_mse_sweeps</a><br>Synced 5 W&B file(s), 1 media file(s), 0 artifact file(s) and 0 other file(s)"
      ],
      "text/plain": [
       "<IPython.core.display.HTML object>"
      ]
     },
     "metadata": {},
     "output_type": "display_data"
    },
    {
     "data": {
      "text/html": [
       "Find logs at: <code>./wandb/run-20250311_155109-ozvjbdd4/logs</code>"
      ],
      "text/plain": [
       "<IPython.core.display.HTML object>"
      ]
     },
     "metadata": {},
     "output_type": "display_data"
    },
    {
     "name": "stderr",
     "output_type": "stream",
     "text": [
      "\u001b[34m\u001b[1mwandb\u001b[0m: Agent Starting Run: pda0wjfp with config:\n",
      "\u001b[34m\u001b[1mwandb\u001b[0m: \tactivation: ReLU\n",
      "\u001b[34m\u001b[1mwandb\u001b[0m: \tbatch_size: 64\n",
      "\u001b[34m\u001b[1mwandb\u001b[0m: \tbeta: 0.9\n",
      "\u001b[34m\u001b[1mwandb\u001b[0m: \tbeta1: 0.9\n",
      "\u001b[34m\u001b[1mwandb\u001b[0m: \tbeta2: 0.999\n",
      "\u001b[34m\u001b[1mwandb\u001b[0m: \tepochs: 10\n",
      "\u001b[34m\u001b[1mwandb\u001b[0m: \tepsilon: 1e-08\n",
      "\u001b[34m\u001b[1mwandb\u001b[0m: \thidden_size: 64\n",
      "\u001b[34m\u001b[1mwandb\u001b[0m: \tlearning_rate: 0.00842975555718243\n",
      "\u001b[34m\u001b[1mwandb\u001b[0m: \tloss: mse\n",
      "\u001b[34m\u001b[1mwandb\u001b[0m: \tmomentum: 0.9\n",
      "\u001b[34m\u001b[1mwandb\u001b[0m: \tnum_layers: 4\n",
      "\u001b[34m\u001b[1mwandb\u001b[0m: \toptimizer: sgd\n",
      "\u001b[34m\u001b[1mwandb\u001b[0m: \tweight_decay: 0.0005\n",
      "\u001b[34m\u001b[1mwandb\u001b[0m: \tweight_init: xavier\n"
     ]
    },
    {
     "data": {
      "text/html": [
       "Tracking run with wandb version 0.19.8"
      ],
      "text/plain": [
       "<IPython.core.display.HTML object>"
      ]
     },
     "metadata": {},
     "output_type": "display_data"
    },
    {
     "data": {
      "text/html": [
       "Run data is saved locally in <code>/home/user/Documents/Courses/DA6401/wandb/run-20250311_155224-pda0wjfp</code>"
      ],
      "text/plain": [
       "<IPython.core.display.HTML object>"
      ]
     },
     "metadata": {},
     "output_type": "display_data"
    },
    {
     "data": {
      "text/html": [
       "Syncing run <strong><a href='https://wandb.ai/deeplearn24/DL_A1_mse_sweeps/runs/pda0wjfp' target=\"_blank\">lilac-sweep-40</a></strong> to <a href='https://wandb.ai/deeplearn24/DL_A1_mse_sweeps' target=\"_blank\">Weights & Biases</a> (<a href='https://wandb.me/developer-guide' target=\"_blank\">docs</a>)<br>Sweep page: <a href='https://wandb.ai/deeplearn24/DL_A1_mse_sweeps/sweeps/9crckhqe' target=\"_blank\">https://wandb.ai/deeplearn24/DL_A1_mse_sweeps/sweeps/9crckhqe</a>"
      ],
      "text/plain": [
       "<IPython.core.display.HTML object>"
      ]
     },
     "metadata": {},
     "output_type": "display_data"
    },
    {
     "data": {
      "text/html": [
       " View project at <a href='https://wandb.ai/deeplearn24/DL_A1_mse_sweeps' target=\"_blank\">https://wandb.ai/deeplearn24/DL_A1_mse_sweeps</a>"
      ],
      "text/plain": [
       "<IPython.core.display.HTML object>"
      ]
     },
     "metadata": {},
     "output_type": "display_data"
    },
    {
     "data": {
      "text/html": [
       " View sweep at <a href='https://wandb.ai/deeplearn24/DL_A1_mse_sweeps/sweeps/9crckhqe' target=\"_blank\">https://wandb.ai/deeplearn24/DL_A1_mse_sweeps/sweeps/9crckhqe</a>"
      ],
      "text/plain": [
       "<IPython.core.display.HTML object>"
      ]
     },
     "metadata": {},
     "output_type": "display_data"
    },
    {
     "data": {
      "text/html": [
       " View run at <a href='https://wandb.ai/deeplearn24/DL_A1_mse_sweeps/runs/pda0wjfp' target=\"_blank\">https://wandb.ai/deeplearn24/DL_A1_mse_sweeps/runs/pda0wjfp</a>"
      ],
      "text/plain": [
       "<IPython.core.display.HTML object>"
      ]
     },
     "metadata": {},
     "output_type": "display_data"
    },
    {
     "name": "stdout",
     "output_type": "stream",
     "text": [
      "Epoch: 1, Train Loss: 0.8457561550368898, Valid Loss: 0.7414142779588634\n",
      "Epoch: 2, Train Loss: 0.8738243398963894, Valid Loss: 1.0193311620726089\n",
      "Epoch: 3, Train Loss: 1.0433707624374446, Valid Loss: 1.067277641153662\n",
      "Epoch: 4, Train Loss: 0.9055488319259105, Valid Loss: 0.8749838938854487\n",
      "Epoch: 5, Train Loss: 0.9073963419773803, Valid Loss: 1.1255665280637783\n",
      "Epoch: 6, Train Loss: 1.0033133999467507, Valid Loss: 1.0796036295859632\n",
      "Epoch: 7, Train Loss: 1.09571630911551, Valid Loss: 1.1926747455802906\n",
      "Epoch: 8, Train Loss: 1.114195677518179, Valid Loss: 1.2342125648800526\n",
      "Epoch: 9, Train Loss: 1.21616902224648, Valid Loss: 1.5043394096729137\n",
      "Epoch: 10, Train Loss: 1.2769657080611383, Valid Loss: 1.297643929316721\n"
     ]
    },
    {
     "data": {
      "text/html": [],
      "text/plain": [
       "<IPython.core.display.HTML object>"
      ]
     },
     "metadata": {},
     "output_type": "display_data"
    },
    {
     "data": {
      "text/html": [
       "<br>    <style><br>        .wandb-row {<br>            display: flex;<br>            flex-direction: row;<br>            flex-wrap: wrap;<br>            justify-content: flex-start;<br>            width: 100%;<br>        }<br>        .wandb-col {<br>            display: flex;<br>            flex-direction: column;<br>            flex-basis: 100%;<br>            flex: 1;<br>            padding: 10px;<br>        }<br>    </style><br><div class=\"wandb-row\"><div class=\"wandb-col\"><h3>Run history:</h3><br/><table class=\"wandb\"><tr><td>epoch</td><td>▁▂▃▃▄▅▆▆▇█</td></tr><tr><td>train/accuracy</td><td>▁▅▄▇█▇▇▇▆▇</td></tr><tr><td>train/batch_loss</td><td>▃▂▂▁▅▂▂▄▅▅▂▃▃▃▄▃▃▃▂▃▃▄▃▇▅▄▄▃▅▃▄▇▄▅▆▄▄█▄▄</td></tr><tr><td>train/loss</td><td>▁▁▄▂▂▄▅▅▇█</td></tr><tr><td>val/accuracy</td><td>▄▄▄▇▇▆▇▁▁█</td></tr><tr><td>val/loss</td><td>▁▄▄▂▅▄▅▆█▆</td></tr></table><br/></div><div class=\"wandb-col\"><h3>Run summary:</h3><br/><table class=\"wandb\"><tr><td>epoch</td><td>10</td></tr><tr><td>train/accuracy</td><td>0.81254</td></tr><tr><td>train/batch_loss</td><td>0.99054</td></tr><tr><td>train/loss</td><td>1.27697</td></tr><tr><td>val/accuracy</td><td>0.82624</td></tr><tr><td>val/loss</td><td>1.29764</td></tr></table><br/></div></div>"
      ],
      "text/plain": [
       "<IPython.core.display.HTML object>"
      ]
     },
     "metadata": {},
     "output_type": "display_data"
    },
    {
     "data": {
      "text/html": [
       " View run <strong style=\"color:#cdcd00\">n4_h64_lr0.00842975555718243_bs64_actReLU</strong> at: <a href='https://wandb.ai/deeplearn24/DL_A1_mse_sweeps/runs/pda0wjfp' target=\"_blank\">https://wandb.ai/deeplearn24/DL_A1_mse_sweeps/runs/pda0wjfp</a><br> View project at: <a href='https://wandb.ai/deeplearn24/DL_A1_mse_sweeps' target=\"_blank\">https://wandb.ai/deeplearn24/DL_A1_mse_sweeps</a><br>Synced 5 W&B file(s), 1 media file(s), 0 artifact file(s) and 0 other file(s)"
      ],
      "text/plain": [
       "<IPython.core.display.HTML object>"
      ]
     },
     "metadata": {},
     "output_type": "display_data"
    },
    {
     "data": {
      "text/html": [
       "Find logs at: <code>./wandb/run-20250311_155224-pda0wjfp/logs</code>"
      ],
      "text/plain": [
       "<IPython.core.display.HTML object>"
      ]
     },
     "metadata": {},
     "output_type": "display_data"
    },
    {
     "name": "stderr",
     "output_type": "stream",
     "text": [
      "\u001b[34m\u001b[1mwandb\u001b[0m: Agent Starting Run: 5ubayuvn with config:\n",
      "\u001b[34m\u001b[1mwandb\u001b[0m: \tactivation: tanh\n",
      "\u001b[34m\u001b[1mwandb\u001b[0m: \tbatch_size: 32\n",
      "\u001b[34m\u001b[1mwandb\u001b[0m: \tbeta: 0.9\n",
      "\u001b[34m\u001b[1mwandb\u001b[0m: \tbeta1: 0.9\n",
      "\u001b[34m\u001b[1mwandb\u001b[0m: \tbeta2: 0.999\n",
      "\u001b[34m\u001b[1mwandb\u001b[0m: \tepochs: 5\n",
      "\u001b[34m\u001b[1mwandb\u001b[0m: \tepsilon: 1e-08\n",
      "\u001b[34m\u001b[1mwandb\u001b[0m: \thidden_size: 64\n",
      "\u001b[34m\u001b[1mwandb\u001b[0m: \tlearning_rate: 0.007605376297841559\n",
      "\u001b[34m\u001b[1mwandb\u001b[0m: \tloss: mse\n",
      "\u001b[34m\u001b[1mwandb\u001b[0m: \tmomentum: 0.9\n",
      "\u001b[34m\u001b[1mwandb\u001b[0m: \tnum_layers: 3\n",
      "\u001b[34m\u001b[1mwandb\u001b[0m: \toptimizer: momentum\n",
      "\u001b[34m\u001b[1mwandb\u001b[0m: \tweight_decay: 0.0005\n",
      "\u001b[34m\u001b[1mwandb\u001b[0m: \tweight_init: random\n"
     ]
    },
    {
     "data": {
      "text/html": [
       "Tracking run with wandb version 0.19.8"
      ],
      "text/plain": [
       "<IPython.core.display.HTML object>"
      ]
     },
     "metadata": {},
     "output_type": "display_data"
    },
    {
     "data": {
      "text/html": [
       "Run data is saved locally in <code>/home/user/Documents/Courses/DA6401/wandb/run-20250311_155322-5ubayuvn</code>"
      ],
      "text/plain": [
       "<IPython.core.display.HTML object>"
      ]
     },
     "metadata": {},
     "output_type": "display_data"
    },
    {
     "data": {
      "text/html": [
       "Syncing run <strong><a href='https://wandb.ai/deeplearn24/DL_A1_mse_sweeps/runs/5ubayuvn' target=\"_blank\">copper-sweep-41</a></strong> to <a href='https://wandb.ai/deeplearn24/DL_A1_mse_sweeps' target=\"_blank\">Weights & Biases</a> (<a href='https://wandb.me/developer-guide' target=\"_blank\">docs</a>)<br>Sweep page: <a href='https://wandb.ai/deeplearn24/DL_A1_mse_sweeps/sweeps/9crckhqe' target=\"_blank\">https://wandb.ai/deeplearn24/DL_A1_mse_sweeps/sweeps/9crckhqe</a>"
      ],
      "text/plain": [
       "<IPython.core.display.HTML object>"
      ]
     },
     "metadata": {},
     "output_type": "display_data"
    },
    {
     "data": {
      "text/html": [
       " View project at <a href='https://wandb.ai/deeplearn24/DL_A1_mse_sweeps' target=\"_blank\">https://wandb.ai/deeplearn24/DL_A1_mse_sweeps</a>"
      ],
      "text/plain": [
       "<IPython.core.display.HTML object>"
      ]
     },
     "metadata": {},
     "output_type": "display_data"
    },
    {
     "data": {
      "text/html": [
       " View sweep at <a href='https://wandb.ai/deeplearn24/DL_A1_mse_sweeps/sweeps/9crckhqe' target=\"_blank\">https://wandb.ai/deeplearn24/DL_A1_mse_sweeps/sweeps/9crckhqe</a>"
      ],
      "text/plain": [
       "<IPython.core.display.HTML object>"
      ]
     },
     "metadata": {},
     "output_type": "display_data"
    },
    {
     "data": {
      "text/html": [
       " View run at <a href='https://wandb.ai/deeplearn24/DL_A1_mse_sweeps/runs/5ubayuvn' target=\"_blank\">https://wandb.ai/deeplearn24/DL_A1_mse_sweeps/runs/5ubayuvn</a>"
      ],
      "text/plain": [
       "<IPython.core.display.HTML object>"
      ]
     },
     "metadata": {},
     "output_type": "display_data"
    },
    {
     "name": "stdout",
     "output_type": "stream",
     "text": [
      "Epoch: 1, Train Loss: 41.21825444774828, Valid Loss: 70.17808007234034\n",
      "Epoch: 2, Train Loss: 112.94231721410081, Valid Loss: 168.921421002401\n",
      "Epoch: 3, Train Loss: 391.0983315400815, Valid Loss: 554.1164646271446\n",
      "Epoch: 4, Train Loss: 388.1336484884536, Valid Loss: 247.75002851066174\n",
      "Epoch: 5, Train Loss: 471.27501400880965, Valid Loss: 791.8615620632255\n"
     ]
    },
    {
     "data": {
      "text/html": [],
      "text/plain": [
       "<IPython.core.display.HTML object>"
      ]
     },
     "metadata": {},
     "output_type": "display_data"
    },
    {
     "data": {
      "text/html": [
       "<br>    <style><br>        .wandb-row {<br>            display: flex;<br>            flex-direction: row;<br>            flex-wrap: wrap;<br>            justify-content: flex-start;<br>            width: 100%;<br>        }<br>        .wandb-col {<br>            display: flex;<br>            flex-direction: column;<br>            flex-basis: 100%;<br>            flex: 1;<br>            padding: 10px;<br>        }<br>    </style><br><div class=\"wandb-row\"><div class=\"wandb-col\"><h3>Run history:</h3><br/><table class=\"wandb\"><tr><td>epoch</td><td>▁▃▅▆█</td></tr><tr><td>train/accuracy</td><td>▁▅▃▅█</td></tr><tr><td>train/batch_loss</td><td>▁▁▁▁▁▁▁▁▁▂▂▂▂▂▂▂▂▂▂▃▅▅▅▅▅▆▆▆▅▄▄▃▃▃▃▄▅▅▅█</td></tr><tr><td>train/loss</td><td>▁▂▇▇█</td></tr><tr><td>val/accuracy</td><td>▁▃▃█▆</td></tr><tr><td>val/loss</td><td>▁▂▆▃█</td></tr></table><br/></div><div class=\"wandb-col\"><h3>Run summary:</h3><br/><table class=\"wandb\"><tr><td>epoch</td><td>5</td></tr><tr><td>train/accuracy</td><td>0.371</td></tr><tr><td>train/batch_loss</td><td>791.33439</td></tr><tr><td>train/loss</td><td>471.27501</td></tr><tr><td>val/accuracy</td><td>0.3755</td></tr><tr><td>val/loss</td><td>791.86156</td></tr></table><br/></div></div>"
      ],
      "text/plain": [
       "<IPython.core.display.HTML object>"
      ]
     },
     "metadata": {},
     "output_type": "display_data"
    },
    {
     "data": {
      "text/html": [
       " View run <strong style=\"color:#cdcd00\">n3_h64_lr0.007605376297841559_bs32_acttanh</strong> at: <a href='https://wandb.ai/deeplearn24/DL_A1_mse_sweeps/runs/5ubayuvn' target=\"_blank\">https://wandb.ai/deeplearn24/DL_A1_mse_sweeps/runs/5ubayuvn</a><br> View project at: <a href='https://wandb.ai/deeplearn24/DL_A1_mse_sweeps' target=\"_blank\">https://wandb.ai/deeplearn24/DL_A1_mse_sweeps</a><br>Synced 5 W&B file(s), 1 media file(s), 0 artifact file(s) and 0 other file(s)"
      ],
      "text/plain": [
       "<IPython.core.display.HTML object>"
      ]
     },
     "metadata": {},
     "output_type": "display_data"
    },
    {
     "data": {
      "text/html": [
       "Find logs at: <code>./wandb/run-20250311_155322-5ubayuvn/logs</code>"
      ],
      "text/plain": [
       "<IPython.core.display.HTML object>"
      ]
     },
     "metadata": {},
     "output_type": "display_data"
    },
    {
     "name": "stderr",
     "output_type": "stream",
     "text": [
      "\u001b[34m\u001b[1mwandb\u001b[0m: Agent Starting Run: aotl30dm with config:\n",
      "\u001b[34m\u001b[1mwandb\u001b[0m: \tactivation: ReLU\n",
      "\u001b[34m\u001b[1mwandb\u001b[0m: \tbatch_size: 16\n",
      "\u001b[34m\u001b[1mwandb\u001b[0m: \tbeta: 0.9\n",
      "\u001b[34m\u001b[1mwandb\u001b[0m: \tbeta1: 0.9\n",
      "\u001b[34m\u001b[1mwandb\u001b[0m: \tbeta2: 0.999\n",
      "\u001b[34m\u001b[1mwandb\u001b[0m: \tepochs: 10\n",
      "\u001b[34m\u001b[1mwandb\u001b[0m: \tepsilon: 1e-08\n",
      "\u001b[34m\u001b[1mwandb\u001b[0m: \thidden_size: 32\n",
      "\u001b[34m\u001b[1mwandb\u001b[0m: \tlearning_rate: 0.008049632432317832\n",
      "\u001b[34m\u001b[1mwandb\u001b[0m: \tloss: mse\n",
      "\u001b[34m\u001b[1mwandb\u001b[0m: \tmomentum: 0.9\n",
      "\u001b[34m\u001b[1mwandb\u001b[0m: \tnum_layers: 5\n",
      "\u001b[34m\u001b[1mwandb\u001b[0m: \toptimizer: adam\n",
      "\u001b[34m\u001b[1mwandb\u001b[0m: \tweight_decay: 0.5\n",
      "\u001b[34m\u001b[1mwandb\u001b[0m: \tweight_init: xavier\n"
     ]
    },
    {
     "data": {
      "text/html": [
       "Tracking run with wandb version 0.19.8"
      ],
      "text/plain": [
       "<IPython.core.display.HTML object>"
      ]
     },
     "metadata": {},
     "output_type": "display_data"
    },
    {
     "data": {
      "text/html": [
       "Run data is saved locally in <code>/home/user/Documents/Courses/DA6401/wandb/run-20250311_155354-aotl30dm</code>"
      ],
      "text/plain": [
       "<IPython.core.display.HTML object>"
      ]
     },
     "metadata": {},
     "output_type": "display_data"
    },
    {
     "data": {
      "text/html": [
       "Syncing run <strong><a href='https://wandb.ai/deeplearn24/DL_A1_mse_sweeps/runs/aotl30dm' target=\"_blank\">colorful-sweep-42</a></strong> to <a href='https://wandb.ai/deeplearn24/DL_A1_mse_sweeps' target=\"_blank\">Weights & Biases</a> (<a href='https://wandb.me/developer-guide' target=\"_blank\">docs</a>)<br>Sweep page: <a href='https://wandb.ai/deeplearn24/DL_A1_mse_sweeps/sweeps/9crckhqe' target=\"_blank\">https://wandb.ai/deeplearn24/DL_A1_mse_sweeps/sweeps/9crckhqe</a>"
      ],
      "text/plain": [
       "<IPython.core.display.HTML object>"
      ]
     },
     "metadata": {},
     "output_type": "display_data"
    },
    {
     "data": {
      "text/html": [
       " View project at <a href='https://wandb.ai/deeplearn24/DL_A1_mse_sweeps' target=\"_blank\">https://wandb.ai/deeplearn24/DL_A1_mse_sweeps</a>"
      ],
      "text/plain": [
       "<IPython.core.display.HTML object>"
      ]
     },
     "metadata": {},
     "output_type": "display_data"
    },
    {
     "data": {
      "text/html": [
       " View sweep at <a href='https://wandb.ai/deeplearn24/DL_A1_mse_sweeps/sweeps/9crckhqe' target=\"_blank\">https://wandb.ai/deeplearn24/DL_A1_mse_sweeps/sweeps/9crckhqe</a>"
      ],
      "text/plain": [
       "<IPython.core.display.HTML object>"
      ]
     },
     "metadata": {},
     "output_type": "display_data"
    },
    {
     "data": {
      "text/html": [
       " View run at <a href='https://wandb.ai/deeplearn24/DL_A1_mse_sweeps/runs/aotl30dm' target=\"_blank\">https://wandb.ai/deeplearn24/DL_A1_mse_sweeps/runs/aotl30dm</a>"
      ],
      "text/plain": [
       "<IPython.core.display.HTML object>"
      ]
     },
     "metadata": {},
     "output_type": "display_data"
    },
    {
     "name": "stdout",
     "output_type": "stream",
     "text": [
      "Epoch: 1, Train Loss: 16.426731699730972, Valid Loss: 17.36076697586686\n",
      "Epoch: 2, Train Loss: 15.781087484973819, Valid Loss: 15.372750413806427\n",
      "Epoch: 3, Train Loss: 17.33290475159401, Valid Loss: 17.76290995595959\n",
      "Epoch: 4, Train Loss: 15.503192625362342, Valid Loss: 15.710507294965238\n",
      "Epoch: 5, Train Loss: 15.380488827420741, Valid Loss: 18.49409186152753\n",
      "Epoch: 6, Train Loss: 15.383950202719396, Valid Loss: 18.259790269463885\n",
      "Epoch: 7, Train Loss: 15.944249769537667, Valid Loss: 20.824108265172956\n",
      "Epoch: 8, Train Loss: 16.12235803085829, Valid Loss: 15.544104520322993\n",
      "Epoch: 9, Train Loss: 16.285204599969873, Valid Loss: 17.458274298850068\n",
      "Epoch: 10, Train Loss: 16.252144654338295, Valid Loss: 17.90365417949101\n"
     ]
    },
    {
     "data": {
      "text/html": [],
      "text/plain": [
       "<IPython.core.display.HTML object>"
      ]
     },
     "metadata": {},
     "output_type": "display_data"
    },
    {
     "data": {
      "text/html": [
       "<br>    <style><br>        .wandb-row {<br>            display: flex;<br>            flex-direction: row;<br>            flex-wrap: wrap;<br>            justify-content: flex-start;<br>            width: 100%;<br>        }<br>        .wandb-col {<br>            display: flex;<br>            flex-direction: column;<br>            flex-basis: 100%;<br>            flex: 1;<br>            padding: 10px;<br>        }<br>    </style><br><div class=\"wandb-row\"><div class=\"wandb-col\"><h3>Run history:</h3><br/><table class=\"wandb\"><tr><td>epoch</td><td>▁▂▃▃▄▅▆▆▇█</td></tr><tr><td>train/accuracy</td><td>▁▅▇██▇▆▆▆▆</td></tr><tr><td>train/batch_loss</td><td>▄▃▅▄▃█▆█▄▅▃▅▃▄▅▁▂▃▃▂▃▂▂▂▃▅▅▅▃▃▃▃▃▄▄▄▅▅▃▄</td></tr><tr><td>train/loss</td><td>▅▂█▁▁▁▃▄▄▄</td></tr><tr><td>val/accuracy</td><td>▁▃█▆▅▂▃▅▆▅</td></tr><tr><td>val/loss</td><td>▄▁▄▁▅▅█▁▄▄</td></tr></table><br/></div><div class=\"wandb-col\"><h3>Run summary:</h3><br/><table class=\"wandb\"><tr><td>epoch</td><td>10</td></tr><tr><td>train/accuracy</td><td>0.40943</td></tr><tr><td>train/batch_loss</td><td>17.52172</td></tr><tr><td>train/loss</td><td>16.25214</td></tr><tr><td>val/accuracy</td><td>0.42383</td></tr><tr><td>val/loss</td><td>17.90365</td></tr></table><br/></div></div>"
      ],
      "text/plain": [
       "<IPython.core.display.HTML object>"
      ]
     },
     "metadata": {},
     "output_type": "display_data"
    },
    {
     "data": {
      "text/html": [
       " View run <strong style=\"color:#cdcd00\">n5_h32_lr0.008049632432317832_bs16_actReLU</strong> at: <a href='https://wandb.ai/deeplearn24/DL_A1_mse_sweeps/runs/aotl30dm' target=\"_blank\">https://wandb.ai/deeplearn24/DL_A1_mse_sweeps/runs/aotl30dm</a><br> View project at: <a href='https://wandb.ai/deeplearn24/DL_A1_mse_sweeps' target=\"_blank\">https://wandb.ai/deeplearn24/DL_A1_mse_sweeps</a><br>Synced 5 W&B file(s), 1 media file(s), 0 artifact file(s) and 0 other file(s)"
      ],
      "text/plain": [
       "<IPython.core.display.HTML object>"
      ]
     },
     "metadata": {},
     "output_type": "display_data"
    },
    {
     "data": {
      "text/html": [
       "Find logs at: <code>./wandb/run-20250311_155354-aotl30dm/logs</code>"
      ],
      "text/plain": [
       "<IPython.core.display.HTML object>"
      ]
     },
     "metadata": {},
     "output_type": "display_data"
    },
    {
     "name": "stderr",
     "output_type": "stream",
     "text": [
      "\u001b[34m\u001b[1mwandb\u001b[0m: Agent Starting Run: pbny5b64 with config:\n",
      "\u001b[34m\u001b[1mwandb\u001b[0m: \tactivation: ReLU\n",
      "\u001b[34m\u001b[1mwandb\u001b[0m: \tbatch_size: 64\n",
      "\u001b[34m\u001b[1mwandb\u001b[0m: \tbeta: 0.9\n",
      "\u001b[34m\u001b[1mwandb\u001b[0m: \tbeta1: 0.9\n",
      "\u001b[34m\u001b[1mwandb\u001b[0m: \tbeta2: 0.999\n",
      "\u001b[34m\u001b[1mwandb\u001b[0m: \tepochs: 10\n",
      "\u001b[34m\u001b[1mwandb\u001b[0m: \tepsilon: 1e-08\n",
      "\u001b[34m\u001b[1mwandb\u001b[0m: \thidden_size: 32\n",
      "\u001b[34m\u001b[1mwandb\u001b[0m: \tlearning_rate: 0.0008154908255131128\n",
      "\u001b[34m\u001b[1mwandb\u001b[0m: \tloss: mse\n",
      "\u001b[34m\u001b[1mwandb\u001b[0m: \tmomentum: 0.9\n",
      "\u001b[34m\u001b[1mwandb\u001b[0m: \tnum_layers: 4\n",
      "\u001b[34m\u001b[1mwandb\u001b[0m: \toptimizer: nadam\n",
      "\u001b[34m\u001b[1mwandb\u001b[0m: \tweight_decay: 0.5\n",
      "\u001b[34m\u001b[1mwandb\u001b[0m: \tweight_init: xavier\n"
     ]
    },
    {
     "data": {
      "text/html": [
       "Tracking run with wandb version 0.19.8"
      ],
      "text/plain": [
       "<IPython.core.display.HTML object>"
      ]
     },
     "metadata": {},
     "output_type": "display_data"
    },
    {
     "data": {
      "text/html": [
       "Run data is saved locally in <code>/home/user/Documents/Courses/DA6401/wandb/run-20250311_155443-pbny5b64</code>"
      ],
      "text/plain": [
       "<IPython.core.display.HTML object>"
      ]
     },
     "metadata": {},
     "output_type": "display_data"
    },
    {
     "data": {
      "text/html": [
       "Syncing run <strong><a href='https://wandb.ai/deeplearn24/DL_A1_mse_sweeps/runs/pbny5b64' target=\"_blank\">glowing-sweep-43</a></strong> to <a href='https://wandb.ai/deeplearn24/DL_A1_mse_sweeps' target=\"_blank\">Weights & Biases</a> (<a href='https://wandb.me/developer-guide' target=\"_blank\">docs</a>)<br>Sweep page: <a href='https://wandb.ai/deeplearn24/DL_A1_mse_sweeps/sweeps/9crckhqe' target=\"_blank\">https://wandb.ai/deeplearn24/DL_A1_mse_sweeps/sweeps/9crckhqe</a>"
      ],
      "text/plain": [
       "<IPython.core.display.HTML object>"
      ]
     },
     "metadata": {},
     "output_type": "display_data"
    },
    {
     "data": {
      "text/html": [
       " View project at <a href='https://wandb.ai/deeplearn24/DL_A1_mse_sweeps' target=\"_blank\">https://wandb.ai/deeplearn24/DL_A1_mse_sweeps</a>"
      ],
      "text/plain": [
       "<IPython.core.display.HTML object>"
      ]
     },
     "metadata": {},
     "output_type": "display_data"
    },
    {
     "data": {
      "text/html": [
       " View sweep at <a href='https://wandb.ai/deeplearn24/DL_A1_mse_sweeps/sweeps/9crckhqe' target=\"_blank\">https://wandb.ai/deeplearn24/DL_A1_mse_sweeps/sweeps/9crckhqe</a>"
      ],
      "text/plain": [
       "<IPython.core.display.HTML object>"
      ]
     },
     "metadata": {},
     "output_type": "display_data"
    },
    {
     "data": {
      "text/html": [
       " View run at <a href='https://wandb.ai/deeplearn24/DL_A1_mse_sweeps/runs/pbny5b64' target=\"_blank\">https://wandb.ai/deeplearn24/DL_A1_mse_sweeps/runs/pbny5b64</a>"
      ],
      "text/plain": [
       "<IPython.core.display.HTML object>"
      ]
     },
     "metadata": {},
     "output_type": "display_data"
    },
    {
     "name": "stdout",
     "output_type": "stream",
     "text": [
      "Epoch: 1, Train Loss: 28.58584648012208, Valid Loss: 26.83179059814722\n",
      "Epoch: 2, Train Loss: 24.516146252644155, Valid Loss: 25.28076467050851\n",
      "Epoch: 3, Train Loss: 22.580552267310573, Valid Loss: 23.57587698003329\n",
      "Epoch: 4, Train Loss: 22.322770188894232, Valid Loss: 24.78643966311279\n",
      "Epoch: 5, Train Loss: 23.74179909197793, Valid Loss: 26.507189793777517\n",
      "Epoch: 6, Train Loss: 26.48664805762273, Valid Loss: 29.683581386987353\n",
      "Epoch: 7, Train Loss: 28.64028319977626, Valid Loss: 31.088314765255173\n",
      "Epoch: 8, Train Loss: 28.896344383784864, Valid Loss: 31.609241836857482\n",
      "Epoch: 9, Train Loss: 29.078380370149823, Valid Loss: 29.915751194036684\n",
      "Epoch: 10, Train Loss: 28.144868599231987, Valid Loss: 28.41638717811202\n"
     ]
    },
    {
     "data": {
      "text/html": [],
      "text/plain": [
       "<IPython.core.display.HTML object>"
      ]
     },
     "metadata": {},
     "output_type": "display_data"
    },
    {
     "data": {
      "text/html": [
       "<br>    <style><br>        .wandb-row {<br>            display: flex;<br>            flex-direction: row;<br>            flex-wrap: wrap;<br>            justify-content: flex-start;<br>            width: 100%;<br>        }<br>        .wandb-col {<br>            display: flex;<br>            flex-direction: column;<br>            flex-basis: 100%;<br>            flex: 1;<br>            padding: 10px;<br>        }<br>    </style><br><div class=\"wandb-row\"><div class=\"wandb-col\"><h3>Run history:</h3><br/><table class=\"wandb\"><tr><td>epoch</td><td>▁▂▃▃▄▅▆▆▇█</td></tr><tr><td>train/accuracy</td><td>▁▆██▇▆▆█▇█</td></tr><tr><td>train/batch_loss</td><td>█▄▄▄▂▂▃▃▂▂▁▁▁▁▁▁▂▂▂▂▂▄▃▅▄▆▅▄▅▅▅▅▅▅▆▄▄▅▅▅</td></tr><tr><td>train/loss</td><td>▇▃▁▁▂▅███▇</td></tr><tr><td>val/accuracy</td><td>▂▄▁▄▂▂██▇█</td></tr><tr><td>val/loss</td><td>▄▂▁▂▄▆██▇▅</td></tr></table><br/></div><div class=\"wandb-col\"><h3>Run summary:</h3><br/><table class=\"wandb\"><tr><td>epoch</td><td>10</td></tr><tr><td>train/accuracy</td><td>0.77769</td></tr><tr><td>train/batch_loss</td><td>28.89993</td></tr><tr><td>train/loss</td><td>28.14487</td></tr><tr><td>val/accuracy</td><td>0.77194</td></tr><tr><td>val/loss</td><td>28.41639</td></tr></table><br/></div></div>"
      ],
      "text/plain": [
       "<IPython.core.display.HTML object>"
      ]
     },
     "metadata": {},
     "output_type": "display_data"
    },
    {
     "data": {
      "text/html": [
       " View run <strong style=\"color:#cdcd00\">n4_h32_lr0.0008154908255131128_bs64_actReLU</strong> at: <a href='https://wandb.ai/deeplearn24/DL_A1_mse_sweeps/runs/pbny5b64' target=\"_blank\">https://wandb.ai/deeplearn24/DL_A1_mse_sweeps/runs/pbny5b64</a><br> View project at: <a href='https://wandb.ai/deeplearn24/DL_A1_mse_sweeps' target=\"_blank\">https://wandb.ai/deeplearn24/DL_A1_mse_sweeps</a><br>Synced 5 W&B file(s), 1 media file(s), 0 artifact file(s) and 0 other file(s)"
      ],
      "text/plain": [
       "<IPython.core.display.HTML object>"
      ]
     },
     "metadata": {},
     "output_type": "display_data"
    },
    {
     "data": {
      "text/html": [
       "Find logs at: <code>./wandb/run-20250311_155443-pbny5b64/logs</code>"
      ],
      "text/plain": [
       "<IPython.core.display.HTML object>"
      ]
     },
     "metadata": {},
     "output_type": "display_data"
    },
    {
     "name": "stderr",
     "output_type": "stream",
     "text": [
      "\u001b[34m\u001b[1mwandb\u001b[0m: Agent Starting Run: 2sw6709l with config:\n",
      "\u001b[34m\u001b[1mwandb\u001b[0m: \tactivation: ReLU\n",
      "\u001b[34m\u001b[1mwandb\u001b[0m: \tbatch_size: 32\n",
      "\u001b[34m\u001b[1mwandb\u001b[0m: \tbeta: 0.9\n",
      "\u001b[34m\u001b[1mwandb\u001b[0m: \tbeta1: 0.9\n",
      "\u001b[34m\u001b[1mwandb\u001b[0m: \tbeta2: 0.999\n",
      "\u001b[34m\u001b[1mwandb\u001b[0m: \tepochs: 10\n",
      "\u001b[34m\u001b[1mwandb\u001b[0m: \tepsilon: 1e-08\n",
      "\u001b[34m\u001b[1mwandb\u001b[0m: \thidden_size: 64\n",
      "\u001b[34m\u001b[1mwandb\u001b[0m: \tlearning_rate: 0.0068889179643186966\n",
      "\u001b[34m\u001b[1mwandb\u001b[0m: \tloss: mse\n",
      "\u001b[34m\u001b[1mwandb\u001b[0m: \tmomentum: 0.9\n",
      "\u001b[34m\u001b[1mwandb\u001b[0m: \tnum_layers: 4\n",
      "\u001b[34m\u001b[1mwandb\u001b[0m: \toptimizer: rmsprop\n",
      "\u001b[34m\u001b[1mwandb\u001b[0m: \tweight_decay: 0\n",
      "\u001b[34m\u001b[1mwandb\u001b[0m: \tweight_init: random\n"
     ]
    },
    {
     "data": {
      "text/html": [
       "Tracking run with wandb version 0.19.8"
      ],
      "text/plain": [
       "<IPython.core.display.HTML object>"
      ]
     },
     "metadata": {},
     "output_type": "display_data"
    },
    {
     "data": {
      "text/html": [
       "Run data is saved locally in <code>/home/user/Documents/Courses/DA6401/wandb/run-20250311_155514-2sw6709l</code>"
      ],
      "text/plain": [
       "<IPython.core.display.HTML object>"
      ]
     },
     "metadata": {},
     "output_type": "display_data"
    },
    {
     "data": {
      "text/html": [
       "Syncing run <strong><a href='https://wandb.ai/deeplearn24/DL_A1_mse_sweeps/runs/2sw6709l' target=\"_blank\">vivid-sweep-44</a></strong> to <a href='https://wandb.ai/deeplearn24/DL_A1_mse_sweeps' target=\"_blank\">Weights & Biases</a> (<a href='https://wandb.me/developer-guide' target=\"_blank\">docs</a>)<br>Sweep page: <a href='https://wandb.ai/deeplearn24/DL_A1_mse_sweeps/sweeps/9crckhqe' target=\"_blank\">https://wandb.ai/deeplearn24/DL_A1_mse_sweeps/sweeps/9crckhqe</a>"
      ],
      "text/plain": [
       "<IPython.core.display.HTML object>"
      ]
     },
     "metadata": {},
     "output_type": "display_data"
    },
    {
     "data": {
      "text/html": [
       " View project at <a href='https://wandb.ai/deeplearn24/DL_A1_mse_sweeps' target=\"_blank\">https://wandb.ai/deeplearn24/DL_A1_mse_sweeps</a>"
      ],
      "text/plain": [
       "<IPython.core.display.HTML object>"
      ]
     },
     "metadata": {},
     "output_type": "display_data"
    },
    {
     "data": {
      "text/html": [
       " View sweep at <a href='https://wandb.ai/deeplearn24/DL_A1_mse_sweeps/sweeps/9crckhqe' target=\"_blank\">https://wandb.ai/deeplearn24/DL_A1_mse_sweeps/sweeps/9crckhqe</a>"
      ],
      "text/plain": [
       "<IPython.core.display.HTML object>"
      ]
     },
     "metadata": {},
     "output_type": "display_data"
    },
    {
     "data": {
      "text/html": [
       " View run at <a href='https://wandb.ai/deeplearn24/DL_A1_mse_sweeps/runs/2sw6709l' target=\"_blank\">https://wandb.ai/deeplearn24/DL_A1_mse_sweeps/runs/2sw6709l</a>"
      ],
      "text/plain": [
       "<IPython.core.display.HTML object>"
      ]
     },
     "metadata": {},
     "output_type": "display_data"
    },
    {
     "name": "stdout",
     "output_type": "stream",
     "text": [
      "Epoch: 1, Train Loss: 3.539484396120813, Valid Loss: 2.034312491007298\n",
      "Epoch: 2, Train Loss: 2.227366010262791, Valid Loss: 2.2589355408503478\n",
      "Epoch: 3, Train Loss: 2.3584583789332147, Valid Loss: 2.212659259207481\n",
      "Epoch: 4, Train Loss: 2.238322779401611, Valid Loss: 2.198101888691388\n",
      "Epoch: 5, Train Loss: 2.242872780715988, Valid Loss: 2.200567282902537\n",
      "Epoch: 6, Train Loss: 2.2384385132552183, Valid Loss: 2.2056759206571908\n",
      "Epoch: 7, Train Loss: 2.2571420523181294, Valid Loss: 2.1840727246071108\n",
      "Epoch: 8, Train Loss: 2.1976597151809805, Valid Loss: 2.159728635821671\n",
      "Epoch: 9, Train Loss: 2.1959883010784105, Valid Loss: 2.160054685852677\n",
      "Epoch: 10, Train Loss: 2.1753518462228567, Valid Loss: 2.242640825354571\n"
     ]
    },
    {
     "data": {
      "text/html": [],
      "text/plain": [
       "<IPython.core.display.HTML object>"
      ]
     },
     "metadata": {},
     "output_type": "display_data"
    },
    {
     "data": {
      "text/html": [
       "<br>    <style><br>        .wandb-row {<br>            display: flex;<br>            flex-direction: row;<br>            flex-wrap: wrap;<br>            justify-content: flex-start;<br>            width: 100%;<br>        }<br>        .wandb-col {<br>            display: flex;<br>            flex-direction: column;<br>            flex-basis: 100%;<br>            flex: 1;<br>            padding: 10px;<br>        }<br>    </style><br><div class=\"wandb-row\"><div class=\"wandb-col\"><h3>Run history:</h3><br/><table class=\"wandb\"><tr><td>epoch</td><td>▁▂▃▃▄▅▆▆▇█</td></tr><tr><td>train/accuracy</td><td>█▂▁▁▁▁▂▂▃▃</td></tr><tr><td>train/batch_loss</td><td>█▁▁▁▁▁▁▁▁▂▁▁▁▁▁▁▁▁▁▁▁▁▁▁▁▁▁▁▁▁▁▁▁▁▁▂▁▁▁▁</td></tr><tr><td>train/loss</td><td>█▁▂▁▁▁▁▁▁▁</td></tr><tr><td>val/accuracy</td><td>█▁▃▃▃▃▄▄▄▃</td></tr><tr><td>val/loss</td><td>▁█▇▆▆▆▆▅▅▇</td></tr></table><br/></div><div class=\"wandb-col\"><h3>Run summary:</h3><br/><table class=\"wandb\"><tr><td>epoch</td><td>10</td></tr><tr><td>train/accuracy</td><td>0.16403</td></tr><tr><td>train/batch_loss</td><td>2.39693</td></tr><tr><td>train/loss</td><td>2.17535</td></tr><tr><td>val/accuracy</td><td>0.14312</td></tr><tr><td>val/loss</td><td>2.24264</td></tr></table><br/></div></div>"
      ],
      "text/plain": [
       "<IPython.core.display.HTML object>"
      ]
     },
     "metadata": {},
     "output_type": "display_data"
    },
    {
     "data": {
      "text/html": [
       " View run <strong style=\"color:#cdcd00\">n4_h64_lr0.0068889179643186966_bs32_actReLU</strong> at: <a href='https://wandb.ai/deeplearn24/DL_A1_mse_sweeps/runs/2sw6709l' target=\"_blank\">https://wandb.ai/deeplearn24/DL_A1_mse_sweeps/runs/2sw6709l</a><br> View project at: <a href='https://wandb.ai/deeplearn24/DL_A1_mse_sweeps' target=\"_blank\">https://wandb.ai/deeplearn24/DL_A1_mse_sweeps</a><br>Synced 5 W&B file(s), 1 media file(s), 0 artifact file(s) and 0 other file(s)"
      ],
      "text/plain": [
       "<IPython.core.display.HTML object>"
      ]
     },
     "metadata": {},
     "output_type": "display_data"
    },
    {
     "data": {
      "text/html": [
       "Find logs at: <code>./wandb/run-20250311_155514-2sw6709l/logs</code>"
      ],
      "text/plain": [
       "<IPython.core.display.HTML object>"
      ]
     },
     "metadata": {},
     "output_type": "display_data"
    },
    {
     "name": "stderr",
     "output_type": "stream",
     "text": [
      "\u001b[34m\u001b[1mwandb\u001b[0m: Agent Starting Run: lsjl3bxz with config:\n",
      "\u001b[34m\u001b[1mwandb\u001b[0m: \tactivation: tanh\n",
      "\u001b[34m\u001b[1mwandb\u001b[0m: \tbatch_size: 16\n",
      "\u001b[34m\u001b[1mwandb\u001b[0m: \tbeta: 0.9\n",
      "\u001b[34m\u001b[1mwandb\u001b[0m: \tbeta1: 0.9\n",
      "\u001b[34m\u001b[1mwandb\u001b[0m: \tbeta2: 0.999\n",
      "\u001b[34m\u001b[1mwandb\u001b[0m: \tepochs: 10\n",
      "\u001b[34m\u001b[1mwandb\u001b[0m: \tepsilon: 1e-08\n",
      "\u001b[34m\u001b[1mwandb\u001b[0m: \thidden_size: 64\n",
      "\u001b[34m\u001b[1mwandb\u001b[0m: \tlearning_rate: 0.007771294839941465\n",
      "\u001b[34m\u001b[1mwandb\u001b[0m: \tloss: mse\n",
      "\u001b[34m\u001b[1mwandb\u001b[0m: \tmomentum: 0.9\n",
      "\u001b[34m\u001b[1mwandb\u001b[0m: \tnum_layers: 3\n",
      "\u001b[34m\u001b[1mwandb\u001b[0m: \toptimizer: sgd\n",
      "\u001b[34m\u001b[1mwandb\u001b[0m: \tweight_decay: 0.5\n",
      "\u001b[34m\u001b[1mwandb\u001b[0m: \tweight_init: xavier\n"
     ]
    },
    {
     "data": {
      "text/html": [
       "Tracking run with wandb version 0.19.8"
      ],
      "text/plain": [
       "<IPython.core.display.HTML object>"
      ]
     },
     "metadata": {},
     "output_type": "display_data"
    },
    {
     "data": {
      "text/html": [
       "Run data is saved locally in <code>/home/user/Documents/Courses/DA6401/wandb/run-20250311_155617-lsjl3bxz</code>"
      ],
      "text/plain": [
       "<IPython.core.display.HTML object>"
      ]
     },
     "metadata": {},
     "output_type": "display_data"
    },
    {
     "data": {
      "text/html": [
       "Syncing run <strong><a href='https://wandb.ai/deeplearn24/DL_A1_mse_sweeps/runs/lsjl3bxz' target=\"_blank\">lunar-sweep-45</a></strong> to <a href='https://wandb.ai/deeplearn24/DL_A1_mse_sweeps' target=\"_blank\">Weights & Biases</a> (<a href='https://wandb.me/developer-guide' target=\"_blank\">docs</a>)<br>Sweep page: <a href='https://wandb.ai/deeplearn24/DL_A1_mse_sweeps/sweeps/9crckhqe' target=\"_blank\">https://wandb.ai/deeplearn24/DL_A1_mse_sweeps/sweeps/9crckhqe</a>"
      ],
      "text/plain": [
       "<IPython.core.display.HTML object>"
      ]
     },
     "metadata": {},
     "output_type": "display_data"
    },
    {
     "data": {
      "text/html": [
       " View project at <a href='https://wandb.ai/deeplearn24/DL_A1_mse_sweeps' target=\"_blank\">https://wandb.ai/deeplearn24/DL_A1_mse_sweeps</a>"
      ],
      "text/plain": [
       "<IPython.core.display.HTML object>"
      ]
     },
     "metadata": {},
     "output_type": "display_data"
    },
    {
     "data": {
      "text/html": [
       " View sweep at <a href='https://wandb.ai/deeplearn24/DL_A1_mse_sweeps/sweeps/9crckhqe' target=\"_blank\">https://wandb.ai/deeplearn24/DL_A1_mse_sweeps/sweeps/9crckhqe</a>"
      ],
      "text/plain": [
       "<IPython.core.display.HTML object>"
      ]
     },
     "metadata": {},
     "output_type": "display_data"
    },
    {
     "data": {
      "text/html": [
       " View run at <a href='https://wandb.ai/deeplearn24/DL_A1_mse_sweeps/runs/lsjl3bxz' target=\"_blank\">https://wandb.ai/deeplearn24/DL_A1_mse_sweeps/runs/lsjl3bxz</a>"
      ],
      "text/plain": [
       "<IPython.core.display.HTML object>"
      ]
     },
     "metadata": {},
     "output_type": "display_data"
    },
    {
     "name": "stdout",
     "output_type": "stream",
     "text": [
      "Epoch: 1, Train Loss: 101946.40867760169, Valid Loss: 511638.4897792838\n",
      "Epoch: 2, Train Loss: 1110226.8737056667, Valid Loss: 1213627.503638693\n",
      "Epoch: 3, Train Loss: 1379154.630719654, Valid Loss: 1131563.6992877836\n",
      "Epoch: 4, Train Loss: 1503287.173343461, Valid Loss: 1564886.6395519073\n",
      "Epoch: 5, Train Loss: 1732159.0524839158, Valid Loss: 1914839.0526087908\n",
      "Epoch: 6, Train Loss: 1808870.326191049, Valid Loss: 1917022.8398411588\n",
      "Epoch: 7, Train Loss: 2073302.298475075, Valid Loss: 2120795.86827451\n",
      "Epoch: 8, Train Loss: 1983798.2018353122, Valid Loss: 1952768.6669651722\n",
      "Epoch: 9, Train Loss: 2002186.1395058674, Valid Loss: 2002983.6924215453\n",
      "Epoch: 10, Train Loss: 2656347.9328106306, Valid Loss: 2943022.6702975812\n"
     ]
    },
    {
     "data": {
      "text/html": [],
      "text/plain": [
       "<IPython.core.display.HTML object>"
      ]
     },
     "metadata": {},
     "output_type": "display_data"
    },
    {
     "data": {
      "text/html": [
       "<br>    <style><br>        .wandb-row {<br>            display: flex;<br>            flex-direction: row;<br>            flex-wrap: wrap;<br>            justify-content: flex-start;<br>            width: 100%;<br>        }<br>        .wandb-col {<br>            display: flex;<br>            flex-direction: column;<br>            flex-basis: 100%;<br>            flex: 1;<br>            padding: 10px;<br>        }<br>    </style><br><div class=\"wandb-row\"><div class=\"wandb-col\"><h3>Run history:</h3><br/><table class=\"wandb\"><tr><td>epoch</td><td>▁▂▃▃▄▅▆▆▇█</td></tr><tr><td>train/accuracy</td><td>▅▄▂▄▄▃▁█▇▄</td></tr><tr><td>train/batch_loss</td><td>▁▁▁▂▃▄▄▅▄▄▄▄▅▅▅▅▅▅▅▅▅▅▅▅▅▅▆▆▆▆▆▆▅▆▆▆▆▆▆█</td></tr><tr><td>train/loss</td><td>▁▄▅▅▅▆▆▆▆█</td></tr><tr><td>val/accuracy</td><td>▁▄▇▅▄▁▃█▆▆</td></tr><tr><td>val/loss</td><td>▁▃▃▄▅▅▆▅▅█</td></tr></table><br/></div><div class=\"wandb-col\"><h3>Run summary:</h3><br/><table class=\"wandb\"><tr><td>epoch</td><td>10</td></tr><tr><td>train/accuracy</td><td>0.1847</td></tr><tr><td>train/batch_loss</td><td>2943180.62464</td></tr><tr><td>train/loss</td><td>2656347.93281</td></tr><tr><td>val/accuracy</td><td>0.19733</td></tr><tr><td>val/loss</td><td>2943022.6703</td></tr></table><br/></div></div>"
      ],
      "text/plain": [
       "<IPython.core.display.HTML object>"
      ]
     },
     "metadata": {},
     "output_type": "display_data"
    },
    {
     "data": {
      "text/html": [
       " View run <strong style=\"color:#cdcd00\">n3_h64_lr0.007771294839941465_bs16_acttanh</strong> at: <a href='https://wandb.ai/deeplearn24/DL_A1_mse_sweeps/runs/lsjl3bxz' target=\"_blank\">https://wandb.ai/deeplearn24/DL_A1_mse_sweeps/runs/lsjl3bxz</a><br> View project at: <a href='https://wandb.ai/deeplearn24/DL_A1_mse_sweeps' target=\"_blank\">https://wandb.ai/deeplearn24/DL_A1_mse_sweeps</a><br>Synced 5 W&B file(s), 1 media file(s), 0 artifact file(s) and 0 other file(s)"
      ],
      "text/plain": [
       "<IPython.core.display.HTML object>"
      ]
     },
     "metadata": {},
     "output_type": "display_data"
    },
    {
     "data": {
      "text/html": [
       "Find logs at: <code>./wandb/run-20250311_155617-lsjl3bxz/logs</code>"
      ],
      "text/plain": [
       "<IPython.core.display.HTML object>"
      ]
     },
     "metadata": {},
     "output_type": "display_data"
    },
    {
     "name": "stderr",
     "output_type": "stream",
     "text": [
      "\u001b[34m\u001b[1mwandb\u001b[0m: Agent Starting Run: tdsje1mg with config:\n",
      "\u001b[34m\u001b[1mwandb\u001b[0m: \tactivation: tanh\n",
      "\u001b[34m\u001b[1mwandb\u001b[0m: \tbatch_size: 32\n",
      "\u001b[34m\u001b[1mwandb\u001b[0m: \tbeta: 0.9\n",
      "\u001b[34m\u001b[1mwandb\u001b[0m: \tbeta1: 0.9\n",
      "\u001b[34m\u001b[1mwandb\u001b[0m: \tbeta2: 0.999\n",
      "\u001b[34m\u001b[1mwandb\u001b[0m: \tepochs: 5\n",
      "\u001b[34m\u001b[1mwandb\u001b[0m: \tepsilon: 1e-08\n",
      "\u001b[34m\u001b[1mwandb\u001b[0m: \thidden_size: 128\n",
      "\u001b[34m\u001b[1mwandb\u001b[0m: \tlearning_rate: 0.005858114659510798\n",
      "\u001b[34m\u001b[1mwandb\u001b[0m: \tloss: mse\n",
      "\u001b[34m\u001b[1mwandb\u001b[0m: \tmomentum: 0.9\n",
      "\u001b[34m\u001b[1mwandb\u001b[0m: \tnum_layers: 4\n",
      "\u001b[34m\u001b[1mwandb\u001b[0m: \toptimizer: adam\n",
      "\u001b[34m\u001b[1mwandb\u001b[0m: \tweight_decay: 0.0005\n",
      "\u001b[34m\u001b[1mwandb\u001b[0m: \tweight_init: random\n"
     ]
    },
    {
     "data": {
      "text/html": [
       "Tracking run with wandb version 0.19.8"
      ],
      "text/plain": [
       "<IPython.core.display.HTML object>"
      ]
     },
     "metadata": {},
     "output_type": "display_data"
    },
    {
     "data": {
      "text/html": [
       "Run data is saved locally in <code>/home/user/Documents/Courses/DA6401/wandb/run-20250311_155722-tdsje1mg</code>"
      ],
      "text/plain": [
       "<IPython.core.display.HTML object>"
      ]
     },
     "metadata": {},
     "output_type": "display_data"
    },
    {
     "data": {
      "text/html": [
       "Syncing run <strong><a href='https://wandb.ai/deeplearn24/DL_A1_mse_sweeps/runs/tdsje1mg' target=\"_blank\">graceful-sweep-46</a></strong> to <a href='https://wandb.ai/deeplearn24/DL_A1_mse_sweeps' target=\"_blank\">Weights & Biases</a> (<a href='https://wandb.me/developer-guide' target=\"_blank\">docs</a>)<br>Sweep page: <a href='https://wandb.ai/deeplearn24/DL_A1_mse_sweeps/sweeps/9crckhqe' target=\"_blank\">https://wandb.ai/deeplearn24/DL_A1_mse_sweeps/sweeps/9crckhqe</a>"
      ],
      "text/plain": [
       "<IPython.core.display.HTML object>"
      ]
     },
     "metadata": {},
     "output_type": "display_data"
    },
    {
     "data": {
      "text/html": [
       " View project at <a href='https://wandb.ai/deeplearn24/DL_A1_mse_sweeps' target=\"_blank\">https://wandb.ai/deeplearn24/DL_A1_mse_sweeps</a>"
      ],
      "text/plain": [
       "<IPython.core.display.HTML object>"
      ]
     },
     "metadata": {},
     "output_type": "display_data"
    },
    {
     "data": {
      "text/html": [
       " View sweep at <a href='https://wandb.ai/deeplearn24/DL_A1_mse_sweeps/sweeps/9crckhqe' target=\"_blank\">https://wandb.ai/deeplearn24/DL_A1_mse_sweeps/sweeps/9crckhqe</a>"
      ],
      "text/plain": [
       "<IPython.core.display.HTML object>"
      ]
     },
     "metadata": {},
     "output_type": "display_data"
    },
    {
     "data": {
      "text/html": [
       " View run at <a href='https://wandb.ai/deeplearn24/DL_A1_mse_sweeps/runs/tdsje1mg' target=\"_blank\">https://wandb.ai/deeplearn24/DL_A1_mse_sweeps/runs/tdsje1mg</a>"
      ],
      "text/plain": [
       "<IPython.core.display.HTML object>"
      ]
     },
     "metadata": {},
     "output_type": "display_data"
    },
    {
     "name": "stdout",
     "output_type": "stream",
     "text": [
      "Epoch: 1, Train Loss: 79.6707554065337, Valid Loss: 117.35274222024242\n",
      "Epoch: 2, Train Loss: 173.18183608389884, Valid Loss: 215.21053167074592\n",
      "Epoch: 3, Train Loss: 267.69039193442717, Valid Loss: 456.9771365908995\n",
      "Epoch: 4, Train Loss: 648.4775588987867, Valid Loss: 1005.9151597424142\n",
      "Epoch: 5, Train Loss: 1189.9136350615495, Valid Loss: 1545.3410127563952\n"
     ]
    },
    {
     "data": {
      "text/html": [],
      "text/plain": [
       "<IPython.core.display.HTML object>"
      ]
     },
     "metadata": {},
     "output_type": "display_data"
    },
    {
     "data": {
      "text/html": [
       "<br>    <style><br>        .wandb-row {<br>            display: flex;<br>            flex-direction: row;<br>            flex-wrap: wrap;<br>            justify-content: flex-start;<br>            width: 100%;<br>        }<br>        .wandb-col {<br>            display: flex;<br>            flex-direction: column;<br>            flex-basis: 100%;<br>            flex: 1;<br>            padding: 10px;<br>        }<br>    </style><br><div class=\"wandb-row\"><div class=\"wandb-col\"><h3>Run history:</h3><br/><table class=\"wandb\"><tr><td>epoch</td><td>▁▃▅▆█</td></tr><tr><td>train/accuracy</td><td>▁██▇█</td></tr><tr><td>train/batch_loss</td><td>▁▁▁▁▁▁▁▁▁▁▁▁▁▁▁▂▂▂▂▂▂▂▂▂▂▂▂▂▃▃▃▃▄▄▄▆▆▆▇█</td></tr><tr><td>train/loss</td><td>▁▂▂▅█</td></tr><tr><td>val/accuracy</td><td>▁▆▁▂█</td></tr><tr><td>val/loss</td><td>▁▁▃▅█</td></tr></table><br/></div><div class=\"wandb-col\"><h3>Run summary:</h3><br/><table class=\"wandb\"><tr><td>epoch</td><td>5</td></tr><tr><td>train/accuracy</td><td>0.27712</td></tr><tr><td>train/batch_loss</td><td>1543.19214</td></tr><tr><td>train/loss</td><td>1189.91364</td></tr><tr><td>val/accuracy</td><td>0.30269</td></tr><tr><td>val/loss</td><td>1545.34101</td></tr></table><br/></div></div>"
      ],
      "text/plain": [
       "<IPython.core.display.HTML object>"
      ]
     },
     "metadata": {},
     "output_type": "display_data"
    },
    {
     "data": {
      "text/html": [
       " View run <strong style=\"color:#cdcd00\">n4_h128_lr0.005858114659510798_bs32_acttanh</strong> at: <a href='https://wandb.ai/deeplearn24/DL_A1_mse_sweeps/runs/tdsje1mg' target=\"_blank\">https://wandb.ai/deeplearn24/DL_A1_mse_sweeps/runs/tdsje1mg</a><br> View project at: <a href='https://wandb.ai/deeplearn24/DL_A1_mse_sweeps' target=\"_blank\">https://wandb.ai/deeplearn24/DL_A1_mse_sweeps</a><br>Synced 5 W&B file(s), 1 media file(s), 0 artifact file(s) and 0 other file(s)"
      ],
      "text/plain": [
       "<IPython.core.display.HTML object>"
      ]
     },
     "metadata": {},
     "output_type": "display_data"
    },
    {
     "data": {
      "text/html": [
       "Find logs at: <code>./wandb/run-20250311_155722-tdsje1mg/logs</code>"
      ],
      "text/plain": [
       "<IPython.core.display.HTML object>"
      ]
     },
     "metadata": {},
     "output_type": "display_data"
    },
    {
     "name": "stderr",
     "output_type": "stream",
     "text": [
      "\u001b[34m\u001b[1mwandb\u001b[0m: Sweep Agent: Waiting for job.\n",
      "\u001b[34m\u001b[1mwandb\u001b[0m: Job received.\n",
      "\u001b[34m\u001b[1mwandb\u001b[0m: Agent Starting Run: 4jjgmk4n with config:\n",
      "\u001b[34m\u001b[1mwandb\u001b[0m: \tactivation: sigmoid\n",
      "\u001b[34m\u001b[1mwandb\u001b[0m: \tbatch_size: 64\n",
      "\u001b[34m\u001b[1mwandb\u001b[0m: \tbeta: 0.9\n",
      "\u001b[34m\u001b[1mwandb\u001b[0m: \tbeta1: 0.9\n",
      "\u001b[34m\u001b[1mwandb\u001b[0m: \tbeta2: 0.999\n",
      "\u001b[34m\u001b[1mwandb\u001b[0m: \tepochs: 10\n",
      "\u001b[34m\u001b[1mwandb\u001b[0m: \tepsilon: 1e-08\n",
      "\u001b[34m\u001b[1mwandb\u001b[0m: \thidden_size: 64\n",
      "\u001b[34m\u001b[1mwandb\u001b[0m: \tlearning_rate: 0.002140727917645865\n",
      "\u001b[34m\u001b[1mwandb\u001b[0m: \tloss: mse\n",
      "\u001b[34m\u001b[1mwandb\u001b[0m: \tmomentum: 0.9\n",
      "\u001b[34m\u001b[1mwandb\u001b[0m: \tnum_layers: 5\n",
      "\u001b[34m\u001b[1mwandb\u001b[0m: \toptimizer: rmsprop\n",
      "\u001b[34m\u001b[1mwandb\u001b[0m: \tweight_decay: 0.5\n",
      "\u001b[34m\u001b[1mwandb\u001b[0m: \tweight_init: xavier\n"
     ]
    },
    {
     "data": {
      "text/html": [
       "Tracking run with wandb version 0.19.8"
      ],
      "text/plain": [
       "<IPython.core.display.HTML object>"
      ]
     },
     "metadata": {},
     "output_type": "display_data"
    },
    {
     "data": {
      "text/html": [
       "Run data is saved locally in <code>/home/user/Documents/Courses/DA6401/wandb/run-20250311_155851-4jjgmk4n</code>"
      ],
      "text/plain": [
       "<IPython.core.display.HTML object>"
      ]
     },
     "metadata": {},
     "output_type": "display_data"
    },
    {
     "data": {
      "text/html": [
       "Syncing run <strong><a href='https://wandb.ai/deeplearn24/DL_A1_mse_sweeps/runs/4jjgmk4n' target=\"_blank\">bright-sweep-47</a></strong> to <a href='https://wandb.ai/deeplearn24/DL_A1_mse_sweeps' target=\"_blank\">Weights & Biases</a> (<a href='https://wandb.me/developer-guide' target=\"_blank\">docs</a>)<br>Sweep page: <a href='https://wandb.ai/deeplearn24/DL_A1_mse_sweeps/sweeps/9crckhqe' target=\"_blank\">https://wandb.ai/deeplearn24/DL_A1_mse_sweeps/sweeps/9crckhqe</a>"
      ],
      "text/plain": [
       "<IPython.core.display.HTML object>"
      ]
     },
     "metadata": {},
     "output_type": "display_data"
    },
    {
     "data": {
      "text/html": [
       " View project at <a href='https://wandb.ai/deeplearn24/DL_A1_mse_sweeps' target=\"_blank\">https://wandb.ai/deeplearn24/DL_A1_mse_sweeps</a>"
      ],
      "text/plain": [
       "<IPython.core.display.HTML object>"
      ]
     },
     "metadata": {},
     "output_type": "display_data"
    },
    {
     "data": {
      "text/html": [
       " View sweep at <a href='https://wandb.ai/deeplearn24/DL_A1_mse_sweeps/sweeps/9crckhqe' target=\"_blank\">https://wandb.ai/deeplearn24/DL_A1_mse_sweeps/sweeps/9crckhqe</a>"
      ],
      "text/plain": [
       "<IPython.core.display.HTML object>"
      ]
     },
     "metadata": {},
     "output_type": "display_data"
    },
    {
     "data": {
      "text/html": [
       " View run at <a href='https://wandb.ai/deeplearn24/DL_A1_mse_sweeps/runs/4jjgmk4n' target=\"_blank\">https://wandb.ai/deeplearn24/DL_A1_mse_sweeps/runs/4jjgmk4n</a>"
      ],
      "text/plain": [
       "<IPython.core.display.HTML object>"
      ]
     },
     "metadata": {},
     "output_type": "display_data"
    },
    {
     "name": "stdout",
     "output_type": "stream",
     "text": [
      "Epoch: 1, Train Loss: 3552.354775643752, Valid Loss: 10991.050873042226\n",
      "Epoch: 2, Train Loss: 14077.925109541502, Valid Loss: 15604.43167931801\n",
      "Epoch: 3, Train Loss: 47915.68955550099, Valid Loss: 91363.77585411213\n",
      "Epoch: 4, Train Loss: 137812.01376307063, Valid Loss: 193066.7327595698\n",
      "Epoch: 5, Train Loss: 280559.62184543384, Valid Loss: 325062.84335652966\n",
      "Epoch: 6, Train Loss: 355818.51363145385, Valid Loss: 354855.03071626695\n",
      "Epoch: 7, Train Loss: 337062.27675774693, Valid Loss: 320536.60801670543\n",
      "Epoch: 8, Train Loss: 343235.09714457917, Valid Loss: 379817.4004420897\n",
      "Epoch: 9, Train Loss: 388741.9421884685, Valid Loss: 335909.48714672454\n",
      "Epoch: 10, Train Loss: 294767.21078790334, Valid Loss: 287420.8229239924\n"
     ]
    },
    {
     "data": {
      "text/html": [],
      "text/plain": [
       "<IPython.core.display.HTML object>"
      ]
     },
     "metadata": {},
     "output_type": "display_data"
    },
    {
     "data": {
      "text/html": [
       "<br>    <style><br>        .wandb-row {<br>            display: flex;<br>            flex-direction: row;<br>            flex-wrap: wrap;<br>            justify-content: flex-start;<br>            width: 100%;<br>        }<br>        .wandb-col {<br>            display: flex;<br>            flex-direction: column;<br>            flex-basis: 100%;<br>            flex: 1;<br>            padding: 10px;<br>        }<br>    </style><br><div class=\"wandb-row\"><div class=\"wandb-col\"><h3>Run history:</h3><br/><table class=\"wandb\"><tr><td>epoch</td><td>▁▂▃▃▄▅▆▆▇█</td></tr><tr><td>train/accuracy</td><td>▃▇▆█▁▆▄▇▁▅</td></tr><tr><td>train/batch_loss</td><td>▁▁▁▁▁▁▁▁▁▁▁▁▂▂▂▃▃▃▄▄▆▇▇▆▇▇▇▇▇▇▇▇▇███▆▆▆▆</td></tr><tr><td>train/loss</td><td>▁▁▂▃▆▇▇▇█▆</td></tr><tr><td>val/accuracy</td><td>▁██▁▁██▁██</td></tr><tr><td>val/loss</td><td>▁▁▃▄▇█▇█▇▆</td></tr></table><br/></div><div class=\"wandb-col\"><h3>Run summary:</h3><br/><table class=\"wandb\"><tr><td>epoch</td><td>10</td></tr><tr><td>train/accuracy</td><td>0.10077</td></tr><tr><td>train/batch_loss</td><td>287235.71043</td></tr><tr><td>train/loss</td><td>294767.21079</td></tr><tr><td>val/accuracy</td><td>0.10223</td></tr><tr><td>val/loss</td><td>287420.82292</td></tr></table><br/></div></div>"
      ],
      "text/plain": [
       "<IPython.core.display.HTML object>"
      ]
     },
     "metadata": {},
     "output_type": "display_data"
    },
    {
     "data": {
      "text/html": [
       " View run <strong style=\"color:#cdcd00\">n5_h64_lr0.002140727917645865_bs64_actsigmoid</strong> at: <a href='https://wandb.ai/deeplearn24/DL_A1_mse_sweeps/runs/4jjgmk4n' target=\"_blank\">https://wandb.ai/deeplearn24/DL_A1_mse_sweeps/runs/4jjgmk4n</a><br> View project at: <a href='https://wandb.ai/deeplearn24/DL_A1_mse_sweeps' target=\"_blank\">https://wandb.ai/deeplearn24/DL_A1_mse_sweeps</a><br>Synced 5 W&B file(s), 1 media file(s), 0 artifact file(s) and 0 other file(s)"
      ],
      "text/plain": [
       "<IPython.core.display.HTML object>"
      ]
     },
     "metadata": {},
     "output_type": "display_data"
    },
    {
     "data": {
      "text/html": [
       "Find logs at: <code>./wandb/run-20250311_155851-4jjgmk4n/logs</code>"
      ],
      "text/plain": [
       "<IPython.core.display.HTML object>"
      ]
     },
     "metadata": {},
     "output_type": "display_data"
    },
    {
     "name": "stderr",
     "output_type": "stream",
     "text": [
      "\u001b[34m\u001b[1mwandb\u001b[0m: Agent Starting Run: rbb94i41 with config:\n",
      "\u001b[34m\u001b[1mwandb\u001b[0m: \tactivation: ReLU\n",
      "\u001b[34m\u001b[1mwandb\u001b[0m: \tbatch_size: 64\n",
      "\u001b[34m\u001b[1mwandb\u001b[0m: \tbeta: 0.9\n",
      "\u001b[34m\u001b[1mwandb\u001b[0m: \tbeta1: 0.9\n",
      "\u001b[34m\u001b[1mwandb\u001b[0m: \tbeta2: 0.999\n",
      "\u001b[34m\u001b[1mwandb\u001b[0m: \tepochs: 10\n",
      "\u001b[34m\u001b[1mwandb\u001b[0m: \tepsilon: 1e-08\n",
      "\u001b[34m\u001b[1mwandb\u001b[0m: \thidden_size: 64\n",
      "\u001b[34m\u001b[1mwandb\u001b[0m: \tlearning_rate: 0.0027477599393898244\n",
      "\u001b[34m\u001b[1mwandb\u001b[0m: \tloss: mse\n",
      "\u001b[34m\u001b[1mwandb\u001b[0m: \tmomentum: 0.9\n",
      "\u001b[34m\u001b[1mwandb\u001b[0m: \tnum_layers: 5\n",
      "\u001b[34m\u001b[1mwandb\u001b[0m: \toptimizer: nag\n",
      "\u001b[34m\u001b[1mwandb\u001b[0m: \tweight_decay: 0.0005\n",
      "\u001b[34m\u001b[1mwandb\u001b[0m: \tweight_init: random\n"
     ]
    },
    {
     "data": {
      "text/html": [
       "Tracking run with wandb version 0.19.8"
      ],
      "text/plain": [
       "<IPython.core.display.HTML object>"
      ]
     },
     "metadata": {},
     "output_type": "display_data"
    },
    {
     "data": {
      "text/html": [
       "Run data is saved locally in <code>/home/user/Documents/Courses/DA6401/wandb/run-20250311_155956-rbb94i41</code>"
      ],
      "text/plain": [
       "<IPython.core.display.HTML object>"
      ]
     },
     "metadata": {},
     "output_type": "display_data"
    },
    {
     "data": {
      "text/html": [
       "Syncing run <strong><a href='https://wandb.ai/deeplearn24/DL_A1_mse_sweeps/runs/rbb94i41' target=\"_blank\">fluent-sweep-48</a></strong> to <a href='https://wandb.ai/deeplearn24/DL_A1_mse_sweeps' target=\"_blank\">Weights & Biases</a> (<a href='https://wandb.me/developer-guide' target=\"_blank\">docs</a>)<br>Sweep page: <a href='https://wandb.ai/deeplearn24/DL_A1_mse_sweeps/sweeps/9crckhqe' target=\"_blank\">https://wandb.ai/deeplearn24/DL_A1_mse_sweeps/sweeps/9crckhqe</a>"
      ],
      "text/plain": [
       "<IPython.core.display.HTML object>"
      ]
     },
     "metadata": {},
     "output_type": "display_data"
    },
    {
     "data": {
      "text/html": [
       " View project at <a href='https://wandb.ai/deeplearn24/DL_A1_mse_sweeps' target=\"_blank\">https://wandb.ai/deeplearn24/DL_A1_mse_sweeps</a>"
      ],
      "text/plain": [
       "<IPython.core.display.HTML object>"
      ]
     },
     "metadata": {},
     "output_type": "display_data"
    },
    {
     "data": {
      "text/html": [
       " View sweep at <a href='https://wandb.ai/deeplearn24/DL_A1_mse_sweeps/sweeps/9crckhqe' target=\"_blank\">https://wandb.ai/deeplearn24/DL_A1_mse_sweeps/sweeps/9crckhqe</a>"
      ],
      "text/plain": [
       "<IPython.core.display.HTML object>"
      ]
     },
     "metadata": {},
     "output_type": "display_data"
    },
    {
     "data": {
      "text/html": [
       " View run at <a href='https://wandb.ai/deeplearn24/DL_A1_mse_sweeps/runs/rbb94i41' target=\"_blank\">https://wandb.ai/deeplearn24/DL_A1_mse_sweeps/runs/rbb94i41</a>"
      ],
      "text/plain": [
       "<IPython.core.display.HTML object>"
      ]
     },
     "metadata": {},
     "output_type": "display_data"
    },
    {
     "name": "stdout",
     "output_type": "stream",
     "text": [
      "Epoch: 1, Train Loss: 25.643704719516226, Valid Loss: 23.608148902703654\n",
      "Epoch: 2, Train Loss: 23.97120378953381, Valid Loss: 23.784956241893497\n",
      "Epoch: 3, Train Loss: 23.839844974152246, Valid Loss: 24.079023572272934\n",
      "Epoch: 4, Train Loss: 23.853856403495556, Valid Loss: 23.508223750768348\n",
      "Epoch: 5, Train Loss: 21.54944993026857, Valid Loss: 19.943272359765498\n",
      "Epoch: 6, Train Loss: 18.7480734393665, Valid Loss: 18.602833288682547\n",
      "Epoch: 7, Train Loss: 18.515629728656418, Valid Loss: 18.402052566369917\n",
      "Epoch: 8, Train Loss: 18.39715367712269, Valid Loss: 18.38602122425959\n",
      "Epoch: 9, Train Loss: 18.318260800719795, Valid Loss: 18.24609037901597\n",
      "Epoch: 10, Train Loss: 18.23830223270761, Valid Loss: 18.1360827937337\n"
     ]
    },
    {
     "data": {
      "text/html": [],
      "text/plain": [
       "<IPython.core.display.HTML object>"
      ]
     },
     "metadata": {},
     "output_type": "display_data"
    },
    {
     "data": {
      "text/html": [
       "<br>    <style><br>        .wandb-row {<br>            display: flex;<br>            flex-direction: row;<br>            flex-wrap: wrap;<br>            justify-content: flex-start;<br>            width: 100%;<br>        }<br>        .wandb-col {<br>            display: flex;<br>            flex-direction: column;<br>            flex-basis: 100%;<br>            flex: 1;<br>            padding: 10px;<br>        }<br>    </style><br><div class=\"wandb-row\"><div class=\"wandb-col\"><h3>Run history:</h3><br/><table class=\"wandb\"><tr><td>epoch</td><td>▁▂▃▃▄▅▆▆▇█</td></tr><tr><td>train/accuracy</td><td>▇███▆▁▁▁▂▂</td></tr><tr><td>train/batch_loss</td><td>█▄▃▄▂▄▃▃▂▃▃▂▃▃▂▂▂▁▁▁▁▁▁▁▁▁▁▁▁▁▁▁▁▁▁▁▁▁▁▁</td></tr><tr><td>train/loss</td><td>█▆▆▆▄▁▁▁▁▁</td></tr><tr><td>val/accuracy</td><td>██▇▇▃▁▁▁▂▃</td></tr><tr><td>val/loss</td><td>▇██▇▃▂▁▁▁▁</td></tr></table><br/></div><div class=\"wandb-col\"><h3>Run summary:</h3><br/><table class=\"wandb\"><tr><td>epoch</td><td>10</td></tr><tr><td>train/accuracy</td><td>0.34791</td></tr><tr><td>train/batch_loss</td><td>18.82702</td></tr><tr><td>train/loss</td><td>18.2383</td></tr><tr><td>val/accuracy</td><td>0.38148</td></tr><tr><td>val/loss</td><td>18.13608</td></tr></table><br/></div></div>"
      ],
      "text/plain": [
       "<IPython.core.display.HTML object>"
      ]
     },
     "metadata": {},
     "output_type": "display_data"
    },
    {
     "data": {
      "text/html": [
       " View run <strong style=\"color:#cdcd00\">n5_h64_lr0.0027477599393898244_bs64_actReLU</strong> at: <a href='https://wandb.ai/deeplearn24/DL_A1_mse_sweeps/runs/rbb94i41' target=\"_blank\">https://wandb.ai/deeplearn24/DL_A1_mse_sweeps/runs/rbb94i41</a><br> View project at: <a href='https://wandb.ai/deeplearn24/DL_A1_mse_sweeps' target=\"_blank\">https://wandb.ai/deeplearn24/DL_A1_mse_sweeps</a><br>Synced 5 W&B file(s), 1 media file(s), 0 artifact file(s) and 0 other file(s)"
      ],
      "text/plain": [
       "<IPython.core.display.HTML object>"
      ]
     },
     "metadata": {},
     "output_type": "display_data"
    },
    {
     "data": {
      "text/html": [
       "Find logs at: <code>./wandb/run-20250311_155956-rbb94i41/logs</code>"
      ],
      "text/plain": [
       "<IPython.core.display.HTML object>"
      ]
     },
     "metadata": {},
     "output_type": "display_data"
    },
    {
     "name": "stderr",
     "output_type": "stream",
     "text": [
      "\u001b[34m\u001b[1mwandb\u001b[0m: Agent Starting Run: 3m9imkch with config:\n",
      "\u001b[34m\u001b[1mwandb\u001b[0m: \tactivation: sigmoid\n",
      "\u001b[34m\u001b[1mwandb\u001b[0m: \tbatch_size: 32\n",
      "\u001b[34m\u001b[1mwandb\u001b[0m: \tbeta: 0.9\n",
      "\u001b[34m\u001b[1mwandb\u001b[0m: \tbeta1: 0.9\n",
      "\u001b[34m\u001b[1mwandb\u001b[0m: \tbeta2: 0.999\n",
      "\u001b[34m\u001b[1mwandb\u001b[0m: \tepochs: 10\n",
      "\u001b[34m\u001b[1mwandb\u001b[0m: \tepsilon: 1e-08\n",
      "\u001b[34m\u001b[1mwandb\u001b[0m: \thidden_size: 32\n",
      "\u001b[34m\u001b[1mwandb\u001b[0m: \tlearning_rate: 0.005300802359407872\n",
      "\u001b[34m\u001b[1mwandb\u001b[0m: \tloss: mse\n",
      "\u001b[34m\u001b[1mwandb\u001b[0m: \tmomentum: 0.9\n",
      "\u001b[34m\u001b[1mwandb\u001b[0m: \tnum_layers: 5\n",
      "\u001b[34m\u001b[1mwandb\u001b[0m: \toptimizer: nadam\n",
      "\u001b[34m\u001b[1mwandb\u001b[0m: \tweight_decay: 0.0005\n",
      "\u001b[34m\u001b[1mwandb\u001b[0m: \tweight_init: xavier\n"
     ]
    },
    {
     "data": {
      "text/html": [
       "Tracking run with wandb version 0.19.8"
      ],
      "text/plain": [
       "<IPython.core.display.HTML object>"
      ]
     },
     "metadata": {},
     "output_type": "display_data"
    },
    {
     "data": {
      "text/html": [
       "Run data is saved locally in <code>/home/user/Documents/Courses/DA6401/wandb/run-20250311_160100-3m9imkch</code>"
      ],
      "text/plain": [
       "<IPython.core.display.HTML object>"
      ]
     },
     "metadata": {},
     "output_type": "display_data"
    },
    {
     "data": {
      "text/html": [
       "Syncing run <strong><a href='https://wandb.ai/deeplearn24/DL_A1_mse_sweeps/runs/3m9imkch' target=\"_blank\">confused-sweep-49</a></strong> to <a href='https://wandb.ai/deeplearn24/DL_A1_mse_sweeps' target=\"_blank\">Weights & Biases</a> (<a href='https://wandb.me/developer-guide' target=\"_blank\">docs</a>)<br>Sweep page: <a href='https://wandb.ai/deeplearn24/DL_A1_mse_sweeps/sweeps/9crckhqe' target=\"_blank\">https://wandb.ai/deeplearn24/DL_A1_mse_sweeps/sweeps/9crckhqe</a>"
      ],
      "text/plain": [
       "<IPython.core.display.HTML object>"
      ]
     },
     "metadata": {},
     "output_type": "display_data"
    },
    {
     "data": {
      "text/html": [
       " View project at <a href='https://wandb.ai/deeplearn24/DL_A1_mse_sweeps' target=\"_blank\">https://wandb.ai/deeplearn24/DL_A1_mse_sweeps</a>"
      ],
      "text/plain": [
       "<IPython.core.display.HTML object>"
      ]
     },
     "metadata": {},
     "output_type": "display_data"
    },
    {
     "data": {
      "text/html": [
       " View sweep at <a href='https://wandb.ai/deeplearn24/DL_A1_mse_sweeps/sweeps/9crckhqe' target=\"_blank\">https://wandb.ai/deeplearn24/DL_A1_mse_sweeps/sweeps/9crckhqe</a>"
      ],
      "text/plain": [
       "<IPython.core.display.HTML object>"
      ]
     },
     "metadata": {},
     "output_type": "display_data"
    },
    {
     "data": {
      "text/html": [
       " View run at <a href='https://wandb.ai/deeplearn24/DL_A1_mse_sweeps/runs/3m9imkch' target=\"_blank\">https://wandb.ai/deeplearn24/DL_A1_mse_sweeps/runs/3m9imkch</a>"
      ],
      "text/plain": [
       "<IPython.core.display.HTML object>"
      ]
     },
     "metadata": {},
     "output_type": "display_data"
    },
    {
     "name": "stdout",
     "output_type": "stream",
     "text": [
      "Epoch: 1, Train Loss: 24.61940303334129, Valid Loss: 46.76853983976643\n",
      "Epoch: 2, Train Loss: 57.900506099337356, Valid Loss: 89.03630965936486\n",
      "Epoch: 3, Train Loss: 122.54470431804884, Valid Loss: 208.4588220451659\n",
      "Epoch: 4, Train Loss: 252.80869530716058, Valid Loss: 287.50857639398833\n",
      "Epoch: 5, Train Loss: 290.5646282970156, Valid Loss: 321.51076856735654\n",
      "Epoch: 6, Train Loss: 445.808703889335, Valid Loss: 684.7395803938265\n",
      "Epoch: 7, Train Loss: 916.7918438013236, Valid Loss: 1068.238319736681\n",
      "Epoch: 8, Train Loss: 1102.4465272535772, Valid Loss: 1114.0351039304458\n",
      "Epoch: 9, Train Loss: 1146.053565674422, Valid Loss: 1168.391600799951\n",
      "Epoch: 10, Train Loss: 1194.0034436252, Valid Loss: 1264.2459607900803\n"
     ]
    },
    {
     "data": {
      "text/html": [],
      "text/plain": [
       "<IPython.core.display.HTML object>"
      ]
     },
     "metadata": {},
     "output_type": "display_data"
    },
    {
     "data": {
      "text/html": [
       "<br>    <style><br>        .wandb-row {<br>            display: flex;<br>            flex-direction: row;<br>            flex-wrap: wrap;<br>            justify-content: flex-start;<br>            width: 100%;<br>        }<br>        .wandb-col {<br>            display: flex;<br>            flex-direction: column;<br>            flex-basis: 100%;<br>            flex: 1;<br>            padding: 10px;<br>        }<br>    </style><br><div class=\"wandb-row\"><div class=\"wandb-col\"><h3>Run history:</h3><br/><table class=\"wandb\"><tr><td>epoch</td><td>▁▂▃▃▄▅▆▆▇█</td></tr><tr><td>train/accuracy</td><td>▅▅▇█▂▁▅▆▁▁</td></tr><tr><td>train/batch_loss</td><td>▁▁▁▁▁▁▁▁▁▁▁▁▁▂▂▂▂▂▃▃▃▃▃▃▃▅▆▆▇▇▇▇▇▇▇█████</td></tr><tr><td>train/loss</td><td>▁▁▂▂▃▄▆▇██</td></tr><tr><td>val/accuracy</td><td>█▆▅▅▆▆▅▆▁▆</td></tr><tr><td>val/loss</td><td>▁▁▂▂▃▅▇▇▇█</td></tr></table><br/></div><div class=\"wandb-col\"><h3>Run summary:</h3><br/><table class=\"wandb\"><tr><td>epoch</td><td>10</td></tr><tr><td>train/accuracy</td><td>0.09842</td></tr><tr><td>train/batch_loss</td><td>1265.03803</td></tr><tr><td>train/loss</td><td>1194.00344</td></tr><tr><td>val/accuracy</td><td>0.1004</td></tr><tr><td>val/loss</td><td>1264.24596</td></tr></table><br/></div></div>"
      ],
      "text/plain": [
       "<IPython.core.display.HTML object>"
      ]
     },
     "metadata": {},
     "output_type": "display_data"
    },
    {
     "data": {
      "text/html": [
       " View run <strong style=\"color:#cdcd00\">n5_h32_lr0.005300802359407872_bs32_actsigmoid</strong> at: <a href='https://wandb.ai/deeplearn24/DL_A1_mse_sweeps/runs/3m9imkch' target=\"_blank\">https://wandb.ai/deeplearn24/DL_A1_mse_sweeps/runs/3m9imkch</a><br> View project at: <a href='https://wandb.ai/deeplearn24/DL_A1_mse_sweeps' target=\"_blank\">https://wandb.ai/deeplearn24/DL_A1_mse_sweeps</a><br>Synced 5 W&B file(s), 1 media file(s), 0 artifact file(s) and 0 other file(s)"
      ],
      "text/plain": [
       "<IPython.core.display.HTML object>"
      ]
     },
     "metadata": {},
     "output_type": "display_data"
    },
    {
     "data": {
      "text/html": [
       "Find logs at: <code>./wandb/run-20250311_160100-3m9imkch/logs</code>"
      ],
      "text/plain": [
       "<IPython.core.display.HTML object>"
      ]
     },
     "metadata": {},
     "output_type": "display_data"
    },
    {
     "name": "stderr",
     "output_type": "stream",
     "text": [
      "\u001b[34m\u001b[1mwandb\u001b[0m: Sweep Agent: Waiting for job.\n",
      "\u001b[34m\u001b[1mwandb\u001b[0m: Job received.\n",
      "\u001b[34m\u001b[1mwandb\u001b[0m: Agent Starting Run: vhxasd35 with config:\n",
      "\u001b[34m\u001b[1mwandb\u001b[0m: \tactivation: ReLU\n",
      "\u001b[34m\u001b[1mwandb\u001b[0m: \tbatch_size: 32\n",
      "\u001b[34m\u001b[1mwandb\u001b[0m: \tbeta: 0.9\n",
      "\u001b[34m\u001b[1mwandb\u001b[0m: \tbeta1: 0.9\n",
      "\u001b[34m\u001b[1mwandb\u001b[0m: \tbeta2: 0.999\n",
      "\u001b[34m\u001b[1mwandb\u001b[0m: \tepochs: 5\n",
      "\u001b[34m\u001b[1mwandb\u001b[0m: \tepsilon: 1e-08\n",
      "\u001b[34m\u001b[1mwandb\u001b[0m: \thidden_size: 128\n",
      "\u001b[34m\u001b[1mwandb\u001b[0m: \tlearning_rate: 0.0006300960844208722\n",
      "\u001b[34m\u001b[1mwandb\u001b[0m: \tloss: mse\n",
      "\u001b[34m\u001b[1mwandb\u001b[0m: \tmomentum: 0.9\n",
      "\u001b[34m\u001b[1mwandb\u001b[0m: \tnum_layers: 3\n",
      "\u001b[34m\u001b[1mwandb\u001b[0m: \toptimizer: nag\n",
      "\u001b[34m\u001b[1mwandb\u001b[0m: \tweight_decay: 0.5\n",
      "\u001b[34m\u001b[1mwandb\u001b[0m: \tweight_init: xavier\n"
     ]
    },
    {
     "data": {
      "text/html": [
       "Tracking run with wandb version 0.19.8"
      ],
      "text/plain": [
       "<IPython.core.display.HTML object>"
      ]
     },
     "metadata": {},
     "output_type": "display_data"
    },
    {
     "data": {
      "text/html": [
       "Run data is saved locally in <code>/home/user/Documents/Courses/DA6401/wandb/run-20250311_160147-vhxasd35</code>"
      ],
      "text/plain": [
       "<IPython.core.display.HTML object>"
      ]
     },
     "metadata": {},
     "output_type": "display_data"
    },
    {
     "data": {
      "text/html": [
       "Syncing run <strong><a href='https://wandb.ai/deeplearn24/DL_A1_mse_sweeps/runs/vhxasd35' target=\"_blank\">cosmic-sweep-50</a></strong> to <a href='https://wandb.ai/deeplearn24/DL_A1_mse_sweeps' target=\"_blank\">Weights & Biases</a> (<a href='https://wandb.me/developer-guide' target=\"_blank\">docs</a>)<br>Sweep page: <a href='https://wandb.ai/deeplearn24/DL_A1_mse_sweeps/sweeps/9crckhqe' target=\"_blank\">https://wandb.ai/deeplearn24/DL_A1_mse_sweeps/sweeps/9crckhqe</a>"
      ],
      "text/plain": [
       "<IPython.core.display.HTML object>"
      ]
     },
     "metadata": {},
     "output_type": "display_data"
    },
    {
     "data": {
      "text/html": [
       " View project at <a href='https://wandb.ai/deeplearn24/DL_A1_mse_sweeps' target=\"_blank\">https://wandb.ai/deeplearn24/DL_A1_mse_sweeps</a>"
      ],
      "text/plain": [
       "<IPython.core.display.HTML object>"
      ]
     },
     "metadata": {},
     "output_type": "display_data"
    },
    {
     "data": {
      "text/html": [
       " View sweep at <a href='https://wandb.ai/deeplearn24/DL_A1_mse_sweeps/sweeps/9crckhqe' target=\"_blank\">https://wandb.ai/deeplearn24/DL_A1_mse_sweeps/sweeps/9crckhqe</a>"
      ],
      "text/plain": [
       "<IPython.core.display.HTML object>"
      ]
     },
     "metadata": {},
     "output_type": "display_data"
    },
    {
     "data": {
      "text/html": [
       " View run at <a href='https://wandb.ai/deeplearn24/DL_A1_mse_sweeps/runs/vhxasd35' target=\"_blank\">https://wandb.ai/deeplearn24/DL_A1_mse_sweeps/runs/vhxasd35</a>"
      ],
      "text/plain": [
       "<IPython.core.display.HTML object>"
      ]
     },
     "metadata": {},
     "output_type": "display_data"
    },
    {
     "name": "stdout",
     "output_type": "stream",
     "text": [
      "Epoch: 1, Train Loss: 82.64107487016936, Valid Loss: 52.102903350946534\n",
      "Epoch: 2, Train Loss: 36.82032756933716, Valid Loss: 26.018333173928685\n",
      "Epoch: 3, Train Loss: 20.6788121230103, Valid Loss: 16.89937309193442\n",
      "Epoch: 4, Train Loss: 15.016126706540417, Valid Loss: 13.676665580432108\n",
      "Epoch: 5, Train Loss: 13.004790734585773, Valid Loss: 12.523474484892489\n"
     ]
    },
    {
     "data": {
      "text/html": [],
      "text/plain": [
       "<IPython.core.display.HTML object>"
      ]
     },
     "metadata": {},
     "output_type": "display_data"
    },
    {
     "data": {
      "text/html": [
       "<br>    <style><br>        .wandb-row {<br>            display: flex;<br>            flex-direction: row;<br>            flex-wrap: wrap;<br>            justify-content: flex-start;<br>            width: 100%;<br>        }<br>        .wandb-col {<br>            display: flex;<br>            flex-direction: column;<br>            flex-basis: 100%;<br>            flex: 1;<br>            padding: 10px;<br>        }<br>    </style><br><div class=\"wandb-row\"><div class=\"wandb-col\"><h3>Run history:</h3><br/><table class=\"wandb\"><tr><td>epoch</td><td>▁▃▅▆█</td></tr><tr><td>train/accuracy</td><td>▁▇▇██</td></tr><tr><td>train/batch_loss</td><td>█▇▇▆▅▅▅▅▄▄▃▃▃▃▃▃▂▂▂▂▂▂▁▁▁▁▁▁▁▁▁▁▁▁▁▁▁▁▁▁</td></tr><tr><td>train/loss</td><td>█▃▂▁▁</td></tr><tr><td>val/accuracy</td><td>▁▅▆▇█</td></tr><tr><td>val/loss</td><td>█▃▂▁▁</td></tr></table><br/></div><div class=\"wandb-col\"><h3>Run summary:</h3><br/><table class=\"wandb\"><tr><td>epoch</td><td>5</td></tr><tr><td>train/accuracy</td><td>0.82574</td></tr><tr><td>train/batch_loss</td><td>12.53315</td></tr><tr><td>train/loss</td><td>13.00479</td></tr><tr><td>val/accuracy</td><td>0.83777</td></tr><tr><td>val/loss</td><td>12.52347</td></tr></table><br/></div></div>"
      ],
      "text/plain": [
       "<IPython.core.display.HTML object>"
      ]
     },
     "metadata": {},
     "output_type": "display_data"
    },
    {
     "data": {
      "text/html": [
       " View run <strong style=\"color:#cdcd00\">n3_h128_lr0.0006300960844208722_bs32_actReLU</strong> at: <a href='https://wandb.ai/deeplearn24/DL_A1_mse_sweeps/runs/vhxasd35' target=\"_blank\">https://wandb.ai/deeplearn24/DL_A1_mse_sweeps/runs/vhxasd35</a><br> View project at: <a href='https://wandb.ai/deeplearn24/DL_A1_mse_sweeps' target=\"_blank\">https://wandb.ai/deeplearn24/DL_A1_mse_sweeps</a><br>Synced 5 W&B file(s), 1 media file(s), 0 artifact file(s) and 0 other file(s)"
      ],
      "text/plain": [
       "<IPython.core.display.HTML object>"
      ]
     },
     "metadata": {},
     "output_type": "display_data"
    },
    {
     "data": {
      "text/html": [
       "Find logs at: <code>./wandb/run-20250311_160147-vhxasd35/logs</code>"
      ],
      "text/plain": [
       "<IPython.core.display.HTML object>"
      ]
     },
     "metadata": {},
     "output_type": "display_data"
    },
    {
     "data": {
      "image/png": "[encoded data removed]",
      "text/plain": [
       "<Figure size 640x480 with 10 Axes>"
      ]
     },
     "metadata": {},
     "output_type": "display_data"
    }
   ],
   "source": [
    "wandb.agent(sweep_id, train_wandb, count=50)"
   ]
  },
  {
   "cell_type": "code",
   "execution_count": null,
   "metadata": {},
   "outputs": [],
   "source": []
  },
  {
   "cell_type": "markdown",
   "metadata": {},
   "source": []
  }
 ],
 "metadata": {
  "kernelspec": {
   "display_name": "Rxn_pred",
   "language": "python",
   "name": "python3"
  },
  "language_info": {
   "codemirror_mode": {
    "name": "ipython",
    "version": 3
   },
   "file_extension": ".py",
   "mimetype": "text/x-python",
   "name": "python",
   "nbconvert_exporter": "python",
   "pygments_lexer": "ipython3",
   "version": "3.10.14"
  }
 },
 "nbformat": 4,
 "nbformat_minor": 2
}
